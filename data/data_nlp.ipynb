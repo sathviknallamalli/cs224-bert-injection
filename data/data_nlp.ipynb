{
 "cells": [
  {
   "cell_type": "code",
   "execution_count": 21,
   "metadata": {},
   "outputs": [
    {
     "ename": "OSError",
     "evalue": "[E050] Can't find model 'en_core_web_sm'. It doesn't seem to be a Python package or a valid path to a data directory.",
     "output_type": "error",
     "traceback": [
      "\u001b[0;31m---------------------------------------------------------------------------\u001b[0m",
      "\u001b[0;31mOSError\u001b[0m                                   Traceback (most recent call last)",
      "Cell \u001b[0;32mIn[3], line 5\u001b[0m\n\u001b[1;32m      1\u001b[0m \u001b[39mimport\u001b[39;00m \u001b[39mspacy\u001b[39;00m\n\u001b[1;32m      2\u001b[0m \u001b[39mimport\u001b[39;00m \u001b[39mnetworkx\u001b[39;00m \u001b[39mas\u001b[39;00m \u001b[39mnx\u001b[39;00m\n\u001b[0;32m----> 5\u001b[0m en_nlp \u001b[39m=\u001b[39m spacy\u001b[39m.\u001b[39;49mload(\u001b[39m'\u001b[39;49m\u001b[39men_core_web_sm\u001b[39;49m\u001b[39m'\u001b[39;49m)\n\u001b[1;32m      7\u001b[0m doc \u001b[39m=\u001b[39m en_nlp(\u001b[39m\"\u001b[39m\u001b[39mthe hospital admitted the patient with cancer because she required intensive care\u001b[39m\u001b[39m\"\u001b[39m)\n\u001b[1;32m      9\u001b[0m edges \u001b[39m=\u001b[39m []\n",
      "File \u001b[0;32m~/Desktop/CS 224N/BertInjections/cs224-bert-injection/.env/lib/python3.9/site-packages/spacy/__init__.py:54\u001b[0m, in \u001b[0;36mload\u001b[0;34m(name, vocab, disable, enable, exclude, config)\u001b[0m\n\u001b[1;32m     30\u001b[0m \u001b[39mdef\u001b[39;00m \u001b[39mload\u001b[39m(\n\u001b[1;32m     31\u001b[0m     name: Union[\u001b[39mstr\u001b[39m, Path],\n\u001b[1;32m     32\u001b[0m     \u001b[39m*\u001b[39m,\n\u001b[0;32m   (...)\u001b[0m\n\u001b[1;32m     37\u001b[0m     config: Union[Dict[\u001b[39mstr\u001b[39m, Any], Config] \u001b[39m=\u001b[39m util\u001b[39m.\u001b[39mSimpleFrozenDict(),\n\u001b[1;32m     38\u001b[0m ) \u001b[39m-\u001b[39m\u001b[39m>\u001b[39m Language:\n\u001b[1;32m     39\u001b[0m \u001b[39m    \u001b[39m\u001b[39m\"\"\"Load a spaCy model from an installed package or a local path.\u001b[39;00m\n\u001b[1;32m     40\u001b[0m \n\u001b[1;32m     41\u001b[0m \u001b[39m    name (str): Package name or model path.\u001b[39;00m\n\u001b[0;32m   (...)\u001b[0m\n\u001b[1;32m     52\u001b[0m \u001b[39m    RETURNS (Language): The loaded nlp object.\u001b[39;00m\n\u001b[1;32m     53\u001b[0m \u001b[39m    \"\"\"\u001b[39;00m\n\u001b[0;32m---> 54\u001b[0m     \u001b[39mreturn\u001b[39;00m util\u001b[39m.\u001b[39;49mload_model(\n\u001b[1;32m     55\u001b[0m         name,\n\u001b[1;32m     56\u001b[0m         vocab\u001b[39m=\u001b[39;49mvocab,\n\u001b[1;32m     57\u001b[0m         disable\u001b[39m=\u001b[39;49mdisable,\n\u001b[1;32m     58\u001b[0m         enable\u001b[39m=\u001b[39;49menable,\n\u001b[1;32m     59\u001b[0m         exclude\u001b[39m=\u001b[39;49mexclude,\n\u001b[1;32m     60\u001b[0m         config\u001b[39m=\u001b[39;49mconfig,\n\u001b[1;32m     61\u001b[0m     )\n",
      "File \u001b[0;32m~/Desktop/CS 224N/BertInjections/cs224-bert-injection/.env/lib/python3.9/site-packages/spacy/util.py:439\u001b[0m, in \u001b[0;36mload_model\u001b[0;34m(name, vocab, disable, enable, exclude, config)\u001b[0m\n\u001b[1;32m    437\u001b[0m \u001b[39mif\u001b[39;00m name \u001b[39min\u001b[39;00m OLD_MODEL_SHORTCUTS:\n\u001b[1;32m    438\u001b[0m     \u001b[39mraise\u001b[39;00m \u001b[39mIOError\u001b[39;00m(Errors\u001b[39m.\u001b[39mE941\u001b[39m.\u001b[39mformat(name\u001b[39m=\u001b[39mname, full\u001b[39m=\u001b[39mOLD_MODEL_SHORTCUTS[name]))  \u001b[39m# type: ignore[index]\u001b[39;00m\n\u001b[0;32m--> 439\u001b[0m \u001b[39mraise\u001b[39;00m \u001b[39mIOError\u001b[39;00m(Errors\u001b[39m.\u001b[39mE050\u001b[39m.\u001b[39mformat(name\u001b[39m=\u001b[39mname))\n",
      "\u001b[0;31mOSError\u001b[0m: [E050] Can't find model 'en_core_web_sm'. It doesn't seem to be a Python package or a valid path to a data directory."
     ]
    }
   ],
   "source": [
    "import spacy\n",
    "import networkx as nx\n",
    "\n",
    "\n",
    "en_nlp = spacy.load('en_core_web_sm')\n",
    "\n",
    "doc = en_nlp(\"the hospital admitted the patient with cancer because she required intensive care\")\n",
    "\n",
    "edges = []\n",
    "for tok in doc:\n",
    "    edges.extend([(tok.i, child.i) for child in tok.children])\n",
    "\n",
    "\n",
    "g = nx.Graph()\n",
    "g.add_edges_from(edges)\n",
    "\n",
    "distance_matrix = nx.floyd_warshall_numpy(g)\n",
    "idx_labels = [str(tok) for toc in doc]"
   ]
  },
  {
   "cell_type": "code",
<<<<<<< HEAD
   "execution_count": 22,
=======
   "execution_count": null,
>>>>>>> 7eb8757 (changes)
   "metadata": {},
   "outputs": [
    {
     "data": {
      "text/html": [
       "<span class=\"tex2jax_ignore\"><svg xmlns=\"http://www.w3.org/2000/svg\" xmlns:xlink=\"http://www.w3.org/1999/xlink\" xml:lang=\"en\" id=\"b3dcdbc968734413995cdcdcf6778715-0\" class=\"displacy\" width=\"2150\" height=\"399.5\" direction=\"ltr\" style=\"max-width: none; height: 399.5px; color: #000000; background: #ffffff; font-family: Arial; direction: ltr\">\n",
       "<text class=\"displacy-token\" fill=\"currentColor\" text-anchor=\"middle\" y=\"309.5\">\n",
       "    <tspan class=\"displacy-word\" fill=\"currentColor\" x=\"50\">the</tspan>\n",
       "    <tspan class=\"displacy-tag\" dy=\"2em\" fill=\"currentColor\" x=\"50\">DET</tspan>\n",
       "</text>\n",
       "\n",
       "<text class=\"displacy-token\" fill=\"currentColor\" text-anchor=\"middle\" y=\"309.5\">\n",
       "    <tspan class=\"displacy-word\" fill=\"currentColor\" x=\"225\">hospital</tspan>\n",
       "    <tspan class=\"displacy-tag\" dy=\"2em\" fill=\"currentColor\" x=\"225\">NOUN</tspan>\n",
       "</text>\n",
       "\n",
       "<text class=\"displacy-token\" fill=\"currentColor\" text-anchor=\"middle\" y=\"309.5\">\n",
       "    <tspan class=\"displacy-word\" fill=\"currentColor\" x=\"400\">admitted</tspan>\n",
       "    <tspan class=\"displacy-tag\" dy=\"2em\" fill=\"currentColor\" x=\"400\">VERB</tspan>\n",
       "</text>\n",
       "\n",
       "<text class=\"displacy-token\" fill=\"currentColor\" text-anchor=\"middle\" y=\"309.5\">\n",
       "    <tspan class=\"displacy-word\" fill=\"currentColor\" x=\"575\">the</tspan>\n",
       "    <tspan class=\"displacy-tag\" dy=\"2em\" fill=\"currentColor\" x=\"575\">DET</tspan>\n",
       "</text>\n",
       "\n",
       "<text class=\"displacy-token\" fill=\"currentColor\" text-anchor=\"middle\" y=\"309.5\">\n",
       "    <tspan class=\"displacy-word\" fill=\"currentColor\" x=\"750\">patient</tspan>\n",
       "    <tspan class=\"displacy-tag\" dy=\"2em\" fill=\"currentColor\" x=\"750\">NOUN</tspan>\n",
       "</text>\n",
       "\n",
       "<text class=\"displacy-token\" fill=\"currentColor\" text-anchor=\"middle\" y=\"309.5\">\n",
       "    <tspan class=\"displacy-word\" fill=\"currentColor\" x=\"925\">with</tspan>\n",
       "    <tspan class=\"displacy-tag\" dy=\"2em\" fill=\"currentColor\" x=\"925\">ADP</tspan>\n",
       "</text>\n",
       "\n",
       "<text class=\"displacy-token\" fill=\"currentColor\" text-anchor=\"middle\" y=\"309.5\">\n",
       "    <tspan class=\"displacy-word\" fill=\"currentColor\" x=\"1100\">cancer</tspan>\n",
       "    <tspan class=\"displacy-tag\" dy=\"2em\" fill=\"currentColor\" x=\"1100\">NOUN</tspan>\n",
       "</text>\n",
       "\n",
       "<text class=\"displacy-token\" fill=\"currentColor\" text-anchor=\"middle\" y=\"309.5\">\n",
       "    <tspan class=\"displacy-word\" fill=\"currentColor\" x=\"1275\">because</tspan>\n",
       "    <tspan class=\"displacy-tag\" dy=\"2em\" fill=\"currentColor\" x=\"1275\">SCONJ</tspan>\n",
       "</text>\n",
       "\n",
       "<text class=\"displacy-token\" fill=\"currentColor\" text-anchor=\"middle\" y=\"309.5\">\n",
       "    <tspan class=\"displacy-word\" fill=\"currentColor\" x=\"1450\">she</tspan>\n",
       "    <tspan class=\"displacy-tag\" dy=\"2em\" fill=\"currentColor\" x=\"1450\">PRON</tspan>\n",
       "</text>\n",
       "\n",
       "<text class=\"displacy-token\" fill=\"currentColor\" text-anchor=\"middle\" y=\"309.5\">\n",
       "    <tspan class=\"displacy-word\" fill=\"currentColor\" x=\"1625\">required</tspan>\n",
       "    <tspan class=\"displacy-tag\" dy=\"2em\" fill=\"currentColor\" x=\"1625\">VERB</tspan>\n",
       "</text>\n",
       "\n",
       "<text class=\"displacy-token\" fill=\"currentColor\" text-anchor=\"middle\" y=\"309.5\">\n",
       "    <tspan class=\"displacy-word\" fill=\"currentColor\" x=\"1800\">intensive</tspan>\n",
       "    <tspan class=\"displacy-tag\" dy=\"2em\" fill=\"currentColor\" x=\"1800\">ADJ</tspan>\n",
       "</text>\n",
       "\n",
       "<text class=\"displacy-token\" fill=\"currentColor\" text-anchor=\"middle\" y=\"309.5\">\n",
       "    <tspan class=\"displacy-word\" fill=\"currentColor\" x=\"1975\">care</tspan>\n",
       "    <tspan class=\"displacy-tag\" dy=\"2em\" fill=\"currentColor\" x=\"1975\">NOUN</tspan>\n",
       "</text>\n",
       "\n",
       "<g class=\"displacy-arrow\">\n",
       "    <path class=\"displacy-arc\" id=\"arrow-b3dcdbc968734413995cdcdcf6778715-0-0\" stroke-width=\"2px\" d=\"M70,264.5 C70,177.0 215.0,177.0 215.0,264.5\" fill=\"none\" stroke=\"currentColor\"/>\n",
       "    <text dy=\"1.25em\" style=\"font-size: 0.8em; letter-spacing: 1px\">\n",
       "        <textPath xlink:href=\"#arrow-b3dcdbc968734413995cdcdcf6778715-0-0\" class=\"displacy-label\" startOffset=\"50%\" side=\"left\" fill=\"currentColor\" text-anchor=\"middle\">det</textPath>\n",
       "    </text>\n",
       "    <path class=\"displacy-arrowhead\" d=\"M70,266.5 L62,254.5 78,254.5\" fill=\"currentColor\"/>\n",
       "</g>\n",
       "\n",
       "<g class=\"displacy-arrow\">\n",
       "    <path class=\"displacy-arc\" id=\"arrow-b3dcdbc968734413995cdcdcf6778715-0-1\" stroke-width=\"2px\" d=\"M245,264.5 C245,177.0 390.0,177.0 390.0,264.5\" fill=\"none\" stroke=\"currentColor\"/>\n",
       "    <text dy=\"1.25em\" style=\"font-size: 0.8em; letter-spacing: 1px\">\n",
       "        <textPath xlink:href=\"#arrow-b3dcdbc968734413995cdcdcf6778715-0-1\" class=\"displacy-label\" startOffset=\"50%\" side=\"left\" fill=\"currentColor\" text-anchor=\"middle\">nsubj</textPath>\n",
       "    </text>\n",
       "    <path class=\"displacy-arrowhead\" d=\"M245,266.5 L237,254.5 253,254.5\" fill=\"currentColor\"/>\n",
       "</g>\n",
       "\n",
       "<g class=\"displacy-arrow\">\n",
       "    <path class=\"displacy-arc\" id=\"arrow-b3dcdbc968734413995cdcdcf6778715-0-2\" stroke-width=\"2px\" d=\"M595,264.5 C595,177.0 740.0,177.0 740.0,264.5\" fill=\"none\" stroke=\"currentColor\"/>\n",
       "    <text dy=\"1.25em\" style=\"font-size: 0.8em; letter-spacing: 1px\">\n",
       "        <textPath xlink:href=\"#arrow-b3dcdbc968734413995cdcdcf6778715-0-2\" class=\"displacy-label\" startOffset=\"50%\" side=\"left\" fill=\"currentColor\" text-anchor=\"middle\">det</textPath>\n",
       "    </text>\n",
       "    <path class=\"displacy-arrowhead\" d=\"M595,266.5 L587,254.5 603,254.5\" fill=\"currentColor\"/>\n",
       "</g>\n",
       "\n",
       "<g class=\"displacy-arrow\">\n",
       "    <path class=\"displacy-arc\" id=\"arrow-b3dcdbc968734413995cdcdcf6778715-0-3\" stroke-width=\"2px\" d=\"M420,264.5 C420,89.5 745.0,89.5 745.0,264.5\" fill=\"none\" stroke=\"currentColor\"/>\n",
       "    <text dy=\"1.25em\" style=\"font-size: 0.8em; letter-spacing: 1px\">\n",
       "        <textPath xlink:href=\"#arrow-b3dcdbc968734413995cdcdcf6778715-0-3\" class=\"displacy-label\" startOffset=\"50%\" side=\"left\" fill=\"currentColor\" text-anchor=\"middle\">dobj</textPath>\n",
       "    </text>\n",
       "    <path class=\"displacy-arrowhead\" d=\"M745.0,266.5 L753.0,254.5 737.0,254.5\" fill=\"currentColor\"/>\n",
       "</g>\n",
       "\n",
       "<g class=\"displacy-arrow\">\n",
       "    <path class=\"displacy-arc\" id=\"arrow-b3dcdbc968734413995cdcdcf6778715-0-4\" stroke-width=\"2px\" d=\"M770,264.5 C770,177.0 915.0,177.0 915.0,264.5\" fill=\"none\" stroke=\"currentColor\"/>\n",
       "    <text dy=\"1.25em\" style=\"font-size: 0.8em; letter-spacing: 1px\">\n",
       "        <textPath xlink:href=\"#arrow-b3dcdbc968734413995cdcdcf6778715-0-4\" class=\"displacy-label\" startOffset=\"50%\" side=\"left\" fill=\"currentColor\" text-anchor=\"middle\">prep</textPath>\n",
       "    </text>\n",
       "    <path class=\"displacy-arrowhead\" d=\"M915.0,266.5 L923.0,254.5 907.0,254.5\" fill=\"currentColor\"/>\n",
       "</g>\n",
       "\n",
       "<g class=\"displacy-arrow\">\n",
       "    <path class=\"displacy-arc\" id=\"arrow-b3dcdbc968734413995cdcdcf6778715-0-5\" stroke-width=\"2px\" d=\"M945,264.5 C945,177.0 1090.0,177.0 1090.0,264.5\" fill=\"none\" stroke=\"currentColor\"/>\n",
       "    <text dy=\"1.25em\" style=\"font-size: 0.8em; letter-spacing: 1px\">\n",
       "        <textPath xlink:href=\"#arrow-b3dcdbc968734413995cdcdcf6778715-0-5\" class=\"displacy-label\" startOffset=\"50%\" side=\"left\" fill=\"currentColor\" text-anchor=\"middle\">pobj</textPath>\n",
       "    </text>\n",
       "    <path class=\"displacy-arrowhead\" d=\"M1090.0,266.5 L1098.0,254.5 1082.0,254.5\" fill=\"currentColor\"/>\n",
       "</g>\n",
       "\n",
       "<g class=\"displacy-arrow\">\n",
       "    <path class=\"displacy-arc\" id=\"arrow-b3dcdbc968734413995cdcdcf6778715-0-6\" stroke-width=\"2px\" d=\"M1295,264.5 C1295,89.5 1620.0,89.5 1620.0,264.5\" fill=\"none\" stroke=\"currentColor\"/>\n",
       "    <text dy=\"1.25em\" style=\"font-size: 0.8em; letter-spacing: 1px\">\n",
       "        <textPath xlink:href=\"#arrow-b3dcdbc968734413995cdcdcf6778715-0-6\" class=\"displacy-label\" startOffset=\"50%\" side=\"left\" fill=\"currentColor\" text-anchor=\"middle\">mark</textPath>\n",
       "    </text>\n",
       "    <path class=\"displacy-arrowhead\" d=\"M1295,266.5 L1287,254.5 1303,254.5\" fill=\"currentColor\"/>\n",
       "</g>\n",
       "\n",
       "<g class=\"displacy-arrow\">\n",
       "    <path class=\"displacy-arc\" id=\"arrow-b3dcdbc968734413995cdcdcf6778715-0-7\" stroke-width=\"2px\" d=\"M1470,264.5 C1470,177.0 1615.0,177.0 1615.0,264.5\" fill=\"none\" stroke=\"currentColor\"/>\n",
       "    <text dy=\"1.25em\" style=\"font-size: 0.8em; letter-spacing: 1px\">\n",
       "        <textPath xlink:href=\"#arrow-b3dcdbc968734413995cdcdcf6778715-0-7\" class=\"displacy-label\" startOffset=\"50%\" side=\"left\" fill=\"currentColor\" text-anchor=\"middle\">nsubj</textPath>\n",
       "    </text>\n",
       "    <path class=\"displacy-arrowhead\" d=\"M1470,266.5 L1462,254.5 1478,254.5\" fill=\"currentColor\"/>\n",
       "</g>\n",
       "\n",
       "<g class=\"displacy-arrow\">\n",
       "    <path class=\"displacy-arc\" id=\"arrow-b3dcdbc968734413995cdcdcf6778715-0-8\" stroke-width=\"2px\" d=\"M420,264.5 C420,2.0 1625.0,2.0 1625.0,264.5\" fill=\"none\" stroke=\"currentColor\"/>\n",
       "    <text dy=\"1.25em\" style=\"font-size: 0.8em; letter-spacing: 1px\">\n",
       "        <textPath xlink:href=\"#arrow-b3dcdbc968734413995cdcdcf6778715-0-8\" class=\"displacy-label\" startOffset=\"50%\" side=\"left\" fill=\"currentColor\" text-anchor=\"middle\">advcl</textPath>\n",
       "    </text>\n",
       "    <path class=\"displacy-arrowhead\" d=\"M1625.0,266.5 L1633.0,254.5 1617.0,254.5\" fill=\"currentColor\"/>\n",
       "</g>\n",
       "\n",
       "<g class=\"displacy-arrow\">\n",
       "    <path class=\"displacy-arc\" id=\"arrow-b3dcdbc968734413995cdcdcf6778715-0-9\" stroke-width=\"2px\" d=\"M1820,264.5 C1820,177.0 1965.0,177.0 1965.0,264.5\" fill=\"none\" stroke=\"currentColor\"/>\n",
       "    <text dy=\"1.25em\" style=\"font-size: 0.8em; letter-spacing: 1px\">\n",
       "        <textPath xlink:href=\"#arrow-b3dcdbc968734413995cdcdcf6778715-0-9\" class=\"displacy-label\" startOffset=\"50%\" side=\"left\" fill=\"currentColor\" text-anchor=\"middle\">amod</textPath>\n",
       "    </text>\n",
       "    <path class=\"displacy-arrowhead\" d=\"M1820,266.5 L1812,254.5 1828,254.5\" fill=\"currentColor\"/>\n",
       "</g>\n",
       "\n",
       "<g class=\"displacy-arrow\">\n",
       "    <path class=\"displacy-arc\" id=\"arrow-b3dcdbc968734413995cdcdcf6778715-0-10\" stroke-width=\"2px\" d=\"M1645,264.5 C1645,89.5 1970.0,89.5 1970.0,264.5\" fill=\"none\" stroke=\"currentColor\"/>\n",
       "    <text dy=\"1.25em\" style=\"font-size: 0.8em; letter-spacing: 1px\">\n",
       "        <textPath xlink:href=\"#arrow-b3dcdbc968734413995cdcdcf6778715-0-10\" class=\"displacy-label\" startOffset=\"50%\" side=\"left\" fill=\"currentColor\" text-anchor=\"middle\">dobj</textPath>\n",
       "    </text>\n",
       "    <path class=\"displacy-arrowhead\" d=\"M1970.0,266.5 L1978.0,254.5 1962.0,254.5\" fill=\"currentColor\"/>\n",
       "</g>\n",
       "</svg></span>"
      ],
      "text/plain": [
       "<IPython.core.display.HTML object>"
      ]
     },
     "metadata": {},
     "output_type": "display_data"
    }
   ],
   "source": [
    "spacy.displacy.render(doc, style=\"dep\")"
   ]
  },
  {
   "cell_type": "markdown",
   "metadata": {},
   "source": []
  },
  {
   "cell_type": "code",
<<<<<<< HEAD
   "execution_count": 23,
=======
   "execution_count": null,
>>>>>>> 7eb8757 (changes)
   "metadata": {},
   "outputs": [
    {
     "name": "stdout",
     "output_type": "stream",
     "text": [
      "<generator object <genexpr> at 0x7f7d84c4ac10>\n"
     ]
    }
   ],
   "source": [
    "from conllu import parse_incr\n",
    "import pandas as pd\n",
    "from itertools import groupby\n",
    "from ast import literal_eval\n",
    "\n",
    "\n",
    "data_file = open(\"/Users/sathviknallamalli/Downloads/ud-annotatrix-corpus (1).conllu\", \"r\", encoding=\"utf-8\")\n",
    "data = data_file.read().splitlines()\n",
    "data = [ a[1:] if \"_\" in a else a for a in data]\n",
    "\n",
    "for idx, val in enumerate(data):\n",
    "    if \"(\" in val:\n",
    "        data[idx] = (str(val[val.find(\"(\")+1:val.find(\",\")]), str(val[val.find(\",\")+2:-1]))\n",
    "\n",
    "\n",
    "i = (list(g) for _, g in groupby(data, key=''.__ne__))\n",
    "print(i)\n",
    "split_file = [a + b for a, b in zip(i, i)]\n",
    "\n",
    "split = [list(g) for m, g in groupby(data, key=lambda x: x != \"\") if m]\n"
   ]
  },
  {
   "cell_type": "code",
<<<<<<< HEAD
   "execution_count": 24,
=======
   "execution_count": null,
>>>>>>> 7eb8757 (changes)
   "metadata": {},
   "outputs": [
    {
     "data": {
      "image/png": "iVBORw0KGgoAAAANSUhEUgAAApQAAAHzCAYAAACe1o1DAAAAOXRFWHRTb2Z0d2FyZQBNYXRwbG90bGliIHZlcnNpb24zLjcuMCwgaHR0cHM6Ly9tYXRwbG90bGliLm9yZy88F64QAAAACXBIWXMAAA9hAAAPYQGoP6dpAAB8JElEQVR4nO3de0DN9/8H8Oe5VJRrtQyTyyJJLptIWyNyp+Sae+7msrFhtM112s9mw4YtNpNE5lozdxpNJAzJpUKO27TK6EJ1zvn8/rD6srmU8/mc6/Px33fnnPf7dXw553neV5kgCAKIiIiIiF6S3NAFEBEREZFpY6AkIiIiIp0wUBIRERGRThgoiYiIiEgnDJREREREpBMGSiIiIiLSCQMlEREREemEgZKIiIiIdMJASUREREQ6YaAkIiIiIp0wUBIRERGRThgoiYiIiEgnDJREREREpBMGSiIiIiLSCQMlEREREemEgZKIiIiIdMJASUREREQ6YaAkIiIiIp0wUBIRERGRThgoiYiIiEgnDJREREREpBMGSiIiIiLSCQMlEREREemEgZKIiIiIdMJASUREREQ6YaAkIiIiIp0wUBIRERGRThgoiYiIiEgnDJREREREpBMGSiIiIiLSCQMlEREREemEgZKIiIiIdMJASUREREQ6YaAkIiIiIp0wUBIRERGRThgoiYiIiEgnDJREREREpBOloQsgItOXV6BGelYeCtVaWCvlqONgBzsbfrwQEVkKfuIT0UtJvZODyAQVYi9lQJWdD+Gxx2QAnO1t4evqhEGtnFG/WkVDlUlERHogEwRBePHTiIgeuZ6dj5BtSYhLy4RCLoNG++yPkOLHfVwcERrogVr2tnqslIiI9IWBkohKLSpRhdkxyVBrhecGyX9TyGVQymWY6++OIE9nCSskIiJDYKAkolJZFpuKRXtTdG5nascGmOhbX4SKiIjIWHCXNxG9UFSiSpQwCQCL9qZgY6JKlLaIiMg4MFAS0XNdz87H7JhkUducFZOM69n5orZJRESGw0BJRM8Vsi0J6jKslywNtVZAyLYkUdskIiLDYaAkomdKvZODuLTMMm3AKQ2NVkBcWibSMnJEbZeIiAyDgZKInikyQQWFXCZJ2wq5DOuOcS0lEZE5YKAkomeKvZQh+uhkMY1WQGxKhiRtExGRfjFQEtFT5RaooZJ444wqKx95BWpJ+yAiIukxUBLRU13LyoPUh9QKANKz8iTuhYiIpMZASURPVajWmlU/REQkHQZKInoqa6V+Ph701Q8REUmHn+RE9FR1HOwgzf7u/5H90w8REZk2Bkoieio7GyWc7W0l7cPZwRZ2NkpJ+yAiIukxUBLRM/m6Okl6DqVvAydJ2iYiIv1ioCSiZxrUylnScygHezlL0jYREekXAyURPVP9ahXh4+Io+iilQi6Dj4sjXJwqitouEREZBgMlET1XaKAHlCIHSqVchtBAD1HbJCIiw2GgJKLnqmVvi7n+7qK2Oc/fHbUk3vBDRET6w0BJRC8U5OmMqR0biNLWtI6u6O/JtZNEROZEJgiC1LerEZGZiEpUYXZMMtRaoUybdRRyGZRyGeb5uzNMEhGZIY5QElGpBXk6Y/+UNvCu5wAApd6so9EKcLCzxoXbOUi9kyNliUREZAAcoSSil5J6JweRCSpExJ6BxqYSIHtxuFTIZdBoBfi4OCI00IPrKImIzARHKIkek1egRvKte/hDdRfJt+4hr0Bt6JKMVv1qFeH6akWoleVR2jsai6fJ469kwW/xIUQlqiSskIiI9IUjlGTxikfaYi9lQJWdj8f/QcgAONvbwtfVCYNaOaN+NZ6bWGxZbCoW7U2BIAiQlWJ08lmmdmyAib71RayMiIj0jYGSLNb17HyEbEtCXFpmyVTss3Cq9klRiSrM2JokWnsLe3lwsw4RkQljoCSLpOtu5bn+7giy0AB0PTsffosPoUCtFa1NG6Uc+6e0sfigTkRkqriGkizOsthUzNiahAK1tsz3VGu0AgrUWszYmoRlsakSVWjcQrYlQS3y/d5qrYCQbeKNeBIRkX4xUJJFiUpUYdHeFFHaWrQ3BRstbFNJ6p0cxKVlljmIv4hGKyAuLRNpGTxSiIjIFDFQksW4np2P2THJorY5KyYZ17PzRW3TmEUmqEp99mRZKeQyrDtmWQGdiMhcMFCSxeBUre5iL2WIPjpZTKMVEJuSIUnbREQkLQZKsgicqtVdboEaKolHY1VZ+Tz7k4jIBDFQkkXgVK3urmXlQeojIQQA6Vl5EvdCRERiY6Aki8CpWt0VinhMkDH0Q0RE4mGgJLPHqVpxWCv183Ghr36IiEg8/OQms8epWnHUcbAr7ZXdL032Tz9ERGRaGCjJ7HGqVhx2Nko4S3yTjbODLexslJL2QURE4mOgJLPHqVrx+Lo6Sbq5ybeBkyRtExGRtMz/G5AsHqdqxTOolbOkm5sGe1nm/ehERKaOgZLMHqdqxVO/WkX4uDgCgrjT+wq5DD4ujnBxqihqu0REpB8MlGQROFUrntBADwgaNSDiVielXIbQQA/R2iMiIv1ioCSLwKla8VSUFyJ77/eAiAsJ5vm7o5bEo8hERCQdBkqyCMVTtWKPUlriVG1ycjJyz+7F4CaVRWlvWkdX9Pe0nEBOROYhr0CN5Fv38IfqLpJv3TP7s4hfxPwXfRH9IzTQA36LD4k6UmmJU7VJSUlQKBT4tJcnGrvcweyYZKi1Qpn+XBVyGZRyGeb5uzNMEpHJSL2Tg8gEFWIvZUCVnf/Ewh8ZAGd7W/i6OmFQK2fUr2Y5Aw0AIBMEQeozn4mMRlSiCjO2JonW3icd62KUbyPR2jMFEydORGxsLJKTkwEA17PzEbItCXFpmVDIZc8NlsWP+7g4IjTQg9PcRGQS+Dn3YgyUZHGWxaZi0d4UndspOrEFTpl/4MCBA7C3txehMtPQpk0bVK9eHVFRUU/895Jf7ikZUGU95Ze7gy18GzhhsJezRS0RICLTFpWo0mkmZq6/O4IsYCaGgZIskq4fEPP83eFe/j58fX1Ru3Zt7N+/H1WqVJGuYCMhCAIcHR0xZcoUfPLJJ8983hXVTTT09MHXS76Bbxsf1HGws4hjlYjIvIg1ADG1YwNM9K0vQkXGi5tyyCIFeTpj/5Q28K7nAAAv3KxT/Lh3PQfsn9IG/T2d0bhxY+zfvx9Xr15F586dcf/+fcnrNrTbt28jOzsbHh7PXzeqfpiHooyr8KhREe41KjNMEpHJiUpUiRImAWDR3hRsTFSJ0paxYqAki1XL3hYRI1th3+R3MKRVbdR2sP3PQTgyALUdbDGkVW3sn/IOIka2emI9TNOmTbFv3z5cunQJXbp0QW5url7fg76dO3cOANC4cePnPi8nJwcAUKlSJclrIiIS2/XsfMyOSRa1zVkxybienS9qm8aEwwZk8epXq4g5/u6YA3fkFaiRnpWHQrUW1kp5qaZq33jjDezZswcdOnRAt27dsHPnTtjZmec1jElJSbC1tUXdunWf+7zi0VoGSiIyRSHbkqAW+exitVZAyLYkRIxsJWq7xoIjlESPsbNRwr1GZTR3rlqmqdqWLVti165dOHXqFPz9/fHgwQOJKzWMc+fOwd3dHXL58z86igNlxYrcfENEpiX1Tg7i0jJFvwxDoxUQl5aJtIwcUds1FgyURCLx9vbGzp07cezYMfTs2RMPHz40dEmiS0pKeuH6SYBT3kRkuiITVJJe1bvumHmupWSgJBKRj48PduzYgcOHD6N3794oKCgwdEmi0Wg0OH/+/AvXTwKPRiitrKxgY2Ojh8qIiMQTeylD0qt6Y1MyJGnb0BgoiUTm6+uLmJgYHDhwAP3790dRUZGhSxLFlStX8ODBg1KNUN6/fx+VKlWCTCbNr3wiIinkFqihknjjjCor3yyvaWSgJJJAhw4dsG3bNuzatQsDBgyAWm36Hx6l3eENPAqUXD9JRKbmWlYepD6cWwCQnpUncS/6x0BJJJEuXbpg8+bNiI6OxpAhQ0w+VCYlJcHR0RHVqlV74XNzcnK4fpKITE6hWmtW/egTAyWRhHr06IGNGzdi06ZNGDFiBDQajaFLemnnzp1D48aNSzWNXTzlTURkSqyV+olF+upHn3gOJdEzvMyZlE/Tq1cvREZGYuDAgVAqlfjhhx9eeOyOMUpKSkKHDh1K9VxOeRORKarjYAcZIOm0t+yffswNAyXRY1Lv5CAyQYXYSxlQZec/8aEiA+BsbwtfVycMauWM+tVKH5j69+8PtVqNIUOGwMrKCt9//71JbVh5+PAhUlNTMWXKlFI9PycnB46OjhJXRUQkLjsbJZztbXFNwo05zg62Znkdrfm9I6KXcD07HyHbkhCXlgmFXPbUIyMEANey8xGRcA1rjqbDx8URoYEeT1zF+DyDBg1CUVERRowYASsrK3z77bcmEyovXrwIjUZTqh3ewKMRynr16klcFRGR+HxdnRCRcE2So4MUchl8GziJ3q4xML15NyKRRSWq4Lf4EOKvZAHACz9Eih+Pv5IFv8WHEJVY+kNqg4ODERYWhuXLl+ODDz6AIEi9n1AcxTu83d3dS/V8TnkTkaka1MpZ0nMoB3s5S9K2oXGEkizasthULNqb8lKv1WgFaLQCZmxNQmZuASb61i/V60aPHo2ioiJMmDABVlZWWLhwodGPVCYlJaF27dql3mjDXd5EZKrqV6uIFq9VwAnVPUCuEK1dhVwG73oOcHEyzx/bDJRksaISVS8dJv9t0d4UvFLBBv09S/fLc/z48SgqKsLkyZNhbW2N+fPnG3WoLN7hXVrc5U1Epmrz5s04uDAEFfsvhEzEQKmUyxAaWLplQ6aIU95kka5n52N2TLKobc6KScb1Mizkfv/99/Hll19iwYIFmD9/vqi1iK20d3gDgFarRW5uLqe8icik5OXlYfTo0ejbty/at2qKWd3cRG1/nr97qdfcmyKOUJJFCtmWBLXIa2TUWgEh25IQMbJVqV8zdepUFBUVISQkBFZWVpg5c6aoNYnh3r17uH79eqlHKHNzcwGAI5REZDL++OMPDBgwANevX8cPP/yAESNGQCaT4YGgEGUma1pH11LPYJkqBkqyOKl3chCXlil6uxqtgLi0TKRl5JRpjczMmTNRWFhYEiqnTp0qem26KN6QU5Yd3gADJREZP61WiyVLlmDGjBlo3LgxTp48iYYNG5Y8PtG3Phwr2GB2TDLU/6ybLy2FXAalXIZ5/u5mHyYBBkqyQJEJqmceDaQrhVyGdcdUmONfut3QxWbNmoWioiJMmzYNVlZWeP/990Wv7WWdO3cOCoUCrq6upXp+caDklDcRGbM///wTwcHB2LNnDz788EMsWLAANjY2/3lekKcz3nrd8YVHyxUrfty7nkOZjpYzdQyUZHFiL2VIeiREbEoG5qBsgVImk2H+/PklG3WsrKwwfvx4SWosq6SkJLi6uj71g/ZpOEJJRMZu165dCA4Ohkwmw+7du9GpU6fnPr+WvS0iRrb63+UXKRlQZT3l8gsHW/g2cMJgL2ez3c39LAyUZFFyC9RQSXgDAgCosvKRV6Au800IMpkM//d//4fCwsKSI4VGjx4tUZWlV9Yd3jk5OQAYKInI+Dx8+BAzZszA0qVL0aVLF6xZswZOTqU/aLx+tYqY4++OOXAX7Xpec2G575ws0rWsPEnvaAUe3aiTnpUH9xqVy/xamUyGr7/+GkVFRRg7diysrKwQHBwseo2lJQgCkpKS4OfnV+rXcISSiIzRhQsXMGDAAFy4cAFLly7FpEmTdDquzc5G+VKf8+aKgZIsSqFaa/T9yGQyfPPNN09c0zho0CARqyu9P//8E9nZ2WU+gxLgGkoiMg6CIGDVqlWYPHky6tSpg+PHj6Np06aGLsvsMFCSRbFW6ufoVV37kcvl+O6771BUVIShQ4fCysoK/fr1E6m60ktKSgJQ+h3ewKMp7/Lly0Op5McLERlWdnY2Ro8eja1bt2Ls2LH4+uuvYWtrGZtk9I2f+GRR6jjYQQZIOu0t+6cfXcnlcqxatQpqtRoDBw6EUqlEr169dC+wDM6dOwdbW1vUrVu31K/hLTlEZAx+++03DB48GPn5+diyZYvePz8tDW/KIYtiZ6OEs8RHODg72Iq2MFuhUOCnn35C37590b9/f/zyyy+itFtaSUlJcHd3h1xe+o+K+/fvc7qbiAymqKgIH3/8Mdq1a4f69evj7NmzDJN6wEBJFsfX1QkKuTT3ZivkMvg2KP2OwVK1qVAgIiICAQEB6NOnD3bt2iVq+89T1h3ewKMpb45QEpEhXLlyBT4+Pli4cCE+++wz7N+/H6+99pqhy7IIDJRkcQa1cpb0HMrBXuLfiKBUKrFhwwZ06dIFgYGB2Ldvn+h9/JtGo0FycnKZ1k8CnPImIsOIjIxEs2bNkJGRgSNHjiAkJAQKhcLQZVkMBkqyOPWrVYSPi6Poo5QKuQw+Lo6SHWZrZWWFjRs3on379vD390dsbKwk/RS7evUqHjx4UOYRSk55E5E+3b9/H0OHDsXgwYPh7++P06dPo1WrVoYuy+IwUJJFCg30gFLMQCkIUMplCA0s22heWdnY2GDLli1455130L17dxw+fFiyvl5mhzfAKW8i0p+EhAQ0b94c27ZtQ0REBNatW8fPHwNhoCSLVMveFnPLeN/2c8lksLv4K8prpb2FBwDKlSuH7du3w8vLC127dkV8fLwk/SQlJcHBwQHVqlUr0+s45U1EUtNoNPj888/x9ttvw9HREadPn8bgwYMNXZZFY6AkixXk6YypHRuI0lY/13K4cehntGrVCufPnxelzecpX748YmJi8Oabb6Jz5844fvy46H2cO3cOHh4eZb5JglPeRCSlmzdvokOHDvj4448xffp0/P7773j99dcNXZbFY6AkizbRtz7+r5cHbJTyMq+pVMhlsFHKsbCXB74Ibo/jx4/D1tYWrVu31stObDs7O+zYsQMeHh7o2LEjTp06JWr7SUlJZV4/CXDKm4iks337djRp0gQpKSk4cOAAFixYACsrK0OXRWCgJEKQpzP2T2kD73oOAPDCYFn8uHc9B+yf0gb9PR/t6q5Tpw7i4+NL1jcuXboUgiDtzeEVK1bErl270LBhQ/j5+eHMmTOitPvw4UOkpqaWef0kwClvIhJffn4+xo0bh8DAQLzzzjs4c+YMfH19DV0WPYY35RDh0ZrKiJGtkHonB5EJKsSmZECVlf/EjToyPDq03LeBEwZ7OT91N3fFihWxfft2zJgxA5MnT8b58+exbNkySX9BV6pUCbt374afnx/8/PwQGxv7UiOLj7t48SI0Gk2Z2yksLMTDhw855U1Eojl79iwGDBiAq1ev4vvvv8eYMWPKvBSHpMdASfSY+tUqYo6/O+bAHXkFaqRn5aFQrYW1Uo46DnalugFHoVDgyy+/hJubG8aNG4fU1FRs2rQJDg4OktVdpUoV7N27F+3atUP79u3x22+/wc3N7aXbO3fuHAC81KHmADhCSUQ6EwQB3377LaZPnw5XV1ecOHECjRo1MnRZ9Ayc8iZ6BjsbJdxrVEZz56pwr1G5zNcpjhgxAvv378fZs2fh5eWFixcvSlTpI/b29ti/fz+cnJzQrl07pKSkvHRbSUlJcHZ2LnMwZKAkIjFkZGSge/fueP/99zF27FgkJCQwTBo5BkoiCb3zzjs4fvw4rK2t4eXlJfkNN46Ojjhw4ACqVq2Kdu3a4fLlyy/VTvEO77K6f/8+AAZKInp5e/fuRZMmTZCYmIgdO3Zg6dKlKFeunKHLohdgoCSSWL169XD06FF4e3ujS5cuWL58uaT9OTk54cCBA7Czs0O7du2Qnp5eqtflFaiRfOse/lDdRdKNu2jo0bTMfRcHSq6hJKKyKiwsxNSpU9GpUyc0adIEZ86cQbdu3QxdFpWSTJB6GyoRAXh0EO/UqVOxZMkSjB8/HkuWLJF0s87NmzfRpk0baLVaHDp0CLVq1frPc0o2IV3KgCr7yU1IgIDa9nbwdXXCoFbOqF/txSFx165d6Nq1K27cuIGaNWuK9l6IyLxdunQJAwcORFJSEj7//HNMmTIFcjnHvEwJAyWRnq1atQrjx49HmzZtsGnTJlStWlWyvlQqFdq0aQOFQoFDhw6VhLzr2fkI2ZaEuLRMKOQyaLTP/hgoftzHxRGhgR6oZW/7zOdu3LgRQUFBPNyciEpFEAT89NNPmDRpEl577TVs2LABb7zxhqHLopfA+E+kZ6NHj8a+ffvwxx9/wMvLS6fNMy/i7OyMgwcPorCwEO3atcOff/6JqEQV/BYfQvyVLAB4bph8/PH4K1nwW3wIUYmqZz63eMrbzs5OpHdARObq7t276N+/P0aOHIkBAwbg5MmTDJMmjIGSyADatm2LhIQEyOVytGrVCgcOHJCsr7p16+LgwYPIzc2Fz7gFmLE1CQVq7QuD5L9ptAIK1FrM2JqEZbGpT31OTk4OKlasyKkqInqu33//Hc2aNcPevXuxceNG/PDDD6hQoYKhyyId8FOfyEBcXFxw9OhRtGzZEp06dcL3338vaV/Tvt+GIrfOorS3aG8KNj5lpJK35BDR86jVasyZMwdt2rSBs7Mzzpw5g379+hm6LBIBAyWRAVWpUgW//vorxo8fj3fffRfvvfce1Gq16P1cz87Hd8ezRG1zVkwyrmfnP/HfuHaSiJ7l2rVraNu2LebPn4/Zs2cjNjYWtWvXNnRZJBIGSiIDUyqV+Oabb/Ddd99hxYoV6NatG/7++29R+wjZlgR1Gae4X0StFRCyLemJ/5aTk8MRSiL6j40bN6Jp06a4ceMGDh8+jFmzZkGp5GV95oSBkshIjBs3Dnv27MHx48fRunVrpKWlidJu6p0cxKVllnnN5ItotALi0jKRlpFT8t845U1Ej8vNzcXw4cMRFBSEzp074/Tp03jrrbcMXRZJgIGSyIi0b98eCQkJ0Gq1aNWqFX777Ted24xMUEEhl+le3FMo5DKsO/a/tZSc8iaiYidOnMAbb7yBTZs24aeffsKGDRtQpUoVQ5dFEmGgJDIyDRo0wLFjx9C8eXN06NABq1at0qm92EsZoo9OFtNoBcSmZJT8b055E5FWq8WXX34Jb29vVKpUCadOnUJwcDBkMml+2JJxYKAkMkJVq1bFrl27MHr0aIwZMwZTpkyBRqMpczu5BWqo/rVxRmyqrHzkFTzaSMQpbyLLdvv2bXTq1AnTp0/H5MmTER8fjwYNGhi6LNIDroglMlJWVlZYsWIF3N3d8f777+PSpUuIiooqU2C7lpUHqa/CEgCkZ+XBvUZlTnkTWbBffvkFI0aMgFKpxL59++Dn52fokkiPOEJJZOQmTJiAnTt3Ij4+Hq1bt8aVK1dK/dpCtVbCyv7bD0coiUxLXoEaybfu4Q/VXSTfulcy21AWDx48wKRJk+Dv7w8vLy+cPXuWYdICcYSSyAR07NgRx44dQ/fu3dGyZUts3boV77zzzgtfZ63Uz29Ga6UcgiBwDSWRCUi9k4PIBBViL2VAlZ3/xCyGDICzvS18XZ0wqJUz6ld7/oxDcnIygoKCkJqaimXLlmH8+PFcK2mhOEJJZCIaNmyIhIQEeHh4wM/PD6tXr37ha+o42EHqj3bZP/08fPgQarWagZLISF3PzseQHxPQYclhRCRcw7V/hUng0RKWa9n5iEi4hg5LDmPIjwn/ucAAAARBwIoVK9CiRQsIgoDExERMmDCBYdKCMVASmRAHBwfs3bsXwcHBGDlyJKZNm/bUzTrZ2dlYt24dggcPgPrvPyWtydnBFnY2Sty/fx8AuIaSyAhFJargt/gQ4q88ujHrRSc/FD8efyULfosPIeqxq1YzMzPRs2dPTJgwASNGjEBiYiI8PDykK55MAqe8iUyMlZUVwsLC4O7ujg8++AAXL17E+vXrkZmZiejoaERHRyMuLg4ajQYtW7ZEEzcFLqgBKU4OUshl8G3gBODRkUEAOEJJZGSWxaZi0d6Ul3qtRitAoxUwY2sSMnML0Ei4jiFDhuDhw4fYvn07AgICRK6WTBUDJZEJkslkmDRpEgBg+vTpeOWVV1BQUAAbGxu0b98eK1asQPfu3VGjRg2k3slBhyWHJalDoxXQ3a0yAJSMUDJQEhmPqETVS4fJf1u0NwVZu75By4YNsXbtWtSsWVOUdsk8MFASmZCCggLExsYiOjoaMTExuHXrFipXrgyNRgMbGxts3rwZHTp0eOI19atVhI+LI+KvZIl6wLlM0OKhKgnt3hyASZMmoWXLlgA45U1kLK5n52N2TLJo7QmCAKcuE7H6Q1/UdKwgWrtkHriGksjIFa+H7Nu3LxwdHdGlSxfs3bsX/fv3x2+//YbMzExcvXoVzZo1Q/fu3bF27dr/tBEa6AGlyNcvWlspsXPuEIwbNw5LlizBgAEDAABFRUWi9kNELydkWxLUYv6IlMkAuQKfRIsXUsl8yARBkPrcYyIqo6tXr5aMQh4+fLhkPWRAQAD8/f3h7u7+n92UhYWFePfdd7F69Wp89NFHCA0NhVz+v9+MUYkqzNiaJFqNC3t5oL+nMwDgr7/+wogRI7Bjxw5UqFABEydOxIcffghHR0fR+iOi0pNyqQsA7J/yDlycOBtB/8MRSiIjIAgCTpw4gU8//RRNmjRBvXr18NFHH6FcuXJYvnw5bt68iYSEBISEhKBx48ZPPZrD2toaP/zwA7766it88cUX6NWrF3Jzc0seD/J0xtSO4lyBNq2ja0mYBIBXXnkFXbt2hVwux/jx4/Htt9+iTp06mDFjBv766y9R+iSi0otMUEEh8qxEMYVchnXHVC9+IlkUBkoiAykoKMDu3bvx7rvv4rXXXoOnpydWrFiBZs2aYfPmzcjMzMTOnTsxduxY1KhRo1RtymQyfPDBB/jll19w4MABvP3221Cp/vfBP9G3Pv6vlwdslPIyf9ko5DLYKOVY2MsDE3xd/vN4Tk4OKleujIULFyI9PR2TJk3C8uXLUbduXXz00UcMlkR6FHspQ9Q104/TaAXEpmRI0jaZLgZKIj26e/cu1q1bh379+uGVV15Bly5dsGfPHvTr1w+xsbG4c+cO1q5di969e+u0uaVbt244evQo7t27B09PTxw9erTksSBPZ+yf0gbe9RwA4IXBsvhx73oO2D+lzRMjk497/NpFR0dHfP7557h69Sree+89rFixAnXq1MH06dORkcEvIiIp5RaooXrKYeRiUmXlv9Q1jWS+uIaSSGJXr15FTEwMoqOjS9ZDenp6IiAgAAEBAU9dDymWjIwM9OrVCydOnMCPP/6IQYMGPfF4yRVsKRlQZT3lCjYHW/g2cMJgL+cXrpd67733EBsbi6Sk/67TzMrKwuLFi/HNN99Ao9Fg/PjxmDZtGpycnER4l0T0uORb99Dt298l7+fXSW/DvUZlyfsh08BASSQyQRBw8uTJkkPGk5KSYG1tjfbt2yMgIAA9evQo9RS2GAoKCjB27FiEh4cjJCQE8+fPf2KzTrG8AjXSs/JQqNbCWilHHQc72NmU/mSx4cOHIyUlBUeOHHnmc7Kzs7F48WIsXboUarUa7777LqZNm4ZXX331pd4bEf3XH6q7CPwuXvJ+tr3rjebOVSXvh0wDAyWRCIrPh4yJiUFMTAxu3ryJqlWrolu3bggICECnTp0Mej6jIAj48ssvMWPGDAQGBmLt2rWws7MTtY/evXsjPz8fu3bteuFzs7OzsWTJEixduhRFRUUYN24cpk+fzmBJJAKOUJIhMFASvaS7d+9i586diI6Oxu7du5GTk4O6deuWTGW//fbbUCqN6+6AmJgYDBw4EA0aNEB0dDRq1aolWtsdOnRA1apV8fPPP5f6NXfv3sWSJUuwZMkSFBYWlgTL6tWri1YXkaXJK1Cj8Zw9kPLLXQbg3JxOZZrFIPPGTTlEZZCeno6lS5eiXbt2eOWVVzB48GCkp6fjo48+wtmzZ3H58mUsXrwYbdu2NbowCQD+/v6Ij49HVlYWWrZsiePHj4vW9uObckqratWqmDt3bsmf4U8//YR69eph8uTJuH37tmi1EVkSOxslnO1tJe3D2cGWYZKewEBJ9BzF50POmjULTZs2Rd26dTF9+nTY2Nhg2bJluHHjBo4fP46PP/4YHh4ekm2uEVOTJk1w/Phx1K1bF23atEFUVJQo7ebk5Lz0Pd5Vq1bFnDlzkJ6ejhkzZmDNmjWoV68e3n//fdy6dUuU+ogsia+rk6TnUPo24IY6ehIDJdG/FBQUYM+ePRg/fjxq1aoFT09PLFu2DE2aNMGmTZuQmZmJXbt2Ydy4cahZs6ahy30p1apVw8GDB9GnTx8MGDAAs2fPhlar1anNlxmh/LcqVapg9uzZSE9Px8yZM7F27VrUq1cP7733Hm7evKlT20SWZFArZ0nPoRzs9fTjw8hyMVAS4dFavsjIyJLzITt37ozdu3ejb9++OHjwIO7cuYOIiAj06dPHoJtrxFSuXDmsXbsWoaGhmDdvHoKCgpCf//Jn192/f1+0P5sqVapg1qxZSE9PxyeffIJ169bh9ddfx6RJkxgsiUqhfrWK8HFxhNiDlAq5DD4ujrx2kf6DgZIsVvF6yPbt25esh7x69SqmT5/+xHpIX19fWFlZGbpcSchkMsycORNbt27Fr7/+infeeafMgS2vQI1zN/5GYcUayLexF/Ww48qVK+OTTz5Beno6Pv30U0RGRqJevXqYOHEibty4IVo/ROZGEATUzTwGdWEBIOLeW6VchtBAD9HaI/PBXd4kCV3PNJSCIAg4depUyfmQZ8+ehbW1Ndq1a1dyPqSpTmGL4Y8//oC/vz+0Wi2io6PRokWLZz635ED0SxlQZT/lQHR7W/i6OmFQK2fUrybeSMb9+/exbNkyfPXVV8jNzcXIkSMxc+ZMUXerE5m63NxcjBgxAps2bUKfj75GoqyBaG0v7OXxzNuyyLIxUJJoDBUynqegoAC//fYboqOjS86HrFKlSsn5kJ07dzabKWwx3L59Gz179kRSUhLCw8PRt2/fJx6/np2PkG1JiEvLhEIue+4areLHfVwcERrogVoi7jrNyckpCZb3798vCZbOzvyiI8t26dIl9OrVCyqVCmvWrEHv3r2xLDYVi/am6Nz2tI6umODrIkKVZI4YKElnxhIyihWfDxkTE4Ndu3YhJycHderUeeJ8SHOdwhbDgwcPMGLECERFRWHu3Ln49NNPIZPJEJWowuyYZKi1QpkW+yvkMijlMsz1d0eQyCMbOTk5WL58ORYtWoT79+9jxIgRmDlzJmrXri1qP0T/ZoyzMNu3b8fQoUNRs2ZNbN26FW5ubiWP6frvd56/O0cm6bkYKEknxhIy0tPTn7gvW61Wo0WLFiUhsnHjxiZxpI+xEAQBCxYswKeffoqgoCC0HD4LS2Ov6Nzu1I4NMNG3vggVPik3N7ckWN67dw/Dhw9HSEgIgyWJyhhnYQBAo9Fg9uzZWLBgAXr16oWffvrpqScuGNuPfzIvDJT00sSaRnmZkPG09ZBWVlYl6yH9/f0tej2kWDZv3owxC9egkt+7orUp5Rqs3NxcrFixAl9++SX+/vvvkmBZp04dSfojy2DMQSwrKwuDBg3Cvn37EBoaiunTp7/wx3NJME7JgCrrKcHYwRa+DZww2MuZu7mp1Bgo6aVEJaowY2uSaO2VJmQUFhY+cV/2jRs3nlgP2alTJ53PQaQnXc/OR/uvYlGgEUQb4bVRyrF/ShtJv2jz8vLw3Xff4YsvvsDdu3cRHByMkJAQ1K1bV7I+yTwZyyzM05w6dQq9e/dGTk4OoqKi4OfnV+Y2jHHqnkwTAyWV2fXsfPgtPoQCtW4HYT/uWSHj77//Lrkv+9/rIf39/eHj48P1kBIa8mMC4q9kiXpAskIug3c9B0SMbCVam8+Sl5eH77//Hl988QWys7MxbNgwhISEoF69epL3TabPkLMwLxIeHo5x48bB3d0dW7Zs4fIOMjgGSiozqUPGtWvXSqayi9dDvvnmmyXrIU3likNTl3onBx2WHJas/f1T3tHbdFp+fn5JsMzMzMSwYcPw8ccfM1jSMxliFqY0CgsLMXnyZHz33XcYMWIEli9fjnLlyolQIZFuGCipTKQOGRUPL8G5+P1PrIfs0aMHXnvtNcn6pKebE5OMiIRrklzfppDLMKRVbczxdxe97efJz89HWFgYFi5ciMzMTAwZMgQff/wxXFx4FAr9jz5nYcri5s2b6Nu3L06ePIlvv/0Wo0eP5o9rMhq8KYfKJDJBBYXYd3n9Q9BqUKF5F2zcuBGZmZnYvXs33n33XYZJA4m9lCHpXcCxKRmStP08tra2mDJlCq5cuYJFixZh9+7daNiwIYKDg5GWlqb3esg4hWxLglrkv/tqrYCQbS8/4nn48GG8+eabUKlUOHz4MMaMGcMwSUaFgZLKRMqQIZMrYF2nOfr168fNNQaWW6CGKvvl7/UuDVVWvqjXNJaFra0tJk+ejCtXruCrr77C3r170bBhQwwbNgypqakGqYmMQ+qdHMSlZYr+OafRCohLy0RaRk6ZXicIApYsWYJ27drBzc0Np06dQqtW0q8/JiorBkoqNXMPGfQ/17LyIPVaGAFAelaexL08X/ny5fH++++X3Nu+b98+NGzYEEOHDkVKiu6bMcj0SDkLo5DLsO6YqtTPz8vLw6BBgzBlyhRMnjwZ+/btg5OTkyS1EemKgZJKzVJCBgGFIq4dM4Z+XqR8+fKYNGkSrly5gqVLl+LAgQNwc3PDkCFDcOnSJUOXR3pkLEs90tLS4OXlhZiYGGzcuBGLFi2CUsnjfMh4MVBSqVlayLBk1kr9fDToq5/SKleuHCZOnIjLly/jm2++QWxsLBo1aoTBgwfj4sWLhi6PJGYsszA7duxAixYtUFBQgISEBPTr10/SmojEYFyf5mS0BEHAnzdv6KUvYwsZlqiOgx2kXu4v+6cfY1SuXDlMmDABaWlp+Pbbb3Ho0CE0atQIgwYNYrA0Y4aehdFqtZg9ezZ69OiBtm3bIjExEe7u+j0Jgehl8Zubnio/Px+HDh3C559/jh49euCVV15BtzYtIfUpU8YcMiyJrbUCr9hK+/Hg7GBr9DdylCtXDuPHj0daWhqWL1+OuLg4NGrUCAMHDsSFCxcMXR6JzJCzMHfv3kWPHj0wf/58LFiwAFu3bkXlypX1Ug+RGBgoCYIg4Nq1a9iwYQPee+89tGjRApUqVULbtm3x+eefo6CgABMmTMCuX7ajVtXyktZiCiHDnKlUKixYsAANGjRA2uHtgFYjST+CVgOrv1JMZke1jY0N3n33XaSmpmLFihX4/fff4e7ujqCgICQnJxu6PBKJoZZ6nDlzBi1atMCxY8ewa9cuhISEQC7n1zOZFv6NtUAFBQU4duwYvv76a/Tt2xevvfYa6tSpg4EDB2LXrl1wd3fH8uXLcebMGdy9exd79+7F3Llz0alTJ/i5vSrpDkjfBtzBqG95eXlYt24d/Pz8UKdOHYSGhsLb2xvfvNcPkCsk6VMmV+DM5mVo0KAB2rdvj40bN6KwsFCSvsRkY2ODcePGITU1Fd999x2OHj0KDw8P9O/fn8HSxGm1WtxJOwfoeRZm3bp1aN26NSpVqoQTJ06gU6dOkvZPJBUGSgvw559/Ytu2bZg2bRreeustVK5cGa1bt8bHH3+MjIwMDBkyBNHR0bhz5w5SU1MRHh6OsWPHokmTJlAongwUg1o5S7oDcrCX7leT0YsJgoC4uDiMHDkS1atXx5AhQ6BWq7F69Wr8+eefCA8Px+Ae7eHj4ij6DwiFXAYfF0dcT05EREQEioqKEBQUhNdeew0fffSRSRwwbmNjg7FjxyI1NRVhYWFISEiAh4cH+vXrh3Pnzhm6PCqlBw8eYMeOHRg9ejRq1KiB9m3ehjZH2gP3i2dhioqK8N5772HIkCHo168f4uPjUbduXUn7JpKSxV+9mFegRnpWHgrVWlgr5ajjYGfSU65qtRpJSUmIj4/H0aNHER8fj6tXrwIAatWqBW9vb7Ru3Rre3t5o2rQprK2ty9yH1Hd5k3SuXbuGtWvXIjw8HJcvX0adOnUwbNgwDB069Kn3WuvrCrrz589j5cqVCA8Px99//4327dtjzJgx6Nmz50v9HdW3wsJCrF27FgsWLEB6ejr69OmDWbNmwcPDw9Cl0b9kZWVhx44diI6Oxp49e5Cfn4/69esjICAAAQEB2JtVGZHHr0t65ehYT3v069cPCQkJWLp0KcaNG8dbb8jkWWSgTL2Tg8gEFWIvZUCVnf/Erj4ZAGd7W/i6OmFQK2fUr1bRUGWWSnZ2No4dO4b4+HjEx8fj+PHjyMvLg5WVFZo3bw5vb++SECnWFYbGes8tPV1eXh62bNmCNWvWIDY2FnZ2dujbty+Cg4Ph4+PzwrVaUYkqzNj68lfG/dvCXh7o7/n0kegHDx5g8+bNCAsLw5EjR+Dk5IThw4dj9OjReP3110WrQSpFRUVYu3YtPvvsM6Snp6N3796YNWsWmjRpYujSLNqVK1cQHR2N6OhoxMXFQavVolWrVujZsycCAgLQsGHDkkCXeicHHZYclqyWL9pUxPvD+0Mul2Pz5s1o3bq1ZH0R6ZNFBcrr2fkI2ZaEuLRMKOSy5/4CLX7cx8URoYEeRhF0tFotLl68+MToY/ERJk5OTk+MPr755psoX166DTT6DBlUdlqtFnFxcVizZg02b96M3Nxc+Pr6Ijg4GL169UKFChXK1N6y2FQs2qv7zTHTOrpigq9LqZ577tw5rFy5EmvXrsW9e/fg5+eHsWPHIiAgAFZWVjrXIqWioiJERETgs88+w9WrV9GrVy/MmjULTZs2NXRpFkEQBJw8eRLR0dHYvn07zp07BxsbG7Rv3x4BAQHo0aMHqlev/szXSzILIwNes8pHfOhAeHt7Y+PGjXj11VdFa5/I0CwmUEYlqjA7JhlqrVCmDwmFXAalXIa5/u4I0nPgycnJwfHjx0tGH48dO4a///4bcrkcHh4eTwTIevXq6X3KxBAhg57v6tWrJVPaV69eRb169UqmtOvUqaNT27r+G5rn7/5SPxry8/OxadMmrFy5EvHx8ahWrRpGjBiBUaNGPXWa3pgUFRVh3bp1+Oyzz3DlyhUEBgZi1qxZaNasmaFLMzuFhYWIjY1FdHQ0YmJicPPmTVStWhXdunVDz5490alTp1L/kBJ7FkYQBEBTiFurxmPi8AH44osvjP5HEVFZWUSgFCv4TO3YABN964tQ0X8JgoArV66UjDzGx8cjKSkJWq0WVapUgZeXV8n0dcuWLVGxonFMxRsqZND/5ObmYvPmzVizZg0OHTqEChUqoF+/fggODsbbb78t6g8NQ4/yJyUlYeXKlYiIiMC9e/fQsWNHjBkzBv7+/kb9BV1UVITIyEh89tlnuHz5Mnr27IlZs2ahefPmhi7NpP3999/YtWsXoqOjsXPnTuTk5KBOnTol6yHffvvtl/57IfYsTPaub5F7di9CQkIwZ84cXqNIZsfsA6WxTs0+ePAAJ0+efGL6OiPj0e7Chg0bPrH2sWHDhkZ9JpmhQ4Yl0mq1OHToEMLDw7F582bk5+ejXbt2CA4ORmBgIOzspD0cvmQdckoGVFlPWYfsYAvfBk4Y7OUMFyfxf/zk5+fj559/RlhYGI4dO4ZXX321ZNTSmHfKqtXqkmCZlpYGf39/zJ49G2+88YahSzMZ169fL1kP+dtvv0GtVuONN94oCZFNmjQR7UeUWIMR8qQd2PrZWOzcuROzZs2Cl5cX1q9fD2dn/pgm82HWgdKYNo/cuHHjidHHP/74A0VFRbCzs0PLli1LAqSXlxfs7e1Fq1efDB0yLMHly5dLprSvXbuG119/HcHBwRgyZAhq165tkJoMfVLC2bNnS0Ytc3Jy0LFjR4wdOxbdu3c32lFLtVqNDRs2YP78+UhNTUWPHj0we/ZsvPnmm4YuzegIgoCzZ8+WhMhTp05BqVSibdu26NmzJ/z9/VGrVi3J+n/ZWRgZBGiKClEr4yh+/eZjVKlSBQBw5MgRDBw4EDk5OVi9ejV69uwpTeFEembWgdJQx9sUFRXh9OnTT4w+Xr9+HQBQt27dJ9Y+enh4mOXUh6FDhjnJycnBpk2bsGbNGsTFxaFixYro378/goOD4e3tzeNG/pGXl4eNGzdi5cqVSEhIQPXq1TFixAiMHj3aYGH7RdRqNaKiojB//nykpKSge/fumD17Nlq0aGHo0gxKrVYjLi4O27dvR0xMDNLT01GxYkV07doVAQEB6NKlS0lA04cyzcLIAI0APLj6B4Y2VGLhrOn/mWHKzs7GqFGjsG3bNkycOBFffvklypUrJ/XbIJKU2QZKqY9+2D/lnZJRtr/++uuJ0ccTJ07gwYMHsLa2RosWLZ6YvuauPioNrVaL2NhYhIeHY8uWLXjw4AH8/PwwbNgwBAYGwtaWSwWe5/Tp01i5ciXWrVuH3NxcdO7cGWPGjEH37t2N8gecRqNBVFQU5s2bh5SUFHTr1g2zZ8+Gp6en6H0Z64+9nJwc7NmzB9HR0fj1119x9+5d1KxZE/7+/ujZsyfatm1r8DNJXzQL82oFJe78cRD3Tu5AxPIv0bVr12e2JQgCvvvuO3zwwQdwc3NDVFQUXF1dJX8PRFIx20A5JyYZEQnXJDmcVi4DmlfIQYVLuxAfH19ys0f16tVLwqO3tzeaN28OGxsb0fsn85WWlobw8HCsXbsWKpUK9evXL5nSlnJaz1zl5eUhKioKYWFhSExMRI0aNTBy5EiMGjXKKNevaTQabNy4EfPmzcOlS5fQtWtXzJ49Gy1bttSpXWM9e/f27dv45ZdfEB0djf3796OwsBAeHh4l6yHffPNNox2B/3cwPxG7C+PHjISLiwu2bt1a6nNTT58+jaCgINy4cQMrVqzA0KFDJa6cSBpmGyjbfBmLa9n5krVfdPcWqp8Ie2L62tnZ2Wg//Mh43b9/Hz///DPWrFmDI0eOoFKlSggKCkJwcDC8vLz4d0okf/zxB1auXInIyEjk5uaiS5cuGDt2LLp27Wp0o5YajQY///wz5s+fjwsXLqBLly6YPXs2WrUq201SxrZhThAEXLx4Edu3b0d0dDQSEhIgl8vh4+NTEiKN/SiofysqKsJHH32ExYsXY9CgQVi5cmWZZxByc3MxadIkrFmzBkOGDMHy5cuN5iQPotIyy0CZW6CGx5w9kPKNyQCcm9PJKKaKyPRoNBocPHgQ4eHh2Lp1Kx4+fIiOHTti2LBh6Nmzp6SH0lu63NxcbNiwAStXrsSJEydQs2bNklFLYxsF1mg02LRpE+bNm4cLFy6gc+fOmD17Nry8vF74WmM5e1ej0eDo0aMlm2pSU1Nha2uLzp07IyAgAN26dYODg4PO/RjCnTt3Su7h/vrrrzFx4kSdfgCuW7cO48aNQ40aNbBx40YeK0UmxSwDZfKte+j27e+S9/PrpLfhXqOy5P2Q+UhJSSmZ0r5x4wZcXV0RHByMwYMHi3Y1JpXeqVOnEBYWhvXr1yM/Px9du3bFmDFj0LVrVygUCkOXV0Kj0WDz5s2YN28ezp8/j06dOmH27NnPvLbP0Gfv5ufnY9++fYiOjsaOHTvw119/wcnJCf7+/ggICED79u1N/kfTsWPH0Lt3b2i1WmzatAlvv/22KO2mpKQgKCgIycnJ+PLLLzFp0iTOUpBJMMtA+YfqLgK/i5e8n23veqO5c1XJ+yHTdu/ePWzcuBHh4eGIj49H5cqVMWDAAAQHB6Nly5b8sjACOTk52LBhA8LCwnDq1Cm89tprGDVqFEaOHGlUQV+r1WLLli2YO3cukpOT0aFDB8yZMwfe3t4lzzHU2bt//fUXduzYgejoaOzduxcPHjyAq6srAgIC0LNnT7Rq1cqoz9MtLUEQ8P333+P9999Hy5YtsWnTpude4/gyCgoKMH36dHzzzTfw9/fH6tWrTXYUlyyHWQZKjlCSoWk0Guzfvx/h4eHYtm0bCgsL0alTJwwbNgwBAQE8IsSInTx5smTU8sGDB+jWrRvGjh2Lzp07G82opVarxdatWzF37lycO3cOfn5+mDNnDpzdmuv17N20tLSSqewjR45AEAS0bt26ZD2kue1afvDgAd59912Eh4dj4sSJ+OqrryTdeR4TE4Phw4fD1tYW69evh4+Pj2R9EenKLANlXoEajbmGkgzg4sWLCA8PR0REBG7evAk3N7eSKe0aNWoYujwqg/v375eMWv7xxx+oVatWyahlzZo1DV0egEfBctu2bZg7dy6SkpLQ8N3lKKhSG2IebvH42btarRaJiYklIfL8+fOwsbFBhw4dEBAQgB49eqBatWridW5E0tPT0atXL1y8eBErV67E4MGD9dLvjRs3MHDgQBw5cgRz587FzJkzjeaHDdHjzDJQAtLv8q7tYItDU30la59Mx927d0umtI8dO4YqVapg4MCBCA4ORosWLTilbeIEQcCJEycQFhaGDRs24OHDh+jevTvGjh2LTp06GcWXu1arxfcbovHFOelGy96+F4uD29fj9u3bsLe3R48ePRAQEICOHTtKftWnoe3duxcDBgxA5cqVsXXrVjRr1kyv/avVasyfPx/z589H27ZtsW7dOv5AJaNj+gtansHX1QkKuTRf5Aq5DL4NnCRpm0yDRqPB7t27ERQUhOrVq2PChAmwt7fHzz//jNu3b2P58uXw9PRkmDQDMpkMnp6e+OGHH3D79m0sW7YM165dQ7du3VCvXj189tlnuHXrlkFrlMvlyKjYQLLPPEGrwZEMOYKCgvDbb7/hzp07WLNmjV7ujTckrVaL0NBQdO7cGS1btsSJEyf0HiYBQKlUYu7cuThw4AAuXryIpk2bYteuXXqvg+h5zHaEUp835ZDlOH/+fMmU9u3bt+Hu7o7g4GAMGjRI9IX5ZLwEQUBiYiLCwsIQFRWFgoIC9OjRA2PHjkWHDh0MMmrJWRlx3b9/H8OGDcP27dvx6aefYvbs2UYxGv3XX39h2LBh2LVrFz788EOEhoYa/AYhIsCMAyVguLu8ybxkZ2cjKioK4eHhOH78OOzt7TFw4EAMGzbMqG/yIP24d+8eIiMjERYWhrNnz6J27doYPXo0RowYobcfGTx7V1znz59HYGAg7ty5g4iICPTo0cPQJT1Bq9ViyZIlmDFjBpo1a4aoqCiTOxCezI/ZTnkDQGigB5QiTwEp5TKEBnqI2iYZH7VajZ07d6Jfv36oXr063nvvPVSrVg2bN2/GrVu38O2333J9JAEAKleujPHjx+P06dM4evQo2rVrhwULFsDZ2Rm9e/fGnj17oNWKt+v6aa5l5UkaJgFAAJCelSdxL4a3adMmtGzZEtbW1khMTDS6MAk8WuLwwQcf4MiRI8jKykLz5s2xceNGQ5dFFs6sA2Ute1vM9XcXtc15/u6SXElGxuHcuXOYNm0aatWqhW7duuHChQv4/PPPcfPmTcTExKB37968n52eSiaTwcvLC6tXr8atW7ewePFipKSkoHPnznj99dcRGhqKP//8U5K+C0U8JsgY+jEEtVqNadOmoV+/fujRoweOHTuG+vXLfqi7Pnl6euLUqVPo0qULgoKCMGbMGOTnS7fsgeh5zHrKu5hYt0ZM6+iKCb4uIlRExiQrKwsbNmxAeHg4Tpw4AQcHBwwaNAjDhg1D8+bNOQpJL00QBBw7dgxhYWHYuHEj1Go1AgICMHbsWLRv3160g7559q5uMjIyEBQUhMOHD2PRokV4//33TerfvSAIWL16NSZNmoS6deti48aNaNy4saHLIgtjEYES0P1e23n+7qW6LYJMQ1FREfbs2YM1a9YgJiYGgiCga9euCA4ORrdu3bjInUR39+5drFu3DmFhYUhOTka9evUwevRoDB8+XOezG3n27ss7fvw4evfujcLCQvz8889o06aNoUt6aefPn0f//v2RlpaGpUuXYvTo0SYVjMm0WUygBIDr2fkI2ZaEuLRMKOSy5wbL4sd9XBwRGujBaW6R5BWokZ6Vh0K1FtZKOeo42On1CyopKQlr1qxBZGQk7ty5g6ZNmyI4OBgDBw6EkxOPgiLpCYKAo0ePIiwsDD///DPUajV69uyJsWPHol27di89asld3mW3atUqTJw4EW+88QY2bdpkVNdsvqwHDx5gypQpCAsLQ9++fbFy5UpUqVLF0GWRBbCoQFks9U4OIhNUiE3JgCor/4lf9TIAzg628G3ghMFezjwaSAQlf96XMqDKfsqft70tfF2dMKiVM+pXE//POzMzE+vXr0d4eDhOnToFR0dHDB48GMOGDTPImXJExbKzsxEREYGwsDBcuHABr7/+esmoZVl/4MyJSUZEwjVRT7UoppDLMKRVbcwReU26oTx8+BATJ07Ejz/+iHfffReLFy82u7XRmzZtwqhRo2Bvb4+oqCi0asWTSUhaFhkoH2foETNzZsgR4aKiIuzatQtr1qzBjh07IAgCunfvjuDgYHTp0oVT2mRUBEHAkSNHEBYWhk2bNkGr1SIwMBBjxoyBr69vqUYtefZu6ahUKvTu3RtJSUn4/vvvERwcbOiSJHP16lUEBQXh1KlTCA0NxYcffljmEXB+R1JpWXygJGnoumZ1rr87gl5izeqZM2dKprT/+usvNG/eHMHBwRgwYABeeeWVMrdHpG/Z2dlYu3YtwsLCcPHiRbi4uGDMmDEIDg5+4d9hnr37fAcOHEBQUBDs7OywdetWvPHGG4YuSXJFRUX45JNP8MUXX6Bz584IDw9/4ei3oWeVyDQxUJLoxNpVP7VjA0z0ffGxHX/99RfWr1+PNWvW4PTp03ByciqZ0m7SpInOdRAZgiAIiIuLw8qVK7F582ZotVr06tULY8eORdu2bZ+62eJ6dj78Fh9CgWjH+wiwUSqwf0obk15HLggCvvzyS8ycORPt27fHhg0b4ODgYOiy9Gr37t0YOnQoFAoF1q1bh/bt2//nOdxnQLpgoCRRRSWqMGNrkmjtLezl8dTd9YWFhdi5cyfWrFmDX3/9FTKZDD169EBwcDA6d+4MKysr0WogMrSsrCyEh4dj5cqVuHTpEurXr18yauno6PjEc8X+N+hX6Q5WzRhusruFc3JyMHz4cGzZsgUhISGYN2+eUVyhaAi3b9/G4MGDERsbi5CQEMyZMwdK5aPpa0PNKpH5YKAk0Yg/OgLYKOUloyOCIOD06dNYs2YN1q9fj8zMTLz55psIDg5GUFDQf75YicyNIAg4fPgwwsLCsGXLFgBA7969MWbMGLRp06Yk9Ik1S+ChvYodX0zCxIkTsWTJEpMLYhcvXkRgYCBu3ryJtWvXomfPnoYuyeA0Gg0WLlyIWbNmwcvLC+vXr0fM5QK9ziqReWKgJNFItX6rxWsV4fXwBNasWYOzZ8+iWrVqJVPaHh68BpMsU2ZmZsmoZUpKClxdXTFmzBgMHToUjo6Oop29GxYWhgkTJqBr167YsGED7OzsJHxX4tm6dSuCg4NRq1YtbN26Fa6uroYuyagcOXIEAwYMQMFrb6J8m1GitfusWSUyfwyUJAqpd5j+tWYSur79aDSyU6dOJdM0RJZOEAQcOnSoZNRSJpOhT58+GDt2LOq4v4mPt5/TeU3crl270K9fP7i6uuKXX35B9erV9fHWXopGo8Enn3yC//u//0OfPn2wevVqVKzIjSNPk3TlFvzDEqGVKURb0vD4rBJZFgZKEoWUZ+DJIKD/G9Xxf33fFL1tInPy119/Yc2aNVi5ciXS0tLQsGFDjBkzBj7d+mLHxXs6nb17+vRpdOvWDUqlEr/++qtRXu2XmZmJAQMG4ODBg1i4cCE+/PBDk137qQ88FYDExEBJouAtHUTGQ6vV4rfffsPKlSuxdetWyOVy9O3bF2PGjEFzTy9cy85/qXMFb9y4gW7duiE9PR1btmyBn5+fxO+k9E6ePIlevXohPz8fGzduRLt27QxdklHjuaUktpe744voMbkFaqgkDJMAoMrKR16BWtI+iMyFXC5Hu3btEBUVhRs3bmDevHk4evQo3nnnHbR6sxn2b1qDOhUB9xqVy3RI9WuvvYa4uDi0bt0aXbp0wU8//SThuyi91atX46233kK1atVw6tQphslSiExQQSGXZvRWIZdh3TGVJG2T8WKgJJ1dy8qD1MPcAoD0rDyJeyEyP05OTpg+fTpSUlKwf/9+uLu7Y+rUqahRowaGDh2KI0eOoCwTVZUqVcIvv/yCESNGYMSIEfj000/L9HoxFRQUYOzYsRg5ciSGDh2Kw4cPo1atWgapxdTEXsqQZIkSAGi0AmJTMiRpm4wXdzaQzgpFPCbIGPohMkdyuRzt27dH+/btcefOnZK1lhEREXB3d8eYMWMwZMgQVK1a9YVtWVlZ4fvvv8frr7+Ojz76CFeuXMHq1avLdB+2rlf63bhxA71798bp06exatUqjBol3k5lc6fPWSVe02g5uIaSdJZ86x66ffu75P38OultuNeoLHk/RJZCq9XiwIEDCAsLQ3R0NJRKJfr164exY8eidevWpdrQ8vPPP2Po0KFo1aoVtm3bBnt7+2c+V6wr/X777Tf069cP5cqVw5YtW+Dp6VmGd038zCYpcMqbdFazkrXkfcgA1HEwjfPviEyFXC5Hhw4dsHnzZly/fh2zZs1CXFwc3nrrLTRp0gTLli3D33///dw2+vXrhwMHDiA5ORne3t64fPnyf55zPTsfQ35MQIclhxGRcA3X/hUmgUfLWq5l5yMi4Ro6LDmMIT8m4Pq/RtEEQcBXX30FPz8/NGnSBCdPnmSYfAmcVSIpMFDSS/n7778RFRWFgQMHos5r1VF095ak/Tk72HLqhEhCr776KmbOnIm0tDTs2bMHDRo0wOTJk1GjRg0MHz4cx44de+ZaybfeegvHjh2DVquFl5cXjh07VvJYVKIKfosPIf5KFgC8cN1e8ePxV7Lgt/gQohIfbe7Izc1FUFAQpk6dig8//BC7d+/GK6+8IsZbtzjWSv189eurHzIOnPKmUrt69Sp++eUXxMTE4NChQ1Cr1XjjjTfg7++PjNfaYPeVfEkWeSvkMgxpVRtz/N1Fb5uInu327dv46aefsGrVKqSnp6NJkyYYM2YMBg8ejMqV/zuVmZWVhYCAAJw8eRLr1q3DbfsmolzpF/yGAzbPHYVr165hzZo16N27t85tWrK8AjUaz9kj6WZKGYBzczpxIMCCMFDSM2m1Wpw4cQIxMTGIiYlBUlISrK2t0a5dO/j7+6N79+4lOyp5phmR+dJqtdi7dy9WrlyJmJgYWFtbIygoCGPHjkXLli2fWGv58OFDDB8+HDsu3IVDl0mi1aA8tRG/LJkJNzc30dq0ZDw7mMTGQElPePDgAQ4cOICYmBj88ssv+PPPP2Fvb4/u3bvD398fHTt2fOY1Zrx1gcj83bp1C6tXr8aqVaugUqnQtGlTjBkzBoMGDSoZtbyWmYt2Xx2EWpCLc1ONIMDGSsEr/UQk5e1mnFWyTAyUhDt37uDXX39FTEwM9u7diwcPHqB+/foICAiAv78/WrduXaq7s69n58Nv8SEUiLgQm/fCEhknjUaDvXv3IiwsDDt27ICNjQ0GDBiAsWPHYulZLY7yx6VR46wSiY2B0gIJgoALFy6UTGUXL6B/66234O/vD39/f7i6ur5U21GJKszYmiRarQt7eaC/p7No7RGR+G7evFkyavlnPlBj9HeS9cWgIh7OKpGYGCgthFqtxu+//14SIi9fvgxbW1t06tQJ/v7+6Natm2g7JpfFpoqyEH9aR1dM8HURoSIi0geNRoORK3bjt5taQCb+Dl9OpYqLs0okJm6/MmP379/H7t27ERMTg507d+Lu3buoXr06/P398c0336Bdu3YoV66c6P1O9K0Pxwo2mB2TDLVWKNOvX4VcBqVchnn+7hyZJDIxCoUCVx/aAjJpNnsUX+k3BwyUYqhlb4u5/u6izirN83dnmLRQDJRmRqVSlRztExsbi6KiIjRt2hQTJ06Ev78/3njjDcjl0p8NFuTpjLded0TItiTEpWVCIZc9N1gWP+5dzwGhgR78QCIyQbzSz/QEeTojM7cAi/amQBAEnTZRTevoyoEAC8YpbxMnCAJOnTpVMpV9+vRpWFlZoW3btvD390ePHj1Qu3Ztg9ZYct1aSgZUWU+5bs3BFr4NnDDYy5lro4hMGK/0M01XrlxBqwFTULHtCMiUVpxVopfCQGmCHj58iNjY2JKjfW7evIkqVaqgW7du8Pf3R6dOnZ566LAxyCtQIz0rD4VqLayVctRxsONIA5GZ+EN1F4HfxUvez7Z3vdHcuark/ViCoqIi+Pj4ICMjAzt+O4bP910t06ySj4sjZ5UIAKe8TUZmZmbJ0T579uxBXl4e6tWrh379+sHf3x9vvfUWrKysDF3mC9nZKDmyQGSmeKWf6ZkzZw5OnjyJ33//HY2cnRAx0omzSvRSLH6E0phHzC5dulQylR0fHw9BEODl5VVytI+bm5s4hwYTEYmAV/qZloMHD8LPzw8LFizAzJkzn/ocY/6OJONikYGy5NfXpQyosp/y68veFr6uThjUyhn1q+nv15darcbRo0dLQmRKSgrKly+PDh06lBzt8+qrr+qtHiKisuKVfqYhMzMTTZs2haurK/bt2weFQmHoksjEWVSgvJ6dX+Zdx1KvD8nJycHevXsRExODX3/9FVlZWahWrRp69OgBf39/tG/fHra2XJtCRKaBV/oZP0EQ0LNnTxw5cgRnzpxBzZo1DV0SmQGLCZRRiSqdzkWc6++OIJF2sN24cQM7duxATEwMDhw4gMLCQjRu3LhkKtvT01MvR/sQEYmNV/oZvxUrVmDChAmIjo6Gv7+/ocshM2ERgVKsm1umdmyAib71y/w6QRBw5syZkqnskydPQqFQoE2bNiVH+9SrV0/n+oiIjAGv9DNeSUlJ8PT0xKhRo7Bs2TJDl0NmxOwDpaHuli4oKMChQ4dKQuT169dRqVIldO3aFf7+/ujcuTOqVuWxF0Rkfniln3F68OABPD09IZPJcPz4cZQvX97QJZEZMeutWtez8zE7JlnUNmfFJMP7dcenfqhlZ2dj586diImJwe7du5GTk4PatWsjMDAQ/v7+8PHxgbW1taj1EBEZGymu9JviU4NhUkcffvghLl++jBMnTjBMkujMeoRSH9MuaWlpJaOQv//+OzQaDVq2bFmyHrJx48Y82oeILJJYy43uHgqH/MI+xMbGolmzZroXZoG2b9+OwMBAfPfddxg3bpyhyyEzZLaBUuqF4V2EEzgUsxEXLlxAuXLl4OfnB39/f3Tv3h3Vq1eXrF8iIlOi64bIOT0aYee3n2DdunUoV64ctm7dii5dukhYsfm5ceMGmjZtinfeeQdbt27lIAdJwmwDpZRHVwhaDdQXDqLzKznw9/eHn58f7OzsRO+HiMgc6Hpkm1arxciRI7FmzRrI5XKsWLECY8eO1eM7MF0ajQbt27dHWloazpw5AwcHB0OXRGbKbAOl5Ifr2tvi0DQerktEVFrPu9IPgoDajnbPvNJPq9VizJgx+PHHHwEA06dPx+eff84j1l5gwYIF+PTTT3Hw4EG0bdvW0OWQGTPLQJlboIYHr/8iIjJaj1/p93PUenwT+ilysjOfGxAfD5UymQx9+vRBeHg4N5g8w9GjR+Hj44OZM2di/vz5hi6HzJxZ/rS7lpUnaZgEAAFAelaexL0QEZknOxsl3GtURnPnqnjHox7y792FSqV67mvkcjlWrlyJUaNGQRAEREdHo3379vjrr7/0VLXpuHfvHgYOHIiWLVti9uzZhi6HLIBZBspCEc8+M4Z+iIjMWaNGjQAA58+ff+Fz5XI5wsLCMGrUKBQWFiI5ORmtW7dGSoruu8nNhSAIGDduHLKzs7F+/XoolZxJI+mZZaC0VurnbemrHyIic1arVi3Y2triwoULpXp+cagcOXIk7t+/j/z8fLRu3RpxcXESV2oawsPDERUVhbCwMNSpU8fQ5ZCFMMtEVMfBDlIfiiD7px8iItKNXC6Hm5tbqUYoH3/NypUrMXLkSNy+fRvVqlWDn58fNmzYIGGlxi8lJQUTJ07E8OHDERQUZOhyyIKYZaC0s1HCWeIbFZwdbLkhh4hIJI0aNSr1CGWx4lA5YsQIXLhwAZ6enhg4cCBCQ0NhhvtNX6igoAADBgxAzZo18c033xi6HLIwZhkoAcDX1QkKuTTjlAq5DL4NnCRpm4jIEhWPUJY1CMrlcqxatQojRoxAfHw8AgMD8fHHH2P06NEoKiqSqFrj9PHHHyMpKQkbNmxAhQoVDF0OWRizDZSDWjlLcqg5AGi0AgZ7OUvSNhGRJWrUqBHu3buHP//8s8yvLQ6VwcHBiI6OxpgxYxAeHo5u3brh3r17ElRrfPbs2YOvvvoKn3/+Od544w1Dl0MWyGwDZf1qFeHj4ij6KKVCLoOPi+N/Dt0lIqKX5+bmBqB0O72fRi6X44cffsCwYcPwww8/YPr06Th+/DjefvvtFx5HZOoyMjIwbNgwdOrUCVOmTDF0OWShzDZQAkBooAeUIgdKpVyG0EAPUdskIrJ09erVg7W19UsHSuB/oXLo0KH4v//7P4SEhCAnJwdeXl44deqUiNUaD61Wi2HDhkEQBISHh/PmIDIYs/6bV8veFnP93UVtc56/O2pJvOGHiMjSKJVKuLq6lnljzr89HipnzpyJ6dOno2bNmnjnnXfw66+/ilSt8Vi6dCl2796N8PBwVKtWzdDlkAUz60AJAEGezpjasYEobU3r6Ir+nlw7SUQkhbIeHfQsCoUCP/zwA4YMGYJJkyZh/Pjx8PPzg7+/P1asWCFCpcbhjz/+wEcffYQpU6agc+fOhi6HLJxFnHsz0bc+HCvYYHZMMtRaoUybdRRyGZRyGeb5uzNMEhFJqFGjRvjtt99EaUuhUODHH38EAIwaNQpr165F3bp1MWHCBFy5cgVffPGFSU8P5+XlYcCAAWjcuDE+//xzQ5dDZBmBEng0UvnW644I2ZaEuLRMKOSy5wbL4se96zkgNNCD09xERBJzc3NDRkYGMjMz4ejoqHN7xaFSEAQMHToUkZGRWLp0KSZPnoyrV68iIiICtram+dn+/vvv4/r16zh16hRsbGwMXQ4RZIIFnv6aeicHkQkqxKZkQJWVj8f/AGR4dGi5bwMnDPZy5m5uIiI9OXfuHDw8PHD48GH4+PiI1q5Go8GIESOwbt06REZGwtbWFgMGDICHhwdiYmLg5GRa5wr//PPP6N+/P3788UeMGDHC0OUQAbDQQPm4vAI10rPyUKjWwlopRx0HO96AQ0RkAAUFBbC1tcV3332HMWPGiNq2RqPB8OHDERkZifXr1+P1119H9+7dYWtri507d6Jhw4ai9ieV9PR0NGvWDJ06dUJUVBRkMqkvGiYqHdNdQCISOxsl3GtURnPnqnCvUZlhkojIQGxsbODi4iLKxpx/UygU+OmnnzBo0CAMHDgQly9fRkJCAsqXLw9vb28cOnRI9D7FplarMWjQIFSpUgVhYWEMk2RULD5QEhGR8XiZO71L6/FQOWjQIBw7dgxHjhxB8+bN0aFDB6xbt06SfsUyf/58JCQkYP369ahSpYqhyyF6AgMlEREZDbGODnqW4lA5YMAADBo0CHv37sWuXbswaNAgDBkyBPPnzy/zfeL6cPjwYXz22WeYPXs2vL29DV0O0X9wfpeIiIxGo0aNcOPGDdy/fx+VKlWSpA+FQoE1a9YAAAYOHIgNGzZg9erVqFevHmbNmoUrV64gLCwM1tbWkvRfVtnZ2Rg0aBDefvtthISEGLocoqdioCQiIqNRfKf3xYsX0bJlS8n6KQ6VgiBgwIABAIBPP/0UdevWxYgRI6BSqbBlyxaDTy0LgoDRo0cjLy8P69atg0KhMGg9RM/CQElEREajeLf1+fPnJQ2UwKNQGR4e/kSoHDx4MGrVqoXAwEC89dZb2LlzJ2rXri1pHc+zatUqbN26FVu3bkWtWrUMVgfRizBQEhGR0bCzs0Pt2rUl25jzbwqFAmvXrgUADBgwADKZDH369EF8fDy6du0KLy8v/PLLL2jRooVe6nnc+fPnMXnyZIwdOxaBgYF675+oLLgph4iIjEqjRo0k3Zjzb8Ujlf3790dQUBA2b96Mhg0b4tixY6hduzbatGmDmJgYvdUDAA8fPkRQUBDq1q2Lr7/+Wq99E70MBkoiIjIqUh4d9CxKpRLh4eHo168fgoKCsGXLFjg5OeHgwYPo3LkzevbsiW+//VZv9UyfPh0pKSnYsGGDyV4PSZaFgZKIiIyKm5sbrly5ggcPHui1X6VSibVr16Jfv37o378/tmzZAltbW2zatAkffPAB3nvvPUyZMgUajUbSOn755Rd8++23WLRoEZo0aSJpX0RisfirF4mIyLgcPXoU3t7eOH36NJo2bar3/tVqNYYMGYLNmzcjKioKvXv3BgAsX74c7733Hnr06IHIyEjY2dmJ3vetW7fQpEkTeHt7Izo6mrfhkMngCCURERmV4qOD9LmO8nFKpRIRERHo06cPgoKCsHXrVgDAhAkTEB0djf3798PX1xd37twpdZt5BWok37qHP1R3kXzrHvIK1P95jlarxdChQ2FtbY3Vq1czTJJJ4S5vIiIyKlWqVEH16tUNFiiB/4VKAOjfvz82btyIXr16oXv37jh8+DC6d+8OLy8v/Prrr2jUqNFT20i9k4PIBBViL2VAlZ2Px6cDZQCc7W3h6+qEQa2cUb9aRXz55Zc4ePAg9u3bB0dHR+nfJJGIOOVNRERGp3379qhatSo2b95s0DrUajUGDx6MLVu24Oeffy45vkelUqFbt264fv06tm7dinbt2pW85np2PkK2JSEuLRMKuQwa7bO/Zosfb/KKFfaGDseU0UPx+eefS/6+iMTGKW8iIjI6+j466FmUSiXWrVuH3r17o1+/fti2bRsAwNnZGb///jtatmyJzp07l5xlGZWogt/iQ4i/kgUAzw2Tjz9+9s5DvDpiORoHjJHw3RBJh1PeRERkdBo1aoTvv/8eRUVFsLKyMmgtxaFSEAT069cPmzZtQs+ePVG5cmX8+uuvePfddzFs2DBsS3mAPzSvvVwncgUABT6OPo+7D9SY6Ftf1PdAJDWOUBIRkdFxc3ODWq1GWlqaoUsB8ChURkZGIjAwEH379sX27dsBAFZWVli1ahWGzP7u5cPkvyzam4KNiSpR2iLSFwZKIiIyOsUbXfR9wPnzKJVKrF+/viRURkdHAwBu3H2ABE1tAOJtSZgVk4zr2fmitUckNQZKIiIyOq+88grs7e2NYh3l4x4fqezTpw+io6MRsi0Jaq2AR3u3xaHWCgjZliRae0RSY6AkIiKjI5PJjGZjzr9ZWVkhMjISPXv2xICxUxCXlvnCzTdlpdEKiEvLRFpGjqjtEkmFgZKIiIySIe70Li0rKyusX78ejQPfhaCV5ipGhVyGdce4lpJMAwMlEREZJTc3N1y8eFHyu7NflpWVFcrVexMyuUKS9jVaAbEpGZK0TSQ2BkoiIjJKjRo1wsOHD3Ht2jVDl/JUuQVqXM9+IGkfqqz8p17TSGRsGCiJiMgoGfpO7xe5lpUn4r7upxMApGflSdwLke4YKImIyCi99tprqFChgtEGykK11qz6IdIFAyURERklmUwGNzc3o92YY63Uz1eovvoh0gX/lhIRkdEy1qODAKCOg52IJ08+neyffoiMHQMlEREZreKjgwRB6tWKZWdno4Szva2kfTg72MLORilpH0RiYKAkIiKj5ebmhpycHNy8edPQpTyVr6sTFHJpxikVchl8GzhJ0jaR2BgoiYjIaBnjnd6PG9TKWfRbcopptAIGezlL0jaR2BgoiYjIaNWpUwc2NjZGu46yfrWK8HFxFH2UUiGXwcfFES5OFUVtl0gqDJRERGS0FAoFGjZsaLSBEgBCAz2gFDlQKuUyhAZ6iNomkZQYKImIyKgZ89FBAFDL3hZz/d1FbXOevztqSbzhh0hMDJRERGTUjPnooGJBns6Y2rGBbo38s5N9WkdX9Pfk2kkyLQyURERk1Bo1aoSsrCz89ddfhi7luSb61sf/9fKAjVJe5jWVcgjQqgsRVE+DCb4uElVIJB0GSiIiMmrGfqf344I8nbF/Sht413MAgBcGS0GrAQB4u7yCRle3YPXHo5CRkSF5nURiY6AkIiKj5uLiAqVSadTrKB9Xy94WESNbYd/kdzCkVW3UdrD9z406MgC17cvD8e55/BX+HgbXvIvwFV8DAMaMGfPUg9zzCtRIvnUPf6juIvnWPeQVqKV/M0SlJBOM8foBIiKix7i5uaFDhw745ptvDF3KS8krUCM9Kw+Fai2slXLUcbCDnY0SBQUF6Nu3L/bu3Yvo6Gg8ePAAgYGBWL16NYYPH47UOzmITFAh9lIGVNn5ePwLWwbA2d4Wvq5OGNTKGfWr8YghMhwGSiIiMnq9e/fGvXv3sH//fkOXIrqCggL06dMH+/btQ3R0NKKiorBt72H4zfwRJ27mQSGXPffw9OLHfVwcERrowd3hZBCc8iYiIqNXfKe3ObKxscHmzZvh5+eHgIAAOHn1ROWBi3Dixn0AeOFNPMWPx1/Jgt/iQ4hKVEleM9G/MVASEZHRc3Nzw61bt3Dv3j1DlyIJGxsbbNmyBU0GTMfGdCVkSitApihTGxqtgAK1FjO2JmFZbKpElRI9HQMlEREZPWO/01sM287eQcarrf75X7rdvLNobwo2cqSS9IiBkoiIjJ6rqytkMplJHB30Mq5n52N2TLKobc6KScb17HxR2yR6FgZKIiIyeuXLl0fdunXNdoQyZFsS1C9YK1lWaq2AkG1JorZJ9CwMlEREZBLc3NzMcoQy9U4O4tIyX7j5pqw0WgFxaZlIy8gRtV2ip2GgJCIik2AKd3q/jMgEVZmvaiwthVyGdce4lpKkx0BJREQmoVGjRrh27Rry8vIMXYqoYi9liD46WUyjFRCbwqscSXoMlEREZBLc3NwgCAIuXbpk6FJEk1ughkrijTOqrHxe00iSY6AkIiKT4ObmBsC8jg66lpUHqa+rEwCkZ5nXqC4ZHwZKIiIyCZUqVULNmjXNah1loVprVv2Q5WKgJCIik2FuG3Oslfr5GtZXP2S5+DeMiIhMhpubm1lNeddxsNPxTpwXk/3TD5GUGCiJiMhkNGrUCGlpaSgsLDR0KaKws1HC2d5W0j6cHWxhZ6OUtA8iBkoiIjIZjRo1gkajQWpqqqFLEY2vq5Ok51D6NnCSpG2ixzFQEhGRySje6W1O6ygHtXKW9BzKwV7OkrRN9DgGSiIiMhmOjo545ZVXzGodZf1qFeHj4ij6KKVCLoOPiyNcnCqK2i7R0zBQEhGRSTHHO71DAz2gFDlQKuUyhAZ6iNom0bMwUBIRkUkxt6ODAKCWvS3m+ruL2uY8f3fUknjDD1ExBkoiIjIpbm5uSElJgVptXtcJBnk6Y2rHBro1Ijxaizmtoyv6e3LtJOkPAyUREZmURo0aoaCgAFevXjV0KaKb6Fsf/9fLAzZKeZnXVCpkgKApRNOHSZjg6yJRhURPx0BJREQmpVGjRgDM607vxwV5OmP/lDbwrucAAC8MlsWPe7/uiNE17iBmyUzs27dP8jqJHicTBEHqe+mJiIhEIwgCqlSpgpkzZ2LGjBmGLkdSqXdyEJmgQmxKBlRZ+Xj8C1uGR4eW+zZwwmAvZ7g4VYRWq0XHjh1x8eJFJCUloWrVqoYqnSwMAyUREZmc1q1bo0GDBggPDzd0KXqTV6BGelYe5n4WitSL5/H7rm1PvQHn+vXr8PDwQLdu3RAZGWmASskSccqbiIhMjjkeHfQidjZKuNeoDGdbDR7cSn3mdYq1atXC8uXLsX79evz88896rpIsFQMlERGZnEaNGuHChQvQarWGLkXvKlWqhPv37z/3OQMHDkTfvn0xbtw43Lp1S0+VkSVjoCQiIpPTqFEj5OXl4caNG4YuRe9KEyhlMhm+++47lCtXDiNGjABXt5HUGCiJiMjkmOOd3qVVqVIl5OXlvfAcTgcHB/z444/Ys2cPwsLC9FQdWSoGSiIiMjm1a9dG+fLlcSb5IpJv3cMfqrtIvnUPeQXmddj501SqVAkAkJOT88LndunSBWPHjsWHH36I1NRUqUsjC8Zd3kREZFKKj9JZe+AktOXtAdn/zmmUAXC2t4WvqxMGtXJG/WoVDVeoRPbt24eOHTsiPT0dtWvXfuHzc3Nz0axZM7zyyiuIi4uDUvn0zTxEuuAIJRERmYTr2fkY8mMCOiw5jIiEa9DaOjwRJgFAAHAtOx8RCdfQYclhDPkxAdez8w1TsESKRyhftI6yWIUKFRAREYHjx49j4cKFUpZGFoyBkoiIjF5Uogp+iw8h/koWAECjff7kWvHj8Vey4Lf4EKISVZLXqC9lDZTAo3M7Z8yYgTlz5uDUqVNSlUYWjIGSiIiM2rLYVMzYmoQCtfaFQfLfNFoBBWotZmxNwrJY81hD+DKBEgBmz54NDw8PDBkyBA8fPpSiNLJgDJRERGS0ohJVWLQ3RZS2Fu1NwUYzGKl82UBpbW2NiIgIXL58GR9//LEUpZEFY6AkIiKjdD07H7NjkkVtc1ZMssmvqbSzs4NMJsO9e/fK/Fp3d3csWLAAixcvxm+//SZ+cWSxGCiJiMgohWxLgrqMU9wvotYKCNmWJGqb+iaXy1GxYsUyj1AWmzJlCt555x0MGzbspUIp0dMwUBIRkdFJvZODuLTMMq+ZfBGNVkBcWibSMl58hqMxq1y58ksHSrlcjvDwcNy9exfvv/++yJWRpWKgJCIioxOZoIJCLnvxE1+CQi7DumOmvZayNNcvPk/t2rXxzTffIDw8HNu2bROxMrJUDJRERGR0Yi9liD46WUyjFRCbkiFJ2/qia6AEgGHDhqFnz54YM2YM7ty5I1JlZKkYKImIyKjkFqihknjjjCor36SvaRQjUMpkMoSFhUEul2P06NHgxXmkCwZKIiIyKtey8iB1tBEApGflSdyLdMQIlADg5OSEVatW4ZdffsHq1atFqIwsFQMlEREZlUK11qz6kUKlSpVE26Ht7++PESNGYPLkybhy5YoobZLlYaAkIiKjYq3Uz1eTvvqRglgjlMUWL14MR0dHDBs2DBqNRrR2yXKY7r8mIiIyS3Uc7CDN/u7/kf3Tj6nS5digp6lUqRLWrl2LI0eO4OuvvxatXbIcDJRERGRU7GyUcLa3lbQPZwdb2NkoJe1DSmKPUAKAj48Ppk6dik8++QRnz54VtW0yfwyURERkdHxdnSQ9h9K3gZMkbetLpUqVkJubK/r09Lx589CgQQMMGTIEBQUForZN5o2BkoiIjM6gVs6SnkM52MtZkrb1pVKlSgCA3NxcUdstV64c1q1bhwsXLmD27Nmitk3mjYGSiIiMTv1qFeHj4ij6KKVCLoOPiyNcnCqK2q6+FQdKsae9AaBp06aYN28evvjiC/z++++it0/miYGSiIiMUmigB5QiBkpBECBo1JjTvaFobRpKcaAU6+igf5s2bRq8vb0xdOhQ5OSY9r3npB8MlEREZJRq2dtirr+7aO3JZDJk7/sew3p3M/mrBitXrgxAmhFKAFAoFAgPD0dGRgY+/PBDSfog88JASURERivI0xlTOzYQpa1pHV2xe/ksXL58GS1atMCJEydEadcQpJzyLvb6669j8eLFWLVqFXbs2CFZP2QeGCiJiMioTfStj//r5QEbpbzMayoVchlslHIs7OWBCb4u8PLywokTJ1CjRg34+Phg3bp1ElUtLX0ESgAYNWoUunXrhlGjRuGvv/6StC8ybQyURERk9II8nbF/Sht413MAgBcGy+LHves5YP+UNujv+b9d3TVr1sShQ4fQv39/DBkyBNOmTTO522EqVKgAQPpAKZPJ8MMPP0CtVmPcuHEQBKlvWSdTZbqnuhIRkUWpZW+LiJGtkHonB5EJKsSmZECVlY/HI44Mjw4t923ghMFezs/czV2uXDn89NNPaNasGaZOnYqkpCRs2LABVatW1ct70ZVcLkfFihUlD5QA8OqrryIsLAx9+vRBREQEhg4dKnmfZHpkAn9uEBGRicorUCM9Kw+Fai2slXLUcbAr8w04+/fvR79+/eDg4IDo6Gg0atRIomrF9dprr2HkyJGYO3euXvobOnQooqOjkZSUBGdn0z7Hk8THKW8iIjJZdjZKuNeojObOVeFeo/JLXafo5+eHxMRElCtXDl5eXoiJiZGgUvFJcf3i83zzzTeoXLkygoODodVq9dYvmQYGSiIisnivv/46jh49Cj8/PwQEBOCzzz4z+vWClStX1mugrFKlCn766SfExsbim2++0Vu/ZBoYKImIiPBoo8vmzZsxd+5cfPrpp+jbt6/oVxuKSd8jlADQvn17vP/++5gxYwbOnz+v177JuHENJRER0b9s374dQ4YMQd26dREdHY26desauqT/6Nu3L+7fv489e/botd8HDx7gzTffRPny5XH06FFYW1vrtX8yThyhJCIi+peePXvi2LFjyM/Ph6enJw4ePGjokv7DECOUAFC+fHlERETg7Nmz+Oyzz/TePxknBkoiIqKncHd3x/Hjx/HGG2+gY8eO+Pbbb41qXaWhAiUAvPnmm5g1axZCQ0ORkJBgkBrIuDBQEhERPYO9vT127tyJ999/H++99x5GjhyJgoICQ5cF4FGgvHfvnsH6nzlzJt58800MGTIEeXl5BquDjAMDJRER0XMolUp89dVXCA8Px/r169G2bVvcvn3b0GUZdIQSePTnEhERgRs3bmD69OkGq4OMAwMlERFRKQwdOhRxcXFQqVRo0aKFwad6K1eujJycHIOeCdmgQQN8+eWXWLFihd43B5FxYaAkIiIqJU9PT5w4cQK1a9fGO++8g/DwcIPVUqlSJQAw+NFG48ePR8eOHTF8+HBkZ2cbtBYyHAZKIiKiMqhevTpiY2MxZMgQBAcHY8qUKVCr1XqvozhQGnLaGwBkMhlWr16Nhw8fYsKECU99Tl6BGsm37uEP1V0k37qHvAL9/3mRtMp+RxUREZGFs7GxwapVq9CsWTNMnjwZSUlJ2LhxIxwcHPRWg7EESgCoWbMmVqxYgQEDBiAgIABBQUFIvZODyAQVYi9lQJWdj8f3x8sAONvbwtfVCYNaOaN+tYqGKp1EwoPNiYiIdPDbb7+hT58+qFy5MqKjo9G4cWO99Hvu3Dl4eHjg6NGj8PLy0kufLzJgwADsOXIS7Wf8gMTrOVDIZdBonx0zih/3cXFEaKAHatnb6rFaEhOnvImIiHTQtm1bnDhxAhUqVICXlxe2bt2ql36LRygNeXTQv/mNnYWK/RciUfWopueFyccfj7+SBb/FhxCVqJK8RpIGAyUREZGO6tSpg/j4eHTt2hW9e/fGnDlzJN99bUxT3gCwLDYV8/dcgUxpDcjKFi80WgEFai1mbE3CsthUiSokKXENJRERkQjs7OywceNGNGvWDJ988gnOnDmDtWvXomJFadYHFrdrDIEyKlGFRXtTRGlr0d4UvFLBBv09nUVpj/SDI5REREQikclkCAkJQUxMDA4cOIDWrVvj8uXLkvSlUChQoUIFgwfK69n5mB2TLGqbs2KScT07X9Q2SVoMlERERCLr3r07EhISUFhYCE9PT+zbt0+Sfgx9Ww4AhGxLgvoFayXLSq0VELItSdQ2SVoMlERERBJwc3PD8ePH0apVK3Tu3BmLFy+G2AerGDpQpt7JQVxa5gs335SVRisgLi0TaRk5orZL0mGgJCIikkiVKlWwY8cOTJ06FR988AGGDRuGBw8eiNa+oQNlZIIKCrlMkrYVchnWHeOub1PBQElERCQhhUKBhQsXIjIyEps2bUKbNm1w8+ZNUdquVKmSQY8Nir2UIfroZDGNVkBsSoYkbZP4GCiJiIj0YODAgfj9999x+/ZttGjRAvHx8Tq3WblyZYONUOYWqKGSeOOMKiuf1zSaCAZKIiIiPXnzzTdx4sQJuLi4oG3btvjxxx91as+QU97XsvIg9VV7AoD0rDyJeyExMFASERHpUbVq1XDgwAGMGDECo0aNwqRJk1BUVPRSbRkyUBaqpT24Xd/9kG4YKImIiPTM2toa33//Pb777jt8//336NixIzIzM8vcjiEDpbVSPxFCX/2Qbvj/EhERkYGMGzcOBw8eRHJyMlq0aIEzZ86U6fXlKlZGnlVV/KG6i+Rb9/S63rCOgx2k2d/9P7J/+iHjJxPEPhSLiIiIykSlUiEwMBAXL17EmjVr0Ldv32c+N/VODiITVIi9lIFr2XnAY7FOBsDZ3ha+rk4Y1MoZ9atJc+1jsTZfxuKahBtzajvY4tBUX8naJ/FwhJKIiMjAnJ2dERcXh4CAAPTr1w+ffPIJtNon1w5ez87HkB8T0GHJYUQkXPsnyD05RigAuJadj4iEa+iw5DCG/Jgg6RWGvq5Okp5D6dvASZK2SXwMlEREREbA1tYWkZGRWLhwIUJDQxEQEFByxmRUogp+iw8h/koWALzw7Mfix+OvZMFv8SFEJUpzQPigVs6SnkM52MtZkrZJfJzyJiIiMjK7du3CgAEDUL16dfSf9xPWnMrSuc2pHRtgom99Eap70pAfExB/JUvUYKmQy+BdzwERI1uJ1iZJiyOURERERqZLly44fvw41LVbihImAWDR3hRslGCkMjTQA0qRp72VchlCAz1EbZOkxUBJRERkhMo7vga5ZxAg4kTirJhk0ddU1rK3xVx/d1HbnOfvjlr2tqK2SdJioCQiIjJCIduSoNYKgEy80T+1VkDItiTR2isW5OmMqR0b6NRG8Qq8aR1d0d+TaydNDQMlERGRkUm9k4O4tEzRN7xotALi0jKRlpEjarsAMNG3Pv6vlwdslPIy7/xWyGWQadWw+uNnBLesLnptJD0GSiIiIiMTmaCS9Diedcek2fUd5OmM/VPawLueQ0lfL6oFALzrOWBN39dxK24zpkyZIkltJC3u8iYiIjIy5nBgeMkB7CkZUGXl4/GwIQPg7GAL3wZOGOzlDBenRwew//DDDxg9ejQ2b96M3r17S1ofiYuBkoiIyIjkFqjhMWcPpPxylgE4N6cT7GyUEvbyP3kFaqRn5aFQrYW1Uo46DnZP7VsQBPTt2xcHDx7EmTNnUKtWLb3UR7rjlDcREZERuZaVJ2mYBB7dqJOelSdxL/9jZ6OEe43KaO5cFe41Kj8zyMpkMqxatQoVKlTA4MGDodFo9FYj6YaBkoiIyIgUqrUvfpIJ9VNWVatWRWRkJH7//Xd8/vnnhi6HSomBkoiIyIhYK/Xz1ayvfl6Gj48PPv74Y8yZMwdHjx41dDlUCsb7t4mIiMgC1XGwgzT7u/9H9k8/xmzWrFlo2bIlBg4cWHKnORkvBkoiIiIjYmejhLPEt8Q4O9jqbUPOy1IqlVi/fj2ys7Px7rvvgnuIjRsDJRERkZHxdXWS9BxK3wZOkrQttjp16iAsLAwbNmxARESEocuh52CgJCIiMjKDWjmLfktOMY1WwGAv07naMCgoCMOGDcOECROQlpZm6HLoGRgoiYiIjEz9ahXh4+Io+iilQi6Dj4tjyUHipuLbb7/Fq6++igEDBqCwsNDQ5dBTMFASEREZodBADyhFDpRKuQyhgR6itqkPFStWxIYNG3D69GnMmjXL0OXQUzBQEhERGaFa9raY6+8uapvz/N1RS+INP1Jp0aIFFixYgC+++AIHDhwwdDn0L7x6kYiIyIgti03For0pOrczraMrJvi6iFCR4Wi1WnTs2BHnz5/H2bNn4ejoaOiS6B8MlEREREYuKlGF2THJUGuFMm3WUchlUMplmOfvjv6eprMR53lu3bqFJk2awNvbG9HR0ZDJpD61k0qDgZKIiMgEXM/OR8i2JMSlZUIhlz03WBY/7uPiiNBAD5Od5n6WX375Bf7+/li+fDnGjx9v6HIIDJREREQmJfVODiITVIhNyYAqKx+Pf4nL8OjQct8GThjs5Wxyu7nLYuLEifjxxx+RmJiIxo0bG7oci8dASUREZKLyCtRIz8pDoVoLa6UcdRzsjP4GHLE8ePAALVu2hCAISExMRPny5Q1dkkVjoCQiIiKTdO7cOXh6emLkyJFYtmyZocuxaDw2iIiIiExS48aN8dVXX2H58uWIiYkxdDkWjSOUREREZLIEQUDPnj1x5MgRnD17FjVq1DB0SRaJgZKIiIhMWmZmJpo2bQo3Nzfs3bsXcjknYPWNf+JERERk0hwdHbF27VocPHgQixYtMnQ5FokjlERERGQWZsyYga+++grx8fHw9PQ0dDkWhYGSiIiIzEJRURHeeust3L17F6dOnULFiuZ7Dqex4ZQ3ERERmQUrKyusX78ef/75JyZNmmTociwKAyURERGZDRcXFyxfvhzh4eHYsGGDocuxGJzyJiIiIrMiCAIGDx6MHTt24PTp06hbt66hSzJ7DJRERERkdu7du4dmzZqhevXqOHz4MJRKy7iS0lA45U1ERERmp3Llyli/fj2OHz+OefPmGbocs8dASURERGapdevWmDNnDhYsWIDDhw8buhyzxilvIiIiMlsajQbt2rXDlStXcPbsWVStWtXQJZkljlASERGR2VIoFFi3bh3y8vIwevRocBxNGgyUREREZNZq1aqFH374AVu2bMEPP/xg6HLMEqe8iYiIyCKMHTsWEREROHXqFBo2bGjocswKAyURERFZhLy8PLRo0QLlypXDsWPHYGNjY+iSzAanvImIiMgi2NnZYcOGDTh//jxmzpxp6HLMCgMlERERWYxmzZph4cKFWLx4MXbv3m3ocswGp7yJiIjIogiCgG7duuHkyZM4e/YsqlWrZuiSTB5HKImIiMiiyGQy/PTTT5DJZAgODoZWqzV0SSaPgZKIiIgsTrVq1RAeHo7du3dj6dKlhi7H5HHKm4iIiCzWhx9+iG+//RYJCQlo3ry5ocsxWQyUREREZLEKCgrQunVr5Ofn4+TJk7CzszN0SSaJU95ERERksWxsbLBhwwZcv34dU6ZMMXQ5JouBkoiIiCyaq6srli5dilWrVmHz5s2GLsckccqbiIiILJ4gCOjXrx/279+Ps2fPolatWoYuyaQwUBIREREBuHv3Lpo2bYq6devi4MGDUCgUhi7JZHDKm4iIiAhA1apVERkZid9//x2hoaHPfF5egRrJt+7hD9VdJN+6h7wCtR6rNE4coSQiIiJ6zOzZs7FgwQIcPnwY3t7eAIDUOzmITFAh9lIGVNn5eDw8yQA429vC19UJg1o5o361igap25AYKImIiIgeo1ar0aZNG9y6dQs7fjuG/9ufjri0TCjkMmi0z45NxY/7uDgiNNADtext9Vi1YTFQEhEREf1Leno6PIPeR4U2IyBXWj03SP6bQi6DUi7DXH93BHk6S1il8eAaSiIiIqJ/2XG1CHa+Y6CVKcoUJgFAoxVQoNZixtYkLItNlahC48JASURERPSYqEQVFu1NAQDIZDKd2lq0NwUbE1VilGXUGCiJiIiI/nE9Ox+zY5JFbXNWTDKuZ+eL2qaxYaAkIiIi+kfItiSoyzjF/SJqrYCQbUmitmlsGCiJiIiI8OhooLi0zDKvmXwRjVZAXFom0jJyRG3XmDBQEhEREQGITFBBIddtzeSzKOQyrDtmvmspGSiJiIiIAMReyhB9dLKYRisgNiVDkraNAQMlERERWbzcAjVUEm+cUWXlm+01jQyUREREZPGuZeVB6pteBADpWXkS92IYDJRERERk8QrVWrPqR98YKImIiMjiWSv1E4n01Y++mee7IiIiIiqDOg52kGZ/9//I/unHHDFQEhERkcWzs1HC2d5W0j6cHWxhZ6OUtA9DYaAkIiIiAuDr6iTpOZS+DZwkadsYMFASERERARjUylnScygHezlL0rYxYKAkIiIiAlC/WkX4uDiKPkqpkMvg4+IIF6eKorZrTBgoiYiIiP4RGugBpciBUimXITTQQ9Q2jQ0DJREREdE/atnbYq6/u6htzvN3Ry2JN/wYGgMlERER0WOCPJ0xtWMDUdqa1tEV/T3Nd+1kMZkgCFLfNERERERkcqISVZgdkwy1VijTZh2FXAalXIZ5/u4WESYBBkoiIiKiZ7qenY+QbUmIS8uEQi57brAsftzHxRGhgR5mP839OAZKIiIiohdIvZODyAQVYlMyoMrKx+PhSYZHh5b7NnDCYC9ns97N/SwMlERERERlkFegRnpWHgrVWlgr5ajjYGe2N+CUFgMlEREREemEu7yJiIiISCcMlERERESkEwZKIiIiItIJAyURERER6YSBkoiIiIh0wkBJRERERDphoCQiIiIinTBQEhEREZFOGCiJiIiISCcMlERERESkEwZKIiIiItIJAyURERER6YSBkoiIiIh0wkBJRERERDphoCQiIiIinTBQEhEREZFOGCiJiIiISCcMlERERESkEwZKIiIiItIJAyURERER6YSBkoiIiIh0wkBJRERERDphoCQiIiIinTBQEhEREZFOGCiJiIiISCcMlERERESkEwZKIiIiItIJAyURERER6YSBkoiIiIh0wkBJRERERDphoCQiIiIinTBQEhEREZFOGCiJiIiISCcMlERERESkEwZKIiIiItIJAyURERER6YSBkoiIiIh08v96Kko6fXUCRQAAAABJRU5ErkJggg==",
      "text/plain": [
       "<Figure size 640x480 with 1 Axes>"
      ]
     },
     "metadata": {},
     "output_type": "display_data"
    }
   ],
   "source": [
    "distance_matrix = []\n",
    "dicts = []\n",
    "\n",
    "for val in split:\n",
    "    G=nx.Graph()\n",
    "    G.add_nodes_from(val[0].split(\" \"))\n",
    "    G.add_edges_from(val[1:])\n",
    "    nx.draw(G)\n",
    "    distance_matrix.append(nx.floyd_warshall_numpy(G))\n"
   ]
  },
  {
   "cell_type": "code",
<<<<<<< HEAD
   "execution_count": 25,
=======
   "execution_count": null,
>>>>>>> 7eb8757 (changes)
   "metadata": {},
   "outputs": [
    {
     "data": {
      "text/plain": [
       "[array([[0., 1., 2., 1., 3., 4., 4., 4., 3., 5., 4.],\n",
       "        [1., 0., 1., 2., 2., 3., 3., 3., 2., 4., 3.],\n",
       "        [2., 1., 0., 1., 1., 2., 2., 2., 1., 3., 2.],\n",
       "        [1., 2., 1., 0., 2., 3., 3., 3., 2., 4., 3.],\n",
       "        [3., 2., 1., 2., 0., 1., 3., 3., 2., 4., 3.],\n",
       "        [4., 3., 2., 3., 1., 0., 4., 4., 3., 5., 4.],\n",
       "        [4., 3., 2., 3., 3., 4., 0., 2., 1., 3., 2.],\n",
       "        [4., 3., 2., 3., 3., 4., 2., 0., 1., 3., 2.],\n",
       "        [3., 2., 1., 2., 2., 3., 1., 1., 0., 2., 1.],\n",
       "        [5., 4., 3., 4., 4., 5., 3., 3., 2., 0., 1.],\n",
       "        [4., 3., 2., 3., 3., 4., 2., 2., 1., 1., 0.]]),\n",
       " array([[0., 1., 2., 1., 2., 3., 4., 4., 3., 5., 4.],\n",
       "        [1., 0., 1., 2., 3., 4., 3., 3., 2., 4., 3.],\n",
       "        [2., 1., 0., 1., 2., 3., 2., 2., 1., 3., 2.],\n",
       "        [1., 2., 1., 0., 1., 2., 3., 3., 2., 4., 3.],\n",
       "        [2., 3., 2., 1., 0., 1., 4., 4., 3., 5., 4.],\n",
       "        [3., 4., 3., 2., 1., 0., 5., 5., 4., 6., 5.],\n",
       "        [4., 3., 2., 3., 4., 5., 0., 2., 1., 3., 2.],\n",
       "        [4., 3., 2., 3., 4., 5., 2., 0., 1., 3., 2.],\n",
       "        [3., 2., 1., 2., 3., 4., 1., 1., 0., 2., 1.],\n",
       "        [5., 4., 3., 4., 5., 6., 3., 3., 2., 0., 1.],\n",
       "        [4., 3., 2., 3., 4., 5., 2., 2., 1., 1., 0.]])]"
      ]
     },
     "execution_count": 25,
     "metadata": {},
     "output_type": "execute_result"
    }
   ],
   "source": [
    "distance_matrix"
   ]
  },
  {
   "cell_type": "code",
<<<<<<< HEAD
   "execution_count": 26,
=======
   "execution_count": null,
>>>>>>> 7eb8757 (changes)
   "metadata": {},
   "outputs": [],
   "source": [
    "import pickle\n",
    "with open('/Users/sathviknallamalli/Downloads/distance3.pkl', 'wb') as f:\n",
    "    pickle.dump(distance_matrix, f)"
   ]
  },
  {
   "cell_type": "code",
   "execution_count": null,
   "metadata": {},
   "outputs": [
    {
     "name": "stdout",
     "output_type": "stream",
     "text": [
      "        jumps                    \n",
      "  ________|______________         \n",
      " |        |             over     \n",
      " |        |              |        \n",
      " |       fox            dog      \n",
      " |    ____|_____      ___|____    \n",
      " .  The quick brown the      lazy\n",
      "\n"
     ]
    },
    {
     "data": {
      "text/plain": [
       "[None]"
      ]
     },
     "execution_count": 22,
     "metadata": {},
     "output_type": "execute_result"
    }
   ],
   "source": [
    "from nltk import Tree\n",
    "\n",
    "\n",
    "en_nlp = spacy.load('en_core_web_sm')\n",
    "\n",
    "doc = en_nlp(\"The quick brown fox jumps over the lazy dog.\")\n",
    "\n",
    "def to_nltk_tree(node):\n",
    "    if node.n_lefts + node.n_rights > 0:\n",
    "        return Tree(node.orth_, [to_nltk_tree(child) for child in node.children])\n",
    "    else:\n",
    "        return node.orth_\n",
    "\n",
    "\n",
    "[to_nltk_tree(sent.root).pretty_print() for sent in doc.sents]"
   ]
  },
  {
   "cell_type": "code",
   "execution_count": 14,
   "metadata": {},
<<<<<<< HEAD
   "outputs": [
    {
     "ename": "AttributeError",
     "evalue": "'str' object has no attribute 'reverse'",
     "output_type": "error",
     "traceback": [
      "\u001b[0;31m---------------------------------------------------------------------------\u001b[0m",
      "\u001b[0;31mAttributeError\u001b[0m                            Traceback (most recent call last)",
      "\u001b[0;32m/var/folders/j3/zx_h8gxs3lq0xz2bx7_s4zvm0000gp/T/ipykernel_20905/933840927.py\u001b[0m in \u001b[0;36m<module>\u001b[0;34m\u001b[0m\n\u001b[0;32m----> 1\u001b[0;31m \u001b[0;34m\"TTCTATAAATAGAAC\"\u001b[0m\u001b[0;34m.\u001b[0m\u001b[0mreverse\u001b[0m\u001b[0;34m(\u001b[0m\u001b[0;34m)\u001b[0m\u001b[0;34m\u001b[0m\u001b[0;34m\u001b[0m\u001b[0m\n\u001b[0m",
      "\u001b[0;31mAttributeError\u001b[0m: 'str' object has no attribute 'reverse'"
     ]
    }
   ],
   "source": []
=======
   "outputs": [],
   "source": [
    "#the previous parser broke with repeats, so here i am, trying again :)\n",
    "\n",
    "import pandas as pd\n",
    "\n",
    "data = pd.read_csv(\"/Users/adityatadimeti/Downloads/ud-annotatrix-corpus (2).conllu\", sep = \"\\t\", header = None)\n",
    "\n",
    "distance_matrix = []\n",
    "indices = [i for i in range(len(data[0])) if data[0][i] == 1]\n",
    "\n",
    "for idx, num in enumerate(indices):\n",
    "    if idx == len(indices)-1:\n",
    "        newdf = data.iloc[num:]\n",
    "    else:\n",
    "        newdf = data.iloc[num:indices[idx+1]]\n",
    "    edges = list(zip(newdf[0],[int(val) if val != \"_\" else \"_\" for val in newdf[6]]))\n",
    "    for tup in edges:\n",
    "        if \"_\" in tup:\n",
    "            edges.remove(tup)\n",
    "\n",
    "    G=nx.Graph()\n",
    "    #G.add_nodes_from(list(newdf[0]))\n",
    "    #print(edges)\n",
    "    G.add_edges_from(edges)\n",
    "    #nx.draw(G)\n",
    "    distance_matrix.append(nx.floyd_warshall_numpy(G))"
   ]
>>>>>>> 7eb8757 (changes)
  },
  {
   "cell_type": "code",
   "execution_count": 15,
   "metadata": {},
   "outputs": [],
<<<<<<< HEAD
=======
   "source": [
    "from numpy import inf\n",
    "\n",
    "for matrix in distance_matrix:\n",
    "    matrix[matrix == inf] = 2*len(matrix)"
   ]
  },
  {
   "cell_type": "code",
   "execution_count": 16,
   "metadata": {},
   "outputs": [],
   "source": [
    "import pickle\n",
    "with open('/Users/adityatadimeti/Desktop/CS 224N/BertInjections/cs224-bert-injection/data/distance_swimmers_second.pkl', 'wb') as f:\n",
    "    pickle.dump(distance_matrix, f)"
   ]
  },
  {
   "cell_type": "code",
   "execution_count": null,
   "metadata": {},
   "outputs": [],
>>>>>>> 7eb8757 (changes)
   "source": []
  }
 ],
 "metadata": {
  "kernelspec": {
   "display_name": ".env",
   "language": "python",
   "name": "python3"
  },
  "language_info": {
   "codemirror_mode": {
    "name": "ipython",
    "version": 3
   },
   "file_extension": ".py",
   "mimetype": "text/x-python",
   "name": "python",
   "nbconvert_exporter": "python",
   "pygments_lexer": "ipython3",
<<<<<<< HEAD
   "version": "3.8.5"
=======
   "version": "3.9.1"
>>>>>>> 7eb8757 (changes)
  },
  "orig_nbformat": 4,
  "vscode": {
   "interpreter": {
    "hash": "00906165c5f8d6a0bc340f99c59b666b177d55c6aa2f51615310b8a5749bc52b"
   }
  }
 },
 "nbformat": 4,
 "nbformat_minor": 2
}
