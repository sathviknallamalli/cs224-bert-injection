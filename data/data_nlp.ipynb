{
 "cells": [
  {
   "cell_type": "code",
   "execution_count": 3,
   "metadata": {},
   "outputs": [],
   "source": [
    "import spacy\n",
    "import networkx as nx\n",
    "\n",
    "\n",
    "en_nlp = spacy.load('en_core_web_sm')\n",
    "\n",
    "doc = en_nlp(\"the hospital admitted the patient with cancer because she required intensive care\")\n",
    "\n",
    "edges = []\n",
    "for tok in doc:\n",
    "    edges.extend([(tok.i, child.i) for child in tok.children])\n",
    "\n",
    "\n",
    "g = nx.Graph()\n",
    "g.add_edges_from(edges)\n",
    "\n",
    "distance_matrix = nx.floyd_warshall_numpy(g)\n",
    "idx_labels = [str(tok) for toc in doc]"
   ]
  },
  {
   "cell_type": "code",
   "execution_count": 4,
   "metadata": {},
   "outputs": [
    {
     "data": {
      "text/html": [
       "<span class=\"tex2jax_ignore\"><svg xmlns=\"http://www.w3.org/2000/svg\" xmlns:xlink=\"http://www.w3.org/1999/xlink\" xml:lang=\"en\" id=\"6f453aee75d149eebc18d4b8831b5d04-0\" class=\"displacy\" width=\"2150\" height=\"399.5\" direction=\"ltr\" style=\"max-width: none; height: 399.5px; color: #000000; background: #ffffff; font-family: Arial; direction: ltr\">\n",
       "<text class=\"displacy-token\" fill=\"currentColor\" text-anchor=\"middle\" y=\"309.5\">\n",
       "    <tspan class=\"displacy-word\" fill=\"currentColor\" x=\"50\">the</tspan>\n",
       "    <tspan class=\"displacy-tag\" dy=\"2em\" fill=\"currentColor\" x=\"50\">DET</tspan>\n",
       "</text>\n",
       "\n",
       "<text class=\"displacy-token\" fill=\"currentColor\" text-anchor=\"middle\" y=\"309.5\">\n",
       "    <tspan class=\"displacy-word\" fill=\"currentColor\" x=\"225\">hospital</tspan>\n",
       "    <tspan class=\"displacy-tag\" dy=\"2em\" fill=\"currentColor\" x=\"225\">NOUN</tspan>\n",
       "</text>\n",
       "\n",
       "<text class=\"displacy-token\" fill=\"currentColor\" text-anchor=\"middle\" y=\"309.5\">\n",
       "    <tspan class=\"displacy-word\" fill=\"currentColor\" x=\"400\">admitted</tspan>\n",
       "    <tspan class=\"displacy-tag\" dy=\"2em\" fill=\"currentColor\" x=\"400\">VERB</tspan>\n",
       "</text>\n",
       "\n",
       "<text class=\"displacy-token\" fill=\"currentColor\" text-anchor=\"middle\" y=\"309.5\">\n",
       "    <tspan class=\"displacy-word\" fill=\"currentColor\" x=\"575\">the</tspan>\n",
       "    <tspan class=\"displacy-tag\" dy=\"2em\" fill=\"currentColor\" x=\"575\">DET</tspan>\n",
       "</text>\n",
       "\n",
       "<text class=\"displacy-token\" fill=\"currentColor\" text-anchor=\"middle\" y=\"309.5\">\n",
       "    <tspan class=\"displacy-word\" fill=\"currentColor\" x=\"750\">patient</tspan>\n",
       "    <tspan class=\"displacy-tag\" dy=\"2em\" fill=\"currentColor\" x=\"750\">NOUN</tspan>\n",
       "</text>\n",
       "\n",
       "<text class=\"displacy-token\" fill=\"currentColor\" text-anchor=\"middle\" y=\"309.5\">\n",
       "    <tspan class=\"displacy-word\" fill=\"currentColor\" x=\"925\">with</tspan>\n",
       "    <tspan class=\"displacy-tag\" dy=\"2em\" fill=\"currentColor\" x=\"925\">ADP</tspan>\n",
       "</text>\n",
       "\n",
       "<text class=\"displacy-token\" fill=\"currentColor\" text-anchor=\"middle\" y=\"309.5\">\n",
       "    <tspan class=\"displacy-word\" fill=\"currentColor\" x=\"1100\">cancer</tspan>\n",
       "    <tspan class=\"displacy-tag\" dy=\"2em\" fill=\"currentColor\" x=\"1100\">NOUN</tspan>\n",
       "</text>\n",
       "\n",
       "<text class=\"displacy-token\" fill=\"currentColor\" text-anchor=\"middle\" y=\"309.5\">\n",
       "    <tspan class=\"displacy-word\" fill=\"currentColor\" x=\"1275\">because</tspan>\n",
       "    <tspan class=\"displacy-tag\" dy=\"2em\" fill=\"currentColor\" x=\"1275\">SCONJ</tspan>\n",
       "</text>\n",
       "\n",
       "<text class=\"displacy-token\" fill=\"currentColor\" text-anchor=\"middle\" y=\"309.5\">\n",
       "    <tspan class=\"displacy-word\" fill=\"currentColor\" x=\"1450\">she</tspan>\n",
       "    <tspan class=\"displacy-tag\" dy=\"2em\" fill=\"currentColor\" x=\"1450\">PRON</tspan>\n",
       "</text>\n",
       "\n",
       "<text class=\"displacy-token\" fill=\"currentColor\" text-anchor=\"middle\" y=\"309.5\">\n",
       "    <tspan class=\"displacy-word\" fill=\"currentColor\" x=\"1625\">required</tspan>\n",
       "    <tspan class=\"displacy-tag\" dy=\"2em\" fill=\"currentColor\" x=\"1625\">VERB</tspan>\n",
       "</text>\n",
       "\n",
       "<text class=\"displacy-token\" fill=\"currentColor\" text-anchor=\"middle\" y=\"309.5\">\n",
       "    <tspan class=\"displacy-word\" fill=\"currentColor\" x=\"1800\">intensive</tspan>\n",
       "    <tspan class=\"displacy-tag\" dy=\"2em\" fill=\"currentColor\" x=\"1800\">ADJ</tspan>\n",
       "</text>\n",
       "\n",
       "<text class=\"displacy-token\" fill=\"currentColor\" text-anchor=\"middle\" y=\"309.5\">\n",
       "    <tspan class=\"displacy-word\" fill=\"currentColor\" x=\"1975\">care</tspan>\n",
       "    <tspan class=\"displacy-tag\" dy=\"2em\" fill=\"currentColor\" x=\"1975\">NOUN</tspan>\n",
       "</text>\n",
       "\n",
       "<g class=\"displacy-arrow\">\n",
       "    <path class=\"displacy-arc\" id=\"arrow-6f453aee75d149eebc18d4b8831b5d04-0-0\" stroke-width=\"2px\" d=\"M70,264.5 C70,177.0 215.0,177.0 215.0,264.5\" fill=\"none\" stroke=\"currentColor\"/>\n",
       "    <text dy=\"1.25em\" style=\"font-size: 0.8em; letter-spacing: 1px\">\n",
       "        <textPath xlink:href=\"#arrow-6f453aee75d149eebc18d4b8831b5d04-0-0\" class=\"displacy-label\" startOffset=\"50%\" side=\"left\" fill=\"currentColor\" text-anchor=\"middle\">det</textPath>\n",
       "    </text>\n",
       "    <path class=\"displacy-arrowhead\" d=\"M70,266.5 L62,254.5 78,254.5\" fill=\"currentColor\"/>\n",
       "</g>\n",
       "\n",
       "<g class=\"displacy-arrow\">\n",
       "    <path class=\"displacy-arc\" id=\"arrow-6f453aee75d149eebc18d4b8831b5d04-0-1\" stroke-width=\"2px\" d=\"M245,264.5 C245,177.0 390.0,177.0 390.0,264.5\" fill=\"none\" stroke=\"currentColor\"/>\n",
       "    <text dy=\"1.25em\" style=\"font-size: 0.8em; letter-spacing: 1px\">\n",
       "        <textPath xlink:href=\"#arrow-6f453aee75d149eebc18d4b8831b5d04-0-1\" class=\"displacy-label\" startOffset=\"50%\" side=\"left\" fill=\"currentColor\" text-anchor=\"middle\">nsubj</textPath>\n",
       "    </text>\n",
       "    <path class=\"displacy-arrowhead\" d=\"M245,266.5 L237,254.5 253,254.5\" fill=\"currentColor\"/>\n",
       "</g>\n",
       "\n",
       "<g class=\"displacy-arrow\">\n",
       "    <path class=\"displacy-arc\" id=\"arrow-6f453aee75d149eebc18d4b8831b5d04-0-2\" stroke-width=\"2px\" d=\"M595,264.5 C595,177.0 740.0,177.0 740.0,264.5\" fill=\"none\" stroke=\"currentColor\"/>\n",
       "    <text dy=\"1.25em\" style=\"font-size: 0.8em; letter-spacing: 1px\">\n",
       "        <textPath xlink:href=\"#arrow-6f453aee75d149eebc18d4b8831b5d04-0-2\" class=\"displacy-label\" startOffset=\"50%\" side=\"left\" fill=\"currentColor\" text-anchor=\"middle\">det</textPath>\n",
       "    </text>\n",
       "    <path class=\"displacy-arrowhead\" d=\"M595,266.5 L587,254.5 603,254.5\" fill=\"currentColor\"/>\n",
       "</g>\n",
       "\n",
       "<g class=\"displacy-arrow\">\n",
       "    <path class=\"displacy-arc\" id=\"arrow-6f453aee75d149eebc18d4b8831b5d04-0-3\" stroke-width=\"2px\" d=\"M420,264.5 C420,89.5 745.0,89.5 745.0,264.5\" fill=\"none\" stroke=\"currentColor\"/>\n",
       "    <text dy=\"1.25em\" style=\"font-size: 0.8em; letter-spacing: 1px\">\n",
       "        <textPath xlink:href=\"#arrow-6f453aee75d149eebc18d4b8831b5d04-0-3\" class=\"displacy-label\" startOffset=\"50%\" side=\"left\" fill=\"currentColor\" text-anchor=\"middle\">dobj</textPath>\n",
       "    </text>\n",
       "    <path class=\"displacy-arrowhead\" d=\"M745.0,266.5 L753.0,254.5 737.0,254.5\" fill=\"currentColor\"/>\n",
       "</g>\n",
       "\n",
       "<g class=\"displacy-arrow\">\n",
       "    <path class=\"displacy-arc\" id=\"arrow-6f453aee75d149eebc18d4b8831b5d04-0-4\" stroke-width=\"2px\" d=\"M770,264.5 C770,177.0 915.0,177.0 915.0,264.5\" fill=\"none\" stroke=\"currentColor\"/>\n",
       "    <text dy=\"1.25em\" style=\"font-size: 0.8em; letter-spacing: 1px\">\n",
       "        <textPath xlink:href=\"#arrow-6f453aee75d149eebc18d4b8831b5d04-0-4\" class=\"displacy-label\" startOffset=\"50%\" side=\"left\" fill=\"currentColor\" text-anchor=\"middle\">prep</textPath>\n",
       "    </text>\n",
       "    <path class=\"displacy-arrowhead\" d=\"M915.0,266.5 L923.0,254.5 907.0,254.5\" fill=\"currentColor\"/>\n",
       "</g>\n",
       "\n",
       "<g class=\"displacy-arrow\">\n",
       "    <path class=\"displacy-arc\" id=\"arrow-6f453aee75d149eebc18d4b8831b5d04-0-5\" stroke-width=\"2px\" d=\"M945,264.5 C945,177.0 1090.0,177.0 1090.0,264.5\" fill=\"none\" stroke=\"currentColor\"/>\n",
       "    <text dy=\"1.25em\" style=\"font-size: 0.8em; letter-spacing: 1px\">\n",
       "        <textPath xlink:href=\"#arrow-6f453aee75d149eebc18d4b8831b5d04-0-5\" class=\"displacy-label\" startOffset=\"50%\" side=\"left\" fill=\"currentColor\" text-anchor=\"middle\">pobj</textPath>\n",
       "    </text>\n",
       "    <path class=\"displacy-arrowhead\" d=\"M1090.0,266.5 L1098.0,254.5 1082.0,254.5\" fill=\"currentColor\"/>\n",
       "</g>\n",
       "\n",
       "<g class=\"displacy-arrow\">\n",
       "    <path class=\"displacy-arc\" id=\"arrow-6f453aee75d149eebc18d4b8831b5d04-0-6\" stroke-width=\"2px\" d=\"M1295,264.5 C1295,89.5 1620.0,89.5 1620.0,264.5\" fill=\"none\" stroke=\"currentColor\"/>\n",
       "    <text dy=\"1.25em\" style=\"font-size: 0.8em; letter-spacing: 1px\">\n",
       "        <textPath xlink:href=\"#arrow-6f453aee75d149eebc18d4b8831b5d04-0-6\" class=\"displacy-label\" startOffset=\"50%\" side=\"left\" fill=\"currentColor\" text-anchor=\"middle\">mark</textPath>\n",
       "    </text>\n",
       "    <path class=\"displacy-arrowhead\" d=\"M1295,266.5 L1287,254.5 1303,254.5\" fill=\"currentColor\"/>\n",
       "</g>\n",
       "\n",
       "<g class=\"displacy-arrow\">\n",
       "    <path class=\"displacy-arc\" id=\"arrow-6f453aee75d149eebc18d4b8831b5d04-0-7\" stroke-width=\"2px\" d=\"M1470,264.5 C1470,177.0 1615.0,177.0 1615.0,264.5\" fill=\"none\" stroke=\"currentColor\"/>\n",
       "    <text dy=\"1.25em\" style=\"font-size: 0.8em; letter-spacing: 1px\">\n",
       "        <textPath xlink:href=\"#arrow-6f453aee75d149eebc18d4b8831b5d04-0-7\" class=\"displacy-label\" startOffset=\"50%\" side=\"left\" fill=\"currentColor\" text-anchor=\"middle\">nsubj</textPath>\n",
       "    </text>\n",
       "    <path class=\"displacy-arrowhead\" d=\"M1470,266.5 L1462,254.5 1478,254.5\" fill=\"currentColor\"/>\n",
       "</g>\n",
       "\n",
       "<g class=\"displacy-arrow\">\n",
       "    <path class=\"displacy-arc\" id=\"arrow-6f453aee75d149eebc18d4b8831b5d04-0-8\" stroke-width=\"2px\" d=\"M420,264.5 C420,2.0 1625.0,2.0 1625.0,264.5\" fill=\"none\" stroke=\"currentColor\"/>\n",
       "    <text dy=\"1.25em\" style=\"font-size: 0.8em; letter-spacing: 1px\">\n",
       "        <textPath xlink:href=\"#arrow-6f453aee75d149eebc18d4b8831b5d04-0-8\" class=\"displacy-label\" startOffset=\"50%\" side=\"left\" fill=\"currentColor\" text-anchor=\"middle\">advcl</textPath>\n",
       "    </text>\n",
       "    <path class=\"displacy-arrowhead\" d=\"M1625.0,266.5 L1633.0,254.5 1617.0,254.5\" fill=\"currentColor\"/>\n",
       "</g>\n",
       "\n",
       "<g class=\"displacy-arrow\">\n",
       "    <path class=\"displacy-arc\" id=\"arrow-6f453aee75d149eebc18d4b8831b5d04-0-9\" stroke-width=\"2px\" d=\"M1820,264.5 C1820,177.0 1965.0,177.0 1965.0,264.5\" fill=\"none\" stroke=\"currentColor\"/>\n",
       "    <text dy=\"1.25em\" style=\"font-size: 0.8em; letter-spacing: 1px\">\n",
       "        <textPath xlink:href=\"#arrow-6f453aee75d149eebc18d4b8831b5d04-0-9\" class=\"displacy-label\" startOffset=\"50%\" side=\"left\" fill=\"currentColor\" text-anchor=\"middle\">amod</textPath>\n",
       "    </text>\n",
       "    <path class=\"displacy-arrowhead\" d=\"M1820,266.5 L1812,254.5 1828,254.5\" fill=\"currentColor\"/>\n",
       "</g>\n",
       "\n",
       "<g class=\"displacy-arrow\">\n",
       "    <path class=\"displacy-arc\" id=\"arrow-6f453aee75d149eebc18d4b8831b5d04-0-10\" stroke-width=\"2px\" d=\"M1645,264.5 C1645,89.5 1970.0,89.5 1970.0,264.5\" fill=\"none\" stroke=\"currentColor\"/>\n",
       "    <text dy=\"1.25em\" style=\"font-size: 0.8em; letter-spacing: 1px\">\n",
       "        <textPath xlink:href=\"#arrow-6f453aee75d149eebc18d4b8831b5d04-0-10\" class=\"displacy-label\" startOffset=\"50%\" side=\"left\" fill=\"currentColor\" text-anchor=\"middle\">dobj</textPath>\n",
       "    </text>\n",
       "    <path class=\"displacy-arrowhead\" d=\"M1970.0,266.5 L1978.0,254.5 1962.0,254.5\" fill=\"currentColor\"/>\n",
       "</g>\n",
       "</svg></span>"
      ],
      "text/plain": [
       "<IPython.core.display.HTML object>"
      ]
     },
     "metadata": {},
     "output_type": "display_data"
    }
   ],
   "source": [
    "spacy.displacy.render(doc, style=\"dep\")"
   ]
  },
  {
   "cell_type": "code",
   "execution_count": 11,
   "metadata": {},
   "outputs": [
    {
     "name": "stdout",
     "output_type": "stream",
     "text": [
      "<generator object <genexpr> at 0x7fbe03d1c850>\n"
     ]
    }
   ],
   "source": [
    "from conllu import parse_incr\n",
    "import pandas as pd\n",
    "from itertools import groupby\n",
    "from ast import literal_eval\n",
    "\n",
    "\n",
    "data_file = open(\"/Users/aakritilakshmanan/Downloads/testing.conllu\", \"r\", encoding=\"utf-8\")\n",
    "data = data_file.read().splitlines()\n",
    "data = [ a[1:] if \"_\" in a else a for a in data]\n",
    "\n",
    "for idx, val in enumerate(data):\n",
    "    if \"(\" in val:\n",
    "        data[idx] = (str(val[val.find(\"(\")+1:val.find(\",\")]), str(val[val.find(\",\")+2:-1]))\n",
    "\n",
    "\n",
    "i = (list(g) for _, g in groupby(data, key=''.__ne__))\n",
    "print(i)\n",
    "split_file = [a + b for a, b in zip(i, i)]\n",
    "\n",
    "split = [list(g) for m, g in groupby(data, key=lambda x: x != \"\") if m]\n"
   ]
  },
  {
   "cell_type": "code",
   "execution_count": 13,
   "metadata": {},
   "outputs": [
    {
     "data": {
      "image/png": "[encoded data removed]",
      "text/plain": [
       "<Figure size 640x480 with 1 Axes>"
      ]
     },
     "metadata": {},
     "output_type": "display_data"
    }
   ],
   "source": [
    "distance_matrix = []\n",
    "dicts = []\n",
    "\n",
    "for val in split:\n",
    "    G=nx.Graph()\n",
    "    G.add_nodes_from(val[0].split(\" \"))\n",
    "    G.add_edges_from(val[1:])\n",
    "    nx.draw(G)\n",
    "    distance_matrix.append(nx.floyd_warshall_numpy(G))\n"
   ]
  },
  {
   "cell_type": "code",
   "execution_count": 14,
   "metadata": {},
   "outputs": [
    {
     "data": {
      "text/plain": [
       "[array([[0., 1., 3., 2., 3., 2., 4., 4., 3., 3., 3., 3., 3., 2., 4., 3.],\n",
       "        [1., 0., 2., 1., 2., 1., 3., 3., 2., 2., 2., 2., 2., 1., 3., 2.],\n",
       "        [3., 2., 0., 1., 4., 3., 5., 5., 4., 4., 4., 4., 4., 3., 5., 4.],\n",
       "        [2., 1., 1., 0., 3., 2., 4., 4., 3., 3., 3., 3., 3., 2., 4., 3.],\n",
       "        [3., 2., 4., 3., 0., 1., 3., 3., 2., 4., 4., 4., 4., 3., 5., 4.],\n",
       "        [2., 1., 3., 2., 1., 0., 2., 2., 1., 3., 3., 3., 3., 2., 4., 3.],\n",
       "        [4., 3., 5., 4., 3., 2., 0., 2., 1., 5., 5., 5., 5., 4., 6., 5.],\n",
       "        [4., 3., 5., 4., 3., 2., 2., 0., 1., 5., 5., 5., 5., 4., 6., 5.],\n",
       "        [3., 2., 4., 3., 2., 1., 1., 1., 0., 4., 4., 4., 4., 3., 5., 4.],\n",
       "        [3., 2., 4., 3., 4., 3., 5., 5., 4., 0., 2., 2., 2., 1., 3., 2.],\n",
       "        [3., 2., 4., 3., 4., 3., 5., 5., 4., 2., 0., 2., 2., 1., 3., 2.],\n",
       "        [3., 2., 4., 3., 4., 3., 5., 5., 4., 2., 2., 0., 2., 1., 3., 2.],\n",
       "        [3., 2., 4., 3., 4., 3., 5., 5., 4., 2., 2., 2., 0., 1., 3., 2.],\n",
       "        [2., 1., 3., 2., 3., 2., 4., 4., 3., 1., 1., 1., 1., 0., 2., 1.],\n",
       "        [4., 3., 5., 4., 5., 4., 6., 6., 5., 3., 3., 3., 3., 2., 0., 1.],\n",
       "        [3., 2., 4., 3., 4., 3., 5., 5., 4., 2., 2., 2., 2., 1., 1., 0.]]),\n",
       " array([[0., 1., 3., 2., 2., 3., 5., 5., 4., 3., 3., 3., 3., 2., 4., 3.],\n",
       "        [1., 0., 2., 1., 1., 2., 4., 4., 3., 2., 2., 2., 2., 1., 3., 2.],\n",
       "        [3., 2., 0., 1., 3., 4., 6., 6., 5., 4., 4., 4., 4., 3., 5., 4.],\n",
       "        [2., 1., 1., 0., 2., 3., 5., 5., 4., 3., 3., 3., 3., 2., 4., 3.],\n",
       "        [2., 1., 3., 2., 0., 1., 3., 3., 2., 3., 3., 3., 3., 2., 4., 3.],\n",
       "        [3., 2., 4., 3., 1., 0., 2., 2., 1., 4., 4., 4., 4., 3., 5., 4.],\n",
       "        [5., 4., 6., 5., 3., 2., 0., 2., 1., 6., 6., 6., 6., 5., 7., 6.],\n",
       "        [5., 4., 6., 5., 3., 2., 2., 0., 1., 6., 6., 6., 6., 5., 7., 6.],\n",
       "        [4., 3., 5., 4., 2., 1., 1., 1., 0., 5., 5., 5., 5., 4., 6., 5.],\n",
       "        [3., 2., 4., 3., 3., 4., 6., 6., 5., 0., 2., 2., 2., 1., 3., 2.],\n",
       "        [3., 2., 4., 3., 3., 4., 6., 6., 5., 2., 0., 2., 2., 1., 3., 2.],\n",
       "        [3., 2., 4., 3., 3., 4., 6., 6., 5., 2., 2., 0., 2., 1., 3., 2.],\n",
       "        [3., 2., 4., 3., 3., 4., 6., 6., 5., 2., 2., 2., 0., 1., 3., 2.],\n",
       "        [2., 1., 3., 2., 2., 3., 5., 5., 4., 1., 1., 1., 1., 0., 2., 1.],\n",
       "        [4., 3., 5., 4., 4., 5., 7., 7., 6., 3., 3., 3., 3., 2., 0., 1.],\n",
       "        [3., 2., 4., 3., 3., 4., 6., 6., 5., 2., 2., 2., 2., 1., 1., 0.]])]"
      ]
     },
     "execution_count": 14,
     "metadata": {},
     "output_type": "execute_result"
    }
   ],
   "source": [
    "distance_matrix"
   ]
  },
  {
   "cell_type": "code",
   "execution_count": 187,
   "metadata": {},
   "outputs": [],
   "source": [
    "import pickle\n",
    "with open('/Users/aakritilakshmanan/Downloads/distance.pkl', 'wb') as f:\n",
    "    pickle.dump(distance_matrix, f)"
   ]
  },
  {
   "cell_type": "code",
   "execution_count": 22,
   "metadata": {},
   "outputs": [
    {
     "name": "stdout",
     "output_type": "stream",
     "text": [
      "        jumps                    \n",
      "  ________|______________         \n",
      " |        |             over     \n",
      " |        |              |        \n",
      " |       fox            dog      \n",
      " |    ____|_____      ___|____    \n",
      " .  The quick brown the      lazy\n",
      "\n"
     ]
    },
    {
     "data": {
      "text/plain": [
       "[None]"
      ]
     },
     "execution_count": 22,
     "metadata": {},
     "output_type": "execute_result"
    }
   ],
   "source": [
    "from nltk import Tree\n",
    "\n",
    "\n",
    "en_nlp = spacy.load('en_core_web_sm')\n",
    "\n",
    "doc = en_nlp(\"The quick brown fox jumps over the lazy dog.\")\n",
    "\n",
    "def to_nltk_tree(node):\n",
    "    if node.n_lefts + node.n_rights > 0:\n",
    "        return Tree(node.orth_, [to_nltk_tree(child) for child in node.children])\n",
    "    else:\n",
    "        return node.orth_\n",
    "\n",
    "\n",
    "[to_nltk_tree(sent.root).pretty_print() for sent in doc.sents]"
   ]
  },
  {
   "cell_type": "code",
   "execution_count": 188,
   "metadata": {},
   "outputs": [
    {
     "ename": "AttributeError",
     "evalue": "'str' object has no attribute 'reverse'",
     "output_type": "error",
     "traceback": [
      "\u001b[0;31m---------------------------------------------------------------------------\u001b[0m",
      "\u001b[0;31mAttributeError\u001b[0m                            Traceback (most recent call last)",
      "\u001b[0;32m/var/folders/j3/zx_h8gxs3lq0xz2bx7_s4zvm0000gp/T/ipykernel_20905/933840927.py\u001b[0m in \u001b[0;36m<module>\u001b[0;34m\u001b[0m\n\u001b[0;32m----> 1\u001b[0;31m \u001b[0;34m\"TTCTATAAATAGAAC\"\u001b[0m\u001b[0;34m.\u001b[0m\u001b[0mreverse\u001b[0m\u001b[0;34m(\u001b[0m\u001b[0;34m)\u001b[0m\u001b[0;34m\u001b[0m\u001b[0;34m\u001b[0m\u001b[0m\n\u001b[0m",
      "\u001b[0;31mAttributeError\u001b[0m: 'str' object has no attribute 'reverse'"
     ]
    }
   ],
   "source": []
  },
  {
   "cell_type": "code",
   "execution_count": null,
   "metadata": {},
   "outputs": [],
   "source": []
  }
 ],
 "metadata": {
  "kernelspec": {
   "display_name": "Python 3.7.15 ('cs224n')",
   "language": "python",
   "name": "python3"
  },
  "language_info": {
   "codemirror_mode": {
    "name": "ipython",
    "version": 3
   },
   "file_extension": ".py",
   "mimetype": "text/x-python",
   "name": "python",
   "nbconvert_exporter": "python",
   "pygments_lexer": "ipython3",
   "version": "3.7.15"
  },
  "orig_nbformat": 4,
  "vscode": {
   "interpreter": {
    "hash": "05f35301a145bcc6631b613e37182670b1ed35648a34016edacd15c8dfa00bf2"
   }
  }
 },
 "nbformat": 4,
 "nbformat_minor": 2
}
