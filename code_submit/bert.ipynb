{
  "cells": [
    {
      "cell_type": "markdown",
      "metadata": {},
      "source": [
        "THIS NOTEBOOK WAS RUN ON COLAB WITH THE T4 GPU TO MAKE THE EXPERIMENTS RUN FASTER"
      ]
    },
    {
      "cell_type": "code",
      "execution_count": null,
      "metadata": {
        "colab": {
          "base_uri": "https://localhost:8080/"
        },
        "id": "sPXlvGFDPeFs",
        "outputId": "bc0a5786-62a4-4c2c-b5d2-52fe5b3b6540"
      },
      "outputs": [
        {
          "name": "stdout",
          "output_type": "stream",
          "text": [
            "Mounted at /content/drive\n"
          ]
        }
      ],
      "source": [
        "from google.colab import drive\n",
        "drive.mount('/content/drive')\n"
      ]
    },
    {
      "cell_type": "code",
      "execution_count": null,
      "metadata": {
        "colab": {
          "base_uri": "https://localhost:8080/",
          "height": 1000,
          "referenced_widgets": [
            "b586303c71a347eb9364b6a4578ac8da",
            "83fdc8feb8fb47c5abcb129161d05531",
            "2924e789584a427690ce6f43d36cd6c4",
            "3a45ff7d052b4c03a618cca572b5eb8a",
            "99f4dc1464ca4f918ec9146c0ae5f73e",
            "77d7797bcf7f4cf7b688db91b8e20cd0",
            "973e2adfc3094e59a724e2d3bb4d1526",
            "750e08dad7b141d2932c0bc494ac3024",
            "9b8d5d4d24f646f5ac2443de836b3983",
            "fd67f837fae84a739934e8e2bb56148f",
            "ba263ffdb03f42a0b65eb657610a4bb7",
            "70c4dc4dc0954042b800d71682fbe2b1",
            "4d842d182752452dace75954ee7c4eca",
            "5c5fa158d857478b8b8b965bca2c3199",
            "10899818977f46da80ca8b57230c6301",
            "7dd5440edd4f4dfabf47f2ec6b48af48",
            "1524b71b0df143baab7c3e8bdf452768",
            "164cd8ed8af840e4a14696c03a2f09a0",
            "3b3d6ae3fb134b56b163a4c54a004d23",
            "d58e8115fcf34bb39018b0bc247a350c",
            "b9f3a9724dd245f99cfe310413bada83",
            "ad9233abe4e84a53880cc7be82f65f84",
            "6f204f00ad3b45fc9ce26c952b6b1c5f",
            "3c0c874186e344768b8e4942610c02b4",
            "836706ebe02544f4bea755b3035b2f00",
            "fd8cf685c88e455aaf825772ff592619",
            "18f8fde824634b15a9eb19025b43709f",
            "aa26e39f3e7a44a7a5f4d38479226101",
            "3d79e76e84fe4fe993c7fd7e69895f36",
            "ebb9b9d61556458083111f7cba084e8b",
            "71989c0442d84c8dbc0489bc88a795db",
            "99c0fddcc38d4c1094ce73630b96cd09",
            "975da98a1089472abc2d6b97d5b9b99b",
            "d05b049c203d4bf3bfef2dce7c379d54",
            "8a078605f0a343e091aa6775ecd2133d",
            "88ba9b043c58468d80fbecb53fcfc390",
            "b820cac9bfa04a4f94cdc6b1d46b53c1",
            "7f91c60d3dfa43baae6e3365973ce017",
            "ab04516190bd4ea5bd9f43f7f2f62d0d",
            "1b1d374648934a36a7025f23575471e1",
            "aabc4c35de064d4ba1d57bbc21894937",
            "12ef92b38aa9443a988f7e619eb51e21",
            "0f38b1916ccd41288eb3507a4bc1ef16",
            "7559a0e1771d4b39a90d4aae9b45dba2",
            "92c81d0885984069bfa67511b0f0d578",
            "4b927922c3c448fb99b03f5ce06202a0",
            "54f46e477348492db14e8b8710838919",
            "08d862f2641b43659c84e86973b490cb",
            "aebedc922b7148359a99f49c31d36be4",
            "ca2dcd2e59ce43759d20fd8db4b2b9f3",
            "259f01fca1e14ea7ba4e88380dc38a28",
            "f1a5c8d5d7184399a354c6a394919a8b",
            "7435929b37024667b7f0203c781ad88c",
            "8216762f9dca401599a11ec2f226d31f",
            "ca3e7d9ba28340d88881d04642fc4c2a"
          ]
        },
        "id": "DXjddfXFChLY",
        "outputId": "572271f0-6d18-4fa9-98e7-21a5bcb94435"
      },
      "outputs": [
        {
          "name": "stderr",
          "output_type": "stream",
          "text": [
            "/usr/local/lib/python3.10/dist-packages/huggingface_hub/utils/_token.py:88: UserWarning: \n",
            "The secret `HF_TOKEN` does not exist in your Colab secrets.\n",
            "To authenticate with the Hugging Face Hub, create a token in your settings tab (https://huggingface.co/settings/tokens), set it as secret in your Google Colab and restart your session.\n",
            "You will be able to reuse this secret in all of your notebooks.\n",
            "Please note that authentication is recommended but still optional to access public models or datasets.\n",
            "  warnings.warn(\n"
          ]
        },
        {
          "data": {
            "application/vnd.jupyter.widget-view+json": {
              "model_id": "b586303c71a347eb9364b6a4578ac8da",
              "version_major": 2,
              "version_minor": 0
            },
            "text/plain": [
              "tokenizer_config.json:   0%|          | 0.00/29.0 [00:00<?, ?B/s]"
            ]
          },
          "metadata": {},
          "output_type": "display_data"
        },
        {
          "data": {
            "application/vnd.jupyter.widget-view+json": {
              "model_id": "70c4dc4dc0954042b800d71682fbe2b1",
              "version_major": 2,
              "version_minor": 0
            },
            "text/plain": [
              "vocab.txt:   0%|          | 0.00/213k [00:00<?, ?B/s]"
            ]
          },
          "metadata": {},
          "output_type": "display_data"
        },
        {
          "data": {
            "application/vnd.jupyter.widget-view+json": {
              "model_id": "6f204f00ad3b45fc9ce26c952b6b1c5f",
              "version_major": 2,
              "version_minor": 0
            },
            "text/plain": [
              "tokenizer.json:   0%|          | 0.00/436k [00:00<?, ?B/s]"
            ]
          },
          "metadata": {},
          "output_type": "display_data"
        },
        {
          "data": {
            "application/vnd.jupyter.widget-view+json": {
              "model_id": "d05b049c203d4bf3bfef2dce7c379d54",
              "version_major": 2,
              "version_minor": 0
            },
            "text/plain": [
              "config.json:   0%|          | 0.00/570 [00:00<?, ?B/s]"
            ]
          },
          "metadata": {},
          "output_type": "display_data"
        },
        {
          "data": {
            "application/vnd.jupyter.widget-view+json": {
              "model_id": "92c81d0885984069bfa67511b0f0d578",
              "version_major": 2,
              "version_minor": 0
            },
            "text/plain": [
              "model.safetensors:   0%|          | 0.00/436M [00:00<?, ?B/s]"
            ]
          },
          "metadata": {},
          "output_type": "display_data"
        },
        {
          "name": "stderr",
          "output_type": "stream",
          "text": [
            "Some weights of the model checkpoint at bert-base-cased were not used when initializing BertForMaskedLM: ['cls.seq_relationship.bias', 'bert.pooler.dense.bias', 'bert.pooler.dense.weight', 'cls.seq_relationship.weight']\n",
            "- This IS expected if you are initializing BertForMaskedLM from the checkpoint of a model trained on another task or with another architecture (e.g. initializing a BertForSequenceClassification model from a BertForPreTraining model).\n",
            "- This IS NOT expected if you are initializing BertForMaskedLM from the checkpoint of a model that you expect to be exactly identical (initializing a BertForSequenceClassification model from a BertForSequenceClassification model).\n"
          ]
        },
        {
          "data": {
            "text/plain": [
              "BertForMaskedLM(\n",
              "  (bert): BertModel(\n",
              "    (embeddings): BertEmbeddings(\n",
              "      (word_embeddings): Embedding(28996, 768, padding_idx=0)\n",
              "      (position_embeddings): Embedding(512, 768)\n",
              "      (token_type_embeddings): Embedding(2, 768)\n",
              "      (LayerNorm): LayerNorm((768,), eps=1e-12, elementwise_affine=True)\n",
              "      (dropout): Dropout(p=0.1, inplace=False)\n",
              "    )\n",
              "    (encoder): BertEncoder(\n",
              "      (layer): ModuleList(\n",
              "        (0-11): 12 x BertLayer(\n",
              "          (attention): BertAttention(\n",
              "            (self): BertSelfAttention(\n",
              "              (query): Linear(in_features=768, out_features=768, bias=True)\n",
              "              (key): Linear(in_features=768, out_features=768, bias=True)\n",
              "              (value): Linear(in_features=768, out_features=768, bias=True)\n",
              "              (dropout): Dropout(p=0.1, inplace=False)\n",
              "            )\n",
              "            (output): BertSelfOutput(\n",
              "              (dense): Linear(in_features=768, out_features=768, bias=True)\n",
              "              (LayerNorm): LayerNorm((768,), eps=1e-12, elementwise_affine=True)\n",
              "              (dropout): Dropout(p=0.1, inplace=False)\n",
              "            )\n",
              "          )\n",
              "          (intermediate): BertIntermediate(\n",
              "            (dense): Linear(in_features=768, out_features=3072, bias=True)\n",
              "            (intermediate_act_fn): GELUActivation()\n",
              "          )\n",
              "          (output): BertOutput(\n",
              "            (dense): Linear(in_features=3072, out_features=768, bias=True)\n",
              "            (LayerNorm): LayerNorm((768,), eps=1e-12, elementwise_affine=True)\n",
              "            (dropout): Dropout(p=0.1, inplace=False)\n",
              "          )\n",
              "        )\n",
              "      )\n",
              "    )\n",
              "  )\n",
              "  (cls): BertOnlyMLMHead(\n",
              "    (predictions): BertLMPredictionHead(\n",
              "      (transform): BertPredictionHeadTransform(\n",
              "        (dense): Linear(in_features=768, out_features=768, bias=True)\n",
              "        (transform_act_fn): GELUActivation()\n",
              "        (LayerNorm): LayerNorm((768,), eps=1e-12, elementwise_affine=True)\n",
              "      )\n",
              "      (decoder): Linear(in_features=768, out_features=28996, bias=True)\n",
              "    )\n",
              "  )\n",
              ")"
            ]
          },
          "execution_count": 2,
          "metadata": {},
          "output_type": "execute_result"
        }
      ],
      "source": [
        "import copy\n",
        "import torch\n",
        "from transformers import BertTokenizerFast, BertModel, BertForMaskedLM\n",
        "from torch.nn import functional as F\n",
        "import torch.nn as nn\n",
        "import pickle\n",
        "from tqdm import tqdm\n",
        "import numpy as np\n",
        "import math\n",
        "\n",
        "# Load the pre-trained BERT tokenizer and model\n",
        "tokenizer = BertTokenizerFast.from_pretrained('bert-base-cased')\n",
        "model = BertForMaskedLM.from_pretrained('bert-base-cased')\n",
        "model.to('cuda')"
      ]
    },
    {
      "cell_type": "code",
      "execution_count": null,
      "metadata": {
        "colab": {
          "base_uri": "https://localhost:8080/"
        },
        "id": "vEDwmlLGtkxq",
        "outputId": "3cd9d01b-2878-4362-c7f3-5eda0f9fac8b"
      },
      "outputs": [
        {
          "name": "stdout",
          "output_type": "stream",
          "text": [
            "DEVICE cuda\n"
          ]
        },
        {
          "name": "stderr",
          "output_type": "stream",
          "text": [
            "Some weights of the model checkpoint at bert-base-cased were not used when initializing BertForMaskedLM: ['bert.pooler.dense.bias', 'bert.encoder.layer.11.attention.self.value.weight', 'bert.encoder.layer.11.attention.self.key.bias', 'bert.encoder.layer.11.attention.self.query.weight', 'bert.encoder.layer.11.attention.output.dense.bias', 'bert.encoder.layer.11.intermediate.dense.weight', 'bert.encoder.layer.11.attention.self.value.bias', 'bert.encoder.layer.11.output.dense.weight', 'cls.seq_relationship.weight', 'bert.encoder.layer.11.attention.output.LayerNorm.weight', 'cls.seq_relationship.bias', 'bert.encoder.layer.11.output.LayerNorm.bias', 'bert.encoder.layer.11.output.LayerNorm.weight', 'bert.pooler.dense.weight', 'bert.encoder.layer.11.attention.self.query.bias', 'bert.encoder.layer.11.output.dense.bias', 'bert.encoder.layer.11.attention.output.LayerNorm.bias', 'bert.encoder.layer.11.attention.output.dense.weight', 'bert.encoder.layer.11.attention.self.key.weight', 'bert.encoder.layer.11.intermediate.dense.bias']\n",
            "- This IS expected if you are initializing BertForMaskedLM from the checkpoint of a model trained on another task or with another architecture (e.g. initializing a BertForSequenceClassification model from a BertForPreTraining model).\n",
            "- This IS NOT expected if you are initializing BertForMaskedLM from the checkpoint of a model that you expect to be exactly identical (initializing a BertForSequenceClassification model from a BertForSequenceClassification model).\n"
          ]
        },
        {
          "name": "stdout",
          "output_type": "stream",
          "text": [
            "\n",
            "NEW RUN: layer 11 rank 32 theta 0.3\n",
            "\n",
            "index 0 this sent\n"
          ]
        },
        {
          "name": "stderr",
          "output_type": "stream",
          "text": [
            "<ipython-input-3-75f6973533a8>:55: UserWarning: To copy construct from a tensor, it is recommended to use sourceTensor.clone().detach() or sourceTensor.clone().detach().requires_grad_(True), rather than torch.tensor(sourceTensor).\n",
            "  loss2 = torch.mean(torch.tensor(A_mask, dtype=torch.float64).to(hidden_vectors.device) * (diffs - dist_context)**2)\n",
            "100%|██████████| 500/500 [00:09<00:00, 54.02it/s]\n",
            "100%|██████████| 500/500 [00:07<00:00, 66.25it/s]\n"
          ]
        },
        {
          "name": "stdout",
          "output_type": "stream",
          "text": [
            "index 1 this sent\n"
          ]
        },
        {
          "name": "stderr",
          "output_type": "stream",
          "text": [
            "100%|██████████| 500/500 [00:07<00:00, 69.83it/s]\n",
            "100%|██████████| 500/500 [00:07<00:00, 65.80it/s]\n"
          ]
        },
        {
          "name": "stdout",
          "output_type": "stream",
          "text": [
            "index 2 this sent\n"
          ]
        },
        {
          "name": "stderr",
          "output_type": "stream",
          "text": [
            "100%|██████████| 500/500 [00:08<00:00, 61.78it/s]\n",
            "100%|██████████| 500/500 [00:08<00:00, 61.73it/s]\n"
          ]
        },
        {
          "name": "stdout",
          "output_type": "stream",
          "text": [
            "index 3 this sent\n"
          ]
        },
        {
          "name": "stderr",
          "output_type": "stream",
          "text": [
            "100%|██████████| 500/500 [00:08<00:00, 61.78it/s]\n",
            "100%|██████████| 500/500 [00:07<00:00, 69.38it/s]\n"
          ]
        },
        {
          "name": "stdout",
          "output_type": "stream",
          "text": [
            "index 4 this sent\n"
          ]
        },
        {
          "name": "stderr",
          "output_type": "stream",
          "text": [
            "100%|██████████| 500/500 [00:07<00:00, 69.87it/s]\n",
            "100%|██████████| 500/500 [00:07<00:00, 62.59it/s]\n"
          ]
        },
        {
          "name": "stdout",
          "output_type": "stream",
          "text": [
            "index 5 this sent\n"
          ]
        },
        {
          "name": "stderr",
          "output_type": "stream",
          "text": [
            "100%|██████████| 500/500 [00:08<00:00, 60.65it/s]\n",
            "100%|██████████| 500/500 [00:08<00:00, 60.45it/s]\n"
          ]
        },
        {
          "name": "stdout",
          "output_type": "stream",
          "text": [
            "index 6 this sent\n"
          ]
        },
        {
          "name": "stderr",
          "output_type": "stream",
          "text": [
            "100%|██████████| 500/500 [00:07<00:00, 63.44it/s]\n",
            "100%|██████████| 500/500 [00:07<00:00, 68.23it/s]\n"
          ]
        },
        {
          "name": "stdout",
          "output_type": "stream",
          "text": [
            "index 7 this sent\n"
          ]
        },
        {
          "name": "stderr",
          "output_type": "stream",
          "text": [
            "100%|██████████| 500/500 [00:07<00:00, 68.12it/s]\n",
            "100%|██████████| 500/500 [00:08<00:00, 62.02it/s]\n"
          ]
        },
        {
          "name": "stdout",
          "output_type": "stream",
          "text": [
            "index 8 this sent\n"
          ]
        },
        {
          "name": "stderr",
          "output_type": "stream",
          "text": [
            "100%|██████████| 500/500 [00:13<00:00, 37.29it/s]\n",
            "100%|██████████| 500/500 [00:07<00:00, 63.51it/s]\n"
          ]
        },
        {
          "name": "stdout",
          "output_type": "stream",
          "text": [
            "index 9 this sent\n"
          ]
        },
        {
          "name": "stderr",
          "output_type": "stream",
          "text": [
            "100%|██████████| 500/500 [00:08<00:00, 61.21it/s]\n",
            "100%|██████████| 500/500 [00:08<00:00, 61.30it/s]\n"
          ]
        },
        {
          "name": "stdout",
          "output_type": "stream",
          "text": [
            "index 10 this sent\n"
          ]
        },
        {
          "name": "stderr",
          "output_type": "stream",
          "text": [
            "100%|██████████| 500/500 [00:08<00:00, 62.10it/s]\n",
            "100%|██████████| 500/500 [00:07<00:00, 68.35it/s]\n"
          ]
        },
        {
          "name": "stdout",
          "output_type": "stream",
          "text": [
            "index 11 this sent\n"
          ]
        },
        {
          "name": "stderr",
          "output_type": "stream",
          "text": [
            "100%|██████████| 500/500 [00:07<00:00, 68.84it/s]\n",
            "100%|██████████| 500/500 [00:08<00:00, 62.18it/s]\n"
          ]
        },
        {
          "name": "stdout",
          "output_type": "stream",
          "text": [
            "index 12 this sent\n"
          ]
        },
        {
          "name": "stderr",
          "output_type": "stream",
          "text": [
            "100%|██████████| 500/500 [00:09<00:00, 54.75it/s]\n",
            "100%|██████████| 500/500 [00:08<00:00, 61.52it/s]\n"
          ]
        },
        {
          "name": "stdout",
          "output_type": "stream",
          "text": [
            "index 13 this sent\n"
          ]
        },
        {
          "name": "stderr",
          "output_type": "stream",
          "text": [
            "100%|██████████| 500/500 [00:08<00:00, 60.38it/s]\n",
            "100%|██████████| 500/500 [00:07<00:00, 66.11it/s]\n"
          ]
        },
        {
          "name": "stdout",
          "output_type": "stream",
          "text": [
            "index 14 this sent\n"
          ]
        },
        {
          "name": "stderr",
          "output_type": "stream",
          "text": [
            "100%|██████████| 500/500 [00:07<00:00, 68.12it/s]\n",
            "100%|██████████| 500/500 [00:07<00:00, 64.61it/s]\n"
          ]
        },
        {
          "name": "stdout",
          "output_type": "stream",
          "text": [
            "index 15 this sent\n"
          ]
        },
        {
          "name": "stderr",
          "output_type": "stream",
          "text": [
            "100%|██████████| 500/500 [00:08<00:00, 59.56it/s]\n",
            "100%|██████████| 500/500 [00:08<00:00, 60.74it/s]\n"
          ]
        },
        {
          "name": "stdout",
          "output_type": "stream",
          "text": [
            "index 16 this sent\n"
          ]
        },
        {
          "name": "stderr",
          "output_type": "stream",
          "text": [
            "100%|██████████| 500/500 [00:08<00:00, 60.49it/s]\n",
            "100%|██████████| 500/500 [00:07<00:00, 64.49it/s]\n"
          ]
        },
        {
          "name": "stdout",
          "output_type": "stream",
          "text": [
            "index 17 this sent\n"
          ]
        },
        {
          "name": "stderr",
          "output_type": "stream",
          "text": [
            "100%|██████████| 500/500 [00:07<00:00, 68.03it/s]\n",
            "100%|██████████| 500/500 [00:07<00:00, 65.15it/s]\n"
          ]
        },
        {
          "name": "stdout",
          "output_type": "stream",
          "text": [
            "index 18 this sent\n"
          ]
        },
        {
          "name": "stderr",
          "output_type": "stream",
          "text": [
            "100%|██████████| 500/500 [00:08<00:00, 62.44it/s]\n",
            "100%|██████████| 500/500 [00:08<00:00, 59.80it/s]\n"
          ]
        },
        {
          "name": "stdout",
          "output_type": "stream",
          "text": [
            "index 19 this sent\n"
          ]
        },
        {
          "name": "stderr",
          "output_type": "stream",
          "text": [
            "100%|██████████| 500/500 [00:08<00:00, 60.24it/s]\n",
            "100%|██████████| 500/500 [00:07<00:00, 63.11it/s]\n"
          ]
        },
        {
          "name": "stdout",
          "output_type": "stream",
          "text": [
            "index 20 this sent\n"
          ]
        },
        {
          "name": "stderr",
          "output_type": "stream",
          "text": [
            "100%|██████████| 500/500 [00:07<00:00, 66.65it/s]\n",
            "100%|██████████| 500/500 [00:07<00:00, 69.19it/s]\n"
          ]
        },
        {
          "name": "stdout",
          "output_type": "stream",
          "text": [
            "index 21 this sent\n"
          ]
        },
        {
          "name": "stderr",
          "output_type": "stream",
          "text": [
            "100%|██████████| 500/500 [00:07<00:00, 64.82it/s]\n",
            "100%|██████████| 500/500 [00:08<00:00, 60.03it/s]\n"
          ]
        },
        {
          "name": "stdout",
          "output_type": "stream",
          "text": [
            "index 22 this sent\n"
          ]
        },
        {
          "name": "stderr",
          "output_type": "stream",
          "text": [
            "100%|██████████| 500/500 [00:08<00:00, 59.78it/s]\n",
            "100%|██████████| 500/500 [00:08<00:00, 62.18it/s]\n"
          ]
        },
        {
          "name": "stdout",
          "output_type": "stream",
          "text": [
            "index 23 this sent\n"
          ]
        },
        {
          "name": "stderr",
          "output_type": "stream",
          "text": [
            "100%|██████████| 500/500 [00:07<00:00, 65.00it/s]\n",
            "100%|██████████| 500/500 [00:07<00:00, 68.29it/s]\n"
          ]
        },
        {
          "name": "stdout",
          "output_type": "stream",
          "text": [
            "index 24 this sent\n"
          ]
        },
        {
          "name": "stderr",
          "output_type": "stream",
          "text": [
            "100%|██████████| 500/500 [00:07<00:00, 65.97it/s]\n",
            "100%|██████████| 500/500 [00:08<00:00, 60.55it/s]\n"
          ]
        },
        {
          "name": "stdout",
          "output_type": "stream",
          "text": [
            "index 25 this sent\n"
          ]
        },
        {
          "name": "stderr",
          "output_type": "stream",
          "text": [
            "100%|██████████| 500/500 [00:08<00:00, 60.32it/s]\n",
            "100%|██████████| 500/500 [00:08<00:00, 62.31it/s]\n"
          ]
        },
        {
          "name": "stdout",
          "output_type": "stream",
          "text": [
            "index 26 this sent\n"
          ]
        },
        {
          "name": "stderr",
          "output_type": "stream",
          "text": [
            "100%|██████████| 500/500 [00:07<00:00, 65.59it/s]\n",
            "100%|██████████| 500/500 [00:07<00:00, 68.96it/s]\n"
          ]
        },
        {
          "name": "stdout",
          "output_type": "stream",
          "text": [
            "index 27 this sent\n"
          ]
        },
        {
          "name": "stderr",
          "output_type": "stream",
          "text": [
            "100%|██████████| 500/500 [00:07<00:00, 65.19it/s]\n",
            "100%|██████████| 500/500 [00:08<00:00, 59.13it/s]\n"
          ]
        },
        {
          "name": "stdout",
          "output_type": "stream",
          "text": [
            "index 28 this sent\n"
          ]
        },
        {
          "name": "stderr",
          "output_type": "stream",
          "text": [
            "100%|██████████| 500/500 [00:08<00:00, 59.46it/s]\n",
            "100%|██████████| 500/500 [00:08<00:00, 60.86it/s]\n"
          ]
        },
        {
          "name": "stdout",
          "output_type": "stream",
          "text": [
            "index 29 this sent\n"
          ]
        },
        {
          "name": "stderr",
          "output_type": "stream",
          "text": [
            "100%|██████████| 500/500 [00:07<00:00, 62.88it/s]\n",
            "100%|██████████| 500/500 [00:07<00:00, 67.26it/s]\n"
          ]
        },
        {
          "name": "stdout",
          "output_type": "stream",
          "text": [
            "index 30 this sent\n"
          ]
        },
        {
          "name": "stderr",
          "output_type": "stream",
          "text": [
            "100%|██████████| 500/500 [00:07<00:00, 66.38it/s]\n",
            "100%|██████████| 500/500 [00:08<00:00, 60.57it/s]\n"
          ]
        },
        {
          "name": "stdout",
          "output_type": "stream",
          "text": [
            "index 31 this sent\n"
          ]
        },
        {
          "name": "stderr",
          "output_type": "stream",
          "text": [
            "100%|██████████| 500/500 [00:08<00:00, 61.44it/s]\n",
            "100%|██████████| 500/500 [00:08<00:00, 60.67it/s]\n"
          ]
        },
        {
          "name": "stdout",
          "output_type": "stream",
          "text": [
            "index 32 this sent\n"
          ]
        },
        {
          "name": "stderr",
          "output_type": "stream",
          "text": [
            "100%|██████████| 500/500 [00:08<00:00, 61.50it/s]\n",
            "100%|██████████| 500/500 [00:07<00:00, 67.56it/s]\n"
          ]
        },
        {
          "name": "stdout",
          "output_type": "stream",
          "text": [
            "index 33 this sent\n"
          ]
        },
        {
          "name": "stderr",
          "output_type": "stream",
          "text": [
            "100%|██████████| 500/500 [00:07<00:00, 67.55it/s]\n",
            "100%|██████████| 500/500 [00:08<00:00, 60.05it/s]\n"
          ]
        },
        {
          "name": "stdout",
          "output_type": "stream",
          "text": [
            "index 34 this sent\n"
          ]
        },
        {
          "name": "stderr",
          "output_type": "stream",
          "text": [
            "100%|██████████| 500/500 [00:08<00:00, 59.63it/s]\n",
            "100%|██████████| 500/500 [00:08<00:00, 60.02it/s]\n"
          ]
        },
        {
          "name": "stdout",
          "output_type": "stream",
          "text": [
            "index 35 this sent\n"
          ]
        },
        {
          "name": "stderr",
          "output_type": "stream",
          "text": [
            "100%|██████████| 500/500 [00:08<00:00, 60.91it/s]\n",
            "100%|██████████| 500/500 [00:07<00:00, 68.09it/s]\n"
          ]
        },
        {
          "name": "stdout",
          "output_type": "stream",
          "text": [
            "index 36 this sent\n"
          ]
        },
        {
          "name": "stderr",
          "output_type": "stream",
          "text": [
            "100%|██████████| 500/500 [00:07<00:00, 67.40it/s]\n",
            "100%|██████████| 500/500 [00:08<00:00, 62.19it/s]\n"
          ]
        },
        {
          "name": "stdout",
          "output_type": "stream",
          "text": [
            "index 37 this sent\n"
          ]
        },
        {
          "name": "stderr",
          "output_type": "stream",
          "text": [
            "100%|██████████| 500/500 [00:08<00:00, 60.69it/s]\n",
            "100%|██████████| 500/500 [00:08<00:00, 61.79it/s]\n"
          ]
        },
        {
          "name": "stdout",
          "output_type": "stream",
          "text": [
            "index 38 this sent\n"
          ]
        },
        {
          "name": "stderr",
          "output_type": "stream",
          "text": [
            "100%|██████████| 500/500 [00:08<00:00, 59.84it/s]\n",
            "100%|██████████| 500/500 [00:07<00:00, 69.16it/s]\n"
          ]
        },
        {
          "name": "stdout",
          "output_type": "stream",
          "text": [
            "index 39 this sent\n"
          ]
        },
        {
          "name": "stderr",
          "output_type": "stream",
          "text": [
            "100%|██████████| 500/500 [00:07<00:00, 66.15it/s]\n",
            "100%|██████████| 500/500 [00:07<00:00, 62.67it/s]\n"
          ]
        },
        {
          "name": "stdout",
          "output_type": "stream",
          "text": [
            "index 40 this sent\n"
          ]
        },
        {
          "name": "stderr",
          "output_type": "stream",
          "text": [
            "100%|██████████| 500/500 [00:08<00:00, 60.42it/s]\n",
            "100%|██████████| 500/500 [00:08<00:00, 60.19it/s]\n"
          ]
        },
        {
          "name": "stdout",
          "output_type": "stream",
          "text": [
            "index 41 this sent\n"
          ]
        },
        {
          "name": "stderr",
          "output_type": "stream",
          "text": [
            "100%|██████████| 500/500 [00:08<00:00, 61.22it/s]\n",
            "100%|██████████| 500/500 [00:07<00:00, 66.68it/s]\n"
          ]
        },
        {
          "name": "stdout",
          "output_type": "stream",
          "text": [
            "index 42 this sent\n"
          ]
        },
        {
          "name": "stderr",
          "output_type": "stream",
          "text": [
            "100%|██████████| 500/500 [00:07<00:00, 66.63it/s]\n",
            "100%|██████████| 500/500 [00:07<00:00, 64.46it/s]\n"
          ]
        },
        {
          "name": "stdout",
          "output_type": "stream",
          "text": [
            "index 43 this sent\n"
          ]
        },
        {
          "name": "stderr",
          "output_type": "stream",
          "text": [
            "100%|██████████| 500/500 [00:08<00:00, 61.00it/s]\n",
            "100%|██████████| 500/500 [00:08<00:00, 60.64it/s]\n"
          ]
        },
        {
          "name": "stdout",
          "output_type": "stream",
          "text": [
            "index 44 this sent\n"
          ]
        },
        {
          "name": "stderr",
          "output_type": "stream",
          "text": [
            "100%|██████████| 500/500 [00:08<00:00, 59.96it/s]\n",
            "100%|██████████| 500/500 [00:07<00:00, 63.41it/s]\n"
          ]
        },
        {
          "name": "stdout",
          "output_type": "stream",
          "text": [
            "index 45 this sent\n"
          ]
        },
        {
          "name": "stderr",
          "output_type": "stream",
          "text": [
            "100%|██████████| 500/500 [00:07<00:00, 65.41it/s]\n",
            "100%|██████████| 500/500 [00:07<00:00, 66.36it/s]\n"
          ]
        },
        {
          "name": "stdout",
          "output_type": "stream",
          "text": [
            "index 46 this sent\n"
          ]
        },
        {
          "name": "stderr",
          "output_type": "stream",
          "text": [
            "100%|██████████| 500/500 [00:08<00:00, 61.88it/s]\n",
            "100%|██████████| 500/500 [00:08<00:00, 58.44it/s]\n"
          ]
        },
        {
          "name": "stdout",
          "output_type": "stream",
          "text": [
            "index 47 this sent\n"
          ]
        },
        {
          "name": "stderr",
          "output_type": "stream",
          "text": [
            "100%|██████████| 500/500 [00:08<00:00, 59.71it/s]\n",
            "100%|██████████| 500/500 [00:08<00:00, 60.42it/s]\n"
          ]
        },
        {
          "name": "stdout",
          "output_type": "stream",
          "text": [
            "index 48 this sent\n"
          ]
        },
        {
          "name": "stderr",
          "output_type": "stream",
          "text": [
            "100%|██████████| 500/500 [00:08<00:00, 61.88it/s]\n",
            "100%|██████████| 500/500 [00:07<00:00, 67.95it/s]\n"
          ]
        },
        {
          "name": "stdout",
          "output_type": "stream",
          "text": [
            "index 49 this sent\n"
          ]
        },
        {
          "name": "stderr",
          "output_type": "stream",
          "text": [
            "100%|██████████| 500/500 [00:07<00:00, 68.44it/s]\n",
            "100%|██████████| 500/500 [00:08<00:00, 60.13it/s]\n"
          ]
        },
        {
          "name": "stdout",
          "output_type": "stream",
          "text": [
            "index 50 this sent\n"
          ]
        },
        {
          "name": "stderr",
          "output_type": "stream",
          "text": [
            "100%|██████████| 500/500 [00:08<00:00, 59.98it/s]\n",
            "100%|██████████| 500/500 [00:08<00:00, 60.83it/s]\n"
          ]
        },
        {
          "name": "stdout",
          "output_type": "stream",
          "text": [
            "index 51 this sent\n"
          ]
        },
        {
          "name": "stderr",
          "output_type": "stream",
          "text": [
            "100%|██████████| 500/500 [00:08<00:00, 59.82it/s]\n",
            "100%|██████████| 500/500 [00:07<00:00, 68.09it/s]\n"
          ]
        },
        {
          "name": "stdout",
          "output_type": "stream",
          "text": [
            "index 52 this sent\n"
          ]
        },
        {
          "name": "stderr",
          "output_type": "stream",
          "text": [
            "100%|██████████| 500/500 [00:07<00:00, 66.69it/s]\n",
            "100%|██████████| 500/500 [00:08<00:00, 58.84it/s]\n"
          ]
        },
        {
          "name": "stdout",
          "output_type": "stream",
          "text": [
            "index 53 this sent\n"
          ]
        },
        {
          "name": "stderr",
          "output_type": "stream",
          "text": [
            "100%|██████████| 500/500 [00:08<00:00, 59.34it/s]\n",
            "100%|██████████| 500/500 [00:08<00:00, 59.96it/s]\n"
          ]
        },
        {
          "name": "stdout",
          "output_type": "stream",
          "text": [
            "index 54 this sent\n"
          ]
        },
        {
          "name": "stderr",
          "output_type": "stream",
          "text": [
            "100%|██████████| 500/500 [00:08<00:00, 59.43it/s]\n",
            "100%|██████████| 500/500 [00:07<00:00, 68.78it/s]\n"
          ]
        },
        {
          "name": "stdout",
          "output_type": "stream",
          "text": [
            "index 55 this sent\n"
          ]
        },
        {
          "name": "stderr",
          "output_type": "stream",
          "text": [
            "100%|██████████| 500/500 [00:07<00:00, 66.96it/s]\n",
            "100%|██████████| 500/500 [00:07<00:00, 62.55it/s]\n"
          ]
        },
        {
          "name": "stdout",
          "output_type": "stream",
          "text": [
            "index 56 this sent\n"
          ]
        },
        {
          "name": "stderr",
          "output_type": "stream",
          "text": [
            "100%|██████████| 500/500 [00:12<00:00, 38.73it/s]\n",
            "100%|██████████| 500/500 [00:07<00:00, 63.78it/s]\n"
          ]
        },
        {
          "name": "stdout",
          "output_type": "stream",
          "text": [
            "index 57 this sent\n"
          ]
        },
        {
          "name": "stderr",
          "output_type": "stream",
          "text": [
            "100%|██████████| 500/500 [00:08<00:00, 61.24it/s]\n",
            "100%|██████████| 500/500 [00:08<00:00, 60.91it/s]\n"
          ]
        },
        {
          "name": "stdout",
          "output_type": "stream",
          "text": [
            "0.011028473235522362\n",
            "\n",
            "NEW RUN: layer 11 rank 32 theta 0.6\n",
            "\n",
            "index 0 this sent\n"
          ]
        },
        {
          "name": "stderr",
          "output_type": "stream",
          "text": [
            "100%|██████████| 500/500 [00:08<00:00, 60.06it/s]\n",
            "100%|██████████| 500/500 [00:07<00:00, 63.10it/s]\n"
          ]
        },
        {
          "name": "stdout",
          "output_type": "stream",
          "text": [
            "index 1 this sent\n"
          ]
        },
        {
          "name": "stderr",
          "output_type": "stream",
          "text": [
            "100%|██████████| 500/500 [00:07<00:00, 69.12it/s]\n",
            "100%|██████████| 500/500 [00:07<00:00, 66.40it/s]\n"
          ]
        },
        {
          "name": "stdout",
          "output_type": "stream",
          "text": [
            "index 2 this sent\n"
          ]
        },
        {
          "name": "stderr",
          "output_type": "stream",
          "text": [
            "100%|██████████| 500/500 [00:07<00:00, 62.67it/s]\n",
            "100%|██████████| 500/500 [00:08<00:00, 60.65it/s]\n"
          ]
        },
        {
          "name": "stdout",
          "output_type": "stream",
          "text": [
            "index 3 this sent\n"
          ]
        },
        {
          "name": "stderr",
          "output_type": "stream",
          "text": [
            "100%|██████████| 500/500 [00:08<00:00, 60.74it/s]\n",
            "100%|██████████| 500/500 [00:07<00:00, 64.40it/s]\n"
          ]
        },
        {
          "name": "stdout",
          "output_type": "stream",
          "text": [
            "index 4 this sent\n"
          ]
        },
        {
          "name": "stderr",
          "output_type": "stream",
          "text": [
            "100%|██████████| 500/500 [00:07<00:00, 67.80it/s]\n",
            "100%|██████████| 500/500 [00:07<00:00, 68.35it/s]\n"
          ]
        },
        {
          "name": "stdout",
          "output_type": "stream",
          "text": [
            "index 5 this sent\n"
          ]
        },
        {
          "name": "stderr",
          "output_type": "stream",
          "text": [
            "100%|██████████| 500/500 [00:08<00:00, 62.40it/s]\n",
            "100%|██████████| 500/500 [00:08<00:00, 59.76it/s]\n"
          ]
        },
        {
          "name": "stdout",
          "output_type": "stream",
          "text": [
            "index 6 this sent\n"
          ]
        },
        {
          "name": "stderr",
          "output_type": "stream",
          "text": [
            "100%|██████████| 500/500 [00:08<00:00, 60.07it/s]\n",
            "100%|██████████| 500/500 [00:08<00:00, 59.10it/s]\n"
          ]
        },
        {
          "name": "stdout",
          "output_type": "stream",
          "text": [
            "index 7 this sent\n"
          ]
        },
        {
          "name": "stderr",
          "output_type": "stream",
          "text": [
            "100%|██████████| 500/500 [00:07<00:00, 63.44it/s]\n",
            "100%|██████████| 500/500 [00:07<00:00, 68.05it/s]\n"
          ]
        },
        {
          "name": "stdout",
          "output_type": "stream",
          "text": [
            "index 8 this sent\n"
          ]
        },
        {
          "name": "stderr",
          "output_type": "stream",
          "text": [
            "100%|██████████| 500/500 [00:07<00:00, 65.60it/s]\n",
            "100%|██████████| 500/500 [00:08<00:00, 58.84it/s]\n"
          ]
        },
        {
          "name": "stdout",
          "output_type": "stream",
          "text": [
            "index 9 this sent\n"
          ]
        },
        {
          "name": "stderr",
          "output_type": "stream",
          "text": [
            "100%|██████████| 500/500 [00:08<00:00, 59.83it/s]\n",
            "100%|██████████| 500/500 [00:08<00:00, 59.12it/s]\n"
          ]
        },
        {
          "name": "stdout",
          "output_type": "stream",
          "text": [
            "index 10 this sent\n"
          ]
        },
        {
          "name": "stderr",
          "output_type": "stream",
          "text": [
            "100%|██████████| 500/500 [00:08<00:00, 59.15it/s]\n",
            "100%|██████████| 500/500 [00:07<00:00, 66.68it/s]\n"
          ]
        },
        {
          "name": "stdout",
          "output_type": "stream",
          "text": [
            "index 11 this sent\n"
          ]
        },
        {
          "name": "stderr",
          "output_type": "stream",
          "text": [
            "100%|██████████| 500/500 [00:07<00:00, 66.84it/s]\n",
            "100%|██████████| 500/500 [00:08<00:00, 60.89it/s]\n"
          ]
        },
        {
          "name": "stdout",
          "output_type": "stream",
          "text": [
            "index 12 this sent\n"
          ]
        },
        {
          "name": "stderr",
          "output_type": "stream",
          "text": [
            "100%|██████████| 500/500 [00:08<00:00, 57.59it/s]\n",
            "100%|██████████| 500/500 [00:08<00:00, 58.90it/s]\n"
          ]
        },
        {
          "name": "stdout",
          "output_type": "stream",
          "text": [
            "index 13 this sent\n"
          ]
        },
        {
          "name": "stderr",
          "output_type": "stream",
          "text": [
            "100%|██████████| 500/500 [00:08<00:00, 58.42it/s]\n",
            "100%|██████████| 500/500 [00:07<00:00, 63.52it/s]\n"
          ]
        },
        {
          "name": "stdout",
          "output_type": "stream",
          "text": [
            "index 14 this sent\n"
          ]
        },
        {
          "name": "stderr",
          "output_type": "stream",
          "text": [
            "100%|██████████| 500/500 [00:07<00:00, 65.08it/s]\n",
            "100%|██████████| 500/500 [00:07<00:00, 66.32it/s]\n"
          ]
        },
        {
          "name": "stdout",
          "output_type": "stream",
          "text": [
            "index 15 this sent\n"
          ]
        },
        {
          "name": "stderr",
          "output_type": "stream",
          "text": [
            "100%|██████████| 500/500 [00:08<00:00, 61.84it/s]\n",
            "100%|██████████| 500/500 [00:08<00:00, 58.88it/s]\n"
          ]
        },
        {
          "name": "stdout",
          "output_type": "stream",
          "text": [
            "index 16 this sent\n"
          ]
        },
        {
          "name": "stderr",
          "output_type": "stream",
          "text": [
            "100%|██████████| 500/500 [00:08<00:00, 57.89it/s]\n",
            "100%|██████████| 500/500 [00:08<00:00, 58.95it/s]\n"
          ]
        },
        {
          "name": "stdout",
          "output_type": "stream",
          "text": [
            "index 17 this sent\n"
          ]
        },
        {
          "name": "stderr",
          "output_type": "stream",
          "text": [
            "100%|██████████| 500/500 [00:08<00:00, 58.69it/s]\n",
            "100%|██████████| 500/500 [00:07<00:00, 66.74it/s]\n"
          ]
        },
        {
          "name": "stdout",
          "output_type": "stream",
          "text": [
            "index 18 this sent\n"
          ]
        },
        {
          "name": "stderr",
          "output_type": "stream",
          "text": [
            "100%|██████████| 500/500 [00:07<00:00, 66.98it/s]\n",
            "100%|██████████| 500/500 [00:08<00:00, 60.83it/s]\n"
          ]
        },
        {
          "name": "stdout",
          "output_type": "stream",
          "text": [
            "index 19 this sent\n"
          ]
        },
        {
          "name": "stderr",
          "output_type": "stream",
          "text": [
            "100%|██████████| 500/500 [00:08<00:00, 58.16it/s]\n",
            "100%|██████████| 500/500 [00:08<00:00, 58.16it/s]\n"
          ]
        },
        {
          "name": "stdout",
          "output_type": "stream",
          "text": [
            "index 20 this sent\n"
          ]
        },
        {
          "name": "stderr",
          "output_type": "stream",
          "text": [
            "100%|██████████| 500/500 [00:08<00:00, 60.29it/s]\n",
            "100%|██████████| 500/500 [00:07<00:00, 65.08it/s]\n"
          ]
        },
        {
          "name": "stdout",
          "output_type": "stream",
          "text": [
            "index 21 this sent\n"
          ]
        },
        {
          "name": "stderr",
          "output_type": "stream",
          "text": [
            "100%|██████████| 500/500 [00:07<00:00, 67.17it/s]\n",
            "100%|██████████| 500/500 [00:07<00:00, 64.27it/s]\n"
          ]
        },
        {
          "name": "stdout",
          "output_type": "stream",
          "text": [
            "index 22 this sent\n"
          ]
        },
        {
          "name": "stderr",
          "output_type": "stream",
          "text": [
            "100%|██████████| 500/500 [00:07<00:00, 63.36it/s]\n",
            "100%|██████████| 500/500 [00:08<00:00, 59.68it/s]\n"
          ]
        },
        {
          "name": "stdout",
          "output_type": "stream",
          "text": [
            "index 23 this sent\n"
          ]
        },
        {
          "name": "stderr",
          "output_type": "stream",
          "text": [
            "100%|██████████| 500/500 [00:08<00:00, 59.79it/s]\n",
            "100%|██████████| 500/500 [00:08<00:00, 58.56it/s]\n"
          ]
        },
        {
          "name": "stdout",
          "output_type": "stream",
          "text": [
            "index 24 this sent\n"
          ]
        },
        {
          "name": "stderr",
          "output_type": "stream",
          "text": [
            "100%|██████████| 500/500 [00:07<00:00, 65.15it/s]\n",
            "100%|██████████| 500/500 [00:07<00:00, 67.57it/s]\n"
          ]
        },
        {
          "name": "stdout",
          "output_type": "stream",
          "text": [
            "index 25 this sent\n"
          ]
        },
        {
          "name": "stderr",
          "output_type": "stream",
          "text": [
            "100%|██████████| 500/500 [00:07<00:00, 65.51it/s]\n",
            "100%|██████████| 500/500 [00:08<00:00, 58.83it/s]\n"
          ]
        },
        {
          "name": "stdout",
          "output_type": "stream",
          "text": [
            "index 26 this sent\n"
          ]
        },
        {
          "name": "stderr",
          "output_type": "stream",
          "text": [
            "100%|██████████| 500/500 [00:08<00:00, 59.50it/s]\n",
            "100%|██████████| 500/500 [00:08<00:00, 59.41it/s]\n"
          ]
        },
        {
          "name": "stdout",
          "output_type": "stream",
          "text": [
            "index 27 this sent\n"
          ]
        },
        {
          "name": "stderr",
          "output_type": "stream",
          "text": [
            "100%|██████████| 500/500 [00:08<00:00, 60.91it/s]\n",
            "100%|██████████| 500/500 [00:07<00:00, 67.55it/s]\n"
          ]
        },
        {
          "name": "stdout",
          "output_type": "stream",
          "text": [
            "index 28 this sent\n"
          ]
        },
        {
          "name": "stderr",
          "output_type": "stream",
          "text": [
            "100%|██████████| 500/500 [00:07<00:00, 67.80it/s]\n",
            "100%|██████████| 500/500 [00:08<00:00, 60.66it/s]\n"
          ]
        },
        {
          "name": "stdout",
          "output_type": "stream",
          "text": [
            "index 29 this sent\n"
          ]
        },
        {
          "name": "stderr",
          "output_type": "stream",
          "text": [
            "100%|██████████| 500/500 [00:08<00:00, 60.70it/s]\n",
            "100%|██████████| 500/500 [00:08<00:00, 58.58it/s]\n"
          ]
        },
        {
          "name": "stdout",
          "output_type": "stream",
          "text": [
            "index 30 this sent\n"
          ]
        },
        {
          "name": "stderr",
          "output_type": "stream",
          "text": [
            "100%|██████████| 500/500 [00:08<00:00, 59.92it/s]\n",
            "100%|██████████| 500/500 [00:07<00:00, 66.94it/s]\n"
          ]
        },
        {
          "name": "stdout",
          "output_type": "stream",
          "text": [
            "index 31 this sent\n"
          ]
        },
        {
          "name": "stderr",
          "output_type": "stream",
          "text": [
            "100%|██████████| 500/500 [00:07<00:00, 66.99it/s]\n",
            "100%|██████████| 500/500 [00:08<00:00, 61.96it/s]\n"
          ]
        },
        {
          "name": "stdout",
          "output_type": "stream",
          "text": [
            "index 32 this sent\n"
          ]
        },
        {
          "name": "stderr",
          "output_type": "stream",
          "text": [
            "100%|██████████| 500/500 [00:08<00:00, 60.06it/s]\n",
            "100%|██████████| 500/500 [00:08<00:00, 59.74it/s]\n"
          ]
        },
        {
          "name": "stdout",
          "output_type": "stream",
          "text": [
            "index 33 this sent\n"
          ]
        },
        {
          "name": "stderr",
          "output_type": "stream",
          "text": [
            "100%|██████████| 500/500 [00:08<00:00, 60.35it/s]\n",
            "100%|██████████| 500/500 [00:07<00:00, 64.22it/s]\n"
          ]
        },
        {
          "name": "stdout",
          "output_type": "stream",
          "text": [
            "index 34 this sent\n"
          ]
        },
        {
          "name": "stderr",
          "output_type": "stream",
          "text": [
            "100%|██████████| 500/500 [00:07<00:00, 68.35it/s]\n",
            "100%|██████████| 500/500 [00:07<00:00, 66.89it/s]\n"
          ]
        },
        {
          "name": "stdout",
          "output_type": "stream",
          "text": [
            "index 35 this sent\n"
          ]
        },
        {
          "name": "stderr",
          "output_type": "stream",
          "text": [
            "100%|██████████| 500/500 [00:07<00:00, 62.57it/s]\n",
            "100%|██████████| 500/500 [00:08<00:00, 60.82it/s]\n"
          ]
        },
        {
          "name": "stdout",
          "output_type": "stream",
          "text": [
            "index 36 this sent\n"
          ]
        },
        {
          "name": "stderr",
          "output_type": "stream",
          "text": [
            "100%|██████████| 500/500 [00:08<00:00, 60.43it/s]\n",
            "100%|██████████| 500/500 [00:07<00:00, 64.84it/s]\n"
          ]
        },
        {
          "name": "stdout",
          "output_type": "stream",
          "text": [
            "index 37 this sent\n"
          ]
        },
        {
          "name": "stderr",
          "output_type": "stream",
          "text": [
            "100%|██████████| 500/500 [00:07<00:00, 69.06it/s]\n",
            "100%|██████████| 500/500 [00:07<00:00, 66.25it/s]\n"
          ]
        },
        {
          "name": "stdout",
          "output_type": "stream",
          "text": [
            "index 38 this sent\n"
          ]
        },
        {
          "name": "stderr",
          "output_type": "stream",
          "text": [
            "100%|██████████| 500/500 [00:08<00:00, 61.53it/s]\n",
            "100%|██████████| 500/500 [00:08<00:00, 61.39it/s]\n"
          ]
        },
        {
          "name": "stdout",
          "output_type": "stream",
          "text": [
            "index 39 this sent\n"
          ]
        },
        {
          "name": "stderr",
          "output_type": "stream",
          "text": [
            "100%|██████████| 500/500 [00:08<00:00, 61.71it/s]\n",
            "100%|██████████| 500/500 [00:07<00:00, 65.14it/s]\n"
          ]
        },
        {
          "name": "stdout",
          "output_type": "stream",
          "text": [
            "index 40 this sent\n"
          ]
        },
        {
          "name": "stderr",
          "output_type": "stream",
          "text": [
            "100%|██████████| 500/500 [00:07<00:00, 68.13it/s]\n",
            "100%|██████████| 500/500 [00:07<00:00, 66.45it/s]\n"
          ]
        },
        {
          "name": "stdout",
          "output_type": "stream",
          "text": [
            "index 41 this sent\n"
          ]
        },
        {
          "name": "stderr",
          "output_type": "stream",
          "text": [
            "100%|██████████| 500/500 [00:08<00:00, 61.71it/s]\n",
            "100%|██████████| 500/500 [00:08<00:00, 58.43it/s]\n"
          ]
        },
        {
          "name": "stdout",
          "output_type": "stream",
          "text": [
            "index 42 this sent\n"
          ]
        },
        {
          "name": "stderr",
          "output_type": "stream",
          "text": [
            "100%|██████████| 500/500 [00:08<00:00, 59.59it/s]\n",
            "100%|██████████| 500/500 [00:07<00:00, 63.67it/s]\n"
          ]
        },
        {
          "name": "stdout",
          "output_type": "stream",
          "text": [
            "index 43 this sent\n"
          ]
        },
        {
          "name": "stderr",
          "output_type": "stream",
          "text": [
            "100%|██████████| 500/500 [00:07<00:00, 67.33it/s]\n",
            "100%|██████████| 500/500 [00:07<00:00, 68.50it/s]\n"
          ]
        },
        {
          "name": "stdout",
          "output_type": "stream",
          "text": [
            "index 44 this sent\n"
          ]
        },
        {
          "name": "stderr",
          "output_type": "stream",
          "text": [
            "100%|██████████| 500/500 [00:07<00:00, 62.60it/s]\n",
            "100%|██████████| 500/500 [00:08<00:00, 59.76it/s]\n"
          ]
        },
        {
          "name": "stdout",
          "output_type": "stream",
          "text": [
            "index 45 this sent\n"
          ]
        },
        {
          "name": "stderr",
          "output_type": "stream",
          "text": [
            "100%|██████████| 500/500 [00:08<00:00, 58.37it/s]\n",
            "100%|██████████| 500/500 [00:08<00:00, 60.78it/s]\n"
          ]
        },
        {
          "name": "stdout",
          "output_type": "stream",
          "text": [
            "index 46 this sent\n"
          ]
        },
        {
          "name": "stderr",
          "output_type": "stream",
          "text": [
            "100%|██████████| 500/500 [00:08<00:00, 61.55it/s]\n",
            "100%|██████████| 500/500 [00:07<00:00, 66.97it/s]\n"
          ]
        },
        {
          "name": "stdout",
          "output_type": "stream",
          "text": [
            "index 47 this sent\n"
          ]
        },
        {
          "name": "stderr",
          "output_type": "stream",
          "text": [
            "100%|██████████| 500/500 [00:07<00:00, 68.56it/s]\n",
            "100%|██████████| 500/500 [00:08<00:00, 60.24it/s]\n"
          ]
        },
        {
          "name": "stdout",
          "output_type": "stream",
          "text": [
            "index 48 this sent\n"
          ]
        },
        {
          "name": "stderr",
          "output_type": "stream",
          "text": [
            "100%|██████████| 500/500 [00:15<00:00, 33.01it/s]\n",
            "100%|██████████| 500/500 [00:07<00:00, 66.29it/s]\n"
          ]
        },
        {
          "name": "stdout",
          "output_type": "stream",
          "text": [
            "index 49 this sent\n"
          ]
        },
        {
          "name": "stderr",
          "output_type": "stream",
          "text": [
            "100%|██████████| 500/500 [00:07<00:00, 62.93it/s]\n",
            "100%|██████████| 500/500 [00:08<00:00, 62.08it/s]\n"
          ]
        },
        {
          "name": "stdout",
          "output_type": "stream",
          "text": [
            "index 50 this sent\n"
          ]
        },
        {
          "name": "stderr",
          "output_type": "stream",
          "text": [
            "100%|██████████| 500/500 [00:08<00:00, 60.65it/s]\n",
            "100%|██████████| 500/500 [00:08<00:00, 57.97it/s]\n"
          ]
        },
        {
          "name": "stdout",
          "output_type": "stream",
          "text": [
            "index 51 this sent\n"
          ]
        },
        {
          "name": "stderr",
          "output_type": "stream",
          "text": [
            "100%|██████████| 500/500 [00:07<00:00, 70.13it/s]\n",
            "100%|██████████| 500/500 [00:07<00:00, 67.06it/s]\n"
          ]
        },
        {
          "name": "stdout",
          "output_type": "stream",
          "text": [
            "index 52 this sent\n"
          ]
        },
        {
          "name": "stderr",
          "output_type": "stream",
          "text": [
            "100%|██████████| 500/500 [00:08<00:00, 62.20it/s]\n",
            "100%|██████████| 500/500 [00:08<00:00, 62.16it/s]\n",
            "100%|██████████| 500/500 [00:08<00:00, 62.16it/s]\n",
            "100%|██████████| 500/500 [00:08<00:00, 62.16it/s]\n"
          ]
        },
        {
          "name": "stdout",
          "output_type": "stream",
          "text": [
            "index 53 this sent\n",
            "index 53 this sent\n",
            "index 53 this sent\n"
          ]
        },
        {
          "name": "stderr",
          "output_type": "stream",
          "text": [
            "100%|██████████| 500/500 [00:08<00:00, 56.91it/s]\n",
            "\n",
            "\n",
            "100%|██████████| 500/500 [00:08<00:00, 57.63it/s]\n",
            "\n",
            "\n"
          ]
        },
        {
          "name": "stdout",
          "output_type": "stream",
          "text": [
            "index 54 this sent\n",
            "index 54 this sent\n",
            "index 54 this sent\n"
          ]
        },
        {
          "name": "stderr",
          "output_type": "stream",
          "text": [
            "100%|██████████| 500/500 [00:08<00:00, 59.35it/s]\n",
            "\n",
            "\n",
            "100%|██████████| 500/500 [00:07<00:00, 63.30it/s]\n",
            "\n",
            "\n"
          ]
        },
        {
          "name": "stdout",
          "output_type": "stream",
          "text": [
            "index 55 this sent\n",
            "index 55 this sent\n",
            "index 55 this sent\n"
          ]
        },
        {
          "name": "stderr",
          "output_type": "stream",
          "text": [
            "100%|██████████| 500/500 [00:07<00:00, 64.14it/s]\n",
            "\n",
            "\n",
            "100%|██████████| 500/500 [00:08<00:00, 57.47it/s]\n",
            "\n",
            "\n"
          ]
        },
        {
          "name": "stdout",
          "output_type": "stream",
          "text": [
            "index 56 this sent\n",
            "index 56 this sent\n",
            "index 56 this sent\n"
          ]
        },
        {
          "name": "stderr",
          "output_type": "stream",
          "text": [
            "100%|██████████| 500/500 [00:08<00:00, 56.94it/s]\n",
            "\n",
            "\n",
            "100%|██████████| 500/500 [00:08<00:00, 56.60it/s]\n",
            "\n",
            "\n"
          ]
        },
        {
          "name": "stdout",
          "output_type": "stream",
          "text": [
            "index 57 this sent\n",
            "index 57 this sent\n",
            "index 57 this sent\n"
          ]
        },
        {
          "name": "stderr",
          "output_type": "stream",
          "text": [
            "100%|██████████| 500/500 [00:08<00:00, 56.55it/s]\n",
            "\n",
            "\n",
            "100%|██████████| 500/500 [00:08<00:00, 58.10it/s]\n",
            "\n",
            "\n"
          ]
        },
        {
          "name": "stdout",
          "output_type": "stream",
          "text": [
            "0.008204137034120373\n",
            "\n",
            "NEW RUN: layer 11 rank 32 theta 1\n",
            "\n",
            "index 0 this sent\n",
            "0.008204137034120373\n",
            "\n",
            "NEW RUN: layer 11 rank 32 theta 1\n",
            "\n",
            "index 0 this sent\n",
            "0.008204137034120373\n",
            "\n",
            "NEW RUN: layer 11 rank 32 theta 1\n",
            "\n",
            "index 0 this sent\n"
          ]
        },
        {
          "name": "stderr",
          "output_type": "stream",
          "text": [
            "100%|██████████| 500/500 [00:08<00:00, 59.26it/s]\n",
            "\n",
            "\n",
            "100%|██████████| 500/500 [00:07<00:00, 63.84it/s]\n",
            "\n",
            "\n"
          ]
        },
        {
          "name": "stdout",
          "output_type": "stream",
          "text": [
            "index 1 this sent\n",
            "index 1 this sent\n",
            "index 1 this sent\n"
          ]
        },
        {
          "name": "stderr",
          "output_type": "stream",
          "text": [
            "100%|██████████| 500/500 [00:07<00:00, 66.37it/s]\n",
            "\n",
            "\n",
            "100%|██████████| 500/500 [00:08<00:00, 57.87it/s]\n",
            "\n",
            "\n"
          ]
        },
        {
          "name": "stdout",
          "output_type": "stream",
          "text": [
            "index 2 this sent\n",
            "index 2 this sent\n",
            "index 2 this sent\n"
          ]
        },
        {
          "name": "stderr",
          "output_type": "stream",
          "text": [
            "100%|██████████| 500/500 [00:08<00:00, 57.38it/s]\n",
            "\n",
            "\n",
            "100%|██████████| 500/500 [00:08<00:00, 57.96it/s]\n",
            "\n",
            "\n"
          ]
        },
        {
          "name": "stdout",
          "output_type": "stream",
          "text": [
            "index 3 this sent\n",
            "index 3 this sent\n",
            "index 3 this sent\n"
          ]
        },
        {
          "name": "stderr",
          "output_type": "stream",
          "text": [
            "100%|██████████| 500/500 [00:08<00:00, 56.06it/s]\n",
            "\n",
            "\n",
            "100%|██████████| 500/500 [00:08<00:00, 59.39it/s]\n",
            "\n",
            "\n"
          ]
        },
        {
          "name": "stdout",
          "output_type": "stream",
          "text": [
            "index 4 this sent\n",
            "index 4 this sent\n",
            "index 4 this sent\n"
          ]
        },
        {
          "name": "stderr",
          "output_type": "stream",
          "text": [
            "100%|██████████| 500/500 [00:08<00:00, 60.48it/s]\n",
            "\n",
            "\n",
            "100%|██████████| 500/500 [00:07<00:00, 63.88it/s]\n",
            "\n",
            "\n"
          ]
        },
        {
          "name": "stdout",
          "output_type": "stream",
          "text": [
            "index 5 this sent\n",
            "index 5 this sent\n",
            "index 5 this sent\n"
          ]
        },
        {
          "name": "stderr",
          "output_type": "stream",
          "text": [
            "100%|██████████| 500/500 [00:07<00:00, 64.23it/s]\n",
            "\n",
            "\n",
            "100%|██████████| 500/500 [00:08<00:00, 56.73it/s]\n",
            "\n",
            "\n"
          ]
        },
        {
          "name": "stdout",
          "output_type": "stream",
          "text": [
            "index 6 this sent\n",
            "index 6 this sent\n",
            "index 6 this sent\n"
          ]
        },
        {
          "name": "stderr",
          "output_type": "stream",
          "text": [
            "100%|██████████| 500/500 [00:08<00:00, 57.19it/s]\n",
            "\n",
            "\n",
            "100%|██████████| 500/500 [00:08<00:00, 55.96it/s]\n",
            "\n",
            "\n"
          ]
        },
        {
          "name": "stdout",
          "output_type": "stream",
          "text": [
            "index 7 this sent\n",
            "index 7 this sent\n",
            "index 7 this sent\n"
          ]
        },
        {
          "name": "stderr",
          "output_type": "stream",
          "text": [
            "100%|██████████| 500/500 [00:08<00:00, 56.36it/s]\n",
            "\n",
            "\n",
            "100%|██████████| 500/500 [00:08<00:00, 57.86it/s]\n",
            "\n",
            "\n"
          ]
        },
        {
          "name": "stdout",
          "output_type": "stream",
          "text": [
            "index 8 this sent\n",
            "index 8 this sent\n",
            "index 8 this sent\n"
          ]
        },
        {
          "name": "stderr",
          "output_type": "stream",
          "text": [
            "100%|██████████| 500/500 [00:08<00:00, 58.84it/s]\n",
            "\n",
            "\n",
            "100%|██████████| 500/500 [00:08<00:00, 62.08it/s]\n",
            "\n",
            "\n"
          ]
        },
        {
          "name": "stdout",
          "output_type": "stream",
          "text": [
            "index 9 this sent\n",
            "index 9 this sent\n",
            "index 9 this sent\n"
          ]
        },
        {
          "name": "stderr",
          "output_type": "stream",
          "text": [
            "100%|██████████| 500/500 [00:08<00:00, 61.87it/s]\n",
            "\n",
            "\n",
            "100%|██████████| 500/500 [00:08<00:00, 57.06it/s]\n",
            "\n",
            "\n"
          ]
        },
        {
          "name": "stdout",
          "output_type": "stream",
          "text": [
            "index 10 this sent\n",
            "index 10 this sent\n",
            "index 10 this sent\n"
          ]
        },
        {
          "name": "stderr",
          "output_type": "stream",
          "text": [
            "100%|██████████| 500/500 [00:08<00:00, 57.20it/s]\n",
            "\n",
            "\n",
            "100%|██████████| 500/500 [00:08<00:00, 55.86it/s]\n",
            "\n",
            "\n"
          ]
        },
        {
          "name": "stdout",
          "output_type": "stream",
          "text": [
            "index 11 this sent\n",
            "index 11 this sent\n",
            "index 11 this sent\n"
          ]
        },
        {
          "name": "stderr",
          "output_type": "stream",
          "text": [
            "100%|██████████| 500/500 [00:09<00:00, 55.00it/s]\n",
            "\n",
            "\n",
            "100%|██████████| 500/500 [00:08<00:00, 55.77it/s]\n",
            "\n",
            "\n"
          ]
        },
        {
          "name": "stdout",
          "output_type": "stream",
          "text": [
            "index 12 this sent\n",
            "index 12 this sent\n",
            "index 12 this sent\n"
          ]
        },
        {
          "name": "stderr",
          "output_type": "stream",
          "text": [
            "100%|██████████| 500/500 [00:08<00:00, 55.75it/s]\n",
            "\n",
            "\n",
            "100%|██████████| 500/500 [00:08<00:00, 60.35it/s]\n",
            "\n",
            "\n"
          ]
        },
        {
          "name": "stdout",
          "output_type": "stream",
          "text": [
            "index 13 this sent\n",
            "index 13 this sent\n",
            "index 13 this sent\n"
          ]
        },
        {
          "name": "stderr",
          "output_type": "stream",
          "text": [
            "100%|██████████| 500/500 [00:08<00:00, 60.11it/s]\n",
            "\n",
            "\n",
            "100%|██████████| 500/500 [00:08<00:00, 61.65it/s]\n",
            "\n",
            "\n"
          ]
        },
        {
          "name": "stdout",
          "output_type": "stream",
          "text": [
            "index 14 this sent\n",
            "index 14 this sent\n",
            "index 14 this sent\n"
          ]
        },
        {
          "name": "stderr",
          "output_type": "stream",
          "text": [
            "100%|██████████| 500/500 [00:08<00:00, 62.01it/s]\n",
            "\n",
            "\n",
            "100%|██████████| 500/500 [00:08<00:00, 55.93it/s]\n",
            "\n",
            "\n"
          ]
        },
        {
          "name": "stdout",
          "output_type": "stream",
          "text": [
            "index 15 this sent\n",
            "index 15 this sent\n",
            "index 15 this sent\n"
          ]
        },
        {
          "name": "stderr",
          "output_type": "stream",
          "text": [
            "100%|██████████| 500/500 [00:08<00:00, 56.72it/s]\n",
            "\n",
            "\n",
            "100%|██████████| 500/500 [00:08<00:00, 57.77it/s]\n",
            "\n",
            "\n"
          ]
        },
        {
          "name": "stdout",
          "output_type": "stream",
          "text": [
            "index 16 this sent\n",
            "index 16 this sent\n",
            "index 16 this sent\n"
          ]
        },
        {
          "name": "stderr",
          "output_type": "stream",
          "text": [
            "100%|██████████| 500/500 [00:08<00:00, 57.40it/s]\n",
            "\n",
            "\n",
            "100%|██████████| 500/500 [00:08<00:00, 60.12it/s]\n",
            "\n",
            "\n"
          ]
        },
        {
          "name": "stdout",
          "output_type": "stream",
          "text": [
            "index 17 this sent\n",
            "index 17 this sent\n",
            "index 17 this sent\n"
          ]
        },
        {
          "name": "stderr",
          "output_type": "stream",
          "text": [
            "100%|██████████| 500/500 [00:08<00:00, 61.24it/s]\n",
            "\n",
            "\n",
            "100%|██████████| 500/500 [00:07<00:00, 63.81it/s]\n",
            "\n",
            "\n"
          ]
        },
        {
          "name": "stdout",
          "output_type": "stream",
          "text": [
            "index 18 this sent\n",
            "index 18 this sent\n",
            "index 18 this sent\n"
          ]
        },
        {
          "name": "stderr",
          "output_type": "stream",
          "text": [
            "100%|██████████| 500/500 [00:07<00:00, 62.74it/s]\n",
            "\n",
            "\n",
            "100%|██████████| 500/500 [00:08<00:00, 57.52it/s]\n",
            "\n",
            "\n"
          ]
        },
        {
          "name": "stdout",
          "output_type": "stream",
          "text": [
            "index 19 this sent\n",
            "index 19 this sent\n",
            "index 19 this sent\n"
          ]
        },
        {
          "name": "stderr",
          "output_type": "stream",
          "text": [
            "100%|██████████| 500/500 [00:08<00:00, 57.04it/s]\n",
            "\n",
            "\n",
            "100%|██████████| 500/500 [00:08<00:00, 57.68it/s]\n",
            "\n",
            "\n"
          ]
        },
        {
          "name": "stdout",
          "output_type": "stream",
          "text": [
            "index 20 this sent\n",
            "index 20 this sent\n",
            "index 20 this sent\n"
          ]
        },
        {
          "name": "stderr",
          "output_type": "stream",
          "text": [
            "100%|██████████| 500/500 [00:08<00:00, 58.15it/s]\n",
            "\n",
            "\n",
            "100%|██████████| 500/500 [00:08<00:00, 59.17it/s]\n",
            "\n",
            "\n"
          ]
        },
        {
          "name": "stdout",
          "output_type": "stream",
          "text": [
            "index 21 this sent\n",
            "index 21 this sent\n",
            "index 21 this sent\n"
          ]
        },
        {
          "name": "stderr",
          "output_type": "stream",
          "text": [
            "100%|██████████| 500/500 [00:08<00:00, 61.07it/s]\n",
            "\n",
            "\n",
            "100%|██████████| 500/500 [00:07<00:00, 63.78it/s]\n",
            "\n",
            "\n"
          ]
        },
        {
          "name": "stdout",
          "output_type": "stream",
          "text": [
            "index 22 this sent\n",
            "index 22 this sent\n",
            "index 22 this sent\n"
          ]
        },
        {
          "name": "stderr",
          "output_type": "stream",
          "text": [
            "100%|██████████| 500/500 [00:07<00:00, 64.04it/s]\n",
            "\n",
            "\n",
            "100%|██████████| 500/500 [00:08<00:00, 56.67it/s]\n",
            "\n",
            "\n"
          ]
        },
        {
          "name": "stdout",
          "output_type": "stream",
          "text": [
            "index 23 this sent\n",
            "index 23 this sent\n",
            "index 23 this sent\n"
          ]
        },
        {
          "name": "stderr",
          "output_type": "stream",
          "text": [
            "100%|██████████| 500/500 [00:08<00:00, 56.31it/s]\n",
            "\n",
            "\n",
            "100%|██████████| 500/500 [00:08<00:00, 57.27it/s]\n",
            "\n",
            "\n"
          ]
        },
        {
          "name": "stdout",
          "output_type": "stream",
          "text": [
            "index 24 this sent\n",
            "index 24 this sent\n",
            "index 24 this sent\n"
          ]
        },
        {
          "name": "stderr",
          "output_type": "stream",
          "text": [
            "100%|██████████| 500/500 [00:08<00:00, 57.51it/s]\n",
            "\n",
            "\n",
            "100%|██████████| 500/500 [00:08<00:00, 60.23it/s]\n",
            "\n",
            "\n"
          ]
        },
        {
          "name": "stdout",
          "output_type": "stream",
          "text": [
            "index 25 this sent\n",
            "index 25 this sent\n",
            "index 25 this sent\n"
          ]
        },
        {
          "name": "stderr",
          "output_type": "stream",
          "text": [
            "100%|██████████| 500/500 [00:08<00:00, 60.99it/s]\n",
            "\n",
            "\n",
            "100%|██████████| 500/500 [00:07<00:00, 63.63it/s]\n",
            "\n",
            "\n"
          ]
        },
        {
          "name": "stdout",
          "output_type": "stream",
          "text": [
            "index 26 this sent\n",
            "index 26 this sent\n",
            "index 26 this sent\n"
          ]
        },
        {
          "name": "stderr",
          "output_type": "stream",
          "text": [
            "100%|██████████| 500/500 [00:07<00:00, 63.53it/s]\n",
            "\n",
            "\n",
            "100%|██████████| 500/500 [00:08<00:00, 57.84it/s]\n",
            "\n",
            "\n"
          ]
        },
        {
          "name": "stdout",
          "output_type": "stream",
          "text": [
            "index 27 this sent\n",
            "index 27 this sent\n",
            "index 27 this sent\n"
          ]
        },
        {
          "name": "stderr",
          "output_type": "stream",
          "text": [
            "100%|██████████| 500/500 [00:08<00:00, 57.23it/s]\n",
            "\n",
            "\n",
            "100%|██████████| 500/500 [00:08<00:00, 58.05it/s]\n",
            "\n",
            "\n"
          ]
        },
        {
          "name": "stdout",
          "output_type": "stream",
          "text": [
            "index 28 this sent\n",
            "index 28 this sent\n",
            "index 28 this sent\n"
          ]
        },
        {
          "name": "stderr",
          "output_type": "stream",
          "text": [
            "100%|██████████| 500/500 [00:08<00:00, 56.00it/s]\n",
            "\n",
            "\n",
            "100%|██████████| 500/500 [00:08<00:00, 59.63it/s]\n",
            "\n",
            "\n"
          ]
        },
        {
          "name": "stdout",
          "output_type": "stream",
          "text": [
            "index 29 this sent\n",
            "index 29 this sent\n",
            "index 29 this sent\n"
          ]
        },
        {
          "name": "stderr",
          "output_type": "stream",
          "text": [
            "100%|██████████| 500/500 [00:07<00:00, 63.47it/s]\n",
            "\n",
            "\n",
            "100%|██████████| 500/500 [00:07<00:00, 63.88it/s]\n",
            "\n",
            "\n"
          ]
        },
        {
          "name": "stdout",
          "output_type": "stream",
          "text": [
            "index 30 this sent\n",
            "index 30 this sent\n",
            "index 30 this sent\n"
          ]
        },
        {
          "name": "stderr",
          "output_type": "stream",
          "text": [
            "100%|██████████| 500/500 [00:07<00:00, 64.11it/s]\n",
            "\n",
            "\n",
            "100%|██████████| 500/500 [00:08<00:00, 57.92it/s]\n",
            "\n",
            "\n"
          ]
        },
        {
          "name": "stdout",
          "output_type": "stream",
          "text": [
            "index 31 this sent\n",
            "index 31 this sent\n",
            "index 31 this sent\n"
          ]
        },
        {
          "name": "stderr",
          "output_type": "stream",
          "text": [
            "100%|██████████| 500/500 [00:08<00:00, 57.86it/s]\n",
            "\n",
            "\n",
            "100%|██████████| 500/500 [00:08<00:00, 56.72it/s]\n",
            "\n",
            "\n"
          ]
        },
        {
          "name": "stdout",
          "output_type": "stream",
          "text": [
            "index 32 this sent\n",
            "index 32 this sent\n",
            "index 32 this sent\n"
          ]
        },
        {
          "name": "stderr",
          "output_type": "stream",
          "text": [
            "100%|██████████| 500/500 [00:08<00:00, 56.75it/s]\n",
            "\n",
            "\n",
            "100%|██████████| 500/500 [00:08<00:00, 62.11it/s]\n",
            "\n",
            "\n"
          ]
        },
        {
          "name": "stdout",
          "output_type": "stream",
          "text": [
            "index 33 this sent\n",
            "index 33 this sent\n",
            "index 33 this sent\n"
          ]
        },
        {
          "name": "stderr",
          "output_type": "stream",
          "text": [
            "100%|██████████| 500/500 [00:07<00:00, 63.73it/s]\n",
            "\n",
            "\n",
            "100%|██████████| 500/500 [00:07<00:00, 64.29it/s]\n",
            "\n",
            "\n"
          ]
        },
        {
          "name": "stdout",
          "output_type": "stream",
          "text": [
            "index 34 this sent\n",
            "index 34 this sent\n",
            "index 34 this sent\n"
          ]
        },
        {
          "name": "stderr",
          "output_type": "stream",
          "text": [
            "100%|██████████| 500/500 [00:08<00:00, 61.23it/s]\n",
            "\n",
            "\n",
            "100%|██████████| 500/500 [00:08<00:00, 58.27it/s]\n",
            "\n",
            "\n"
          ]
        },
        {
          "name": "stdout",
          "output_type": "stream",
          "text": [
            "index 35 this sent\n",
            "index 35 this sent\n",
            "index 35 this sent\n"
          ]
        },
        {
          "name": "stderr",
          "output_type": "stream",
          "text": [
            "100%|██████████| 500/500 [00:08<00:00, 58.48it/s]\n",
            "\n",
            "\n",
            "100%|██████████| 500/500 [00:08<00:00, 57.80it/s]\n",
            "\n",
            "\n"
          ]
        },
        {
          "name": "stdout",
          "output_type": "stream",
          "text": [
            "index 36 this sent\n",
            "index 36 this sent\n",
            "index 36 this sent\n"
          ]
        },
        {
          "name": "stderr",
          "output_type": "stream",
          "text": [
            "100%|██████████| 500/500 [00:08<00:00, 58.22it/s]\n",
            "\n",
            "\n",
            "100%|██████████| 500/500 [00:07<00:00, 64.68it/s]\n",
            "\n",
            "\n"
          ]
        },
        {
          "name": "stdout",
          "output_type": "stream",
          "text": [
            "index 37 this sent\n",
            "index 37 this sent\n",
            "index 37 this sent\n"
          ]
        },
        {
          "name": "stderr",
          "output_type": "stream",
          "text": [
            "100%|██████████| 500/500 [00:07<00:00, 64.77it/s]\n",
            "\n",
            "\n",
            "100%|██████████| 500/500 [00:08<00:00, 61.25it/s]\n",
            "\n",
            "\n"
          ]
        },
        {
          "name": "stdout",
          "output_type": "stream",
          "text": [
            "index 38 this sent\n",
            "index 38 this sent\n",
            "index 38 this sent\n"
          ]
        },
        {
          "name": "stderr",
          "output_type": "stream",
          "text": [
            "100%|██████████| 500/500 [00:08<00:00, 60.75it/s]\n",
            "\n",
            "\n",
            "100%|██████████| 500/500 [00:08<00:00, 56.95it/s]\n",
            "\n",
            "\n"
          ]
        },
        {
          "name": "stdout",
          "output_type": "stream",
          "text": [
            "index 39 this sent\n",
            "index 39 this sent\n",
            "index 39 this sent\n"
          ]
        },
        {
          "name": "stderr",
          "output_type": "stream",
          "text": [
            "100%|██████████| 500/500 [00:08<00:00, 57.13it/s]\n",
            "\n",
            "\n",
            "100%|██████████| 500/500 [00:08<00:00, 56.95it/s]\n",
            "\n",
            "\n"
          ]
        },
        {
          "name": "stdout",
          "output_type": "stream",
          "text": [
            "index 40 this sent\n",
            "index 40 this sent\n",
            "index 40 this sent\n"
          ]
        },
        {
          "name": "stderr",
          "output_type": "stream",
          "text": [
            "100%|██████████| 500/500 [00:08<00:00, 57.41it/s]\n",
            "\n",
            "\n",
            "100%|██████████| 500/500 [00:07<00:00, 63.99it/s]\n",
            "\n",
            "\n"
          ]
        },
        {
          "name": "stdout",
          "output_type": "stream",
          "text": [
            "index 41 this sent\n",
            "index 41 this sent\n",
            "index 41 this sent\n"
          ]
        },
        {
          "name": "stderr",
          "output_type": "stream",
          "text": [
            "100%|██████████| 500/500 [00:07<00:00, 65.06it/s]\n",
            "\n",
            "\n",
            "100%|██████████| 500/500 [00:08<00:00, 60.38it/s]\n",
            "\n",
            "\n"
          ]
        },
        {
          "name": "stdout",
          "output_type": "stream",
          "text": [
            "index 42 this sent\n",
            "index 42 this sent\n",
            "index 42 this sent\n"
          ]
        },
        {
          "name": "stderr",
          "output_type": "stream",
          "text": [
            "100%|██████████| 500/500 [00:08<00:00, 59.21it/s]\n",
            "\n",
            "\n",
            "100%|██████████| 500/500 [00:08<00:00, 57.73it/s]\n",
            "\n",
            "\n"
          ]
        },
        {
          "name": "stdout",
          "output_type": "stream",
          "text": [
            "index 43 this sent\n",
            "index 43 this sent\n",
            "index 43 this sent\n"
          ]
        },
        {
          "name": "stderr",
          "output_type": "stream",
          "text": [
            "100%|██████████| 500/500 [00:08<00:00, 59.38it/s]\n",
            "\n",
            "\n",
            "100%|██████████| 500/500 [00:08<00:00, 57.23it/s]\n",
            "\n",
            "\n"
          ]
        },
        {
          "name": "stdout",
          "output_type": "stream",
          "text": [
            "index 44 this sent\n",
            "index 44 this sent\n",
            "index 44 this sent\n"
          ]
        },
        {
          "name": "stderr",
          "output_type": "stream",
          "text": [
            "100%|██████████| 500/500 [00:08<00:00, 59.35it/s]\n",
            "\n",
            "\n",
            "100%|██████████| 500/500 [00:07<00:00, 63.81it/s]\n",
            "\n",
            "\n"
          ]
        },
        {
          "name": "stdout",
          "output_type": "stream",
          "text": [
            "index 45 this sent\n",
            "index 45 this sent\n",
            "index 45 this sent\n"
          ]
        },
        {
          "name": "stderr",
          "output_type": "stream",
          "text": [
            "100%|██████████| 500/500 [00:07<00:00, 63.14it/s]\n",
            "\n",
            "\n",
            "100%|██████████| 500/500 [00:08<00:00, 60.13it/s]\n",
            "\n",
            "\n"
          ]
        },
        {
          "name": "stdout",
          "output_type": "stream",
          "text": [
            "index 46 this sent\n",
            "index 46 this sent\n",
            "index 46 this sent\n"
          ]
        },
        {
          "name": "stderr",
          "output_type": "stream",
          "text": [
            "100%|██████████| 500/500 [00:08<00:00, 57.34it/s]\n",
            "\n",
            "\n",
            "100%|██████████| 500/500 [00:08<00:00, 57.69it/s]\n",
            "\n",
            "\n"
          ]
        },
        {
          "name": "stdout",
          "output_type": "stream",
          "text": [
            "index 47 this sent\n",
            "index 47 this sent\n",
            "index 47 this sent\n"
          ]
        },
        {
          "name": "stderr",
          "output_type": "stream",
          "text": [
            "100%|██████████| 500/500 [00:08<00:00, 57.57it/s]\n",
            "\n",
            "\n",
            "100%|██████████| 500/500 [00:08<00:00, 59.40it/s]\n",
            "\n",
            "\n"
          ]
        },
        {
          "name": "stdout",
          "output_type": "stream",
          "text": [
            "index 48 this sent\n",
            "index 48 this sent\n",
            "index 48 this sent\n"
          ]
        },
        {
          "name": "stderr",
          "output_type": "stream",
          "text": [
            "100%|██████████| 500/500 [00:08<00:00, 61.33it/s]\n",
            "\n",
            "\n",
            "100%|██████████| 500/500 [00:07<00:00, 65.19it/s]\n",
            "\n",
            "\n"
          ]
        },
        {
          "name": "stdout",
          "output_type": "stream",
          "text": [
            "index 49 this sent\n",
            "index 49 this sent\n",
            "index 49 this sent\n"
          ]
        },
        {
          "name": "stderr",
          "output_type": "stream",
          "text": [
            "100%|██████████| 500/500 [00:07<00:00, 62.93it/s]\n",
            "\n",
            "\n",
            "100%|██████████| 500/500 [00:08<00:00, 58.28it/s]\n",
            "\n",
            "\n"
          ]
        },
        {
          "name": "stdout",
          "output_type": "stream",
          "text": [
            "index 50 this sent\n",
            "index 50 this sent\n",
            "index 50 this sent\n"
          ]
        },
        {
          "name": "stderr",
          "output_type": "stream",
          "text": [
            "100%|██████████| 500/500 [00:08<00:00, 58.16it/s]\n",
            "\n",
            "\n",
            "100%|██████████| 500/500 [00:08<00:00, 57.71it/s]\n",
            "\n",
            "\n"
          ]
        },
        {
          "name": "stdout",
          "output_type": "stream",
          "text": [
            "index 51 this sent\n",
            "index 51 this sent\n",
            "index 51 this sent\n"
          ]
        },
        {
          "name": "stderr",
          "output_type": "stream",
          "text": [
            "100%|██████████| 500/500 [00:08<00:00, 57.71it/s]\n",
            "\n",
            "\n",
            "100%|██████████| 500/500 [00:08<00:00, 62.36it/s]\n",
            "\n",
            "\n"
          ]
        },
        {
          "name": "stdout",
          "output_type": "stream",
          "text": [
            "index 52 this sent\n",
            "index 52 this sent\n",
            "index 52 this sent\n"
          ]
        },
        {
          "name": "stderr",
          "output_type": "stream",
          "text": [
            "100%|██████████| 500/500 [00:07<00:00, 63.12it/s]\n",
            "\n",
            "\n",
            "100%|██████████| 500/500 [00:07<00:00, 63.01it/s]\n",
            "\n",
            "\n"
          ]
        },
        {
          "name": "stdout",
          "output_type": "stream",
          "text": [
            "index 53 this sent\n",
            "index 53 this sent\n",
            "index 53 this sent\n"
          ]
        },
        {
          "name": "stderr",
          "output_type": "stream",
          "text": [
            "100%|██████████| 500/500 [00:08<00:00, 62.26it/s]\n",
            "\n",
            "\n",
            "100%|██████████| 500/500 [00:08<00:00, 57.12it/s]\n",
            "\n",
            "\n"
          ]
        },
        {
          "name": "stdout",
          "output_type": "stream",
          "text": [
            "index 54 this sent\n",
            "index 54 this sent\n",
            "index 54 this sent\n"
          ]
        },
        {
          "name": "stderr",
          "output_type": "stream",
          "text": [
            "100%|██████████| 500/500 [00:08<00:00, 57.43it/s]\n",
            "\n",
            "\n",
            "100%|██████████| 500/500 [00:08<00:00, 56.94it/s]\n",
            "\n",
            "\n"
          ]
        },
        {
          "name": "stdout",
          "output_type": "stream",
          "text": [
            "index 55 this sent\n",
            "index 55 this sent\n",
            "index 55 this sent\n"
          ]
        },
        {
          "name": "stderr",
          "output_type": "stream",
          "text": [
            "100%|██████████| 500/500 [00:08<00:00, 58.17it/s]\n",
            "\n",
            "\n",
            "100%|██████████| 500/500 [00:07<00:00, 63.09it/s]\n",
            "\n",
            "\n"
          ]
        },
        {
          "name": "stdout",
          "output_type": "stream",
          "text": [
            "index 56 this sent\n",
            "index 56 this sent\n",
            "index 56 this sent\n"
          ]
        },
        {
          "name": "stderr",
          "output_type": "stream",
          "text": [
            "100%|██████████| 500/500 [00:07<00:00, 63.10it/s]\n",
            "\n",
            "\n",
            "100%|██████████| 500/500 [00:07<00:00, 64.98it/s]\n",
            "\n",
            "\n"
          ]
        },
        {
          "name": "stdout",
          "output_type": "stream",
          "text": [
            "index 57 this sent\n",
            "index 57 this sent\n",
            "index 57 this sent\n"
          ]
        },
        {
          "name": "stderr",
          "output_type": "stream",
          "text": [
            "100%|██████████| 500/500 [00:08<00:00, 61.46it/s]\n",
            "\n",
            "\n",
            "100%|██████████| 500/500 [00:08<00:00, 56.96it/s]\n",
            "\n",
            "\n"
          ]
        },
        {
          "name": "stdout",
          "output_type": "stream",
          "text": [
            "-2.220446049250313e-16\n",
            "\n",
            "NEW RUN: layer 11 rank 64 theta 0.3\n",
            "\n",
            "index 0 this sent\n",
            "-2.220446049250313e-16\n",
            "\n",
            "NEW RUN: layer 11 rank 64 theta 0.3\n",
            "\n",
            "index 0 this sent\n",
            "-2.220446049250313e-16\n",
            "\n",
            "NEW RUN: layer 11 rank 64 theta 0.3\n",
            "\n",
            "index 0 this sent\n"
          ]
        },
        {
          "name": "stderr",
          "output_type": "stream",
          "text": [
            "100%|██████████| 500/500 [00:08<00:00, 56.82it/s]\n",
            "\n",
            "\n",
            "100%|██████████| 500/500 [00:08<00:00, 57.38it/s]\n",
            "\n",
            "\n"
          ]
        },
        {
          "name": "stdout",
          "output_type": "stream",
          "text": [
            "index 1 this sent\n",
            "index 1 this sent\n",
            "index 1 this sent\n"
          ]
        },
        {
          "name": "stderr",
          "output_type": "stream",
          "text": [
            "100%|██████████| 500/500 [00:08<00:00, 56.90it/s]\n",
            "\n",
            "\n",
            "100%|██████████| 500/500 [00:08<00:00, 61.22it/s]\n",
            "\n",
            "\n"
          ]
        },
        {
          "name": "stdout",
          "output_type": "stream",
          "text": [
            "index 2 this sent\n",
            "index 2 this sent\n",
            "index 2 this sent\n"
          ]
        },
        {
          "name": "stderr",
          "output_type": "stream",
          "text": [
            "100%|██████████| 500/500 [00:07<00:00, 62.94it/s]\n",
            "\n",
            "\n",
            "100%|██████████| 500/500 [00:07<00:00, 64.27it/s]\n",
            "\n",
            "\n"
          ]
        },
        {
          "name": "stdout",
          "output_type": "stream",
          "text": [
            "index 3 this sent\n",
            "index 3 this sent\n",
            "index 3 this sent\n"
          ]
        },
        {
          "name": "stderr",
          "output_type": "stream",
          "text": [
            "100%|██████████| 500/500 [00:07<00:00, 62.64it/s]\n",
            "\n",
            "\n",
            "100%|██████████| 500/500 [00:08<00:00, 56.58it/s]\n",
            "\n",
            "\n"
          ]
        },
        {
          "name": "stdout",
          "output_type": "stream",
          "text": [
            "index 4 this sent\n",
            "index 4 this sent\n",
            "index 4 this sent\n"
          ]
        },
        {
          "name": "stderr",
          "output_type": "stream",
          "text": [
            "100%|██████████| 500/500 [00:08<00:00, 57.32it/s]\n",
            "\n",
            "\n",
            "100%|██████████| 500/500 [00:08<00:00, 56.65it/s]\n",
            "\n",
            "\n"
          ]
        },
        {
          "name": "stdout",
          "output_type": "stream",
          "text": [
            "index 5 this sent\n",
            "index 5 this sent\n",
            "index 5 this sent\n"
          ]
        },
        {
          "name": "stderr",
          "output_type": "stream",
          "text": [
            "100%|██████████| 500/500 [00:08<00:00, 57.80it/s]\n",
            "\n",
            "\n",
            "100%|██████████| 500/500 [00:08<00:00, 61.38it/s]\n",
            "\n",
            "\n"
          ]
        },
        {
          "name": "stdout",
          "output_type": "stream",
          "text": [
            "index 6 this sent\n",
            "index 6 this sent\n",
            "index 6 this sent\n"
          ]
        },
        {
          "name": "stderr",
          "output_type": "stream",
          "text": [
            "100%|██████████| 500/500 [00:08<00:00, 62.34it/s]\n",
            "\n",
            "\n",
            "100%|██████████| 500/500 [00:07<00:00, 63.63it/s]\n",
            "\n",
            "\n"
          ]
        },
        {
          "name": "stdout",
          "output_type": "stream",
          "text": [
            "index 7 this sent\n",
            "index 7 this sent\n",
            "index 7 this sent\n"
          ]
        },
        {
          "name": "stderr",
          "output_type": "stream",
          "text": [
            "100%|██████████| 500/500 [00:07<00:00, 63.55it/s]\n",
            "\n",
            "\n",
            "100%|██████████| 500/500 [00:08<00:00, 57.63it/s]\n",
            "\n",
            "\n"
          ]
        },
        {
          "name": "stdout",
          "output_type": "stream",
          "text": [
            "index 8 this sent\n",
            "index 8 this sent\n",
            "index 8 this sent\n"
          ]
        },
        {
          "name": "stderr",
          "output_type": "stream",
          "text": [
            "100%|██████████| 500/500 [00:08<00:00, 57.06it/s]\n",
            "\n",
            "\n",
            "100%|██████████| 500/500 [00:08<00:00, 56.64it/s]\n",
            "\n",
            "\n"
          ]
        },
        {
          "name": "stdout",
          "output_type": "stream",
          "text": [
            "index 9 this sent\n",
            "index 9 this sent\n",
            "index 9 this sent\n"
          ]
        },
        {
          "name": "stderr",
          "output_type": "stream",
          "text": [
            "100%|██████████| 500/500 [00:08<00:00, 56.11it/s]\n",
            "\n",
            "\n",
            "100%|██████████| 500/500 [00:08<00:00, 60.45it/s]\n",
            "\n",
            "\n"
          ]
        },
        {
          "name": "stdout",
          "output_type": "stream",
          "text": [
            "index 10 this sent\n",
            "index 10 this sent\n",
            "index 10 this sent\n"
          ]
        },
        {
          "name": "stderr",
          "output_type": "stream",
          "text": [
            "100%|██████████| 500/500 [00:07<00:00, 63.20it/s]\n",
            "\n",
            "\n",
            "100%|██████████| 500/500 [00:07<00:00, 62.93it/s]\n",
            "\n",
            "\n"
          ]
        },
        {
          "name": "stdout",
          "output_type": "stream",
          "text": [
            "index 11 this sent\n",
            "index 11 this sent\n",
            "index 11 this sent\n"
          ]
        },
        {
          "name": "stderr",
          "output_type": "stream",
          "text": [
            "100%|██████████| 500/500 [00:07<00:00, 63.23it/s]\n",
            "\n",
            "\n",
            "100%|██████████| 500/500 [00:08<00:00, 57.14it/s]\n",
            "\n",
            "\n"
          ]
        },
        {
          "name": "stdout",
          "output_type": "stream",
          "text": [
            "index 12 this sent\n",
            "index 12 this sent\n",
            "index 12 this sent\n"
          ]
        },
        {
          "name": "stderr",
          "output_type": "stream",
          "text": [
            "100%|██████████| 500/500 [00:08<00:00, 57.03it/s]\n",
            "\n",
            "\n",
            "100%|██████████| 500/500 [00:08<00:00, 57.48it/s]\n",
            "\n",
            "\n"
          ]
        },
        {
          "name": "stdout",
          "output_type": "stream",
          "text": [
            "index 13 this sent\n",
            "index 13 this sent\n",
            "index 13 this sent\n"
          ]
        },
        {
          "name": "stderr",
          "output_type": "stream",
          "text": [
            "100%|██████████| 500/500 [00:08<00:00, 57.22it/s]\n",
            "\n",
            "\n",
            "100%|██████████| 500/500 [00:08<00:00, 61.86it/s]\n",
            "\n",
            "\n"
          ]
        },
        {
          "name": "stdout",
          "output_type": "stream",
          "text": [
            "index 14 this sent\n",
            "index 14 this sent\n",
            "index 14 this sent\n"
          ]
        },
        {
          "name": "stderr",
          "output_type": "stream",
          "text": [
            "100%|██████████| 500/500 [00:07<00:00, 63.70it/s]\n",
            "\n",
            "\n",
            "100%|██████████| 500/500 [00:07<00:00, 63.87it/s]\n",
            "\n",
            "\n"
          ]
        },
        {
          "name": "stdout",
          "output_type": "stream",
          "text": [
            "index 15 this sent\n",
            "index 15 this sent\n",
            "index 15 this sent\n"
          ]
        },
        {
          "name": "stderr",
          "output_type": "stream",
          "text": [
            "100%|██████████| 500/500 [00:07<00:00, 62.56it/s]\n",
            "\n",
            "\n",
            "100%|██████████| 500/500 [00:08<00:00, 56.77it/s]\n",
            "\n",
            "\n"
          ]
        },
        {
          "name": "stdout",
          "output_type": "stream",
          "text": [
            "index 16 this sent\n",
            "index 16 this sent\n",
            "index 16 this sent\n"
          ]
        },
        {
          "name": "stderr",
          "output_type": "stream",
          "text": [
            "100%|██████████| 500/500 [00:08<00:00, 56.70it/s]\n",
            "\n",
            "\n",
            "100%|██████████| 500/500 [00:08<00:00, 56.66it/s]\n",
            "\n",
            "\n"
          ]
        },
        {
          "name": "stdout",
          "output_type": "stream",
          "text": [
            "index 17 this sent\n",
            "index 17 this sent\n",
            "index 17 this sent\n"
          ]
        },
        {
          "name": "stderr",
          "output_type": "stream",
          "text": [
            "100%|██████████| 500/500 [00:08<00:00, 56.82it/s]\n",
            "\n",
            "\n",
            "100%|██████████| 500/500 [00:08<00:00, 60.97it/s]\n",
            "\n",
            "\n"
          ]
        },
        {
          "name": "stdout",
          "output_type": "stream",
          "text": [
            "index 18 this sent\n",
            "index 18 this sent\n",
            "index 18 this sent\n"
          ]
        },
        {
          "name": "stderr",
          "output_type": "stream",
          "text": [
            "100%|██████████| 500/500 [00:08<00:00, 61.09it/s]\n",
            "\n",
            "\n",
            "100%|██████████| 500/500 [00:07<00:00, 62.88it/s]\n",
            "\n",
            "\n"
          ]
        },
        {
          "name": "stdout",
          "output_type": "stream",
          "text": [
            "index 19 this sent\n",
            "index 19 this sent\n",
            "index 19 this sent\n"
          ]
        },
        {
          "name": "stderr",
          "output_type": "stream",
          "text": [
            "100%|██████████| 500/500 [00:07<00:00, 64.05it/s]\n",
            "\n",
            "\n",
            "100%|██████████| 500/500 [00:08<00:00, 57.50it/s]\n",
            "\n",
            "\n"
          ]
        },
        {
          "name": "stdout",
          "output_type": "stream",
          "text": [
            "index 20 this sent\n",
            "index 20 this sent\n",
            "index 20 this sent\n"
          ]
        },
        {
          "name": "stderr",
          "output_type": "stream",
          "text": [
            "100%|██████████| 500/500 [00:08<00:00, 57.20it/s]\n",
            "\n",
            "\n",
            "100%|██████████| 500/500 [00:08<00:00, 58.36it/s]\n",
            "\n",
            "\n"
          ]
        },
        {
          "name": "stdout",
          "output_type": "stream",
          "text": [
            "index 21 this sent\n",
            "index 21 this sent\n",
            "index 21 this sent\n"
          ]
        },
        {
          "name": "stderr",
          "output_type": "stream",
          "text": [
            "100%|██████████| 500/500 [00:08<00:00, 57.41it/s]\n",
            "\n",
            "\n",
            "100%|██████████| 500/500 [00:08<00:00, 61.47it/s]\n",
            "\n",
            "\n"
          ]
        },
        {
          "name": "stdout",
          "output_type": "stream",
          "text": [
            "index 22 this sent\n",
            "index 22 this sent\n",
            "index 22 this sent\n"
          ]
        },
        {
          "name": "stderr",
          "output_type": "stream",
          "text": [
            "100%|██████████| 500/500 [00:08<00:00, 61.32it/s]\n",
            "\n",
            "\n",
            "100%|██████████| 500/500 [00:07<00:00, 63.78it/s]\n",
            "\n",
            "\n"
          ]
        },
        {
          "name": "stdout",
          "output_type": "stream",
          "text": [
            "index 23 this sent\n",
            "index 23 this sent\n",
            "index 23 this sent\n"
          ]
        },
        {
          "name": "stderr",
          "output_type": "stream",
          "text": [
            "100%|██████████| 500/500 [00:07<00:00, 63.82it/s]\n",
            "\n",
            "\n",
            "100%|██████████| 500/500 [00:08<00:00, 58.56it/s]\n",
            "\n",
            "\n"
          ]
        },
        {
          "name": "stdout",
          "output_type": "stream",
          "text": [
            "index 24 this sent\n",
            "index 24 this sent\n",
            "index 24 this sent\n"
          ]
        },
        {
          "name": "stderr",
          "output_type": "stream",
          "text": [
            "100%|██████████| 500/500 [00:08<00:00, 57.42it/s]\n",
            "\n",
            "\n",
            "100%|██████████| 500/500 [00:08<00:00, 57.52it/s]\n",
            "\n",
            "\n"
          ]
        },
        {
          "name": "stdout",
          "output_type": "stream",
          "text": [
            "index 25 this sent\n",
            "index 25 this sent\n",
            "index 25 this sent\n"
          ]
        },
        {
          "name": "stderr",
          "output_type": "stream",
          "text": [
            "100%|██████████| 500/500 [00:08<00:00, 56.11it/s]\n",
            "\n",
            "\n",
            "100%|██████████| 500/500 [00:07<00:00, 63.16it/s]\n",
            "\n",
            "\n"
          ]
        },
        {
          "name": "stdout",
          "output_type": "stream",
          "text": [
            "index 26 this sent\n",
            "index 26 this sent\n",
            "index 26 this sent\n"
          ]
        },
        {
          "name": "stderr",
          "output_type": "stream",
          "text": [
            "100%|██████████| 500/500 [00:07<00:00, 63.43it/s]\n",
            "\n",
            "\n",
            "100%|██████████| 500/500 [00:07<00:00, 63.42it/s]\n",
            "\n",
            "\n"
          ]
        },
        {
          "name": "stdout",
          "output_type": "stream",
          "text": [
            "index 27 this sent\n",
            "index 27 this sent\n",
            "index 27 this sent\n"
          ]
        },
        {
          "name": "stderr",
          "output_type": "stream",
          "text": [
            "100%|██████████| 500/500 [00:08<00:00, 61.46it/s]\n",
            "\n",
            "\n",
            "100%|██████████| 500/500 [00:08<00:00, 55.82it/s]\n",
            "\n",
            "\n"
          ]
        },
        {
          "name": "stdout",
          "output_type": "stream",
          "text": [
            "index 28 this sent\n",
            "index 28 this sent\n",
            "index 28 this sent\n"
          ]
        },
        {
          "name": "stderr",
          "output_type": "stream",
          "text": [
            "100%|██████████| 500/500 [00:08<00:00, 56.98it/s]\n",
            "\n",
            "\n",
            "100%|██████████| 500/500 [00:08<00:00, 56.51it/s]\n",
            "\n",
            "\n"
          ]
        },
        {
          "name": "stdout",
          "output_type": "stream",
          "text": [
            "index 29 this sent\n",
            "index 29 this sent\n",
            "index 29 this sent\n"
          ]
        },
        {
          "name": "stderr",
          "output_type": "stream",
          "text": [
            "100%|██████████| 500/500 [00:08<00:00, 56.35it/s]\n",
            "\n",
            "\n",
            "100%|██████████| 500/500 [00:08<00:00, 62.15it/s]\n",
            "\n",
            "\n"
          ]
        },
        {
          "name": "stdout",
          "output_type": "stream",
          "text": [
            "index 30 this sent\n",
            "index 30 this sent\n",
            "index 30 this sent\n"
          ]
        },
        {
          "name": "stderr",
          "output_type": "stream",
          "text": [
            "100%|██████████| 500/500 [00:07<00:00, 63.08it/s]\n",
            "\n",
            "\n",
            "100%|██████████| 500/500 [00:07<00:00, 62.90it/s]\n",
            "\n",
            "\n"
          ]
        },
        {
          "name": "stdout",
          "output_type": "stream",
          "text": [
            "index 31 this sent\n",
            "index 31 this sent\n",
            "index 31 this sent\n"
          ]
        },
        {
          "name": "stderr",
          "output_type": "stream",
          "text": [
            "100%|██████████| 500/500 [00:08<00:00, 62.31it/s]\n",
            "\n",
            "\n",
            "100%|██████████| 500/500 [00:08<00:00, 57.44it/s]\n",
            "\n",
            "\n"
          ]
        },
        {
          "name": "stdout",
          "output_type": "stream",
          "text": [
            "index 32 this sent\n",
            "index 32 this sent\n",
            "index 32 this sent\n"
          ]
        },
        {
          "name": "stderr",
          "output_type": "stream",
          "text": [
            "100%|██████████| 500/500 [00:08<00:00, 56.50it/s]\n",
            "\n",
            "\n",
            "100%|██████████| 500/500 [00:08<00:00, 56.78it/s]\n",
            "\n",
            "\n"
          ]
        },
        {
          "name": "stdout",
          "output_type": "stream",
          "text": [
            "index 33 this sent\n",
            "index 33 this sent\n",
            "index 33 this sent\n"
          ]
        },
        {
          "name": "stderr",
          "output_type": "stream",
          "text": [
            "100%|██████████| 500/500 [00:08<00:00, 57.56it/s]\n",
            "\n",
            "\n",
            "100%|██████████| 500/500 [00:08<00:00, 61.91it/s]\n",
            "\n",
            "\n"
          ]
        },
        {
          "name": "stdout",
          "output_type": "stream",
          "text": [
            "index 34 this sent\n",
            "index 34 this sent\n",
            "index 34 this sent\n"
          ]
        },
        {
          "name": "stderr",
          "output_type": "stream",
          "text": [
            "100%|██████████| 500/500 [00:07<00:00, 63.38it/s]\n",
            "\n",
            "\n",
            "100%|██████████| 500/500 [00:07<00:00, 62.90it/s]\n",
            "\n",
            "\n"
          ]
        },
        {
          "name": "stdout",
          "output_type": "stream",
          "text": [
            "index 35 this sent\n",
            "index 35 this sent\n",
            "index 35 this sent\n"
          ]
        },
        {
          "name": "stderr",
          "output_type": "stream",
          "text": [
            "100%|██████████| 500/500 [00:08<00:00, 61.91it/s]\n",
            "\n",
            "\n",
            "100%|██████████| 500/500 [00:08<00:00, 56.82it/s]\n",
            "\n",
            "\n"
          ]
        },
        {
          "name": "stdout",
          "output_type": "stream",
          "text": [
            "index 36 this sent\n",
            "index 36 this sent\n",
            "index 36 this sent\n"
          ]
        },
        {
          "name": "stderr",
          "output_type": "stream",
          "text": [
            "100%|██████████| 500/500 [00:08<00:00, 57.73it/s]\n",
            "\n",
            "\n",
            "100%|██████████| 500/500 [00:08<00:00, 58.25it/s]\n",
            "\n",
            "\n"
          ]
        },
        {
          "name": "stdout",
          "output_type": "stream",
          "text": [
            "index 37 this sent\n",
            "index 37 this sent\n",
            "index 37 this sent\n"
          ]
        },
        {
          "name": "stderr",
          "output_type": "stream",
          "text": [
            "100%|██████████| 500/500 [00:08<00:00, 57.12it/s]\n",
            "\n",
            "\n",
            "100%|██████████| 500/500 [00:08<00:00, 61.37it/s]\n",
            "\n",
            "\n"
          ]
        },
        {
          "name": "stdout",
          "output_type": "stream",
          "text": [
            "index 38 this sent\n",
            "index 38 this sent\n",
            "index 38 this sent\n"
          ]
        },
        {
          "name": "stderr",
          "output_type": "stream",
          "text": [
            "100%|██████████| 500/500 [00:07<00:00, 64.19it/s]\n",
            "\n",
            "\n",
            "100%|██████████| 500/500 [00:07<00:00, 63.77it/s]\n",
            "\n",
            "\n"
          ]
        },
        {
          "name": "stdout",
          "output_type": "stream",
          "text": [
            "index 39 this sent\n",
            "index 39 this sent\n",
            "index 39 this sent\n"
          ]
        },
        {
          "name": "stderr",
          "output_type": "stream",
          "text": [
            "100%|██████████| 500/500 [00:08<00:00, 61.53it/s]\n",
            "\n",
            "\n",
            "100%|██████████| 500/500 [00:08<00:00, 57.57it/s]\n",
            "\n",
            "\n"
          ]
        },
        {
          "name": "stdout",
          "output_type": "stream",
          "text": [
            "index 40 this sent\n",
            "index 40 this sent\n",
            "index 40 this sent\n"
          ]
        },
        {
          "name": "stderr",
          "output_type": "stream",
          "text": [
            "100%|██████████| 500/500 [00:08<00:00, 57.99it/s]\n",
            "\n",
            "\n",
            "100%|██████████| 500/500 [00:08<00:00, 57.56it/s]\n",
            "\n",
            "\n"
          ]
        },
        {
          "name": "stdout",
          "output_type": "stream",
          "text": [
            "index 41 this sent\n",
            "index 41 this sent\n",
            "index 41 this sent\n"
          ]
        },
        {
          "name": "stderr",
          "output_type": "stream",
          "text": [
            "100%|██████████| 500/500 [00:08<00:00, 57.26it/s]\n",
            "\n",
            "\n",
            "100%|██████████| 500/500 [00:07<00:00, 64.94it/s]\n",
            "\n",
            "\n"
          ]
        },
        {
          "name": "stdout",
          "output_type": "stream",
          "text": [
            "index 42 this sent\n",
            "index 42 this sent\n",
            "index 42 this sent\n"
          ]
        },
        {
          "name": "stderr",
          "output_type": "stream",
          "text": [
            "100%|██████████| 500/500 [00:07<00:00, 65.46it/s]\n",
            "\n",
            "\n",
            "100%|██████████| 500/500 [00:08<00:00, 61.29it/s]\n",
            "\n",
            "\n"
          ]
        },
        {
          "name": "stdout",
          "output_type": "stream",
          "text": [
            "index 43 this sent\n",
            "index 43 this sent\n",
            "index 43 this sent\n"
          ]
        },
        {
          "name": "stderr",
          "output_type": "stream",
          "text": [
            "100%|██████████| 500/500 [00:08<00:00, 60.75it/s]\n",
            "\n",
            "\n",
            "100%|██████████| 500/500 [00:08<00:00, 58.40it/s]\n",
            "\n",
            "\n"
          ]
        },
        {
          "name": "stdout",
          "output_type": "stream",
          "text": [
            "index 44 this sent\n",
            "index 44 this sent\n",
            "index 44 this sent\n"
          ]
        },
        {
          "name": "stderr",
          "output_type": "stream",
          "text": [
            "100%|██████████| 500/500 [00:08<00:00, 57.74it/s]\n",
            "\n",
            "\n",
            "100%|██████████| 500/500 [00:08<00:00, 57.89it/s]\n",
            "\n",
            "\n"
          ]
        },
        {
          "name": "stdout",
          "output_type": "stream",
          "text": [
            "index 45 this sent\n",
            "index 45 this sent\n",
            "index 45 this sent\n"
          ]
        },
        {
          "name": "stderr",
          "output_type": "stream",
          "text": [
            "100%|██████████| 500/500 [00:08<00:00, 59.75it/s]\n",
            "\n",
            "\n",
            "100%|██████████| 500/500 [00:07<00:00, 64.14it/s]\n",
            "\n",
            "\n"
          ]
        },
        {
          "name": "stdout",
          "output_type": "stream",
          "text": [
            "index 46 this sent\n",
            "index 46 this sent\n",
            "index 46 this sent\n"
          ]
        },
        {
          "name": "stderr",
          "output_type": "stream",
          "text": [
            "100%|██████████| 500/500 [00:07<00:00, 64.04it/s]\n",
            "\n",
            "\n",
            "100%|██████████| 500/500 [00:08<00:00, 58.53it/s]\n",
            "\n",
            "\n"
          ]
        },
        {
          "name": "stdout",
          "output_type": "stream",
          "text": [
            "index 47 this sent\n",
            "index 47 this sent\n",
            "index 47 this sent\n"
          ]
        },
        {
          "name": "stderr",
          "output_type": "stream",
          "text": [
            "100%|██████████| 500/500 [00:08<00:00, 58.13it/s]\n",
            "\n",
            "\n",
            "100%|██████████| 500/500 [00:08<00:00, 58.38it/s]\n",
            "\n",
            "\n"
          ]
        },
        {
          "name": "stdout",
          "output_type": "stream",
          "text": [
            "index 48 this sent\n",
            "index 48 this sent\n",
            "index 48 this sent\n"
          ]
        },
        {
          "name": "stderr",
          "output_type": "stream",
          "text": [
            "100%|██████████| 500/500 [00:08<00:00, 59.34it/s]\n",
            "\n",
            "\n",
            "100%|██████████| 500/500 [00:08<00:00, 61.63it/s]\n",
            "\n",
            "\n"
          ]
        },
        {
          "name": "stdout",
          "output_type": "stream",
          "text": [
            "index 49 this sent\n",
            "index 49 this sent\n",
            "index 49 this sent\n"
          ]
        },
        {
          "name": "stderr",
          "output_type": "stream",
          "text": [
            "100%|██████████| 500/500 [00:07<00:00, 63.14it/s]\n",
            "\n",
            "\n",
            "100%|██████████| 500/500 [00:07<00:00, 64.05it/s]\n",
            "\n",
            "\n"
          ]
        },
        {
          "name": "stdout",
          "output_type": "stream",
          "text": [
            "index 50 this sent\n",
            "index 50 this sent\n",
            "index 50 this sent\n"
          ]
        },
        {
          "name": "stderr",
          "output_type": "stream",
          "text": [
            "100%|██████████| 500/500 [00:07<00:00, 62.91it/s]\n",
            "\n",
            "\n",
            "100%|██████████| 500/500 [00:08<00:00, 58.02it/s]\n",
            "\n",
            "\n"
          ]
        },
        {
          "name": "stdout",
          "output_type": "stream",
          "text": [
            "index 51 this sent\n",
            "index 51 this sent\n",
            "index 51 this sent\n"
          ]
        },
        {
          "name": "stderr",
          "output_type": "stream",
          "text": [
            "100%|██████████| 500/500 [00:08<00:00, 57.97it/s]\n",
            "\n",
            "\n",
            "100%|██████████| 500/500 [00:08<00:00, 57.55it/s]\n",
            "\n",
            "\n"
          ]
        },
        {
          "name": "stdout",
          "output_type": "stream",
          "text": [
            "index 52 this sent\n",
            "index 52 this sent\n",
            "index 52 this sent\n"
          ]
        },
        {
          "name": "stderr",
          "output_type": "stream",
          "text": [
            "100%|██████████| 500/500 [00:08<00:00, 57.63it/s]\n",
            "\n",
            "\n",
            "100%|██████████| 500/500 [00:07<00:00, 63.35it/s]\n",
            "\n",
            "\n"
          ]
        },
        {
          "name": "stdout",
          "output_type": "stream",
          "text": [
            "index 53 this sent\n",
            "index 53 this sent\n",
            "index 53 this sent\n"
          ]
        },
        {
          "name": "stderr",
          "output_type": "stream",
          "text": [
            "100%|██████████| 500/500 [00:07<00:00, 64.80it/s]\n",
            "\n",
            "\n",
            "100%|██████████| 500/500 [00:07<00:00, 62.55it/s]\n",
            "\n",
            "\n"
          ]
        },
        {
          "name": "stdout",
          "output_type": "stream",
          "text": [
            "index 54 this sent\n",
            "index 54 this sent\n",
            "index 54 this sent\n"
          ]
        },
        {
          "name": "stderr",
          "output_type": "stream",
          "text": [
            "100%|██████████| 500/500 [00:08<00:00, 61.02it/s]\n",
            "\n",
            "\n",
            "100%|██████████| 500/500 [00:08<00:00, 57.87it/s]\n",
            "\n",
            "\n"
          ]
        },
        {
          "name": "stdout",
          "output_type": "stream",
          "text": [
            "index 55 this sent\n",
            "index 55 this sent\n",
            "index 55 this sent\n"
          ]
        },
        {
          "name": "stderr",
          "output_type": "stream",
          "text": [
            "100%|██████████| 500/500 [00:08<00:00, 57.26it/s]\n",
            "\n",
            "\n",
            "100%|██████████| 500/500 [00:08<00:00, 57.71it/s]\n",
            "\n",
            "\n"
          ]
        },
        {
          "name": "stdout",
          "output_type": "stream",
          "text": [
            "index 56 this sent\n",
            "index 56 this sent\n",
            "index 56 this sent\n"
          ]
        },
        {
          "name": "stderr",
          "output_type": "stream",
          "text": [
            "100%|██████████| 500/500 [00:08<00:00, 58.25it/s]\n",
            "\n",
            "\n",
            "100%|██████████| 500/500 [00:07<00:00, 64.86it/s]\n",
            "\n",
            "\n"
          ]
        },
        {
          "name": "stdout",
          "output_type": "stream",
          "text": [
            "index 57 this sent\n",
            "index 57 this sent\n",
            "index 57 this sent\n"
          ]
        },
        {
          "name": "stderr",
          "output_type": "stream",
          "text": [
            "100%|██████████| 500/500 [00:07<00:00, 64.18it/s]\n",
            "\n",
            "\n",
            "100%|██████████| 500/500 [00:08<00:00, 60.58it/s]\n",
            "\n",
            "\n"
          ]
        },
        {
          "name": "stdout",
          "output_type": "stream",
          "text": [
            "0.07999385411417315\n",
            "\n",
            "NEW RUN: layer 11 rank 64 theta 0.6\n",
            "\n",
            "index 0 this sent\n",
            "0.07999385411417315\n",
            "\n",
            "NEW RUN: layer 11 rank 64 theta 0.6\n",
            "\n",
            "index 0 this sent\n",
            "0.07999385411417315\n",
            "\n",
            "NEW RUN: layer 11 rank 64 theta 0.6\n",
            "\n",
            "index 0 this sent\n"
          ]
        },
        {
          "name": "stderr",
          "output_type": "stream",
          "text": [
            "100%|██████████| 500/500 [00:08<00:00, 58.50it/s]\n",
            "\n",
            "\n",
            "100%|██████████| 500/500 [00:08<00:00, 58.04it/s]\n",
            "\n",
            "\n"
          ]
        },
        {
          "name": "stdout",
          "output_type": "stream",
          "text": [
            "index 1 this sent\n",
            "index 1 this sent\n",
            "index 1 this sent\n"
          ]
        },
        {
          "name": "stderr",
          "output_type": "stream",
          "text": [
            "100%|██████████| 500/500 [00:08<00:00, 57.02it/s]\n",
            "\n",
            "\n",
            "100%|██████████| 500/500 [00:08<00:00, 59.25it/s]\n",
            "\n",
            "\n"
          ]
        },
        {
          "name": "stdout",
          "output_type": "stream",
          "text": [
            "index 2 this sent\n",
            "index 2 this sent\n",
            "index 2 this sent\n"
          ]
        },
        {
          "name": "stderr",
          "output_type": "stream",
          "text": [
            "100%|██████████| 500/500 [00:08<00:00, 59.80it/s]\n",
            "\n",
            "\n",
            "100%|██████████| 500/500 [00:07<00:00, 63.92it/s]\n",
            "\n",
            "\n"
          ]
        },
        {
          "name": "stdout",
          "output_type": "stream",
          "text": [
            "index 3 this sent\n",
            "index 3 this sent\n",
            "index 3 this sent\n"
          ]
        },
        {
          "name": "stderr",
          "output_type": "stream",
          "text": [
            "100%|██████████| 500/500 [00:07<00:00, 63.66it/s]\n",
            "\n",
            "\n",
            "100%|██████████| 500/500 [00:08<00:00, 56.77it/s]\n",
            "\n",
            "\n"
          ]
        },
        {
          "name": "stdout",
          "output_type": "stream",
          "text": [
            "index 4 this sent\n",
            "index 4 this sent\n",
            "index 4 this sent\n"
          ]
        },
        {
          "name": "stderr",
          "output_type": "stream",
          "text": [
            "100%|██████████| 500/500 [00:08<00:00, 56.69it/s]\n",
            "\n",
            "\n",
            "100%|██████████| 500/500 [00:08<00:00, 57.59it/s]\n",
            "\n",
            "\n"
          ]
        },
        {
          "name": "stdout",
          "output_type": "stream",
          "text": [
            "index 5 this sent\n",
            "index 5 this sent\n",
            "index 5 this sent\n"
          ]
        },
        {
          "name": "stderr",
          "output_type": "stream",
          "text": [
            "100%|██████████| 500/500 [00:07<00:00, 66.52it/s]\n",
            "\n",
            "\n"
          ]
        },
        {
          "name": "stdout",
          "output_type": "stream",
          "text": [
            "index 6 this sent\n",
            "index 6 this sent\n",
            "index 6 this sent\n"
          ]
        },
        {
          "name": "stderr",
          "output_type": "stream",
          "text": [
            "100%|██████████| 500/500 [00:07<00:00, 65.24it/s]\n",
            "\n",
            "\n",
            "100%|██████████| 500/500 [00:07<00:00, 63.59it/s]\n",
            "\n",
            "\n"
          ]
        },
        {
          "name": "stdout",
          "output_type": "stream",
          "text": [
            "index 7 this sent\n",
            "index 7 this sent\n",
            "index 7 this sent\n"
          ]
        },
        {
          "name": "stderr",
          "output_type": "stream",
          "text": [
            "100%|██████████| 500/500 [00:08<00:00, 62.23it/s]\n",
            "\n",
            "\n",
            "100%|██████████| 500/500 [00:08<00:00, 57.62it/s]\n",
            "\n",
            "\n"
          ]
        },
        {
          "name": "stdout",
          "output_type": "stream",
          "text": [
            "index 8 this sent\n",
            "index 8 this sent\n",
            "index 8 this sent\n"
          ]
        },
        {
          "name": "stderr",
          "output_type": "stream",
          "text": [
            "100%|██████████| 500/500 [00:08<00:00, 57.64it/s]\n",
            "\n",
            "\n",
            "100%|██████████| 500/500 [00:08<00:00, 56.09it/s]\n",
            "\n",
            "\n"
          ]
        },
        {
          "name": "stdout",
          "output_type": "stream",
          "text": [
            "index 9 this sent\n",
            "index 9 this sent\n",
            "index 9 this sent\n"
          ]
        },
        {
          "name": "stderr",
          "output_type": "stream",
          "text": [
            "100%|██████████| 500/500 [00:08<00:00, 56.08it/s]\n",
            "\n",
            "\n",
            "100%|██████████| 500/500 [00:08<00:00, 61.52it/s]\n",
            "\n",
            "\n"
          ]
        },
        {
          "name": "stdout",
          "output_type": "stream",
          "text": [
            "index 10 this sent\n",
            "index 10 this sent\n",
            "index 10 this sent\n"
          ]
        },
        {
          "name": "stderr",
          "output_type": "stream",
          "text": [
            "100%|██████████| 500/500 [00:07<00:00, 62.80it/s]\n",
            "\n",
            "\n",
            "100%|██████████| 500/500 [00:07<00:00, 62.79it/s]\n",
            "\n",
            "\n"
          ]
        },
        {
          "name": "stdout",
          "output_type": "stream",
          "text": [
            "index 11 this sent\n",
            "index 11 this sent\n",
            "index 11 this sent\n"
          ]
        },
        {
          "name": "stderr",
          "output_type": "stream",
          "text": [
            "100%|██████████| 500/500 [00:07<00:00, 63.39it/s]\n",
            "\n",
            "\n",
            "100%|██████████| 500/500 [00:08<00:00, 56.84it/s]\n",
            "\n",
            "\n"
          ]
        },
        {
          "name": "stdout",
          "output_type": "stream",
          "text": [
            "index 12 this sent\n",
            "index 12 this sent\n",
            "index 12 this sent\n"
          ]
        },
        {
          "name": "stderr",
          "output_type": "stream",
          "text": [
            "100%|██████████| 500/500 [00:08<00:00, 57.28it/s]\n",
            "\n",
            "\n",
            "100%|██████████| 500/500 [00:08<00:00, 56.79it/s]\n",
            "\n",
            "\n"
          ]
        },
        {
          "name": "stdout",
          "output_type": "stream",
          "text": [
            "index 13 this sent\n",
            "index 13 this sent\n",
            "index 13 this sent\n"
          ]
        },
        {
          "name": "stderr",
          "output_type": "stream",
          "text": [
            "100%|██████████| 500/500 [00:08<00:00, 56.79it/s]\n",
            "\n",
            "\n",
            "100%|██████████| 500/500 [00:08<00:00, 61.33it/s]\n",
            "\n",
            "\n"
          ]
        },
        {
          "name": "stdout",
          "output_type": "stream",
          "text": [
            "index 14 this sent\n",
            "index 14 this sent\n",
            "index 14 this sent\n"
          ]
        },
        {
          "name": "stderr",
          "output_type": "stream",
          "text": [
            "100%|██████████| 500/500 [00:07<00:00, 62.58it/s]\n",
            "\n",
            "\n",
            "100%|██████████| 500/500 [00:07<00:00, 63.34it/s]\n",
            "\n",
            "\n"
          ]
        },
        {
          "name": "stdout",
          "output_type": "stream",
          "text": [
            "index 15 this sent\n",
            "index 15 this sent\n",
            "index 15 this sent\n"
          ]
        },
        {
          "name": "stderr",
          "output_type": "stream",
          "text": [
            "100%|██████████| 500/500 [00:08<00:00, 61.94it/s]\n",
            "\n",
            "\n",
            "100%|██████████| 500/500 [00:08<00:00, 56.82it/s]\n",
            "\n",
            "\n"
          ]
        },
        {
          "name": "stdout",
          "output_type": "stream",
          "text": [
            "index 16 this sent\n",
            "index 16 this sent\n",
            "index 16 this sent\n"
          ]
        },
        {
          "name": "stderr",
          "output_type": "stream",
          "text": [
            "100%|██████████| 500/500 [00:08<00:00, 57.68it/s]\n",
            "\n",
            "\n",
            "100%|██████████| 500/500 [00:08<00:00, 56.94it/s]\n",
            "\n",
            "\n"
          ]
        },
        {
          "name": "stdout",
          "output_type": "stream",
          "text": [
            "index 17 this sent\n",
            "index 17 this sent\n",
            "index 17 this sent\n"
          ]
        },
        {
          "name": "stderr",
          "output_type": "stream",
          "text": [
            "100%|██████████| 500/500 [00:08<00:00, 56.91it/s]\n",
            "\n",
            "\n",
            "100%|██████████| 500/500 [00:08<00:00, 60.46it/s]\n",
            "\n",
            "\n"
          ]
        },
        {
          "name": "stdout",
          "output_type": "stream",
          "text": [
            "index 18 this sent\n",
            "index 18 this sent\n",
            "index 18 this sent\n"
          ]
        },
        {
          "name": "stderr",
          "output_type": "stream",
          "text": [
            "100%|██████████| 500/500 [00:07<00:00, 63.15it/s]\n",
            "\n",
            "\n",
            "100%|██████████| 500/500 [00:07<00:00, 63.41it/s]\n",
            "\n",
            "\n"
          ]
        },
        {
          "name": "stdout",
          "output_type": "stream",
          "text": [
            "index 19 this sent\n",
            "index 19 this sent\n",
            "index 19 this sent\n"
          ]
        },
        {
          "name": "stderr",
          "output_type": "stream",
          "text": [
            "100%|██████████| 500/500 [00:07<00:00, 64.87it/s]\n",
            "\n",
            "\n",
            "100%|██████████| 500/500 [00:08<00:00, 57.36it/s]\n",
            "\n",
            "\n"
          ]
        },
        {
          "name": "stdout",
          "output_type": "stream",
          "text": [
            "index 20 this sent\n",
            "index 20 this sent\n",
            "index 20 this sent\n"
          ]
        },
        {
          "name": "stderr",
          "output_type": "stream",
          "text": [
            "100%|██████████| 500/500 [00:08<00:00, 57.27it/s]\n",
            "\n",
            "\n",
            "100%|██████████| 500/500 [00:08<00:00, 57.26it/s]\n",
            "\n",
            "\n"
          ]
        },
        {
          "name": "stdout",
          "output_type": "stream",
          "text": [
            "index 21 this sent\n",
            "index 21 this sent\n",
            "index 21 this sent\n"
          ]
        },
        {
          "name": "stderr",
          "output_type": "stream",
          "text": [
            "100%|██████████| 500/500 [00:08<00:00, 57.29it/s]\n",
            "\n",
            "\n",
            "100%|██████████| 500/500 [00:07<00:00, 62.75it/s]\n",
            "\n",
            "\n"
          ]
        },
        {
          "name": "stdout",
          "output_type": "stream",
          "text": [
            "index 22 this sent\n",
            "index 22 this sent\n",
            "index 22 this sent\n"
          ]
        },
        {
          "name": "stderr",
          "output_type": "stream",
          "text": [
            "100%|██████████| 500/500 [00:07<00:00, 65.15it/s]\n",
            "\n",
            "\n",
            "100%|██████████| 500/500 [00:07<00:00, 62.90it/s]\n",
            "\n",
            "\n"
          ]
        },
        {
          "name": "stdout",
          "output_type": "stream",
          "text": [
            "index 23 this sent\n",
            "index 23 this sent\n",
            "index 23 this sent\n"
          ]
        },
        {
          "name": "stderr",
          "output_type": "stream",
          "text": [
            "100%|██████████| 500/500 [00:08<00:00, 61.78it/s]\n",
            "\n",
            "\n",
            "100%|██████████| 500/500 [00:08<00:00, 58.33it/s]\n",
            "\n",
            "\n"
          ]
        },
        {
          "name": "stdout",
          "output_type": "stream",
          "text": [
            "index 24 this sent\n",
            "index 24 this sent\n",
            "index 24 this sent\n"
          ]
        },
        {
          "name": "stderr",
          "output_type": "stream",
          "text": [
            "100%|██████████| 500/500 [00:08<00:00, 58.51it/s]\n",
            "\n",
            "\n",
            "100%|██████████| 500/500 [00:08<00:00, 57.73it/s]\n",
            "\n",
            "\n"
          ]
        },
        {
          "name": "stdout",
          "output_type": "stream",
          "text": [
            "index 25 this sent\n",
            "index 25 this sent\n",
            "index 25 this sent\n"
          ]
        },
        {
          "name": "stderr",
          "output_type": "stream",
          "text": [
            "100%|██████████| 500/500 [00:08<00:00, 58.40it/s]\n",
            "\n",
            "\n",
            "100%|██████████| 500/500 [00:07<00:00, 64.57it/s]\n",
            "\n",
            "\n"
          ]
        },
        {
          "name": "stdout",
          "output_type": "stream",
          "text": [
            "index 26 this sent\n",
            "index 26 this sent\n",
            "index 26 this sent\n"
          ]
        },
        {
          "name": "stderr",
          "output_type": "stream",
          "text": [
            "100%|██████████| 500/500 [00:07<00:00, 64.81it/s]\n",
            "\n",
            "\n",
            "100%|██████████| 500/500 [00:08<00:00, 59.77it/s]\n",
            "\n",
            "\n"
          ]
        },
        {
          "name": "stdout",
          "output_type": "stream",
          "text": [
            "index 27 this sent\n",
            "index 27 this sent\n",
            "index 27 this sent\n"
          ]
        },
        {
          "name": "stderr",
          "output_type": "stream",
          "text": [
            "100%|██████████| 500/500 [00:08<00:00, 57.81it/s]\n",
            "\n",
            "\n",
            "100%|██████████| 500/500 [00:08<00:00, 58.00it/s]\n",
            "\n",
            "\n"
          ]
        },
        {
          "name": "stdout",
          "output_type": "stream",
          "text": [
            "index 28 this sent\n",
            "index 28 this sent\n",
            "index 28 this sent\n"
          ]
        },
        {
          "name": "stderr",
          "output_type": "stream",
          "text": [
            "100%|██████████| 500/500 [00:08<00:00, 57.60it/s]\n",
            "\n",
            "\n",
            "100%|██████████| 500/500 [00:08<00:00, 60.23it/s]\n",
            "\n",
            "\n"
          ]
        },
        {
          "name": "stdout",
          "output_type": "stream",
          "text": [
            "index 29 this sent\n",
            "index 29 this sent\n",
            "index 29 this sent\n"
          ]
        },
        {
          "name": "stderr",
          "output_type": "stream",
          "text": [
            "100%|██████████| 500/500 [00:08<00:00, 62.49it/s]\n",
            "\n",
            "\n",
            "100%|██████████| 500/500 [00:07<00:00, 63.95it/s]\n",
            "\n",
            "\n"
          ]
        },
        {
          "name": "stdout",
          "output_type": "stream",
          "text": [
            "index 30 this sent\n",
            "index 30 this sent\n",
            "index 30 this sent\n"
          ]
        },
        {
          "name": "stderr",
          "output_type": "stream",
          "text": [
            "100%|██████████| 500/500 [00:07<00:00, 64.84it/s]\n",
            "\n",
            "\n",
            "100%|██████████| 500/500 [00:08<00:00, 58.15it/s]\n",
            "\n",
            "\n"
          ]
        },
        {
          "name": "stdout",
          "output_type": "stream",
          "text": [
            "index 31 this sent\n",
            "index 31 this sent\n",
            "index 31 this sent\n"
          ]
        },
        {
          "name": "stderr",
          "output_type": "stream",
          "text": [
            "100%|██████████| 500/500 [00:08<00:00, 58.52it/s]\n",
            "\n",
            "\n",
            "100%|██████████| 500/500 [00:08<00:00, 58.44it/s]\n",
            "\n",
            "\n"
          ]
        },
        {
          "name": "stdout",
          "output_type": "stream",
          "text": [
            "index 32 this sent\n",
            "index 32 this sent\n",
            "index 32 this sent\n"
          ]
        },
        {
          "name": "stderr",
          "output_type": "stream",
          "text": [
            "100%|██████████| 500/500 [00:08<00:00, 57.57it/s]\n",
            "\n",
            "\n",
            "100%|██████████| 500/500 [00:07<00:00, 64.08it/s]\n",
            "\n",
            "\n"
          ]
        },
        {
          "name": "stdout",
          "output_type": "stream",
          "text": [
            "index 33 this sent\n",
            "index 33 this sent\n",
            "index 33 this sent\n"
          ]
        },
        {
          "name": "stderr",
          "output_type": "stream",
          "text": [
            "100%|██████████| 500/500 [00:07<00:00, 64.31it/s]\n",
            "\n",
            "\n",
            "100%|██████████| 500/500 [00:08<00:00, 61.47it/s]\n",
            "\n",
            "\n"
          ]
        },
        {
          "name": "stdout",
          "output_type": "stream",
          "text": [
            "index 34 this sent\n",
            "index 34 this sent\n",
            "index 34 this sent\n"
          ]
        },
        {
          "name": "stderr",
          "output_type": "stream",
          "text": [
            "100%|██████████| 500/500 [00:08<00:00, 60.22it/s]\n",
            "\n",
            "\n",
            "100%|██████████| 500/500 [00:08<00:00, 57.86it/s]\n",
            "\n",
            "\n"
          ]
        },
        {
          "name": "stdout",
          "output_type": "stream",
          "text": [
            "index 35 this sent\n",
            "index 35 this sent\n",
            "index 35 this sent\n"
          ]
        },
        {
          "name": "stderr",
          "output_type": "stream",
          "text": [
            "100%|██████████| 500/500 [00:08<00:00, 58.02it/s]\n",
            "\n",
            "\n",
            "100%|██████████| 500/500 [00:08<00:00, 57.65it/s]\n",
            "\n",
            "\n"
          ]
        },
        {
          "name": "stdout",
          "output_type": "stream",
          "text": [
            "index 36 this sent\n",
            "index 36 this sent\n",
            "index 36 this sent\n"
          ]
        },
        {
          "name": "stderr",
          "output_type": "stream",
          "text": [
            "100%|██████████| 500/500 [00:08<00:00, 59.67it/s]\n",
            "\n",
            "\n",
            "100%|██████████| 500/500 [00:07<00:00, 62.92it/s]\n",
            "\n",
            "\n"
          ]
        },
        {
          "name": "stdout",
          "output_type": "stream",
          "text": [
            "index 37 this sent\n",
            "index 37 this sent\n",
            "index 37 this sent\n"
          ]
        },
        {
          "name": "stderr",
          "output_type": "stream",
          "text": [
            "100%|██████████| 500/500 [00:07<00:00, 64.59it/s]\n",
            "\n",
            "\n",
            "100%|██████████| 500/500 [00:08<00:00, 59.19it/s]\n",
            "\n",
            "\n"
          ]
        },
        {
          "name": "stdout",
          "output_type": "stream",
          "text": [
            "index 38 this sent\n",
            "index 38 this sent\n",
            "index 38 this sent\n"
          ]
        },
        {
          "name": "stderr",
          "output_type": "stream",
          "text": [
            "100%|██████████| 500/500 [00:08<00:00, 57.37it/s]\n",
            "\n",
            "\n",
            "100%|██████████| 500/500 [00:08<00:00, 57.75it/s]\n",
            "\n",
            "\n"
          ]
        },
        {
          "name": "stdout",
          "output_type": "stream",
          "text": [
            "index 39 this sent\n",
            "index 39 this sent\n",
            "index 39 this sent\n"
          ]
        },
        {
          "name": "stderr",
          "output_type": "stream",
          "text": [
            "100%|██████████| 500/500 [00:08<00:00, 57.40it/s]\n",
            "\n",
            "\n",
            "100%|██████████| 500/500 [00:08<00:00, 59.42it/s]\n",
            "\n",
            "\n"
          ]
        },
        {
          "name": "stdout",
          "output_type": "stream",
          "text": [
            "index 40 this sent\n",
            "index 40 this sent\n",
            "index 40 this sent\n"
          ]
        },
        {
          "name": "stderr",
          "output_type": "stream",
          "text": [
            "100%|██████████| 500/500 [00:08<00:00, 58.65it/s]\n",
            "\n",
            "\n",
            "100%|██████████| 500/500 [00:08<00:00, 61.43it/s]\n",
            "\n",
            "\n"
          ]
        },
        {
          "name": "stdout",
          "output_type": "stream",
          "text": [
            "index 41 this sent\n",
            "index 41 this sent\n",
            "index 41 this sent\n"
          ]
        },
        {
          "name": "stderr",
          "output_type": "stream",
          "text": [
            "100%|██████████| 500/500 [00:08<00:00, 60.90it/s]\n",
            "\n",
            "\n",
            "100%|██████████| 500/500 [00:08<00:00, 58.86it/s]\n",
            "\n",
            "\n"
          ]
        },
        {
          "name": "stdout",
          "output_type": "stream",
          "text": [
            "index 42 this sent\n",
            "index 42 this sent\n",
            "index 42 this sent\n"
          ]
        },
        {
          "name": "stderr",
          "output_type": "stream",
          "text": [
            "100%|██████████| 500/500 [00:08<00:00, 56.59it/s]\n",
            "\n",
            "\n",
            "100%|██████████| 500/500 [00:09<00:00, 55.41it/s]\n",
            "\n",
            "\n"
          ]
        },
        {
          "name": "stdout",
          "output_type": "stream",
          "text": [
            "index 43 this sent\n",
            "index 43 this sent\n",
            "index 43 this sent\n"
          ]
        },
        {
          "name": "stderr",
          "output_type": "stream",
          "text": [
            "100%|██████████| 500/500 [00:08<00:00, 57.05it/s]\n",
            "\n",
            "\n",
            "100%|██████████| 500/500 [00:08<00:00, 57.62it/s]\n",
            "\n",
            "\n"
          ]
        },
        {
          "name": "stdout",
          "output_type": "stream",
          "text": [
            "index 44 this sent\n",
            "index 44 this sent\n",
            "index 44 this sent\n"
          ]
        },
        {
          "name": "stderr",
          "output_type": "stream",
          "text": [
            "100%|██████████| 500/500 [00:08<00:00, 57.24it/s]\n",
            "\n",
            "\n",
            "100%|██████████| 500/500 [00:07<00:00, 62.73it/s]\n",
            "\n",
            "\n"
          ]
        },
        {
          "name": "stdout",
          "output_type": "stream",
          "text": [
            "index 45 this sent\n",
            "index 45 this sent\n",
            "index 45 this sent\n"
          ]
        },
        {
          "name": "stderr",
          "output_type": "stream",
          "text": [
            "100%|██████████| 500/500 [00:07<00:00, 64.37it/s]\n",
            "\n",
            "\n",
            "100%|██████████| 500/500 [00:08<00:00, 60.58it/s]\n",
            "\n",
            "\n"
          ]
        },
        {
          "name": "stdout",
          "output_type": "stream",
          "text": [
            "index 46 this sent\n",
            "index 46 this sent\n",
            "index 46 this sent\n"
          ]
        },
        {
          "name": "stderr",
          "output_type": "stream",
          "text": [
            "100%|██████████| 500/500 [00:08<00:00, 60.92it/s]\n",
            "\n",
            "\n",
            "100%|██████████| 500/500 [00:08<00:00, 56.99it/s]\n",
            "\n",
            "\n"
          ]
        },
        {
          "name": "stdout",
          "output_type": "stream",
          "text": [
            "index 47 this sent\n",
            "index 47 this sent\n",
            "index 47 this sent\n"
          ]
        },
        {
          "name": "stderr",
          "output_type": "stream",
          "text": [
            "100%|██████████| 500/500 [00:08<00:00, 57.19it/s]\n",
            "\n",
            "\n",
            "100%|██████████| 500/500 [00:08<00:00, 57.39it/s]\n",
            "\n",
            "\n"
          ]
        },
        {
          "name": "stdout",
          "output_type": "stream",
          "text": [
            "index 48 this sent\n",
            "index 48 this sent\n",
            "index 48 this sent\n"
          ]
        },
        {
          "name": "stderr",
          "output_type": "stream",
          "text": [
            "100%|██████████| 500/500 [00:08<00:00, 57.00it/s]\n",
            "\n",
            "\n",
            "100%|██████████| 500/500 [00:07<00:00, 62.84it/s]\n",
            "\n",
            "\n"
          ]
        },
        {
          "name": "stdout",
          "output_type": "stream",
          "text": [
            "index 49 this sent\n",
            "index 49 this sent\n",
            "index 49 this sent\n"
          ]
        },
        {
          "name": "stderr",
          "output_type": "stream",
          "text": [
            "100%|██████████| 500/500 [00:07<00:00, 63.89it/s]\n",
            "\n",
            "\n",
            "100%|██████████| 500/500 [00:07<00:00, 62.53it/s]\n",
            "\n",
            "\n"
          ]
        },
        {
          "name": "stdout",
          "output_type": "stream",
          "text": [
            "index 50 this sent\n",
            "index 50 this sent\n",
            "index 50 this sent\n"
          ]
        },
        {
          "name": "stderr",
          "output_type": "stream",
          "text": [
            "100%|██████████| 500/500 [00:08<00:00, 61.17it/s]\n",
            "\n",
            "\n",
            "100%|██████████| 500/500 [00:08<00:00, 57.42it/s]\n",
            "\n",
            "\n"
          ]
        },
        {
          "name": "stdout",
          "output_type": "stream",
          "text": [
            "index 51 this sent\n",
            "index 51 this sent\n",
            "index 51 this sent\n"
          ]
        },
        {
          "name": "stderr",
          "output_type": "stream",
          "text": [
            "100%|██████████| 500/500 [00:08<00:00, 56.75it/s]\n",
            "\n",
            "\n",
            "100%|██████████| 500/500 [00:08<00:00, 56.74it/s]\n",
            "\n",
            "\n"
          ]
        },
        {
          "name": "stdout",
          "output_type": "stream",
          "text": [
            "index 52 this sent\n",
            "index 52 this sent\n",
            "index 52 this sent\n"
          ]
        },
        {
          "name": "stderr",
          "output_type": "stream",
          "text": [
            "100%|██████████| 500/500 [00:08<00:00, 56.79it/s]\n",
            "\n",
            "\n",
            "100%|██████████| 500/500 [00:08<00:00, 61.32it/s]\n",
            "\n",
            "\n"
          ]
        },
        {
          "name": "stdout",
          "output_type": "stream",
          "text": [
            "index 53 this sent\n",
            "index 53 this sent\n",
            "index 53 this sent\n"
          ]
        },
        {
          "name": "stderr",
          "output_type": "stream",
          "text": [
            "100%|██████████| 500/500 [00:08<00:00, 61.65it/s]\n",
            "\n",
            "\n",
            "100%|██████████| 500/500 [00:08<00:00, 61.63it/s]\n",
            "\n",
            "\n"
          ]
        },
        {
          "name": "stdout",
          "output_type": "stream",
          "text": [
            "index 54 this sent\n",
            "index 54 this sent\n",
            "index 54 this sent\n"
          ]
        },
        {
          "name": "stderr",
          "output_type": "stream",
          "text": [
            "100%|██████████| 500/500 [00:07<00:00, 63.81it/s]\n",
            "\n",
            "\n",
            "100%|██████████| 500/500 [00:08<00:00, 58.04it/s]\n",
            "\n",
            "\n"
          ]
        },
        {
          "name": "stdout",
          "output_type": "stream",
          "text": [
            "index 55 this sent\n",
            "index 55 this sent\n",
            "index 55 this sent\n"
          ]
        },
        {
          "name": "stderr",
          "output_type": "stream",
          "text": [
            "100%|██████████| 500/500 [00:09<00:00, 55.52it/s]\n",
            "\n",
            "\n",
            "100%|██████████| 500/500 [00:08<00:00, 55.63it/s]\n",
            "\n",
            "\n"
          ]
        },
        {
          "name": "stdout",
          "output_type": "stream",
          "text": [
            "index 56 this sent\n",
            "index 56 this sent\n",
            "index 56 this sent\n"
          ]
        },
        {
          "name": "stderr",
          "output_type": "stream",
          "text": [
            "100%|██████████| 500/500 [00:09<00:00, 55.48it/s]\n",
            "\n",
            "\n",
            "100%|██████████| 500/500 [00:08<00:00, 57.16it/s]\n",
            "\n",
            "\n"
          ]
        },
        {
          "name": "stdout",
          "output_type": "stream",
          "text": [
            "index 57 this sent\n",
            "index 57 this sent\n",
            "index 57 this sent\n"
          ]
        },
        {
          "name": "stderr",
          "output_type": "stream",
          "text": [
            "100%|██████████| 500/500 [00:08<00:00, 57.31it/s]\n",
            "\n",
            "\n",
            "100%|██████████| 500/500 [00:07<00:00, 62.79it/s]\n",
            "\n",
            "\n"
          ]
        },
        {
          "name": "stdout",
          "output_type": "stream",
          "text": [
            "0.07888732278873212\n",
            "\n",
            "NEW RUN: layer 11 rank 64 theta 1\n",
            "\n",
            "index 0 this sent\n",
            "0.07888732278873212\n",
            "\n",
            "NEW RUN: layer 11 rank 64 theta 1\n",
            "\n",
            "index 0 this sent\n",
            "0.07888732278873212\n",
            "\n",
            "NEW RUN: layer 11 rank 64 theta 1\n",
            "\n",
            "index 0 this sent\n"
          ]
        },
        {
          "name": "stderr",
          "output_type": "stream",
          "text": [
            "100%|██████████| 500/500 [00:08<00:00, 61.41it/s]\n",
            "\n",
            "\n",
            "100%|██████████| 500/500 [00:08<00:00, 57.22it/s]\n",
            "\n",
            "\n"
          ]
        },
        {
          "name": "stdout",
          "output_type": "stream",
          "text": [
            "index 1 this sent\n",
            "index 1 this sent\n",
            "index 1 this sent\n"
          ]
        },
        {
          "name": "stderr",
          "output_type": "stream",
          "text": [
            "100%|██████████| 500/500 [00:08<00:00, 56.96it/s]\n",
            "\n",
            "\n",
            "100%|██████████| 500/500 [00:08<00:00, 56.94it/s]\n",
            "\n",
            "\n"
          ]
        },
        {
          "name": "stdout",
          "output_type": "stream",
          "text": [
            "index 2 this sent\n",
            "index 2 this sent\n",
            "index 2 this sent\n"
          ]
        },
        {
          "name": "stderr",
          "output_type": "stream",
          "text": [
            "100%|██████████| 500/500 [00:08<00:00, 56.02it/s]\n",
            "\n",
            "\n",
            "100%|██████████| 500/500 [00:08<00:00, 56.11it/s]\n",
            "\n",
            "\n"
          ]
        },
        {
          "name": "stdout",
          "output_type": "stream",
          "text": [
            "index 3 this sent\n",
            "index 3 this sent\n",
            "index 3 this sent\n"
          ]
        },
        {
          "name": "stderr",
          "output_type": "stream",
          "text": [
            "100%|██████████| 500/500 [00:08<00:00, 55.92it/s]\n",
            "\n",
            "\n",
            "100%|██████████| 500/500 [00:08<00:00, 61.13it/s]\n",
            "\n",
            "\n"
          ]
        },
        {
          "name": "stdout",
          "output_type": "stream",
          "text": [
            "index 4 this sent\n",
            "index 4 this sent\n",
            "index 4 this sent\n"
          ]
        },
        {
          "name": "stderr",
          "output_type": "stream",
          "text": [
            "100%|██████████| 500/500 [00:08<00:00, 62.03it/s]\n",
            "\n",
            "\n",
            "100%|██████████| 500/500 [00:08<00:00, 59.62it/s]\n",
            "\n",
            "\n"
          ]
        },
        {
          "name": "stdout",
          "output_type": "stream",
          "text": [
            "index 5 this sent\n",
            "index 5 this sent\n",
            "index 5 this sent\n"
          ]
        },
        {
          "name": "stderr",
          "output_type": "stream",
          "text": [
            "100%|██████████| 500/500 [00:08<00:00, 59.15it/s]\n",
            "\n",
            "\n",
            "100%|██████████| 500/500 [00:09<00:00, 55.53it/s]\n",
            "\n",
            "\n"
          ]
        },
        {
          "name": "stdout",
          "output_type": "stream",
          "text": [
            "index 6 this sent\n",
            "index 6 this sent\n",
            "index 6 this sent\n"
          ]
        },
        {
          "name": "stderr",
          "output_type": "stream",
          "text": [
            "100%|██████████| 500/500 [00:08<00:00, 57.13it/s]\n",
            "\n",
            "\n",
            "100%|██████████| 500/500 [00:08<00:00, 55.79it/s]\n",
            "\n",
            "\n"
          ]
        },
        {
          "name": "stdout",
          "output_type": "stream",
          "text": [
            "index 7 this sent\n",
            "index 7 this sent\n",
            "index 7 this sent\n"
          ]
        },
        {
          "name": "stderr",
          "output_type": "stream",
          "text": [
            "100%|██████████| 500/500 [00:08<00:00, 56.64it/s]\n",
            "\n",
            "\n",
            "100%|██████████| 500/500 [00:08<00:00, 60.12it/s]\n",
            "\n",
            "\n"
          ]
        },
        {
          "name": "stdout",
          "output_type": "stream",
          "text": [
            "index 8 this sent\n",
            "index 8 this sent\n",
            "index 8 this sent\n"
          ]
        },
        {
          "name": "stderr",
          "output_type": "stream",
          "text": [
            "100%|██████████| 500/500 [00:07<00:00, 62.83it/s]\n",
            "\n",
            "\n",
            "100%|██████████| 500/500 [00:08<00:00, 62.34it/s]\n",
            "\n",
            "\n"
          ]
        },
        {
          "name": "stdout",
          "output_type": "stream",
          "text": [
            "index 9 this sent\n",
            "index 9 this sent\n",
            "index 9 this sent\n"
          ]
        },
        {
          "name": "stderr",
          "output_type": "stream",
          "text": [
            "100%|██████████| 500/500 [00:08<00:00, 62.02it/s]\n",
            "\n",
            "\n",
            "100%|██████████| 500/500 [00:08<00:00, 55.90it/s]\n",
            "\n",
            "\n"
          ]
        },
        {
          "name": "stdout",
          "output_type": "stream",
          "text": [
            "index 10 this sent\n",
            "index 10 this sent\n",
            "index 10 this sent\n"
          ]
        },
        {
          "name": "stderr",
          "output_type": "stream",
          "text": [
            "100%|██████████| 500/500 [00:08<00:00, 56.43it/s]\n",
            "\n",
            "\n",
            "100%|██████████| 500/500 [00:09<00:00, 55.27it/s]\n",
            "\n",
            "\n"
          ]
        },
        {
          "name": "stdout",
          "output_type": "stream",
          "text": [
            "index 11 this sent\n",
            "index 11 this sent\n",
            "index 11 this sent\n"
          ]
        },
        {
          "name": "stderr",
          "output_type": "stream",
          "text": [
            "100%|██████████| 500/500 [00:08<00:00, 56.50it/s]\n",
            "\n",
            "\n",
            "100%|██████████| 500/500 [00:08<00:00, 56.61it/s]\n",
            "\n",
            "\n"
          ]
        },
        {
          "name": "stdout",
          "output_type": "stream",
          "text": [
            "index 12 this sent\n",
            "index 12 this sent\n",
            "index 12 this sent\n"
          ]
        },
        {
          "name": "stderr",
          "output_type": "stream",
          "text": [
            "100%|██████████| 500/500 [00:08<00:00, 59.92it/s]\n",
            "\n",
            "\n",
            "100%|██████████| 500/500 [00:08<00:00, 62.14it/s]\n",
            "\n",
            "\n"
          ]
        },
        {
          "name": "stdout",
          "output_type": "stream",
          "text": [
            "index 13 this sent\n",
            "index 13 this sent\n",
            "index 13 this sent\n"
          ]
        },
        {
          "name": "stderr",
          "output_type": "stream",
          "text": [
            "100%|██████████| 500/500 [00:07<00:00, 63.32it/s]\n",
            "\n",
            "\n",
            "100%|██████████| 500/500 [00:08<00:00, 58.90it/s]\n",
            "\n",
            "\n"
          ]
        },
        {
          "name": "stdout",
          "output_type": "stream",
          "text": [
            "index 14 this sent\n",
            "index 14 this sent\n",
            "index 14 this sent\n"
          ]
        },
        {
          "name": "stderr",
          "output_type": "stream",
          "text": [
            "100%|██████████| 500/500 [00:08<00:00, 57.00it/s]\n",
            "\n",
            "\n",
            "100%|██████████| 500/500 [00:08<00:00, 56.89it/s]\n",
            "\n",
            "\n"
          ]
        },
        {
          "name": "stdout",
          "output_type": "stream",
          "text": [
            "index 15 this sent\n",
            "index 15 this sent\n",
            "index 15 this sent\n"
          ]
        },
        {
          "name": "stderr",
          "output_type": "stream",
          "text": [
            "100%|██████████| 500/500 [00:08<00:00, 57.20it/s]\n",
            "\n",
            "\n",
            "100%|██████████| 500/500 [00:08<00:00, 56.21it/s]\n",
            "\n",
            "\n"
          ]
        },
        {
          "name": "stdout",
          "output_type": "stream",
          "text": [
            "index 16 this sent\n",
            "index 16 this sent\n",
            "index 16 this sent\n"
          ]
        },
        {
          "name": "stderr",
          "output_type": "stream",
          "text": [
            "100%|██████████| 500/500 [00:08<00:00, 59.53it/s]\n",
            "\n",
            "\n",
            "100%|██████████| 500/500 [00:08<00:00, 62.49it/s]\n",
            "\n",
            "\n"
          ]
        },
        {
          "name": "stdout",
          "output_type": "stream",
          "text": [
            "index 17 this sent\n",
            "index 17 this sent\n",
            "index 17 this sent\n"
          ]
        },
        {
          "name": "stderr",
          "output_type": "stream",
          "text": [
            "100%|██████████| 500/500 [00:08<00:00, 62.06it/s]\n",
            "\n",
            "\n",
            "100%|██████████| 500/500 [00:08<00:00, 59.41it/s]\n",
            "\n",
            "\n"
          ]
        },
        {
          "name": "stdout",
          "output_type": "stream",
          "text": [
            "index 18 this sent\n",
            "index 18 this sent\n",
            "index 18 this sent\n"
          ]
        },
        {
          "name": "stderr",
          "output_type": "stream",
          "text": [
            "100%|██████████| 500/500 [00:08<00:00, 58.14it/s]\n",
            "\n",
            "\n",
            "100%|██████████| 500/500 [00:08<00:00, 55.87it/s]\n",
            "\n",
            "\n"
          ]
        },
        {
          "name": "stdout",
          "output_type": "stream",
          "text": [
            "index 19 this sent\n",
            "index 19 this sent\n",
            "index 19 this sent\n"
          ]
        },
        {
          "name": "stderr",
          "output_type": "stream",
          "text": [
            "100%|██████████| 500/500 [00:08<00:00, 55.93it/s]\n",
            "\n",
            "\n",
            "100%|██████████| 500/500 [00:08<00:00, 55.96it/s]\n",
            "\n",
            "\n"
          ]
        },
        {
          "name": "stdout",
          "output_type": "stream",
          "text": [
            "index 20 this sent\n",
            "index 20 this sent\n",
            "index 20 this sent\n"
          ]
        },
        {
          "name": "stderr",
          "output_type": "stream",
          "text": [
            "100%|██████████| 500/500 [00:08<00:00, 55.57it/s]\n",
            "\n",
            "\n",
            "100%|██████████| 500/500 [00:07<00:00, 62.72it/s]\n",
            "\n",
            "\n"
          ]
        },
        {
          "name": "stdout",
          "output_type": "stream",
          "text": [
            "index 21 this sent\n",
            "index 21 this sent\n",
            "index 21 this sent\n"
          ]
        },
        {
          "name": "stderr",
          "output_type": "stream",
          "text": [
            "100%|██████████| 500/500 [00:08<00:00, 60.37it/s]\n",
            "\n",
            "\n",
            "100%|██████████| 500/500 [00:07<00:00, 62.73it/s]\n",
            "\n",
            "\n"
          ]
        },
        {
          "name": "stdout",
          "output_type": "stream",
          "text": [
            "index 22 this sent\n",
            "index 22 this sent\n",
            "index 22 this sent\n"
          ]
        },
        {
          "name": "stderr",
          "output_type": "stream",
          "text": [
            "100%|██████████| 500/500 [00:08<00:00, 61.56it/s]\n",
            "\n",
            "\n",
            "100%|██████████| 500/500 [00:08<00:00, 57.24it/s]\n",
            "\n",
            "\n"
          ]
        },
        {
          "name": "stdout",
          "output_type": "stream",
          "text": [
            "index 23 this sent\n",
            "index 23 this sent\n",
            "index 23 this sent\n"
          ]
        },
        {
          "name": "stderr",
          "output_type": "stream",
          "text": [
            "100%|██████████| 500/500 [00:08<00:00, 55.90it/s]\n",
            "\n",
            "\n",
            "100%|██████████| 500/500 [00:09<00:00, 55.39it/s]\n",
            "\n",
            "\n"
          ]
        },
        {
          "name": "stdout",
          "output_type": "stream",
          "text": [
            "index 24 this sent\n",
            "index 24 this sent\n",
            "index 24 this sent\n"
          ]
        },
        {
          "name": "stderr",
          "output_type": "stream",
          "text": [
            "100%|██████████| 500/500 [00:08<00:00, 57.82it/s]\n",
            "\n",
            "\n",
            "100%|██████████| 500/500 [00:08<00:00, 58.62it/s]\n",
            "\n",
            "\n"
          ]
        },
        {
          "name": "stdout",
          "output_type": "stream",
          "text": [
            "index 25 this sent\n",
            "index 25 this sent\n",
            "index 25 this sent\n"
          ]
        },
        {
          "name": "stderr",
          "output_type": "stream",
          "text": [
            "100%|██████████| 500/500 [00:08<00:00, 58.40it/s]\n",
            "\n",
            "\n",
            "100%|██████████| 500/500 [00:08<00:00, 61.49it/s]\n",
            "\n",
            "\n"
          ]
        },
        {
          "name": "stdout",
          "output_type": "stream",
          "text": [
            "index 26 this sent\n",
            "index 26 this sent\n",
            "index 26 this sent\n"
          ]
        },
        {
          "name": "stderr",
          "output_type": "stream",
          "text": [
            "100%|██████████| 500/500 [00:08<00:00, 62.13it/s]\n",
            "\n",
            "\n",
            "100%|██████████| 500/500 [00:08<00:00, 58.01it/s]\n",
            "\n",
            "\n"
          ]
        },
        {
          "name": "stdout",
          "output_type": "stream",
          "text": [
            "index 27 this sent\n",
            "index 27 this sent\n",
            "index 27 this sent\n"
          ]
        },
        {
          "name": "stderr",
          "output_type": "stream",
          "text": [
            "100%|██████████| 500/500 [00:08<00:00, 56.77it/s]\n",
            "\n",
            "\n",
            "100%|██████████| 500/500 [00:08<00:00, 56.20it/s]\n",
            "\n",
            "\n"
          ]
        },
        {
          "name": "stdout",
          "output_type": "stream",
          "text": [
            "index 28 this sent\n",
            "index 28 this sent\n",
            "index 28 this sent\n"
          ]
        },
        {
          "name": "stderr",
          "output_type": "stream",
          "text": [
            "100%|██████████| 500/500 [00:09<00:00, 55.41it/s]\n",
            "\n",
            "\n",
            "100%|██████████| 500/500 [00:09<00:00, 55.29it/s]\n",
            "\n",
            "\n"
          ]
        },
        {
          "name": "stdout",
          "output_type": "stream",
          "text": [
            "index 29 this sent\n",
            "index 29 this sent\n",
            "index 29 this sent\n"
          ]
        },
        {
          "name": "stderr",
          "output_type": "stream",
          "text": [
            "100%|██████████| 500/500 [00:08<00:00, 55.79it/s]\n",
            "\n",
            "\n",
            "100%|██████████| 500/500 [00:08<00:00, 61.99it/s]\n",
            "\n",
            "\n"
          ]
        },
        {
          "name": "stdout",
          "output_type": "stream",
          "text": [
            "index 30 this sent\n",
            "index 30 this sent\n",
            "index 30 this sent\n"
          ]
        },
        {
          "name": "stderr",
          "output_type": "stream",
          "text": [
            "100%|██████████| 500/500 [00:07<00:00, 63.02it/s]\n",
            "\n",
            "\n",
            "100%|██████████| 500/500 [00:08<00:00, 59.45it/s]\n",
            "\n",
            "\n"
          ]
        },
        {
          "name": "stdout",
          "output_type": "stream",
          "text": [
            "index 31 this sent\n",
            "index 31 this sent\n",
            "index 31 this sent\n"
          ]
        },
        {
          "name": "stderr",
          "output_type": "stream",
          "text": [
            "100%|██████████| 500/500 [00:08<00:00, 59.21it/s]\n",
            "\n",
            "\n",
            "100%|██████████| 500/500 [00:08<00:00, 56.35it/s]\n",
            "\n",
            "\n"
          ]
        },
        {
          "name": "stdout",
          "output_type": "stream",
          "text": [
            "index 32 this sent\n",
            "index 32 this sent\n",
            "index 32 this sent\n"
          ]
        },
        {
          "name": "stderr",
          "output_type": "stream",
          "text": [
            "100%|██████████| 500/500 [00:09<00:00, 55.22it/s]\n",
            "\n",
            "\n",
            "100%|██████████| 500/500 [00:09<00:00, 55.19it/s]\n",
            "\n",
            "\n"
          ]
        },
        {
          "name": "stdout",
          "output_type": "stream",
          "text": [
            "index 33 this sent\n",
            "index 33 this sent\n",
            "index 33 this sent\n"
          ]
        },
        {
          "name": "stderr",
          "output_type": "stream",
          "text": [
            "100%|██████████| 500/500 [00:09<00:00, 54.88it/s]\n",
            "\n",
            "\n",
            "100%|██████████| 500/500 [00:08<00:00, 58.24it/s]\n",
            "\n",
            "\n"
          ]
        },
        {
          "name": "stdout",
          "output_type": "stream",
          "text": [
            "index 34 this sent\n",
            "index 34 this sent\n",
            "index 34 this sent\n"
          ]
        },
        {
          "name": "stderr",
          "output_type": "stream",
          "text": [
            "100%|██████████| 500/500 [00:08<00:00, 58.58it/s]\n",
            "\n",
            "\n",
            "100%|██████████| 500/500 [00:08<00:00, 61.46it/s]\n",
            "\n",
            "\n"
          ]
        },
        {
          "name": "stdout",
          "output_type": "stream",
          "text": [
            "index 35 this sent\n",
            "index 35 this sent\n",
            "index 35 this sent\n"
          ]
        },
        {
          "name": "stderr",
          "output_type": "stream",
          "text": [
            "100%|██████████| 500/500 [00:08<00:00, 61.53it/s]\n",
            "\n",
            "\n",
            "100%|██████████| 500/500 [00:08<00:00, 56.68it/s]\n",
            "\n",
            "\n"
          ]
        },
        {
          "name": "stdout",
          "output_type": "stream",
          "text": [
            "index 36 this sent\n",
            "index 36 this sent\n",
            "index 36 this sent\n"
          ]
        },
        {
          "name": "stderr",
          "output_type": "stream",
          "text": [
            "100%|██████████| 500/500 [00:08<00:00, 55.76it/s]\n",
            "\n",
            "\n",
            "100%|██████████| 500/500 [00:09<00:00, 54.74it/s]\n",
            "\n",
            "\n"
          ]
        },
        {
          "name": "stdout",
          "output_type": "stream",
          "text": [
            "index 37 this sent\n",
            "index 37 this sent\n",
            "index 37 this sent\n"
          ]
        },
        {
          "name": "stderr",
          "output_type": "stream",
          "text": [
            "100%|██████████| 500/500 [00:08<00:00, 55.70it/s]\n",
            "\n",
            "\n",
            "100%|██████████| 500/500 [00:08<00:00, 55.85it/s]\n",
            "\n",
            "\n"
          ]
        },
        {
          "name": "stdout",
          "output_type": "stream",
          "text": [
            "index 38 this sent\n",
            "index 38 this sent\n",
            "index 38 this sent\n"
          ]
        },
        {
          "name": "stderr",
          "output_type": "stream",
          "text": [
            "100%|██████████| 500/500 [00:08<00:00, 55.83it/s]\n",
            "\n",
            "\n",
            "100%|██████████| 500/500 [00:07<00:00, 62.75it/s]\n",
            "\n",
            "\n"
          ]
        },
        {
          "name": "stdout",
          "output_type": "stream",
          "text": [
            "index 39 this sent\n",
            "index 39 this sent\n",
            "index 39 this sent\n"
          ]
        },
        {
          "name": "stderr",
          "output_type": "stream",
          "text": [
            "100%|██████████| 500/500 [00:07<00:00, 62.92it/s]\n",
            "\n",
            "\n",
            "100%|██████████| 500/500 [00:08<00:00, 60.19it/s]\n",
            "\n",
            "\n"
          ]
        },
        {
          "name": "stdout",
          "output_type": "stream",
          "text": [
            "index 40 this sent\n",
            "index 40 this sent\n",
            "index 40 this sent\n"
          ]
        },
        {
          "name": "stderr",
          "output_type": "stream",
          "text": [
            "100%|██████████| 500/500 [00:08<00:00, 61.48it/s]\n",
            "\n",
            "\n",
            "100%|██████████| 500/500 [00:08<00:00, 58.00it/s]\n",
            "\n",
            "\n"
          ]
        },
        {
          "name": "stdout",
          "output_type": "stream",
          "text": [
            "index 41 this sent\n",
            "index 41 this sent\n",
            "index 41 this sent\n"
          ]
        },
        {
          "name": "stderr",
          "output_type": "stream",
          "text": [
            "100%|██████████| 500/500 [00:08<00:00, 56.37it/s]\n",
            "\n",
            "\n",
            "100%|██████████| 500/500 [00:08<00:00, 56.76it/s]\n",
            "\n",
            "\n"
          ]
        },
        {
          "name": "stdout",
          "output_type": "stream",
          "text": [
            "index 42 this sent\n",
            "index 42 this sent\n",
            "index 42 this sent\n"
          ]
        },
        {
          "name": "stderr",
          "output_type": "stream",
          "text": [
            "100%|██████████| 500/500 [00:08<00:00, 57.74it/s]\n",
            "\n",
            "\n",
            "100%|██████████| 500/500 [00:08<00:00, 61.78it/s]\n",
            "\n",
            "\n"
          ]
        },
        {
          "name": "stdout",
          "output_type": "stream",
          "text": [
            "index 43 this sent\n",
            "index 43 this sent\n",
            "index 43 this sent\n"
          ]
        },
        {
          "name": "stderr",
          "output_type": "stream",
          "text": [
            "100%|██████████| 500/500 [00:07<00:00, 62.53it/s]\n",
            "\n",
            "\n",
            "100%|██████████| 500/500 [00:08<00:00, 61.82it/s]\n",
            "\n",
            "\n"
          ]
        },
        {
          "name": "stdout",
          "output_type": "stream",
          "text": [
            "index 44 this sent\n",
            "index 44 this sent\n",
            "index 44 this sent\n"
          ]
        },
        {
          "name": "stderr",
          "output_type": "stream",
          "text": [
            "100%|██████████| 500/500 [00:08<00:00, 62.19it/s]\n",
            "\n",
            "\n",
            "100%|██████████| 500/500 [00:08<00:00, 56.28it/s]\n",
            "\n",
            "\n"
          ]
        },
        {
          "name": "stdout",
          "output_type": "stream",
          "text": [
            "index 45 this sent\n",
            "index 45 this sent\n",
            "index 45 this sent\n"
          ]
        },
        {
          "name": "stderr",
          "output_type": "stream",
          "text": [
            "100%|██████████| 500/500 [00:08<00:00, 56.18it/s]\n",
            "\n",
            "\n",
            "100%|██████████| 500/500 [00:08<00:00, 56.54it/s]\n",
            "\n",
            "\n"
          ]
        },
        {
          "name": "stdout",
          "output_type": "stream",
          "text": [
            "index 46 this sent\n",
            "index 46 this sent\n",
            "index 46 this sent\n"
          ]
        },
        {
          "name": "stderr",
          "output_type": "stream",
          "text": [
            "100%|██████████| 500/500 [00:08<00:00, 56.84it/s]\n",
            "\n",
            "\n",
            "100%|██████████| 500/500 [00:08<00:00, 58.49it/s]\n",
            "\n",
            "\n"
          ]
        },
        {
          "name": "stdout",
          "output_type": "stream",
          "text": [
            "index 47 this sent\n",
            "index 47 this sent\n",
            "index 47 this sent\n"
          ]
        },
        {
          "name": "stderr",
          "output_type": "stream",
          "text": [
            "100%|██████████| 500/500 [00:08<00:00, 61.68it/s]\n",
            "\n",
            "\n",
            "100%|██████████| 500/500 [00:07<00:00, 62.86it/s]\n",
            "\n",
            "\n"
          ]
        },
        {
          "name": "stdout",
          "output_type": "stream",
          "text": [
            "index 48 this sent\n",
            "index 48 this sent\n",
            "index 48 this sent\n"
          ]
        },
        {
          "name": "stderr",
          "output_type": "stream",
          "text": [
            "100%|██████████| 500/500 [00:07<00:00, 63.49it/s]\n",
            "\n",
            "\n",
            "100%|██████████| 500/500 [00:08<00:00, 57.53it/s]\n",
            "\n",
            "\n"
          ]
        },
        {
          "name": "stdout",
          "output_type": "stream",
          "text": [
            "index 49 this sent\n",
            "index 49 this sent\n",
            "index 49 this sent\n"
          ]
        },
        {
          "name": "stderr",
          "output_type": "stream",
          "text": [
            "100%|██████████| 500/500 [00:08<00:00, 56.95it/s]\n",
            "\n",
            "\n",
            "100%|██████████| 500/500 [00:08<00:00, 57.46it/s]\n",
            "\n",
            "\n"
          ]
        },
        {
          "name": "stdout",
          "output_type": "stream",
          "text": [
            "index 50 this sent\n",
            "index 50 this sent\n",
            "index 50 this sent\n"
          ]
        },
        {
          "name": "stderr",
          "output_type": "stream",
          "text": [
            "100%|██████████| 500/500 [00:08<00:00, 57.39it/s]\n",
            "\n",
            "\n",
            "100%|██████████| 500/500 [00:08<00:00, 58.17it/s]\n",
            "\n",
            "\n"
          ]
        },
        {
          "name": "stdout",
          "output_type": "stream",
          "text": [
            "index 51 this sent\n",
            "index 51 this sent\n",
            "index 51 this sent\n"
          ]
        },
        {
          "name": "stderr",
          "output_type": "stream",
          "text": [
            "100%|██████████| 500/500 [00:08<00:00, 59.34it/s]\n",
            "\n",
            "\n",
            "100%|██████████| 500/500 [00:08<00:00, 62.47it/s]\n",
            "\n",
            "\n"
          ]
        },
        {
          "name": "stdout",
          "output_type": "stream",
          "text": [
            "index 52 this sent\n",
            "index 52 this sent\n",
            "index 52 this sent\n"
          ]
        },
        {
          "name": "stderr",
          "output_type": "stream",
          "text": [
            "100%|██████████| 500/500 [00:07<00:00, 62.66it/s]\n",
            "\n",
            "\n",
            "100%|██████████| 500/500 [00:08<00:00, 58.76it/s]\n",
            "\n",
            "\n"
          ]
        },
        {
          "name": "stdout",
          "output_type": "stream",
          "text": [
            "index 53 this sent\n",
            "index 53 this sent\n",
            "index 53 this sent\n"
          ]
        },
        {
          "name": "stderr",
          "output_type": "stream",
          "text": [
            "100%|██████████| 500/500 [00:08<00:00, 56.27it/s]\n",
            "\n",
            "\n",
            "100%|██████████| 500/500 [00:08<00:00, 55.60it/s]\n",
            "\n",
            "\n"
          ]
        },
        {
          "name": "stdout",
          "output_type": "stream",
          "text": [
            "index 54 this sent\n",
            "index 54 this sent\n",
            "index 54 this sent\n"
          ]
        },
        {
          "name": "stderr",
          "output_type": "stream",
          "text": [
            "100%|██████████| 500/500 [00:09<00:00, 55.50it/s]\n",
            "\n",
            "\n",
            "100%|██████████| 500/500 [00:08<00:00, 56.32it/s]\n",
            "\n",
            "\n"
          ]
        },
        {
          "name": "stdout",
          "output_type": "stream",
          "text": [
            "index 55 this sent\n",
            "index 55 this sent\n",
            "index 55 this sent\n"
          ]
        },
        {
          "name": "stderr",
          "output_type": "stream",
          "text": [
            "100%|██████████| 500/500 [00:08<00:00, 57.05it/s]\n",
            "\n",
            "\n",
            "100%|██████████| 500/500 [00:07<00:00, 62.95it/s]\n",
            "\n",
            "\n"
          ]
        },
        {
          "name": "stdout",
          "output_type": "stream",
          "text": [
            "index 56 this sent\n",
            "index 56 this sent\n",
            "index 56 this sent\n"
          ]
        },
        {
          "name": "stderr",
          "output_type": "stream",
          "text": [
            "100%|██████████| 500/500 [00:07<00:00, 63.02it/s]\n",
            "\n",
            "\n",
            "100%|██████████| 500/500 [00:08<00:00, 60.23it/s]\n",
            "\n",
            "\n"
          ]
        },
        {
          "name": "stdout",
          "output_type": "stream",
          "text": [
            "index 57 this sent\n",
            "index 57 this sent\n",
            "index 57 this sent\n"
          ]
        },
        {
          "name": "stderr",
          "output_type": "stream",
          "text": [
            "100%|██████████| 500/500 [00:08<00:00, 58.13it/s]\n",
            "\n",
            "\n",
            "100%|██████████| 500/500 [00:08<00:00, 56.06it/s]\n",
            "\n",
            "\n"
          ]
        },
        {
          "name": "stdout",
          "output_type": "stream",
          "text": [
            "-2.220446049250313e-16\n",
            "-2.220446049250313e-16\n",
            "-2.220446049250313e-16\n"
          ]
        }
      ],
      "source": [
        "#CREATE A FILENAME FOR THE REPORT\n",
        "report = open(\"fixed-random-probes-p3.txt\", \"w\")\n",
        "\n",
        "with open('/content/drive/MyDrive/bertstuff/john_sentences.txt', 'r') as file:\n",
        "    # Read lines from the file and store them in a list\n",
        "    input_sentences = file.read().splitlines()  #116\n",
        "\n",
        "# obtaining distance matrix\n",
        "with open('/content/drive/MyDrive/bertstuff/distance_john', 'rb') as f:\n",
        "    distance_matrices = pickle.load(f)\n",
        "\n",
        "distance_dict = {}  #58\n",
        "for i in range(len(input_sentences)):\n",
        "    if input_sentences[i] not in distance_dict:\n",
        "        distance_dict[input_sentences[i]] = []\n",
        "    distance_dict[input_sentences[i]].append(distance_matrices[i])\n",
        "\n",
        "def apply_transformation(matrix, vector):\n",
        "    transformed_vector = torch.mm(torch.transpose(matrix, 0, 1), vector)\n",
        "    return transformed_vector\n",
        "\n",
        "\n",
        "valid_words = []\n",
        "invalid_words = []\n",
        "sentences = list(input_sentences)  #58\n",
        "sentences = [sentences[i] for i in range(0, len(sentences), 2)]\n",
        "\n",
        "import json\n",
        "with open(\"/content/drive/MyDrive/bertstuff/dataset.json\") as f:\n",
        "    data = json.load(f)\n",
        "\n",
        "for sent in data:\n",
        "    attachment1_words = sent[\"attachment1_words\"]\n",
        "    attachment2_words = sent[\"attachment2_words\"]\n",
        "\n",
        "    min_length = min(len(attachment1_words), len(attachment2_words))\n",
        "    attachment1_words = attachment1_words[:min_length]\n",
        "    attachment2_words = attachment2_words[:min_length]\n",
        "\n",
        "    valid_words.append(attachment1_words)\n",
        "    invalid_words.append(attachment2_words)\n",
        "\n",
        "\n",
        "def b_loss(hidden_vectors, dist_context, theta, original_hidden_vectors, A_mask):\n",
        "    transformed_hidden = apply_transformation(b_matrix, torch.transpose(hidden_vectors, 0, 1))  # Permute for GPU compatibility\n",
        "    transformed_hidden = torch.transpose(transformed_hidden, 0, 1)  # Permute back\n",
        "    hidden_matrix = transformed_hidden.unsqueeze(1).expand(transformed_hidden.size()[0],\n",
        "                                                            transformed_hidden.size()[0],\n",
        "                                                            transformed_hidden.size()[1])\n",
        "\n",
        "    hidden_square_scaled = (torch.linalg.norm(dist_context)/torch.linalg.norm(hidden_matrix))*hidden_matrix\n",
        "\n",
        "    diffs = torch.linalg.norm(torch.transpose(hidden_square_scaled, 0, 1) - hidden_square_scaled, ord=2, dim=2)**2\n",
        "    diffs.requires_grad_(True)\n",
        "    loss2 = torch.mean(torch.tensor(A_mask, dtype=torch.float64).to(hidden_vectors.device) * (diffs - dist_context)**2)\n",
        "    loss1 = torch.norm((hidden_vectors - original_hidden_vectors)**2, 2)\n",
        "\n",
        "    loss = theta * loss1 + (1 - theta) * loss2\n",
        "    return loss\n",
        "\n",
        "device = torch.device(\"cuda\" if torch.cuda.is_available() else \"cpu\")\n",
        "print(\"DEVICE \" + str(device))\n",
        "\n",
        "\n",
        "for layer in range(11,12):\n",
        "  report.write(f'LAYER is {layer} \\n')\n",
        "\n",
        "  submodel = BertForMaskedLM.from_pretrained('bert-base-cased', output_hidden_states=True, return_dict = True, num_hidden_layers = 11)\n",
        "  submodel.to(device)\n",
        "\n",
        "  for rank in [32, 64]:\n",
        "    for theta in [0.3, 0.6, 1]:\n",
        "      report.write(f'\\nNEW RUN: layer {layer} rank {rank} theta {theta}\\n')\n",
        "      print(f'\\nNEW RUN: layer {layer} rank {rank} theta {theta}\\n')\n",
        "      increase_score = 0\n",
        "      decrease_score = 0\n",
        "\n",
        "      for sent_index in range(len(sentences)):\n",
        "        sent = sentences[sent_index]\n",
        "        print(\"index \" + str(sent_index) + \" \" + \"this sent\")\n",
        "        input = tokenizer(sent, return_tensors=\"pt\").to(device)\n",
        "        orig_output = model(**input)\n",
        "        mask_index = torch.where(input[\"input_ids\"][0] == tokenizer.mask_token_id)\n",
        "        orig_logits = orig_output.logits\n",
        "        orig_softmax = F.softmax(orig_logits, dim = -1)\n",
        "        orig_mask_word = orig_softmax[0, mask_index, :]\n",
        "\n",
        "\n",
        "        #made a dictionary of all the original BERT model words and predictions\n",
        "        orig_predictions = {}\n",
        "\n",
        "        orig_values_second_dimension = orig_mask_word[0, :]\n",
        "        orig_num_predictions = orig_mask_word[0, :].shape[0]\n",
        "\n",
        "        orig_all_words = torch.topk(orig_mask_word, orig_num_predictions, dim = 1)[1][0]\n",
        "        orig_all_probabilites = torch.topk(orig_mask_word, orig_num_predictions, dim = 1)[0][0]\n",
        "        orig_counter = 0\n",
        "        for token in orig_all_words:\n",
        "            word = tokenizer.decode([token])\n",
        "            orig_predictions[word] = orig_all_probabilites[orig_counter].item()\n",
        "            orig_counter += 1\n",
        "\n",
        "        for i in range(2):\n",
        "            report.write(sent + \"\\n\")\n",
        "            input = tokenizer(sent, return_tensors=\"pt\").to(device)\n",
        "            output = submodel(**input)\n",
        "            mask_index = torch.where(input[\"input_ids\"][0] == tokenizer.mask_token_id)\n",
        "\n",
        "            A_mask = np.not_equal(distance_dict[sent][0], distance_dict[sent][1]).astype(int)\n",
        "            A_mask = torch.tensor(A_mask, device=device)\n",
        "\n",
        "            b_matrix_path = f\"/content/drive/MyDrive/bertstuff/probes/r{str(rank)}/predictor_random.params\"\n",
        "            import_b = torch.load(b_matrix_path, map_location=device)\n",
        "            b_matrix = import_b['proj'].to(device)\n",
        "\n",
        "            hidden_states = output.hidden_states[-1].to(device)\n",
        "            optimized_hidden_vectors = hidden_states[0][1:-1].clone()\n",
        "            og_hidden_vectors = optimized_hidden_vectors.clone()\n",
        "            optimized_hidden_vectors = optimized_hidden_vectors.requires_grad_(True)\n",
        "            optimized_hidden_vectors.retain_grad()\n",
        "\n",
        "            distance_first_context = torch.tensor(distance_dict[sent][i], dtype=torch.float32, device=device)\n",
        "            distance_first_context = distance_first_context**2\n",
        "            distance_first_context.requires_grad_(True)\n",
        "\n",
        "            initial_loss = b_loss(optimized_hidden_vectors, distance_first_context, theta, og_hidden_vectors, A_mask)\n",
        "\n",
        "            # report.write(f\"Initial loss: {initialloss}\\n\")\n",
        "\n",
        "            # training loop for first linguistic context, 10 epochs\n",
        "            loss = 100000000000\n",
        "            iters = 0\n",
        "\n",
        "            # setting learning rate & multipling hidden states by b_matrix\n",
        "            lr = 0.001\n",
        "            # report.write(f'learning rate is {lr} \\n')\n",
        "\n",
        "            for _ in tqdm(range(500)):\n",
        "              iters += 1\n",
        "              loss = b_loss(optimized_hidden_vectors, distance_first_context, theta, og_hidden_vectors, A_mask)\n",
        "              loss.backward(retain_graph=True)\n",
        "\n",
        "              optimized_hidden_vectors.retain_grad()\n",
        "              optimized_hidden_vectors -= lr*optimized_hidden_vectors.grad.data\n",
        "\n",
        "              optimized_hidden_vectors.grad.data.zero_()\n",
        "\n",
        "            new_hidden_first = torch.cat((hidden_states[0][0].unsqueeze(0), optimized_hidden_vectors, hidden_states[0][-1].unsqueeze(0)), 0).unsqueeze(0)\n",
        "            oldModuleList = model.bert.encoder.layer\n",
        "            newModuleList = nn.ModuleList()\n",
        "\n",
        "            # Now iterate over all layers, only keeping only the relevant layers.\n",
        "            for bert_layers in range(layer, 12):\n",
        "                newModuleList.append(oldModuleList[bert_layers])\n",
        "\n",
        "            copyOfModel = copy.deepcopy(model)\n",
        "            copyOfModel.bert.encoder.layer = newModuleList\n",
        "            copyOfModel.to(device)\n",
        "\n",
        "            output_first_context = copyOfModel(inputs_embeds = new_hidden_first, return_dict = True, output_hidden_states = True)\n",
        "\n",
        "            # print('Top 10 words')\n",
        "            logits_first_context = output_first_context.logits\n",
        "            softmax_first_context = F.softmax(logits_first_context, dim = -1)\n",
        "            mask_word_first_context = softmax_first_context[0, mask_index, :]\n",
        "\n",
        "            # print(\"BUZZZ THIS SENTENCE IS DONE\")\n",
        "\n",
        "            #here, the score metric u r creating will go here, using the all_predictions dictionary and the 5 words for each\n",
        "            #context i've written\n",
        "\n",
        "            #made a dictionary of all the context 1 words and their probabilitiess\n",
        "            all_predictions = {}\n",
        "            values_second_dimension = mask_word_first_context[0, :]\n",
        "            num_predictions = values_second_dimension.shape[0]\n",
        "\n",
        "            all_words = torch.topk(mask_word_first_context, num_predictions, dim = 1)[1][0]\n",
        "            all_probabilites = torch.topk(mask_word_first_context, num_predictions, dim = 1)[0][0]\n",
        "            counter = 0\n",
        "            for token in all_words:\n",
        "                word = tokenizer.decode([token])\n",
        "                all_predictions[word] = all_probabilites[counter].item()\n",
        "                counter += 1\n",
        "\n",
        "            allowed_words = []\n",
        "            disallowed_words = []\n",
        "            if i == 0:  #first context\n",
        "                allowed_words = valid_words[sent_index] #these words are for the first context\n",
        "                disallowed_words = invalid_words[sent_index]\n",
        "            else:\n",
        "                allowed_words = invalid_words[sent_index] #these words are for the second context\n",
        "                disallowed_words = valid_words[sent_index]\n",
        "\n",
        "            minVal = min(all_predictions.values())\n",
        "            for word_index in range(len(allowed_words)):\n",
        "                model_allow = 0\n",
        "                model_disallow = 0\n",
        "                orig_allow = 0\n",
        "                orig_disallow = 0\n",
        "\n",
        "                if allowed_words[word_index] in all_predictions:\n",
        "                    model_allow = all_predictions[allowed_words[word_index]]\n",
        "                if allowed_words[word_index] in orig_predictions:\n",
        "                    orig_allow = orig_predictions[allowed_words[word_index]]\n",
        "\n",
        "                if disallowed_words[word_index] in all_predictions:\n",
        "                    model_disallow = all_predictions[disallowed_words[word_index]]\n",
        "                if disallowed_words[word_index] in orig_predictions:\n",
        "                    orig_disallow = orig_predictions[disallowed_words[word_index]]\n",
        "\n",
        "                if model_allow != 0 or orig_allow != 0:\n",
        "                    increase_score += (math.log(model_allow) - math.log(orig_allow))\n",
        "                    #write the original and model probabilities for the allowed words\n",
        "                    report.write(f'orig_allow is {orig_allow} and model_allow is {model_allow}.\\n')\n",
        "                if model_disallow != 0 or orig_disallow != 0:\n",
        "                    decrease_score += (math.log(orig_disallow) - math.log(model_disallow))\n",
        "                    report.write(f'orig_allow is {orig_disallow} and model_allow is {model_disallow}.\\n')\n",
        "\n",
        "      print(1.0*increase_score/len(sentences) + 1.0*decrease_score/len(sentences))\n",
        "      report.write(f'Average increase, decrease scores is {1.0*increase_score/len(sentences) + 1.0*decrease_score/len(sentences)}.\\n')\n",
        "\n",
        "report.close()\n",
        "\n"
      ]
    },
    {
      "cell_type": "markdown",
      "metadata": {
        "id": "EbXgN4We3XaN"
      },
      "source": [
        "NON RANDOM PROBES"
      ]
    },
    {
      "cell_type": "code",
      "execution_count": null,
      "metadata": {
        "colab": {
          "base_uri": "https://localhost:8080/",
          "height": 1000,
          "referenced_widgets": [
            "cbd72bf392324353be7243a23f92d0cc",
            "1792a90b8393449285124ae9be864fa0",
            "f35004747619401a9f642b3eb15ffbe9",
            "858ee4b3c5e64a0fbf0e9165442e7a10",
            "a4e07aa551814e95a7dc455a6a2bda69",
            "b0c5a0d17c60452ea3b895ee2058bc58",
            "66b81676e1d44278b2f0890508c46133",
            "2029b1a650e743dc95ceb921153b5506",
            "a3c0c2e85c9a41e682562b64fdb57ece",
            "566f9f28a7214c0c9bd6884f878e2274",
            "ff96b7e3da374bbb9d53b4a668d5c6f8",
            "8531b3ea6c4047c98acef56209a9005a",
            "22c345d1b9a14ba4bfe0973ebc8065a4",
            "a84d87ce103f4387bb3e00ce5fdb884b",
            "937baac4d5c948f8b8a913cd0c6e90f4",
            "332fb0cac69d45c8ac2d74ba0db06fce",
            "97fe94924cc0433e9afa3ee03e9fda20",
            "3b0cbba6861147158e334773c1dada70",
            "1af4051f86df4799b54ce75cfdb4f8a4",
            "06a071fc63094bf4a2dce4492f520f42",
            "8155584754b34176b9e7f8cd1a203c54",
            "3bd787903f5e4bddaecece9654b5554b",
            "f92c32ca01f04577aeab431800c76c08",
            "84eaaac4f1f5460da6d7427823211a4c",
            "fd02c8bea119413ebf95a84400e00f91",
            "c768865b5b3e4ab4a01c8cf150173aa3",
            "30f84779a7d042eb986bd64c9dab048c",
            "df47010214774573bd7b073b88c5de7c",
            "e85dd089c3594809996a587361a5df9b",
            "0b092bc84d4a489592345c748fcea63f",
            "ed3e45bc0a4d44f49ef9e908a9750c05",
            "c513bfae98484fd4b72a851864b43140",
            "65ada603041d40678dc6e91a928c8d72",
            "5d8034f77706461eaaa63ac4c0eea802",
            "94ca04088a5145d9a3ed450674a335d4",
            "d9f7d7e88d0243438e976b2062df6887",
            "9db8679f13734726a68eb14ce76eecce",
            "d7fbc72a68f1481babf5b9612ed428c6",
            "3372489f73cf46c4ac673c78ee6b6088",
            "5f7198c57da84046a1e89bccffd66847",
            "68193e0f61914e708d9fb6f3fb1ab843",
            "ec64d57062cb420c8f6f2ca81c83340a",
            "c464f478751d495c88218ba3835667f4",
            "fd408d2df03740e4bf8791484cf12209",
            "7648059898894a49a8da5f29fc29c2da",
            "8aac8b004b134b1e8797577d13e191e7",
            "38d059f0036246cca23c08572c26629b",
            "bee0437c3b1a4a299a2f535cd2536dff",
            "ab4931a601554ee496ae619428f678f0",
            "9963370e1e474a72b553587cc51bdf10",
            "2ab116434a554fed86640cc2b0c1bf57",
            "61dd36e0f257402dbf6ad51730ed5872",
            "661866c5f1ed40be8aa0e502038b2e93",
            "5cb4da7cd2704da38103e37c2f4acb80",
            "8c8b3288d2f6461e9a0b99dbdfe3064c"
          ]
        },
        "id": "hVOywWP32Zza",
        "outputId": "6fb6c439-025e-44ed-a5a4-716b2adbb28a"
      },
      "outputs": [
        {
          "name": "stderr",
          "output_type": "stream",
          "text": [
            "/usr/local/lib/python3.10/dist-packages/huggingface_hub/utils/_token.py:88: UserWarning: \n",
            "The secret `HF_TOKEN` does not exist in your Colab secrets.\n",
            "To authenticate with the Hugging Face Hub, create a token in your settings tab (https://huggingface.co/settings/tokens), set it as secret in your Google Colab and restart your session.\n",
            "You will be able to reuse this secret in all of your notebooks.\n",
            "Please note that authentication is recommended but still optional to access public models or datasets.\n",
            "  warnings.warn(\n"
          ]
        },
        {
          "data": {
            "application/vnd.jupyter.widget-view+json": {
              "model_id": "cbd72bf392324353be7243a23f92d0cc",
              "version_major": 2,
              "version_minor": 0
            },
            "text/plain": [
              "tokenizer_config.json:   0%|          | 0.00/29.0 [00:00<?, ?B/s]"
            ]
          },
          "metadata": {},
          "output_type": "display_data"
        },
        {
          "data": {
            "application/vnd.jupyter.widget-view+json": {
              "model_id": "8531b3ea6c4047c98acef56209a9005a",
              "version_major": 2,
              "version_minor": 0
            },
            "text/plain": [
              "vocab.txt:   0%|          | 0.00/213k [00:00<?, ?B/s]"
            ]
          },
          "metadata": {},
          "output_type": "display_data"
        },
        {
          "data": {
            "application/vnd.jupyter.widget-view+json": {
              "model_id": "f92c32ca01f04577aeab431800c76c08",
              "version_major": 2,
              "version_minor": 0
            },
            "text/plain": [
              "tokenizer.json:   0%|          | 0.00/436k [00:00<?, ?B/s]"
            ]
          },
          "metadata": {},
          "output_type": "display_data"
        },
        {
          "data": {
            "application/vnd.jupyter.widget-view+json": {
              "model_id": "5d8034f77706461eaaa63ac4c0eea802",
              "version_major": 2,
              "version_minor": 0
            },
            "text/plain": [
              "config.json:   0%|          | 0.00/570 [00:00<?, ?B/s]"
            ]
          },
          "metadata": {},
          "output_type": "display_data"
        },
        {
          "data": {
            "application/vnd.jupyter.widget-view+json": {
              "model_id": "7648059898894a49a8da5f29fc29c2da",
              "version_major": 2,
              "version_minor": 0
            },
            "text/plain": [
              "model.safetensors:   0%|          | 0.00/436M [00:00<?, ?B/s]"
            ]
          },
          "metadata": {},
          "output_type": "display_data"
        },
        {
          "name": "stderr",
          "output_type": "stream",
          "text": [
            "Some weights of the model checkpoint at bert-base-cased were not used when initializing BertForMaskedLM: ['cls.seq_relationship.bias', 'bert.pooler.dense.bias', 'cls.seq_relationship.weight', 'bert.pooler.dense.weight']\n",
            "- This IS expected if you are initializing BertForMaskedLM from the checkpoint of a model trained on another task or with another architecture (e.g. initializing a BertForSequenceClassification model from a BertForPreTraining model).\n",
            "- This IS NOT expected if you are initializing BertForMaskedLM from the checkpoint of a model that you expect to be exactly identical (initializing a BertForSequenceClassification model from a BertForSequenceClassification model).\n"
          ]
        },
        {
          "data": {
            "text/plain": [
              "BertForMaskedLM(\n",
              "  (bert): BertModel(\n",
              "    (embeddings): BertEmbeddings(\n",
              "      (word_embeddings): Embedding(28996, 768, padding_idx=0)\n",
              "      (position_embeddings): Embedding(512, 768)\n",
              "      (token_type_embeddings): Embedding(2, 768)\n",
              "      (LayerNorm): LayerNorm((768,), eps=1e-12, elementwise_affine=True)\n",
              "      (dropout): Dropout(p=0.1, inplace=False)\n",
              "    )\n",
              "    (encoder): BertEncoder(\n",
              "      (layer): ModuleList(\n",
              "        (0-11): 12 x BertLayer(\n",
              "          (attention): BertAttention(\n",
              "            (self): BertSelfAttention(\n",
              "              (query): Linear(in_features=768, out_features=768, bias=True)\n",
              "              (key): Linear(in_features=768, out_features=768, bias=True)\n",
              "              (value): Linear(in_features=768, out_features=768, bias=True)\n",
              "              (dropout): Dropout(p=0.1, inplace=False)\n",
              "            )\n",
              "            (output): BertSelfOutput(\n",
              "              (dense): Linear(in_features=768, out_features=768, bias=True)\n",
              "              (LayerNorm): LayerNorm((768,), eps=1e-12, elementwise_affine=True)\n",
              "              (dropout): Dropout(p=0.1, inplace=False)\n",
              "            )\n",
              "          )\n",
              "          (intermediate): BertIntermediate(\n",
              "            (dense): Linear(in_features=768, out_features=3072, bias=True)\n",
              "            (intermediate_act_fn): GELUActivation()\n",
              "          )\n",
              "          (output): BertOutput(\n",
              "            (dense): Linear(in_features=3072, out_features=768, bias=True)\n",
              "            (LayerNorm): LayerNorm((768,), eps=1e-12, elementwise_affine=True)\n",
              "            (dropout): Dropout(p=0.1, inplace=False)\n",
              "          )\n",
              "        )\n",
              "      )\n",
              "    )\n",
              "  )\n",
              "  (cls): BertOnlyMLMHead(\n",
              "    (predictions): BertLMPredictionHead(\n",
              "      (transform): BertPredictionHeadTransform(\n",
              "        (dense): Linear(in_features=768, out_features=768, bias=True)\n",
              "        (transform_act_fn): GELUActivation()\n",
              "        (LayerNorm): LayerNorm((768,), eps=1e-12, elementwise_affine=True)\n",
              "      )\n",
              "      (decoder): Linear(in_features=768, out_features=28996, bias=True)\n",
              "    )\n",
              "  )\n",
              ")"
            ]
          },
          "execution_count": 3,
          "metadata": {},
          "output_type": "execute_result"
        }
      ],
      "source": [
        "import copy\n",
        "import torch\n",
        "from transformers import BertTokenizerFast, BertModel, BertForMaskedLM\n",
        "from torch.nn import functional as F\n",
        "import torch.nn as nn\n",
        "import pickle\n",
        "from tqdm import tqdm\n",
        "import numpy as np\n",
        "import math\n",
        "\n",
        "# Load the pre-trained BERT tokenizer and model\n",
        "tokenizer = BertTokenizerFast.from_pretrained('bert-base-cased')\n",
        "model = BertForMaskedLM.from_pretrained('bert-base-cased')\n",
        "model.to('cuda')"
      ]
    },
    {
      "cell_type": "code",
      "execution_count": null,
      "metadata": {
        "colab": {
          "base_uri": "https://localhost:8080/"
        },
        "id": "qJnbCkOH2e-x",
        "outputId": "24451da8-61ee-497d-87f9-30a23b472a67"
      },
      "outputs": [
        {
          "name": "stdout",
          "output_type": "stream",
          "text": [
            "DEVICE cuda\n"
          ]
        },
        {
          "name": "stderr",
          "output_type": "stream",
          "text": [
            "Some weights of the model checkpoint at bert-base-cased were not used when initializing BertForMaskedLM: ['bert.encoder.layer.11.attention.self.key.bias', 'bert.encoder.layer.11.attention.self.key.weight', 'bert.pooler.dense.weight', 'bert.encoder.layer.11.attention.self.value.bias', 'bert.encoder.layer.11.attention.output.LayerNorm.weight', 'bert.encoder.layer.11.output.dense.bias', 'bert.encoder.layer.11.intermediate.dense.weight', 'bert.encoder.layer.11.output.dense.weight', 'cls.seq_relationship.bias', 'bert.encoder.layer.11.attention.self.value.weight', 'bert.encoder.layer.11.attention.self.query.bias', 'cls.seq_relationship.weight', 'bert.encoder.layer.11.intermediate.dense.bias', 'bert.encoder.layer.11.attention.output.dense.bias', 'bert.encoder.layer.11.attention.self.query.weight', 'bert.encoder.layer.11.output.LayerNorm.weight', 'bert.encoder.layer.11.attention.output.LayerNorm.bias', 'bert.pooler.dense.bias', 'bert.encoder.layer.11.attention.output.dense.weight', 'bert.encoder.layer.11.output.LayerNorm.bias']\n",
            "- This IS expected if you are initializing BertForMaskedLM from the checkpoint of a model trained on another task or with another architecture (e.g. initializing a BertForSequenceClassification model from a BertForPreTraining model).\n",
            "- This IS NOT expected if you are initializing BertForMaskedLM from the checkpoint of a model that you expect to be exactly identical (initializing a BertForSequenceClassification model from a BertForSequenceClassification model).\n"
          ]
        },
        {
          "name": "stdout",
          "output_type": "stream",
          "text": [
            "\n",
            "NEW RUN: layer 11 rank 64 theta 0.3\n",
            "\n",
            "I bought the laptop with the [MASK].\n",
            "index 0 this sent\n"
          ]
        },
        {
          "name": "stderr",
          "output_type": "stream",
          "text": [
            "<ipython-input-4-5e2c3d2ff210>:53: UserWarning: To copy construct from a tensor, it is recommended to use sourceTensor.clone().detach() or sourceTensor.clone().detach().requires_grad_(True), rather than torch.tensor(sourceTensor).\n",
            "  loss2 = torch.mean(torch.tensor(A_mask, dtype=torch.float64).to(hidden_vectors.device) * (diffs - dist_context)**2)\n",
            "100%|██████████| 500/500 [00:07<00:00, 65.68it/s]\n"
          ]
        },
        {
          "name": "stdout",
          "output_type": "stream",
          "text": [
            "['money', 'card', 'check', 'credit']\n"
          ]
        },
        {
          "name": "stderr",
          "output_type": "stream",
          "text": [
            "100%|██████████| 500/500 [00:07<00:00, 67.04it/s]\n"
          ]
        },
        {
          "name": "stdout",
          "output_type": "stream",
          "text": [
            "['GPU', 'CPU', 'RAM', 'storage']\n",
            "She fixed the vase with the [MASK].\n",
            "index 1 this sent\n"
          ]
        },
        {
          "name": "stderr",
          "output_type": "stream",
          "text": [
            "100%|██████████| 500/500 [00:07<00:00, 62.89it/s]\n"
          ]
        },
        {
          "name": "stdout",
          "output_type": "stream",
          "text": [
            "['glue', 'epoxy', 'adhesive', 'cement', 'paste']\n"
          ]
        },
        {
          "name": "stderr",
          "output_type": "stream",
          "text": [
            "100%|██████████| 500/500 [00:06<00:00, 74.87it/s]\n"
          ]
        },
        {
          "name": "stdout",
          "output_type": "stream",
          "text": [
            "['crack', 'split', 'break', 'fracture', 'fissure']\n",
            "John saw the man using the [MASK].\n",
            "index 2 this sent\n"
          ]
        },
        {
          "name": "stderr",
          "output_type": "stream",
          "text": [
            "100%|██████████| 500/500 [00:07<00:00, 68.66it/s]\n"
          ]
        },
        {
          "name": "stdout",
          "output_type": "stream",
          "text": [
            "['telescope', 'camera', 'binoculars']\n"
          ]
        },
        {
          "name": "stderr",
          "output_type": "stream",
          "text": [
            "100%|██████████| 500/500 [00:07<00:00, 65.58it/s]\n"
          ]
        },
        {
          "name": "stdout",
          "output_type": "stream",
          "text": [
            "['bike', 'stairs', 'sink']\n",
            "Sarah tasted the soup with the [MASK].\n",
            "index 3 this sent\n"
          ]
        },
        {
          "name": "stderr",
          "output_type": "stream",
          "text": [
            "100%|██████████| 500/500 [00:07<00:00, 65.60it/s]\n"
          ]
        },
        {
          "name": "stdout",
          "output_type": "stream",
          "text": [
            "['spoon', 'ladle', 'tablespoon']\n"
          ]
        },
        {
          "name": "stderr",
          "output_type": "stream",
          "text": [
            "100%|██████████| 500/500 [00:07<00:00, 63.45it/s]\n"
          ]
        },
        {
          "name": "stdout",
          "output_type": "stream",
          "text": [
            "['salt', 'pepper', 'spices']\n",
            "They cut the tree with the [MASK].\n",
            "index 4 this sent\n"
          ]
        },
        {
          "name": "stderr",
          "output_type": "stream",
          "text": [
            "100%|██████████| 500/500 [00:06<00:00, 74.03it/s]\n"
          ]
        },
        {
          "name": "stdout",
          "output_type": "stream",
          "text": [
            "['axe', 'chainsaw', 'pruning shears']\n"
          ]
        },
        {
          "name": "stderr",
          "output_type": "stream",
          "text": [
            "100%|██████████| 500/500 [00:07<00:00, 66.33it/s]\n"
          ]
        },
        {
          "name": "stdout",
          "output_type": "stream",
          "text": [
            "['disease', 'blight', 'hole']\n",
            "Mark wrote the note with the [MASK].\n",
            "index 5 this sent\n"
          ]
        },
        {
          "name": "stderr",
          "output_type": "stream",
          "text": [
            "100%|██████████| 500/500 [00:07<00:00, 66.28it/s]\n"
          ]
        },
        {
          "name": "stdout",
          "output_type": "stream",
          "text": [
            "['pen', 'pencil', 'marker', 'stylus']\n"
          ]
        },
        {
          "name": "stderr",
          "output_type": "stream",
          "text": [
            "100%|██████████| 500/500 [00:07<00:00, 68.69it/s]\n"
          ]
        },
        {
          "name": "stdout",
          "output_type": "stream",
          "text": [
            "['answer', 'ingredients', 'recipe', 'instructions']\n",
            "Linda caught the fish with the [MASK].\n",
            "index 6 this sent\n"
          ]
        },
        {
          "name": "stderr",
          "output_type": "stream",
          "text": [
            "100%|██████████| 500/500 [00:06<00:00, 74.41it/s]\n"
          ]
        },
        {
          "name": "stdout",
          "output_type": "stream",
          "text": [
            "['net', 'rod', 'trap', 'bait']\n"
          ]
        },
        {
          "name": "stderr",
          "output_type": "stream",
          "text": [
            "100%|██████████| 500/500 [00:07<00:00, 69.56it/s]\n"
          ]
        },
        {
          "name": "stdout",
          "output_type": "stream",
          "text": [
            "['stripes', 'eggs', 'smell', 'cut']\n",
            "Mary opened the box with the [MASK].\n",
            "index 7 this sent\n"
          ]
        },
        {
          "name": "stderr",
          "output_type": "stream",
          "text": [
            "100%|██████████| 500/500 [00:07<00:00, 65.17it/s]\n"
          ]
        },
        {
          "name": "stdout",
          "output_type": "stream",
          "text": [
            "['key', 'combination', 'code']\n"
          ]
        },
        {
          "name": "stderr",
          "output_type": "stream",
          "text": [
            "100%|██████████| 500/500 [00:07<00:00, 65.37it/s]\n"
          ]
        },
        {
          "name": "stdout",
          "output_type": "stream",
          "text": [
            "['lid', 'hinges', 'lock']\n",
            "The person next to the goats [MASK] to the field.\n",
            "index 8 this sent\n"
          ]
        },
        {
          "name": "stderr",
          "output_type": "stream",
          "text": [
            "100%|██████████| 500/500 [00:07<00:00, 70.45it/s]\n"
          ]
        },
        {
          "name": "stdout",
          "output_type": "stream",
          "text": [
            "['runs', 'walks', 'looks']\n"
          ]
        },
        {
          "name": "stderr",
          "output_type": "stream",
          "text": [
            "100%|██████████| 500/500 [00:06<00:00, 73.31it/s]\n"
          ]
        },
        {
          "name": "stdout",
          "output_type": "stream",
          "text": [
            "['run', 'ralk', 'look']\n",
            "The sailors surrounding the captain [MASK] to the boats.\n",
            "index 9 this sent\n"
          ]
        },
        {
          "name": "stderr",
          "output_type": "stream",
          "text": [
            "100%|██████████| 500/500 [00:07<00:00, 68.61it/s]\n"
          ]
        },
        {
          "name": "stdout",
          "output_type": "stream",
          "text": [
            "['run', 'ralk', 'look']\n"
          ]
        },
        {
          "name": "stderr",
          "output_type": "stream",
          "text": [
            "100%|██████████| 500/500 [00:07<00:00, 65.68it/s]\n"
          ]
        },
        {
          "name": "stdout",
          "output_type": "stream",
          "text": [
            "['runs', 'walks', 'looks']\n",
            "We cleaned the house with the [MASK].\n",
            "index 10 this sent\n"
          ]
        },
        {
          "name": "stderr",
          "output_type": "stream",
          "text": [
            "100%|██████████| 500/500 [00:07<00:00, 65.50it/s]\n"
          ]
        },
        {
          "name": "stdout",
          "output_type": "stream",
          "text": [
            "['mop', 'broom', 'vacuum']\n"
          ]
        },
        {
          "name": "stderr",
          "output_type": "stream",
          "text": [
            "100%|██████████| 500/500 [00:06<00:00, 73.57it/s]\n"
          ]
        },
        {
          "name": "stdout",
          "output_type": "stream",
          "text": [
            "['dust', 'cobwebs', 'clutter']\n",
            "He fixed the car with the [MASK].\n",
            "index 11 this sent\n"
          ]
        },
        {
          "name": "stderr",
          "output_type": "stream",
          "text": [
            "100%|██████████| 500/500 [00:06<00:00, 72.37it/s]\n"
          ]
        },
        {
          "name": "stdout",
          "output_type": "stream",
          "text": [
            "['wrench', 'screwdriver', 'spanner', 'pliers']\n"
          ]
        },
        {
          "name": "stderr",
          "output_type": "stream",
          "text": [
            "100%|██████████| 500/500 [00:07<00:00, 64.51it/s]\n"
          ]
        },
        {
          "name": "stdout",
          "output_type": "stream",
          "text": [
            "['engine', 'brakes', 'headlights', 'tires']\n",
            "She painted the wall with the [MASK].\n",
            "index 12 this sent\n"
          ]
        },
        {
          "name": "stderr",
          "output_type": "stream",
          "text": [
            "100%|██████████| 500/500 [00:07<00:00, 65.36it/s]\n"
          ]
        },
        {
          "name": "stdout",
          "output_type": "stream",
          "text": [
            "['brush', 'roller', 'spray can', 'palette knife']\n"
          ]
        },
        {
          "name": "stderr",
          "output_type": "stream",
          "text": [
            "100%|██████████| 500/500 [00:07<00:00, 69.32it/s]\n"
          ]
        },
        {
          "name": "stdout",
          "output_type": "stream",
          "text": [
            "['color', 'texture', 'design', 'mural']\n",
            "I fed the dog with the [MASK].\n",
            "index 13 this sent\n"
          ]
        },
        {
          "name": "stderr",
          "output_type": "stream",
          "text": [
            "100%|██████████| 500/500 [00:06<00:00, 73.66it/s]\n"
          ]
        },
        {
          "name": "stdout",
          "output_type": "stream",
          "text": [
            "['kibble', 'scoop', 'meat']\n"
          ]
        },
        {
          "name": "stderr",
          "output_type": "stream",
          "text": [
            "100%|██████████| 500/500 [00:07<00:00, 69.19it/s]\n"
          ]
        },
        {
          "name": "stdout",
          "output_type": "stream",
          "text": [
            "['limp', 'spots', 'scar']\n",
            "They planted the flowers with the [MASK].\n",
            "index 14 this sent\n"
          ]
        },
        {
          "name": "stderr",
          "output_type": "stream",
          "text": [
            "100%|██████████| 500/500 [00:07<00:00, 65.08it/s]\n"
          ]
        },
        {
          "name": "stdout",
          "output_type": "stream",
          "text": [
            "['shovel', 'gardening trowel', 'gloved hands']\n"
          ]
        },
        {
          "name": "stderr",
          "output_type": "stream",
          "text": [
            "100%|██████████| 500/500 [00:07<00:00, 65.62it/s]\n"
          ]
        },
        {
          "name": "stdout",
          "output_type": "stream",
          "text": [
            "['seeds', 'bulbs', 'saplings']\n",
            "Paul solved the equation with the [MASK].\n",
            "index 15 this sent\n"
          ]
        },
        {
          "name": "stderr",
          "output_type": "stream",
          "text": [
            "100%|██████████| 500/500 [00:07<00:00, 69.53it/s]\n"
          ]
        },
        {
          "name": "stdout",
          "output_type": "stream",
          "text": [
            "['calculator', 'pen', 'paper', 'chalk']\n"
          ]
        },
        {
          "name": "stderr",
          "output_type": "stream",
          "text": [
            "100%|██████████| 500/500 [00:06<00:00, 73.83it/s]\n"
          ]
        },
        {
          "name": "stdout",
          "output_type": "stream",
          "text": [
            "['variable', 'coefficient', 'constant', 'term']\n",
            "Liam baked the cake with the [MASK].\n",
            "index 16 this sent\n"
          ]
        },
        {
          "name": "stderr",
          "output_type": "stream",
          "text": [
            "100%|██████████| 500/500 [00:07<00:00, 67.63it/s]\n"
          ]
        },
        {
          "name": "stdout",
          "output_type": "stream",
          "text": [
            "['oven', 'microwave', 'mixer']\n"
          ]
        },
        {
          "name": "stderr",
          "output_type": "stream",
          "text": [
            "100%|██████████| 500/500 [00:07<00:00, 65.37it/s]\n"
          ]
        },
        {
          "name": "stdout",
          "output_type": "stream",
          "text": [
            "['nuts', 'raisins', 'chocolate']\n",
            "James examined the fossil with the [MASK].\n",
            "index 17 this sent\n"
          ]
        },
        {
          "name": "stderr",
          "output_type": "stream",
          "text": [
            "100%|██████████| 500/500 [00:07<00:00, 64.73it/s]\n"
          ]
        },
        {
          "name": "stdout",
          "output_type": "stream",
          "text": [
            "['microscope', 'brush']\n"
          ]
        },
        {
          "name": "stderr",
          "output_type": "stream",
          "text": [
            "100%|██████████| 500/500 [00:06<00:00, 72.58it/s]\n"
          ]
        },
        {
          "name": "stdout",
          "output_type": "stream",
          "text": [
            "['imprint', 'markings']\n",
            "The cats near the mother [MASK] to the bowl.\n",
            "index 18 this sent\n"
          ]
        },
        {
          "name": "stderr",
          "output_type": "stream",
          "text": [
            "100%|██████████| 500/500 [00:06<00:00, 73.12it/s]\n"
          ]
        },
        {
          "name": "stdout",
          "output_type": "stream",
          "text": [
            "['run', 'walk', 'jump']\n"
          ]
        },
        {
          "name": "stderr",
          "output_type": "stream",
          "text": [
            "100%|██████████| 500/500 [00:07<00:00, 64.75it/s]\n"
          ]
        },
        {
          "name": "stdout",
          "output_type": "stream",
          "text": [
            "['runs', 'walks', 'jumps']\n",
            "The tourists around the guide [MASK] to the museum.\n",
            "index 19 this sent\n"
          ]
        },
        {
          "name": "stderr",
          "output_type": "stream",
          "text": [
            "100%|██████████| 500/500 [00:07<00:00, 64.30it/s]\n"
          ]
        },
        {
          "name": "stdout",
          "output_type": "stream",
          "text": [
            "['walk', 'look', 'point']\n"
          ]
        },
        {
          "name": "stderr",
          "output_type": "stream",
          "text": [
            "100%|██████████| 500/500 [00:07<00:00, 68.55it/s]\n"
          ]
        },
        {
          "name": "stdout",
          "output_type": "stream",
          "text": [
            "['walks', 'looks', 'points']\n",
            "The students following the teacher [MASK] to the classroom.\n",
            "index 20 this sent\n"
          ]
        },
        {
          "name": "stderr",
          "output_type": "stream",
          "text": [
            "100%|██████████| 500/500 [00:06<00:00, 73.76it/s]\n"
          ]
        },
        {
          "name": "stdout",
          "output_type": "stream",
          "text": [
            "['walk', 'run', 'look']\n"
          ]
        },
        {
          "name": "stderr",
          "output_type": "stream",
          "text": [
            "100%|██████████| 500/500 [00:07<00:00, 69.34it/s]\n"
          ]
        },
        {
          "name": "stdout",
          "output_type": "stream",
          "text": [
            "['walks', 'runs', 'looks']\n",
            "David designed the poster with the [MASK].\n",
            "index 21 this sent\n"
          ]
        },
        {
          "name": "stderr",
          "output_type": "stream",
          "text": [
            "100%|██████████| 500/500 [00:07<00:00, 65.69it/s]\n"
          ]
        },
        {
          "name": "stdout",
          "output_type": "stream",
          "text": [
            "['software', 'brushes', 'markers']\n"
          ]
        },
        {
          "name": "stderr",
          "output_type": "stream",
          "text": [
            "100%|██████████| 500/500 [00:07<00:00, 65.94it/s]\n"
          ]
        },
        {
          "name": "stdout",
          "output_type": "stream",
          "text": [
            "['misprint', 'smudge', 'stain']\n",
            "She cleaned the window with the [MASK].\n",
            "index 22 this sent\n"
          ]
        },
        {
          "name": "stderr",
          "output_type": "stream",
          "text": [
            "100%|██████████| 500/500 [00:07<00:00, 69.87it/s]\n"
          ]
        },
        {
          "name": "stdout",
          "output_type": "stream",
          "text": [
            "['rag', 'sponge', 'squeegee']\n"
          ]
        },
        {
          "name": "stderr",
          "output_type": "stream",
          "text": [
            "100%|██████████| 500/500 [00:06<00:00, 74.27it/s]\n"
          ]
        },
        {
          "name": "stdout",
          "output_type": "stream",
          "text": [
            "['streaks', 'marks', 'stains']\n",
            "He took the picture with the [MASK].\n",
            "index 23 this sent\n"
          ]
        },
        {
          "name": "stderr",
          "output_type": "stream",
          "text": [
            "100%|██████████| 500/500 [00:07<00:00, 68.62it/s]\n"
          ]
        },
        {
          "name": "stdout",
          "output_type": "stream",
          "text": [
            "['camera', 'smartphone', 'tripod']\n"
          ]
        },
        {
          "name": "stderr",
          "output_type": "stream",
          "text": [
            "100%|██████████| 500/500 [00:07<00:00, 65.13it/s]\n"
          ]
        },
        {
          "name": "stdout",
          "output_type": "stream",
          "text": [
            "['smile', 'sunset', 'crowd']\n",
            "George scanned the document with the [MASK].\n",
            "index 24 this sent\n"
          ]
        },
        {
          "name": "stderr",
          "output_type": "stream",
          "text": [
            "100%|██████████| 500/500 [00:07<00:00, 65.43it/s]\n"
          ]
        },
        {
          "name": "stdout",
          "output_type": "stream",
          "text": [
            "['scanner', 'app', 'camera']\n"
          ]
        },
        {
          "name": "stderr",
          "output_type": "stream",
          "text": [
            "100%|██████████| 500/500 [00:06<00:00, 74.56it/s]\n"
          ]
        },
        {
          "name": "stdout",
          "output_type": "stream",
          "text": [
            "['signature', 'stamp', 'watermark']\n",
            "Julia trimmed the apple tree with the [MASK].\n",
            "index 25 this sent\n"
          ]
        },
        {
          "name": "stderr",
          "output_type": "stream",
          "text": [
            "100%|██████████| 500/500 [00:06<00:00, 72.95it/s]\n"
          ]
        },
        {
          "name": "stdout",
          "output_type": "stream",
          "text": [
            "['shears', 'scissors', 'pruning knife']\n"
          ]
        },
        {
          "name": "stderr",
          "output_type": "stream",
          "text": [
            "100%|██████████| 500/500 [00:07<00:00, 65.73it/s]\n"
          ]
        },
        {
          "name": "stdout",
          "output_type": "stream",
          "text": [
            "['blossoms', 'leaves', 'branches']\n",
            "The archaeologist uncovered the artifact with the [MASK].\n",
            "index 26 this sent\n"
          ]
        },
        {
          "name": "stderr",
          "output_type": "stream",
          "text": [
            "100%|██████████| 500/500 [00:07<00:00, 65.46it/s]\n"
          ]
        },
        {
          "name": "stdout",
          "output_type": "stream",
          "text": [
            "['trowel', 'brush', 'chisel']\n"
          ]
        },
        {
          "name": "stderr",
          "output_type": "stream",
          "text": [
            "100%|██████████| 500/500 [00:07<00:00, 70.58it/s]\n"
          ]
        },
        {
          "name": "stdout",
          "output_type": "stream",
          "text": [
            "['symbols', 'inscription', 'writing']\n",
            "The sailor drove the ship with the [MASK].\n",
            "index 27 this sent\n"
          ]
        },
        {
          "name": "stderr",
          "output_type": "stream",
          "text": [
            "100%|██████████| 500/500 [00:06<00:00, 72.78it/s]\n"
          ]
        },
        {
          "name": "stdout",
          "output_type": "stream",
          "text": [
            "['compass', 'GPS', 'map']\n"
          ]
        },
        {
          "name": "stderr",
          "output_type": "stream",
          "text": [
            "100%|██████████| 500/500 [00:07<00:00, 68.71it/s]\n"
          ]
        },
        {
          "name": "stdout",
          "output_type": "stream",
          "text": [
            "['passengers', 'cargo', 'money']\n",
            "The caretaker splashed the plants with the [MASK].\n",
            "index 28 this sent\n"
          ]
        },
        {
          "name": "stderr",
          "output_type": "stream",
          "text": [
            "100%|██████████| 500/500 [00:07<00:00, 65.44it/s]\n"
          ]
        },
        {
          "name": "stdout",
          "output_type": "stream",
          "text": [
            "['hose', 'can', 'sprinkler']\n"
          ]
        },
        {
          "name": "stderr",
          "output_type": "stream",
          "text": [
            "100%|██████████| 500/500 [00:07<00:00, 65.81it/s]\n"
          ]
        },
        {
          "name": "stdout",
          "output_type": "stream",
          "text": [
            "['bites', 'flowers', 'fruits']\n",
            "The astronaut repaired the shuttle with the [MASK].\n",
            "index 29 this sent\n"
          ]
        },
        {
          "name": "stderr",
          "output_type": "stream",
          "text": [
            "100%|██████████| 500/500 [00:06<00:00, 71.74it/s]\n"
          ]
        },
        {
          "name": "stdout",
          "output_type": "stream",
          "text": [
            "['tools', 'kit', 'manual']\n"
          ]
        },
        {
          "name": "stderr",
          "output_type": "stream",
          "text": [
            "100%|██████████| 500/500 [00:06<00:00, 73.58it/s]\n"
          ]
        },
        {
          "name": "stdout",
          "output_type": "stream",
          "text": [
            "['dents', 'breakage', 'holes']\n",
            "The detective analyzed the case with the [MASK].\n",
            "index 30 this sent\n"
          ]
        },
        {
          "name": "stderr",
          "output_type": "stream",
          "text": [
            "100%|██████████| 500/500 [00:07<00:00, 68.24it/s]\n"
          ]
        },
        {
          "name": "stdout",
          "output_type": "stream",
          "text": [
            "['laptop', 'forensics', 'tools']\n"
          ]
        },
        {
          "name": "stderr",
          "output_type": "stream",
          "text": [
            "100%|██████████| 500/500 [00:07<00:00, 65.96it/s]\n"
          ]
        },
        {
          "name": "stdout",
          "output_type": "stream",
          "text": [
            "['mystery', 'clues', 'suspects']\n",
            "The engineer tested the prototype with the [MASK].\n",
            "index 31 this sent\n"
          ]
        },
        {
          "name": "stderr",
          "output_type": "stream",
          "text": [
            "100%|██████████| 500/500 [00:07<00:00, 64.94it/s]\n"
          ]
        },
        {
          "name": "stdout",
          "output_type": "stream",
          "text": [
            "['multimeter', 'software', 'gauge']\n"
          ]
        },
        {
          "name": "stderr",
          "output_type": "stream",
          "text": [
            "100%|██████████| 500/500 [00:06<00:00, 73.85it/s]\n"
          ]
        },
        {
          "name": "stdout",
          "output_type": "stream",
          "text": [
            "['bugs', 'issues', 'customers']\n",
            "The cyclist reached the destination with the [MASK].\n",
            "index 32 this sent\n"
          ]
        },
        {
          "name": "stderr",
          "output_type": "stream",
          "text": [
            "100%|██████████| 500/500 [00:06<00:00, 73.27it/s]\n"
          ]
        },
        {
          "name": "stdout",
          "output_type": "stream",
          "text": [
            "['GPS', 'map', 'compass']\n"
          ]
        },
        {
          "name": "stderr",
          "output_type": "stream",
          "text": [
            "100%|██████████| 500/500 [00:07<00:00, 65.66it/s]\n"
          ]
        },
        {
          "name": "stdout",
          "output_type": "stream",
          "text": [
            "['view', 'lookout', 'bathroom']\n",
            "The veterinary treated the animal with the [MASK].\n",
            "index 33 this sent\n"
          ]
        },
        {
          "name": "stderr",
          "output_type": "stream",
          "text": [
            "100%|██████████| 500/500 [00:07<00:00, 65.75it/s]\n"
          ]
        },
        {
          "name": "stdout",
          "output_type": "stream",
          "text": [
            "['medicine', 'surgery', 'bandages']\n"
          ]
        },
        {
          "name": "stderr",
          "output_type": "stream",
          "text": [
            "100%|██████████| 500/500 [00:06<00:00, 71.67it/s]\n"
          ]
        },
        {
          "name": "stdout",
          "output_type": "stream",
          "text": [
            "['limp', 'fever', 'cancer']\n",
            "The artist shaped the clay with the [MASK].\n",
            "index 34 this sent\n"
          ]
        },
        {
          "name": "stderr",
          "output_type": "stream",
          "text": [
            "100%|██████████| 500/500 [00:06<00:00, 73.82it/s]\n"
          ]
        },
        {
          "name": "stdout",
          "output_type": "stream",
          "text": [
            "['hands', 'wheel', 'tools']\n"
          ]
        },
        {
          "name": "stderr",
          "output_type": "stream",
          "text": [
            "100%|██████████| 500/500 [00:07<00:00, 67.64it/s]\n"
          ]
        },
        {
          "name": "stdout",
          "output_type": "stream",
          "text": [
            "['imperfections', 'dents', 'patterns']\n",
            "The migrant ascended the mountain with the [MASK].\n",
            "index 35 this sent\n"
          ]
        },
        {
          "name": "stderr",
          "output_type": "stream",
          "text": [
            "100%|██████████| 500/500 [00:07<00:00, 65.65it/s]\n"
          ]
        },
        {
          "name": "stdout",
          "output_type": "stream",
          "text": [
            "['rope', 'axe', 'carabiners']\n"
          ]
        },
        {
          "name": "stderr",
          "output_type": "stream",
          "text": [
            "100%|██████████| 500/500 [00:07<00:00, 65.62it/s]\n"
          ]
        },
        {
          "name": "stdout",
          "output_type": "stream",
          "text": [
            "['rocks', 'cliffs', 'snow']\n",
            "The hunter crossed the trail with the [MASK].\n",
            "index 36 this sent\n"
          ]
        },
        {
          "name": "stderr",
          "output_type": "stream",
          "text": [
            "100%|██████████| 500/500 [00:06<00:00, 71.43it/s]\n"
          ]
        },
        {
          "name": "stdout",
          "output_type": "stream",
          "text": [
            "['backpack', 'stick', 'map']\n"
          ]
        },
        {
          "name": "stderr",
          "output_type": "stream",
          "text": [
            "100%|██████████| 500/500 [00:06<00:00, 73.79it/s]\n"
          ]
        },
        {
          "name": "stdout",
          "output_type": "stream",
          "text": [
            "['leaves', 'rocks', 'slopes']\n",
            "The chemist mixed the solution with the [MASK].\n",
            "index 37 this sent\n"
          ]
        },
        {
          "name": "stderr",
          "output_type": "stream",
          "text": [
            "100%|██████████| 500/500 [00:07<00:00, 67.37it/s]\n"
          ]
        },
        {
          "name": "stdout",
          "output_type": "stream",
          "text": [
            "['rod', 'shaker', 'stirrer']\n"
          ]
        },
        {
          "name": "stderr",
          "output_type": "stream",
          "text": [
            "100%|██████████| 500/500 [00:07<00:00, 65.20it/s]\n"
          ]
        },
        {
          "name": "stdout",
          "output_type": "stream",
          "text": [
            "['particles', 'reagents', 'sediment']\n",
            "The soldier secured the area with the [MASK].\n",
            "index 38 this sent\n"
          ]
        },
        {
          "name": "stderr",
          "output_type": "stream",
          "text": [
            "100%|██████████| 500/500 [00:07<00:00, 65.55it/s]\n"
          ]
        },
        {
          "name": "stdout",
          "output_type": "stream",
          "text": [
            "['gun', 'knife', 'radio']\n"
          ]
        },
        {
          "name": "stderr",
          "output_type": "stream",
          "text": [
            "100%|██████████| 500/500 [00:06<00:00, 74.41it/s]\n"
          ]
        },
        {
          "name": "stdout",
          "output_type": "stream",
          "text": [
            "['traps', 'foliage', 'shadows']\n",
            "The owner inspected the jewel with the [MASK].\n",
            "index 39 this sent\n"
          ]
        },
        {
          "name": "stderr",
          "output_type": "stream",
          "text": [
            "100%|██████████| 500/500 [00:06<00:00, 73.56it/s]\n"
          ]
        },
        {
          "name": "stdout",
          "output_type": "stream",
          "text": [
            "['loupe', 'microscope', 'tweezers']\n"
          ]
        },
        {
          "name": "stderr",
          "output_type": "stream",
          "text": [
            "100%|██████████| 500/500 [00:07<00:00, 65.97it/s]\n"
          ]
        },
        {
          "name": "stdout",
          "output_type": "stream",
          "text": [
            "['facets', 'imperfections', 'colors']\n",
            "The blacksmith tempered the sword with the [MASK].\n",
            "index 40 this sent\n"
          ]
        },
        {
          "name": "stderr",
          "output_type": "stream",
          "text": [
            "100%|██████████| 500/500 [00:07<00:00, 65.61it/s]\n"
          ]
        },
        {
          "name": "stdout",
          "output_type": "stream",
          "text": [
            "['forge', 'hammer', 'water']\n"
          ]
        },
        {
          "name": "stderr",
          "output_type": "stream",
          "text": [
            "100%|██████████| 500/500 [00:06<00:00, 73.20it/s]\n"
          ]
        },
        {
          "name": "stdout",
          "output_type": "stream",
          "text": [
            "['chip', 'curve', 'carvings']\n",
            "The surveyor charted the terrain with the [MASK].\n",
            "index 41 this sent\n"
          ]
        },
        {
          "name": "stderr",
          "output_type": "stream",
          "text": [
            "100%|██████████| 500/500 [00:06<00:00, 73.80it/s]\n"
          ]
        },
        {
          "name": "stdout",
          "output_type": "stream",
          "text": [
            "['pencil', 'compass', 'software']\n"
          ]
        },
        {
          "name": "stderr",
          "output_type": "stream",
          "text": [
            "100%|██████████| 500/500 [00:07<00:00, 66.00it/s]\n"
          ]
        },
        {
          "name": "stdout",
          "output_type": "stream",
          "text": [
            "['mountains', 'rivers', 'forests']\n",
            "The biologist identified the insect with the [MASK].\n",
            "index 42 this sent\n"
          ]
        },
        {
          "name": "stderr",
          "output_type": "stream",
          "text": [
            "100%|██████████| 500/500 [00:07<00:00, 64.69it/s]\n"
          ]
        },
        {
          "name": "stdout",
          "output_type": "stream",
          "text": [
            "['guide', 'glasses', 'microscope']\n"
          ]
        },
        {
          "name": "stderr",
          "output_type": "stream",
          "text": [
            "100%|██████████| 500/500 [00:07<00:00, 65.09it/s]\n"
          ]
        },
        {
          "name": "stdout",
          "output_type": "stream",
          "text": [
            "['colors', 'markings', 'wings']\n",
            "The designer altered the dress with the [MASK].\n",
            "index 43 this sent\n"
          ]
        },
        {
          "name": "stderr",
          "output_type": "stream",
          "text": [
            "100%|██████████| 500/500 [00:06<00:00, 73.38it/s]\n"
          ]
        },
        {
          "name": "stdout",
          "output_type": "stream",
          "text": [
            "['machine', 'needle', 'scissors']\n"
          ]
        },
        {
          "name": "stderr",
          "output_type": "stream",
          "text": [
            "100%|██████████| 500/500 [00:06<00:00, 71.89it/s]\n"
          ]
        },
        {
          "name": "stdout",
          "output_type": "stream",
          "text": [
            "['hem', 'fringe', 'straps']\n",
            "The botanist examined the plant with the [MASK].\n",
            "index 44 this sent\n"
          ]
        },
        {
          "name": "stderr",
          "output_type": "stream",
          "text": [
            "100%|██████████| 500/500 [00:07<00:00, 66.13it/s]\n"
          ]
        },
        {
          "name": "stdout",
          "output_type": "stream",
          "text": [
            "['light', 'microscope', 'tweezers']\n"
          ]
        },
        {
          "name": "stderr",
          "output_type": "stream",
          "text": [
            "100%|██████████| 500/500 [00:07<00:00, 65.35it/s]\n"
          ]
        },
        {
          "name": "stdout",
          "output_type": "stream",
          "text": [
            "['petals', 'thorns', 'roots']\n",
            "The farmer checked the nest with the [MASK].\n",
            "index 45 this sent\n"
          ]
        },
        {
          "name": "stderr",
          "output_type": "stream",
          "text": [
            "100%|██████████| 500/500 [00:07<00:00, 65.17it/s]\n"
          ]
        },
        {
          "name": "stdout",
          "output_type": "stream",
          "text": [
            "['smoker', 'tool', 'stick']\n"
          ]
        },
        {
          "name": "stderr",
          "output_type": "stream",
          "text": [
            "100%|██████████| 500/500 [00:06<00:00, 73.74it/s]\n"
          ]
        },
        {
          "name": "stdout",
          "output_type": "stream",
          "text": [
            "['bees', 'combs', 'queen']\n",
            "The scientist identified the fungus with the [MASK].\n",
            "index 46 this sent\n"
          ]
        },
        {
          "name": "stderr",
          "output_type": "stream",
          "text": [
            "100%|██████████| 500/500 [00:06<00:00, 73.41it/s]\n"
          ]
        },
        {
          "name": "stdout",
          "output_type": "stream",
          "text": [
            "['guide', 'print', 'microscope']\n"
          ]
        },
        {
          "name": "stderr",
          "output_type": "stream",
          "text": [
            "100%|██████████| 500/500 [00:07<00:00, 65.14it/s]\n"
          ]
        },
        {
          "name": "stdout",
          "output_type": "stream",
          "text": [
            "['cap', 'rings', 'poison']\n",
            "The sculptor carved the statue with the [MASK].\n",
            "index 47 this sent\n"
          ]
        },
        {
          "name": "stderr",
          "output_type": "stream",
          "text": [
            "100%|██████████| 500/500 [00:07<00:00, 65.02it/s]\n"
          ]
        },
        {
          "name": "stdout",
          "output_type": "stream",
          "text": [
            "['mallet', 'rasp', 'chisel']\n"
          ]
        },
        {
          "name": "stderr",
          "output_type": "stream",
          "text": [
            "100%|██████████| 500/500 [00:06<00:00, 73.69it/s]\n"
          ]
        },
        {
          "name": "stdout",
          "output_type": "stream",
          "text": [
            "['flaw', 'base', 'texture']\n",
            "The archaeologist mapped the cavern with the [MASK].\n",
            "index 48 this sent\n"
          ]
        },
        {
          "name": "stderr",
          "output_type": "stream",
          "text": [
            "100%|██████████| 500/500 [00:06<00:00, 73.67it/s]\n"
          ]
        },
        {
          "name": "stdout",
          "output_type": "stream",
          "text": [
            "['headlamp', 'laser', 'notebook']\n"
          ]
        },
        {
          "name": "stderr",
          "output_type": "stream",
          "text": [
            "100%|██████████| 500/500 [00:07<00:00, 65.42it/s]\n"
          ]
        },
        {
          "name": "stdout",
          "output_type": "stream",
          "text": [
            "['stalactites', 'passages', 'chambers']\n",
            "The police surveyed the park with the [MASK].\n",
            "index 49 this sent\n"
          ]
        },
        {
          "name": "stderr",
          "output_type": "stream",
          "text": [
            "100%|██████████| 500/500 [00:07<00:00, 65.40it/s]\n"
          ]
        },
        {
          "name": "stdout",
          "output_type": "stream",
          "text": [
            "['binoculars', 'map', 'compass']\n"
          ]
        },
        {
          "name": "stderr",
          "output_type": "stream",
          "text": [
            "100%|██████████| 500/500 [00:07<00:00, 67.12it/s]\n"
          ]
        },
        {
          "name": "stdout",
          "output_type": "stream",
          "text": [
            "['wildlife', 'footprints', 'foliage']\n",
            "The sailor traveled the sea with the [MASK].\n",
            "index 50 this sent\n"
          ]
        },
        {
          "name": "stderr",
          "output_type": "stream",
          "text": [
            "100%|██████████| 500/500 [00:06<00:00, 73.90it/s]\n"
          ]
        },
        {
          "name": "stdout",
          "output_type": "stream",
          "text": [
            "['compass', 'chart', 'sextant']\n"
          ]
        },
        {
          "name": "stderr",
          "output_type": "stream",
          "text": [
            "100%|██████████| 500/500 [00:07<00:00, 70.87it/s]\n"
          ]
        },
        {
          "name": "stdout",
          "output_type": "stream",
          "text": [
            "['waves', 'currents', 'wind']\n",
            "The programmer fixed the program with the [MASK].\n",
            "index 51 this sent\n"
          ]
        },
        {
          "name": "stderr",
          "output_type": "stream",
          "text": [
            "100%|██████████| 500/500 [00:07<00:00, 65.26it/s]\n"
          ]
        },
        {
          "name": "stdout",
          "output_type": "stream",
          "text": [
            "['compiler', 'logger', 'breakpoints']\n"
          ]
        },
        {
          "name": "stderr",
          "output_type": "stream",
          "text": [
            "100%|██████████| 500/500 [00:07<00:00, 66.05it/s]\n"
          ]
        },
        {
          "name": "stdout",
          "output_type": "stream",
          "text": [
            "['errors', 'loops', 'variables']\n",
            "The conductor coordinated the orchestra with the [MASK].\n",
            "index 52 this sent\n"
          ]
        },
        {
          "name": "stderr",
          "output_type": "stream",
          "text": [
            "100%|██████████| 500/500 [00:07<00:00, 68.89it/s]\n"
          ]
        },
        {
          "name": "stdout",
          "output_type": "stream",
          "text": [
            "['baton', 'gesture', 'tempo']\n"
          ]
        },
        {
          "name": "stderr",
          "output_type": "stream",
          "text": [
            "100%|██████████| 500/500 [00:06<00:00, 73.94it/s]\n"
          ]
        },
        {
          "name": "stdout",
          "output_type": "stream",
          "text": [
            "['violins', 'flutes', 'cellos']\n",
            "The architect drew the design with the [MASK].\n",
            "index 53 this sent\n"
          ]
        },
        {
          "name": "stderr",
          "output_type": "stream",
          "text": [
            "100%|██████████| 500/500 [00:07<00:00, 70.01it/s]\n"
          ]
        },
        {
          "name": "stdout",
          "output_type": "stream",
          "text": [
            "['pencil', 'ruler', 'protractor']\n"
          ]
        },
        {
          "name": "stderr",
          "output_type": "stream",
          "text": [
            "100%|██████████| 500/500 [00:07<00:00, 64.69it/s]\n"
          ]
        },
        {
          "name": "stdout",
          "output_type": "stream",
          "text": [
            "['windows', 'columns', 'staircases']\n",
            "The archaeologist excavated the fossil with the [MASK].\n",
            "index 54 this sent\n"
          ]
        },
        {
          "name": "stderr",
          "output_type": "stream",
          "text": [
            "100%|██████████| 500/500 [00:07<00:00, 64.96it/s]\n"
          ]
        },
        {
          "name": "stdout",
          "output_type": "stream",
          "text": [
            "['brush', 'trowel', 'chisel']\n"
          ]
        },
        {
          "name": "stderr",
          "output_type": "stream",
          "text": [
            "100%|██████████| 500/500 [00:06<00:00, 73.92it/s]\n"
          ]
        },
        {
          "name": "stdout",
          "output_type": "stream",
          "text": [
            "['bones', 'teeth', 'shells']\n",
            "The caretaker trimmed the hedge with the [MASK].\n",
            "index 55 this sent\n"
          ]
        },
        {
          "name": "stderr",
          "output_type": "stream",
          "text": [
            "100%|██████████| 500/500 [00:06<00:00, 73.81it/s]\n"
          ]
        },
        {
          "name": "stdout",
          "output_type": "stream",
          "text": [
            "['shears', 'loppers', 'pruners']\n"
          ]
        },
        {
          "name": "stderr",
          "output_type": "stream",
          "text": [
            "100%|██████████| 500/500 [00:07<00:00, 66.02it/s]\n"
          ]
        },
        {
          "name": "stdout",
          "output_type": "stream",
          "text": [
            "['blossoms', 'thorns', 'branches']\n",
            "The detective traced the suspect with the [MASK].\n",
            "index 56 this sent\n"
          ]
        },
        {
          "name": "stderr",
          "output_type": "stream",
          "text": [
            "100%|██████████| 500/500 [00:07<00:00, 65.17it/s]\n"
          ]
        },
        {
          "name": "stdout",
          "output_type": "stream",
          "text": [
            "['GPS', 'camera', 'phone']\n"
          ]
        },
        {
          "name": "stderr",
          "output_type": "stream",
          "text": [
            "100%|██████████| 500/500 [00:07<00:00, 68.68it/s]\n"
          ]
        },
        {
          "name": "stdout",
          "output_type": "stream",
          "text": [
            "['footprints', 'cigarette', 'scarf']\n",
            "The chef decorated the dish with the [MASK].\n",
            "index 57 this sent\n"
          ]
        },
        {
          "name": "stderr",
          "output_type": "stream",
          "text": [
            "100%|██████████| 500/500 [00:06<00:00, 73.86it/s]\n"
          ]
        },
        {
          "name": "stdout",
          "output_type": "stream",
          "text": [
            "['parsley', 'lemon', 'pepper']\n"
          ]
        },
        {
          "name": "stderr",
          "output_type": "stream",
          "text": [
            "100%|██████████| 500/500 [00:07<00:00, 69.92it/s]\n"
          ]
        },
        {
          "name": "stdout",
          "output_type": "stream",
          "text": [
            "['soup', 'steak', 'pasta']\n",
            "0.04274043945967221\n",
            "\n",
            "NEW RUN: layer 11 rank 64 theta 0.6\n",
            "\n",
            "I bought the laptop with the [MASK].\n",
            "index 0 this sent\n"
          ]
        },
        {
          "name": "stderr",
          "output_type": "stream",
          "text": [
            "100%|██████████| 500/500 [00:07<00:00, 64.72it/s]\n"
          ]
        },
        {
          "name": "stdout",
          "output_type": "stream",
          "text": [
            "['money', 'card', 'check', 'credit']\n"
          ]
        },
        {
          "name": "stderr",
          "output_type": "stream",
          "text": [
            "100%|██████████| 500/500 [00:07<00:00, 65.03it/s]\n"
          ]
        },
        {
          "name": "stdout",
          "output_type": "stream",
          "text": [
            "['GPU', 'CPU', 'RAM', 'storage']\n",
            "She fixed the vase with the [MASK].\n",
            "index 1 this sent\n"
          ]
        },
        {
          "name": "stderr",
          "output_type": "stream",
          "text": [
            "100%|██████████| 500/500 [00:07<00:00, 68.74it/s]\n"
          ]
        },
        {
          "name": "stdout",
          "output_type": "stream",
          "text": [
            "['glue', 'epoxy', 'adhesive', 'cement', 'paste']\n"
          ]
        },
        {
          "name": "stderr",
          "output_type": "stream",
          "text": [
            "100%|██████████| 500/500 [00:06<00:00, 73.13it/s]\n"
          ]
        },
        {
          "name": "stdout",
          "output_type": "stream",
          "text": [
            "['crack', 'split', 'break', 'fracture', 'fissure']\n",
            "John saw the man using the [MASK].\n",
            "index 2 this sent\n"
          ]
        },
        {
          "name": "stderr",
          "output_type": "stream",
          "text": [
            "100%|██████████| 500/500 [00:07<00:00, 70.91it/s]\n"
          ]
        },
        {
          "name": "stdout",
          "output_type": "stream",
          "text": [
            "['telescope', 'camera', 'binoculars']\n"
          ]
        },
        {
          "name": "stderr",
          "output_type": "stream",
          "text": [
            "100%|██████████| 500/500 [00:07<00:00, 65.40it/s]\n"
          ]
        },
        {
          "name": "stdout",
          "output_type": "stream",
          "text": [
            "['bike', 'stairs', 'sink']\n",
            "Sarah tasted the soup with the [MASK].\n",
            "index 3 this sent\n"
          ]
        },
        {
          "name": "stderr",
          "output_type": "stream",
          "text": [
            "100%|██████████| 500/500 [00:07<00:00, 65.46it/s]\n"
          ]
        },
        {
          "name": "stdout",
          "output_type": "stream",
          "text": [
            "['spoon', 'ladle', 'tablespoon']\n"
          ]
        },
        {
          "name": "stderr",
          "output_type": "stream",
          "text": [
            "100%|██████████| 500/500 [00:06<00:00, 74.21it/s]\n"
          ]
        },
        {
          "name": "stdout",
          "output_type": "stream",
          "text": [
            "['salt', 'pepper', 'spices']\n",
            "They cut the tree with the [MASK].\n",
            "index 4 this sent\n"
          ]
        },
        {
          "name": "stderr",
          "output_type": "stream",
          "text": [
            "100%|██████████| 500/500 [00:06<00:00, 74.14it/s]\n"
          ]
        },
        {
          "name": "stdout",
          "output_type": "stream",
          "text": [
            "['axe', 'chainsaw', 'pruning shears']\n"
          ]
        },
        {
          "name": "stderr",
          "output_type": "stream",
          "text": [
            "100%|██████████| 500/500 [00:07<00:00, 65.68it/s]\n"
          ]
        },
        {
          "name": "stdout",
          "output_type": "stream",
          "text": [
            "['disease', 'blight', 'hole']\n",
            "Mark wrote the note with the [MASK].\n",
            "index 5 this sent\n"
          ]
        },
        {
          "name": "stderr",
          "output_type": "stream",
          "text": [
            "100%|██████████| 500/500 [00:07<00:00, 66.11it/s]\n"
          ]
        },
        {
          "name": "stdout",
          "output_type": "stream",
          "text": [
            "['pen', 'pencil', 'marker', 'stylus']\n"
          ]
        },
        {
          "name": "stderr",
          "output_type": "stream",
          "text": [
            "100%|██████████| 500/500 [00:07<00:00, 67.63it/s]\n"
          ]
        },
        {
          "name": "stdout",
          "output_type": "stream",
          "text": [
            "['answer', 'ingredients', 'recipe', 'instructions']\n",
            "Linda caught the fish with the [MASK].\n",
            "index 6 this sent\n"
          ]
        },
        {
          "name": "stderr",
          "output_type": "stream",
          "text": [
            "100%|██████████| 500/500 [00:06<00:00, 73.37it/s]\n"
          ]
        },
        {
          "name": "stdout",
          "output_type": "stream",
          "text": [
            "['net', 'rod', 'trap', 'bait']\n"
          ]
        },
        {
          "name": "stderr",
          "output_type": "stream",
          "text": [
            "100%|██████████| 500/500 [00:07<00:00, 69.40it/s]\n"
          ]
        },
        {
          "name": "stdout",
          "output_type": "stream",
          "text": [
            "['stripes', 'eggs', 'smell', 'cut']\n",
            "Mary opened the box with the [MASK].\n",
            "index 7 this sent\n"
          ]
        },
        {
          "name": "stderr",
          "output_type": "stream",
          "text": [
            "100%|██████████| 500/500 [00:07<00:00, 65.51it/s]\n"
          ]
        },
        {
          "name": "stdout",
          "output_type": "stream",
          "text": [
            "['key', 'combination', 'code']\n"
          ]
        },
        {
          "name": "stderr",
          "output_type": "stream",
          "text": [
            "100%|██████████| 500/500 [00:07<00:00, 65.70it/s]\n"
          ]
        },
        {
          "name": "stdout",
          "output_type": "stream",
          "text": [
            "['lid', 'hinges', 'lock']\n",
            "The person next to the goats [MASK] to the field.\n",
            "index 8 this sent\n"
          ]
        },
        {
          "name": "stderr",
          "output_type": "stream",
          "text": [
            "100%|██████████| 500/500 [00:07<00:00, 68.90it/s]\n"
          ]
        },
        {
          "name": "stdout",
          "output_type": "stream",
          "text": [
            "['runs', 'walks', 'looks']\n"
          ]
        },
        {
          "name": "stderr",
          "output_type": "stream",
          "text": [
            "100%|██████████| 500/500 [00:06<00:00, 73.06it/s]\n"
          ]
        },
        {
          "name": "stdout",
          "output_type": "stream",
          "text": [
            "['run', 'ralk', 'look']\n",
            "The sailors surrounding the captain [MASK] to the boats.\n",
            "index 9 this sent\n"
          ]
        },
        {
          "name": "stderr",
          "output_type": "stream",
          "text": [
            "100%|██████████| 500/500 [00:07<00:00, 70.43it/s]\n"
          ]
        },
        {
          "name": "stdout",
          "output_type": "stream",
          "text": [
            "['run', 'ralk', 'look']\n"
          ]
        },
        {
          "name": "stderr",
          "output_type": "stream",
          "text": [
            "100%|██████████| 500/500 [00:07<00:00, 65.08it/s]\n"
          ]
        },
        {
          "name": "stdout",
          "output_type": "stream",
          "text": [
            "['runs', 'walks', 'looks']\n",
            "We cleaned the house with the [MASK].\n",
            "index 10 this sent\n"
          ]
        },
        {
          "name": "stderr",
          "output_type": "stream",
          "text": [
            "100%|██████████| 500/500 [00:07<00:00, 64.88it/s]\n"
          ]
        },
        {
          "name": "stdout",
          "output_type": "stream",
          "text": [
            "['mop', 'broom', 'vacuum']\n"
          ]
        },
        {
          "name": "stderr",
          "output_type": "stream",
          "text": [
            "100%|██████████| 500/500 [00:06<00:00, 73.13it/s]\n"
          ]
        },
        {
          "name": "stdout",
          "output_type": "stream",
          "text": [
            "['dust', 'cobwebs', 'clutter']\n",
            "He fixed the car with the [MASK].\n",
            "index 11 this sent\n"
          ]
        },
        {
          "name": "stderr",
          "output_type": "stream",
          "text": [
            "100%|██████████| 500/500 [00:06<00:00, 73.99it/s]\n"
          ]
        },
        {
          "name": "stdout",
          "output_type": "stream",
          "text": [
            "['wrench', 'screwdriver', 'spanner', 'pliers']\n"
          ]
        },
        {
          "name": "stderr",
          "output_type": "stream",
          "text": [
            "100%|██████████| 500/500 [00:07<00:00, 64.95it/s]\n"
          ]
        },
        {
          "name": "stdout",
          "output_type": "stream",
          "text": [
            "['engine', 'brakes', 'headlights', 'tires']\n",
            "She painted the wall with the [MASK].\n",
            "index 12 this sent\n"
          ]
        },
        {
          "name": "stderr",
          "output_type": "stream",
          "text": [
            "100%|██████████| 500/500 [00:07<00:00, 65.62it/s]\n"
          ]
        },
        {
          "name": "stdout",
          "output_type": "stream",
          "text": [
            "['brush', 'roller', 'spray can', 'palette knife']\n"
          ]
        },
        {
          "name": "stderr",
          "output_type": "stream",
          "text": [
            "100%|██████████| 500/500 [00:07<00:00, 69.53it/s]\n"
          ]
        },
        {
          "name": "stdout",
          "output_type": "stream",
          "text": [
            "['color', 'texture', 'design', 'mural']\n",
            "I fed the dog with the [MASK].\n",
            "index 13 this sent\n"
          ]
        },
        {
          "name": "stderr",
          "output_type": "stream",
          "text": [
            "100%|██████████| 500/500 [00:06<00:00, 73.38it/s]\n"
          ]
        },
        {
          "name": "stdout",
          "output_type": "stream",
          "text": [
            "['kibble', 'scoop', 'meat']\n"
          ]
        },
        {
          "name": "stderr",
          "output_type": "stream",
          "text": [
            "100%|██████████| 500/500 [00:07<00:00, 69.74it/s]\n"
          ]
        },
        {
          "name": "stdout",
          "output_type": "stream",
          "text": [
            "['limp', 'spots', 'scar']\n",
            "They planted the flowers with the [MASK].\n",
            "index 14 this sent\n"
          ]
        },
        {
          "name": "stderr",
          "output_type": "stream",
          "text": [
            "100%|██████████| 500/500 [00:07<00:00, 65.93it/s]\n"
          ]
        },
        {
          "name": "stdout",
          "output_type": "stream",
          "text": [
            "['shovel', 'gardening trowel', 'gloved hands']\n"
          ]
        },
        {
          "name": "stderr",
          "output_type": "stream",
          "text": [
            "100%|██████████| 500/500 [00:07<00:00, 65.12it/s]\n"
          ]
        },
        {
          "name": "stdout",
          "output_type": "stream",
          "text": [
            "['seeds', 'bulbs', 'saplings']\n",
            "Paul solved the equation with the [MASK].\n",
            "index 15 this sent\n"
          ]
        },
        {
          "name": "stderr",
          "output_type": "stream",
          "text": [
            "100%|██████████| 500/500 [00:07<00:00, 70.36it/s]\n"
          ]
        },
        {
          "name": "stdout",
          "output_type": "stream",
          "text": [
            "['calculator', 'pen', 'paper', 'chalk']\n"
          ]
        },
        {
          "name": "stderr",
          "output_type": "stream",
          "text": [
            "100%|██████████| 500/500 [00:06<00:00, 72.98it/s]\n"
          ]
        },
        {
          "name": "stdout",
          "output_type": "stream",
          "text": [
            "['variable', 'coefficient', 'constant', 'term']\n",
            "Liam baked the cake with the [MASK].\n",
            "index 16 this sent\n"
          ]
        },
        {
          "name": "stderr",
          "output_type": "stream",
          "text": [
            "100%|██████████| 500/500 [00:07<00:00, 68.46it/s]\n"
          ]
        },
        {
          "name": "stdout",
          "output_type": "stream",
          "text": [
            "['oven', 'microwave', 'mixer']\n"
          ]
        },
        {
          "name": "stderr",
          "output_type": "stream",
          "text": [
            "100%|██████████| 500/500 [00:07<00:00, 65.58it/s]\n"
          ]
        },
        {
          "name": "stdout",
          "output_type": "stream",
          "text": [
            "['nuts', 'raisins', 'chocolate']\n",
            "James examined the fossil with the [MASK].\n",
            "index 17 this sent\n"
          ]
        },
        {
          "name": "stderr",
          "output_type": "stream",
          "text": [
            "100%|██████████| 500/500 [00:07<00:00, 65.31it/s]\n"
          ]
        },
        {
          "name": "stdout",
          "output_type": "stream",
          "text": [
            "['microscope', 'brush']\n"
          ]
        },
        {
          "name": "stderr",
          "output_type": "stream",
          "text": [
            "100%|██████████| 500/500 [00:06<00:00, 73.37it/s]\n"
          ]
        },
        {
          "name": "stdout",
          "output_type": "stream",
          "text": [
            "['imprint', 'markings']\n",
            "The cats near the mother [MASK] to the bowl.\n",
            "index 18 this sent\n"
          ]
        },
        {
          "name": "stderr",
          "output_type": "stream",
          "text": [
            "100%|██████████| 500/500 [00:06<00:00, 73.83it/s]\n"
          ]
        },
        {
          "name": "stdout",
          "output_type": "stream",
          "text": [
            "['run', 'walk', 'jump']\n"
          ]
        },
        {
          "name": "stderr",
          "output_type": "stream",
          "text": [
            "100%|██████████| 500/500 [00:07<00:00, 64.95it/s]\n"
          ]
        },
        {
          "name": "stdout",
          "output_type": "stream",
          "text": [
            "['runs', 'walks', 'jumps']\n",
            "The tourists around the guide [MASK] to the museum.\n",
            "index 19 this sent\n"
          ]
        },
        {
          "name": "stderr",
          "output_type": "stream",
          "text": [
            "100%|██████████| 500/500 [00:07<00:00, 65.07it/s]\n"
          ]
        },
        {
          "name": "stdout",
          "output_type": "stream",
          "text": [
            "['walk', 'look', 'point']\n"
          ]
        },
        {
          "name": "stderr",
          "output_type": "stream",
          "text": [
            "100%|██████████| 500/500 [00:07<00:00, 67.89it/s]\n"
          ]
        },
        {
          "name": "stdout",
          "output_type": "stream",
          "text": [
            "['walks', 'looks', 'points']\n",
            "The students following the teacher [MASK] to the classroom.\n",
            "index 20 this sent\n"
          ]
        },
        {
          "name": "stderr",
          "output_type": "stream",
          "text": [
            "100%|██████████| 500/500 [00:06<00:00, 73.64it/s]\n"
          ]
        },
        {
          "name": "stdout",
          "output_type": "stream",
          "text": [
            "['walk', 'run', 'look']\n"
          ]
        },
        {
          "name": "stderr",
          "output_type": "stream",
          "text": [
            "100%|██████████| 500/500 [00:07<00:00, 70.19it/s]\n"
          ]
        },
        {
          "name": "stdout",
          "output_type": "stream",
          "text": [
            "['walks', 'runs', 'looks']\n",
            "David designed the poster with the [MASK].\n",
            "index 21 this sent\n"
          ]
        },
        {
          "name": "stderr",
          "output_type": "stream",
          "text": [
            "100%|██████████| 500/500 [00:07<00:00, 66.00it/s]\n"
          ]
        },
        {
          "name": "stdout",
          "output_type": "stream",
          "text": [
            "['software', 'brushes', 'markers']\n"
          ]
        },
        {
          "name": "stderr",
          "output_type": "stream",
          "text": [
            "100%|██████████| 500/500 [00:07<00:00, 65.10it/s]\n"
          ]
        },
        {
          "name": "stdout",
          "output_type": "stream",
          "text": [
            "['misprint', 'smudge', 'stain']\n",
            "She cleaned the window with the [MASK].\n",
            "index 22 this sent\n"
          ]
        },
        {
          "name": "stderr",
          "output_type": "stream",
          "text": [
            "100%|██████████| 500/500 [00:07<00:00, 68.01it/s]\n"
          ]
        },
        {
          "name": "stdout",
          "output_type": "stream",
          "text": [
            "['rag', 'sponge', 'squeegee']\n"
          ]
        },
        {
          "name": "stderr",
          "output_type": "stream",
          "text": [
            "100%|██████████| 500/500 [00:06<00:00, 73.47it/s]\n"
          ]
        },
        {
          "name": "stdout",
          "output_type": "stream",
          "text": [
            "['streaks', 'marks', 'stains']\n",
            "He took the picture with the [MASK].\n",
            "index 23 this sent\n"
          ]
        },
        {
          "name": "stderr",
          "output_type": "stream",
          "text": [
            "100%|██████████| 500/500 [00:07<00:00, 70.00it/s]\n"
          ]
        },
        {
          "name": "stdout",
          "output_type": "stream",
          "text": [
            "['camera', 'smartphone', 'tripod']\n"
          ]
        },
        {
          "name": "stderr",
          "output_type": "stream",
          "text": [
            "100%|██████████| 500/500 [00:07<00:00, 64.79it/s]\n"
          ]
        },
        {
          "name": "stdout",
          "output_type": "stream",
          "text": [
            "['smile', 'sunset', 'crowd']\n",
            "George scanned the document with the [MASK].\n",
            "index 24 this sent\n"
          ]
        },
        {
          "name": "stderr",
          "output_type": "stream",
          "text": [
            "100%|██████████| 500/500 [00:07<00:00, 65.82it/s]\n"
          ]
        },
        {
          "name": "stdout",
          "output_type": "stream",
          "text": [
            "['scanner', 'app', 'camera']\n"
          ]
        },
        {
          "name": "stderr",
          "output_type": "stream",
          "text": [
            "100%|██████████| 500/500 [00:06<00:00, 73.50it/s]\n"
          ]
        },
        {
          "name": "stdout",
          "output_type": "stream",
          "text": [
            "['signature', 'stamp', 'watermark']\n",
            "Julia trimmed the apple tree with the [MASK].\n",
            "index 25 this sent\n"
          ]
        },
        {
          "name": "stderr",
          "output_type": "stream",
          "text": [
            "100%|██████████| 500/500 [00:06<00:00, 72.53it/s]\n"
          ]
        },
        {
          "name": "stdout",
          "output_type": "stream",
          "text": [
            "['shears', 'scissors', 'pruning knife']\n"
          ]
        },
        {
          "name": "stderr",
          "output_type": "stream",
          "text": [
            "100%|██████████| 500/500 [00:07<00:00, 65.60it/s]\n"
          ]
        },
        {
          "name": "stdout",
          "output_type": "stream",
          "text": [
            "['blossoms', 'leaves', 'branches']\n",
            "The archaeologist uncovered the artifact with the [MASK].\n",
            "index 26 this sent\n"
          ]
        },
        {
          "name": "stderr",
          "output_type": "stream",
          "text": [
            "100%|██████████| 500/500 [00:07<00:00, 65.28it/s]\n"
          ]
        },
        {
          "name": "stdout",
          "output_type": "stream",
          "text": [
            "['trowel', 'brush', 'chisel']\n"
          ]
        },
        {
          "name": "stderr",
          "output_type": "stream",
          "text": [
            "100%|██████████| 500/500 [00:07<00:00, 67.99it/s]\n"
          ]
        },
        {
          "name": "stdout",
          "output_type": "stream",
          "text": [
            "['symbols', 'inscription', 'writing']\n",
            "The sailor drove the ship with the [MASK].\n",
            "index 27 this sent\n"
          ]
        },
        {
          "name": "stderr",
          "output_type": "stream",
          "text": [
            "100%|██████████| 500/500 [00:06<00:00, 73.51it/s]\n"
          ]
        },
        {
          "name": "stdout",
          "output_type": "stream",
          "text": [
            "['compass', 'GPS', 'map']\n"
          ]
        },
        {
          "name": "stderr",
          "output_type": "stream",
          "text": [
            "100%|██████████| 500/500 [00:07<00:00, 69.72it/s]\n"
          ]
        },
        {
          "name": "stdout",
          "output_type": "stream",
          "text": [
            "['passengers', 'cargo', 'money']\n",
            "The caretaker splashed the plants with the [MASK].\n",
            "index 28 this sent\n"
          ]
        },
        {
          "name": "stderr",
          "output_type": "stream",
          "text": [
            "100%|██████████| 500/500 [00:07<00:00, 65.42it/s]\n"
          ]
        },
        {
          "name": "stdout",
          "output_type": "stream",
          "text": [
            "['hose', 'can', 'sprinkler']\n"
          ]
        },
        {
          "name": "stderr",
          "output_type": "stream",
          "text": [
            "100%|██████████| 500/500 [00:07<00:00, 65.43it/s]\n"
          ]
        },
        {
          "name": "stdout",
          "output_type": "stream",
          "text": [
            "['bites', 'flowers', 'fruits']\n",
            "The astronaut repaired the shuttle with the [MASK].\n",
            "index 29 this sent\n"
          ]
        },
        {
          "name": "stderr",
          "output_type": "stream",
          "text": [
            "100%|██████████| 500/500 [00:07<00:00, 68.20it/s]\n"
          ]
        },
        {
          "name": "stdout",
          "output_type": "stream",
          "text": [
            "['tools', 'kit', 'manual']\n"
          ]
        },
        {
          "name": "stderr",
          "output_type": "stream",
          "text": [
            "100%|██████████| 500/500 [00:06<00:00, 73.53it/s]\n"
          ]
        },
        {
          "name": "stdout",
          "output_type": "stream",
          "text": [
            "['dents', 'breakage', 'holes']\n",
            "The detective analyzed the case with the [MASK].\n",
            "index 30 this sent\n"
          ]
        },
        {
          "name": "stderr",
          "output_type": "stream",
          "text": [
            "100%|██████████| 500/500 [00:07<00:00, 70.82it/s]\n"
          ]
        },
        {
          "name": "stdout",
          "output_type": "stream",
          "text": [
            "['laptop', 'forensics', 'tools']\n"
          ]
        },
        {
          "name": "stderr",
          "output_type": "stream",
          "text": [
            "100%|██████████| 500/500 [00:07<00:00, 65.11it/s]\n"
          ]
        },
        {
          "name": "stdout",
          "output_type": "stream",
          "text": [
            "['mystery', 'clues', 'suspects']\n",
            "The engineer tested the prototype with the [MASK].\n",
            "index 31 this sent\n"
          ]
        },
        {
          "name": "stderr",
          "output_type": "stream",
          "text": [
            "100%|██████████| 500/500 [00:07<00:00, 64.90it/s]\n"
          ]
        },
        {
          "name": "stdout",
          "output_type": "stream",
          "text": [
            "['multimeter', 'software', 'gauge']\n"
          ]
        },
        {
          "name": "stderr",
          "output_type": "stream",
          "text": [
            "100%|██████████| 500/500 [00:06<00:00, 73.65it/s]\n"
          ]
        },
        {
          "name": "stdout",
          "output_type": "stream",
          "text": [
            "['bugs', 'issues', 'customers']\n",
            "The cyclist reached the destination with the [MASK].\n",
            "index 32 this sent\n"
          ]
        },
        {
          "name": "stderr",
          "output_type": "stream",
          "text": [
            "100%|██████████| 500/500 [00:06<00:00, 73.87it/s]\n"
          ]
        },
        {
          "name": "stdout",
          "output_type": "stream",
          "text": [
            "['GPS', 'map', 'compass']\n"
          ]
        },
        {
          "name": "stderr",
          "output_type": "stream",
          "text": [
            "100%|██████████| 500/500 [00:07<00:00, 65.18it/s]\n"
          ]
        },
        {
          "name": "stdout",
          "output_type": "stream",
          "text": [
            "['view', 'lookout', 'bathroom']\n",
            "The veterinary treated the animal with the [MASK].\n",
            "index 33 this sent\n"
          ]
        },
        {
          "name": "stderr",
          "output_type": "stream",
          "text": [
            "100%|██████████| 500/500 [00:07<00:00, 65.59it/s]\n"
          ]
        },
        {
          "name": "stdout",
          "output_type": "stream",
          "text": [
            "['medicine', 'surgery', 'bandages']\n"
          ]
        },
        {
          "name": "stderr",
          "output_type": "stream",
          "text": [
            "100%|██████████| 500/500 [00:07<00:00, 68.49it/s]\n"
          ]
        },
        {
          "name": "stdout",
          "output_type": "stream",
          "text": [
            "['limp', 'fever', 'cancer']\n",
            "The artist shaped the clay with the [MASK].\n",
            "index 34 this sent\n"
          ]
        },
        {
          "name": "stderr",
          "output_type": "stream",
          "text": [
            "100%|██████████| 500/500 [00:06<00:00, 73.21it/s]\n"
          ]
        },
        {
          "name": "stdout",
          "output_type": "stream",
          "text": [
            "['hands', 'wheel', 'tools']\n"
          ]
        },
        {
          "name": "stderr",
          "output_type": "stream",
          "text": [
            "100%|██████████| 500/500 [00:07<00:00, 70.45it/s]\n"
          ]
        },
        {
          "name": "stdout",
          "output_type": "stream",
          "text": [
            "['imperfections', 'dents', 'patterns']\n",
            "The migrant ascended the mountain with the [MASK].\n",
            "index 35 this sent\n"
          ]
        },
        {
          "name": "stderr",
          "output_type": "stream",
          "text": [
            "100%|██████████| 500/500 [00:07<00:00, 65.23it/s]\n"
          ]
        },
        {
          "name": "stdout",
          "output_type": "stream",
          "text": [
            "['rope', 'axe', 'carabiners']\n"
          ]
        },
        {
          "name": "stderr",
          "output_type": "stream",
          "text": [
            "100%|██████████| 500/500 [00:07<00:00, 65.21it/s]\n"
          ]
        },
        {
          "name": "stdout",
          "output_type": "stream",
          "text": [
            "['rocks', 'cliffs', 'snow']\n",
            "The hunter crossed the trail with the [MASK].\n",
            "index 36 this sent\n"
          ]
        },
        {
          "name": "stderr",
          "output_type": "stream",
          "text": [
            "100%|██████████| 500/500 [00:07<00:00, 68.15it/s]\n"
          ]
        },
        {
          "name": "stdout",
          "output_type": "stream",
          "text": [
            "['backpack', 'stick', 'map']\n"
          ]
        },
        {
          "name": "stderr",
          "output_type": "stream",
          "text": [
            "100%|██████████| 500/500 [00:06<00:00, 73.46it/s]\n"
          ]
        },
        {
          "name": "stdout",
          "output_type": "stream",
          "text": [
            "['leaves', 'rocks', 'slopes']\n",
            "The chemist mixed the solution with the [MASK].\n",
            "index 37 this sent\n"
          ]
        },
        {
          "name": "stderr",
          "output_type": "stream",
          "text": [
            "100%|██████████| 500/500 [00:07<00:00, 70.35it/s]\n"
          ]
        },
        {
          "name": "stdout",
          "output_type": "stream",
          "text": [
            "['rod', 'shaker', 'stirrer']\n"
          ]
        },
        {
          "name": "stderr",
          "output_type": "stream",
          "text": [
            "100%|██████████| 500/500 [00:07<00:00, 65.03it/s]\n"
          ]
        },
        {
          "name": "stdout",
          "output_type": "stream",
          "text": [
            "['particles', 'reagents', 'sediment']\n",
            "The soldier secured the area with the [MASK].\n",
            "index 38 this sent\n"
          ]
        },
        {
          "name": "stderr",
          "output_type": "stream",
          "text": [
            "100%|██████████| 500/500 [00:07<00:00, 65.43it/s]\n"
          ]
        },
        {
          "name": "stdout",
          "output_type": "stream",
          "text": [
            "['gun', 'knife', 'radio']\n"
          ]
        },
        {
          "name": "stderr",
          "output_type": "stream",
          "text": [
            "100%|██████████| 500/500 [00:06<00:00, 73.20it/s]\n"
          ]
        },
        {
          "name": "stdout",
          "output_type": "stream",
          "text": [
            "['traps', 'foliage', 'shadows']\n",
            "The owner inspected the jewel with the [MASK].\n",
            "index 39 this sent\n"
          ]
        },
        {
          "name": "stderr",
          "output_type": "stream",
          "text": [
            "100%|██████████| 500/500 [00:06<00:00, 74.01it/s]\n"
          ]
        },
        {
          "name": "stdout",
          "output_type": "stream",
          "text": [
            "['loupe', 'microscope', 'tweezers']\n"
          ]
        },
        {
          "name": "stderr",
          "output_type": "stream",
          "text": [
            "100%|██████████| 500/500 [00:07<00:00, 65.55it/s]\n"
          ]
        },
        {
          "name": "stdout",
          "output_type": "stream",
          "text": [
            "['facets', 'imperfections', 'colors']\n",
            "The blacksmith tempered the sword with the [MASK].\n",
            "index 40 this sent\n"
          ]
        },
        {
          "name": "stderr",
          "output_type": "stream",
          "text": [
            "100%|██████████| 500/500 [00:07<00:00, 65.25it/s]\n"
          ]
        },
        {
          "name": "stdout",
          "output_type": "stream",
          "text": [
            "['forge', 'hammer', 'water']\n"
          ]
        },
        {
          "name": "stderr",
          "output_type": "stream",
          "text": [
            "100%|██████████| 500/500 [00:07<00:00, 67.85it/s]\n"
          ]
        },
        {
          "name": "stdout",
          "output_type": "stream",
          "text": [
            "['chip', 'curve', 'carvings']\n",
            "The surveyor charted the terrain with the [MASK].\n",
            "index 41 this sent\n"
          ]
        },
        {
          "name": "stderr",
          "output_type": "stream",
          "text": [
            "100%|██████████| 500/500 [00:06<00:00, 74.21it/s]\n"
          ]
        },
        {
          "name": "stdout",
          "output_type": "stream",
          "text": [
            "['pencil', 'compass', 'software']\n"
          ]
        },
        {
          "name": "stderr",
          "output_type": "stream",
          "text": [
            "100%|██████████| 500/500 [00:07<00:00, 70.29it/s]\n"
          ]
        },
        {
          "name": "stdout",
          "output_type": "stream",
          "text": [
            "['mountains', 'rivers', 'forests']\n",
            "The biologist identified the insect with the [MASK].\n",
            "index 42 this sent\n"
          ]
        },
        {
          "name": "stderr",
          "output_type": "stream",
          "text": [
            "100%|██████████| 500/500 [00:07<00:00, 65.24it/s]\n"
          ]
        },
        {
          "name": "stdout",
          "output_type": "stream",
          "text": [
            "['guide', 'glasses', 'microscope']\n"
          ]
        },
        {
          "name": "stderr",
          "output_type": "stream",
          "text": [
            "100%|██████████| 500/500 [00:07<00:00, 65.07it/s]\n"
          ]
        },
        {
          "name": "stdout",
          "output_type": "stream",
          "text": [
            "['colors', 'markings', 'wings']\n",
            "The designer altered the dress with the [MASK].\n",
            "index 43 this sent\n"
          ]
        },
        {
          "name": "stderr",
          "output_type": "stream",
          "text": [
            "100%|██████████| 500/500 [00:07<00:00, 68.16it/s]\n"
          ]
        },
        {
          "name": "stdout",
          "output_type": "stream",
          "text": [
            "['machine', 'needle', 'scissors']\n"
          ]
        },
        {
          "name": "stderr",
          "output_type": "stream",
          "text": [
            "100%|██████████| 500/500 [00:06<00:00, 72.66it/s]\n"
          ]
        },
        {
          "name": "stdout",
          "output_type": "stream",
          "text": [
            "['hem', 'fringe', 'straps']\n",
            "The botanist examined the plant with the [MASK].\n",
            "index 44 this sent\n"
          ]
        },
        {
          "name": "stderr",
          "output_type": "stream",
          "text": [
            "100%|██████████| 500/500 [00:07<00:00, 70.07it/s]\n"
          ]
        },
        {
          "name": "stdout",
          "output_type": "stream",
          "text": [
            "['light', 'microscope', 'tweezers']\n"
          ]
        },
        {
          "name": "stderr",
          "output_type": "stream",
          "text": [
            "100%|██████████| 500/500 [00:07<00:00, 65.18it/s]\n"
          ]
        },
        {
          "name": "stdout",
          "output_type": "stream",
          "text": [
            "['petals', 'thorns', 'roots']\n",
            "The farmer checked the nest with the [MASK].\n",
            "index 45 this sent\n"
          ]
        },
        {
          "name": "stderr",
          "output_type": "stream",
          "text": [
            "100%|██████████| 500/500 [00:07<00:00, 65.05it/s]\n"
          ]
        },
        {
          "name": "stdout",
          "output_type": "stream",
          "text": [
            "['smoker', 'tool', 'stick']\n"
          ]
        },
        {
          "name": "stderr",
          "output_type": "stream",
          "text": [
            "100%|██████████| 500/500 [00:06<00:00, 74.19it/s]\n"
          ]
        },
        {
          "name": "stdout",
          "output_type": "stream",
          "text": [
            "['bees', 'combs', 'queen']\n",
            "The scientist identified the fungus with the [MASK].\n",
            "index 46 this sent\n"
          ]
        },
        {
          "name": "stderr",
          "output_type": "stream",
          "text": [
            "100%|██████████| 500/500 [00:06<00:00, 73.48it/s]\n"
          ]
        },
        {
          "name": "stdout",
          "output_type": "stream",
          "text": [
            "['guide', 'print', 'microscope']\n"
          ]
        },
        {
          "name": "stderr",
          "output_type": "stream",
          "text": [
            "100%|██████████| 500/500 [00:07<00:00, 64.81it/s]\n"
          ]
        },
        {
          "name": "stdout",
          "output_type": "stream",
          "text": [
            "['cap', 'rings', 'poison']\n",
            "The sculptor carved the statue with the [MASK].\n",
            "index 47 this sent\n"
          ]
        },
        {
          "name": "stderr",
          "output_type": "stream",
          "text": [
            "100%|██████████| 500/500 [00:07<00:00, 64.78it/s]\n"
          ]
        },
        {
          "name": "stdout",
          "output_type": "stream",
          "text": [
            "['mallet', 'rasp', 'chisel']\n"
          ]
        },
        {
          "name": "stderr",
          "output_type": "stream",
          "text": [
            "100%|██████████| 500/500 [00:07<00:00, 66.99it/s]\n"
          ]
        },
        {
          "name": "stdout",
          "output_type": "stream",
          "text": [
            "['flaw', 'base', 'texture']\n",
            "The archaeologist mapped the cavern with the [MASK].\n",
            "index 48 this sent\n"
          ]
        },
        {
          "name": "stderr",
          "output_type": "stream",
          "text": [
            "100%|██████████| 500/500 [00:07<00:00, 67.99it/s]\n"
          ]
        },
        {
          "name": "stdout",
          "output_type": "stream",
          "text": [
            "['headlamp', 'laser', 'notebook']\n"
          ]
        },
        {
          "name": "stderr",
          "output_type": "stream",
          "text": [
            "100%|██████████| 500/500 [00:06<00:00, 72.59it/s]\n"
          ]
        },
        {
          "name": "stdout",
          "output_type": "stream",
          "text": [
            "['stalactites', 'passages', 'chambers']\n",
            "The police surveyed the park with the [MASK].\n",
            "index 49 this sent\n"
          ]
        },
        {
          "name": "stderr",
          "output_type": "stream",
          "text": [
            "100%|██████████| 500/500 [00:07<00:00, 65.81it/s]\n"
          ]
        },
        {
          "name": "stdout",
          "output_type": "stream",
          "text": [
            "['binoculars', 'map', 'compass']\n"
          ]
        },
        {
          "name": "stderr",
          "output_type": "stream",
          "text": [
            "100%|██████████| 500/500 [00:07<00:00, 65.11it/s]\n"
          ]
        },
        {
          "name": "stdout",
          "output_type": "stream",
          "text": [
            "['wildlife', 'footprints', 'foliage']\n",
            "The sailor traveled the sea with the [MASK].\n",
            "index 50 this sent\n"
          ]
        },
        {
          "name": "stderr",
          "output_type": "stream",
          "text": [
            "100%|██████████| 500/500 [00:07<00:00, 65.28it/s]\n"
          ]
        },
        {
          "name": "stdout",
          "output_type": "stream",
          "text": [
            "['compass', 'chart', 'sextant']\n"
          ]
        },
        {
          "name": "stderr",
          "output_type": "stream",
          "text": [
            "100%|██████████| 500/500 [00:06<00:00, 72.93it/s]\n"
          ]
        },
        {
          "name": "stdout",
          "output_type": "stream",
          "text": [
            "['waves', 'currents', 'wind']\n",
            "The programmer fixed the program with the [MASK].\n",
            "index 51 this sent\n"
          ]
        },
        {
          "name": "stderr",
          "output_type": "stream",
          "text": [
            "100%|██████████| 500/500 [00:06<00:00, 73.14it/s]\n"
          ]
        },
        {
          "name": "stdout",
          "output_type": "stream",
          "text": [
            "['compiler', 'logger', 'breakpoints']\n"
          ]
        },
        {
          "name": "stderr",
          "output_type": "stream",
          "text": [
            "100%|██████████| 500/500 [00:07<00:00, 65.53it/s]\n"
          ]
        },
        {
          "name": "stdout",
          "output_type": "stream",
          "text": [
            "['errors', 'loops', 'variables']\n",
            "The conductor coordinated the orchestra with the [MASK].\n",
            "index 52 this sent\n"
          ]
        },
        {
          "name": "stderr",
          "output_type": "stream",
          "text": [
            "100%|██████████| 500/500 [00:07<00:00, 65.28it/s]\n"
          ]
        },
        {
          "name": "stdout",
          "output_type": "stream",
          "text": [
            "['baton', 'gesture', 'tempo']\n"
          ]
        },
        {
          "name": "stderr",
          "output_type": "stream",
          "text": [
            "100%|██████████| 500/500 [00:06<00:00, 71.84it/s]\n"
          ]
        },
        {
          "name": "stdout",
          "output_type": "stream",
          "text": [
            "['violins', 'flutes', 'cellos']\n",
            "The architect drew the design with the [MASK].\n",
            "index 53 this sent\n"
          ]
        },
        {
          "name": "stderr",
          "output_type": "stream",
          "text": [
            "100%|██████████| 500/500 [00:06<00:00, 73.09it/s]\n"
          ]
        },
        {
          "name": "stdout",
          "output_type": "stream",
          "text": [
            "['pencil', 'ruler', 'protractor']\n"
          ]
        },
        {
          "name": "stderr",
          "output_type": "stream",
          "text": [
            "100%|██████████| 500/500 [00:07<00:00, 66.10it/s]\n"
          ]
        },
        {
          "name": "stdout",
          "output_type": "stream",
          "text": [
            "['windows', 'columns', 'staircases']\n",
            "The archaeologist excavated the fossil with the [MASK].\n",
            "index 54 this sent\n"
          ]
        },
        {
          "name": "stderr",
          "output_type": "stream",
          "text": [
            "100%|██████████| 500/500 [00:07<00:00, 64.36it/s]\n"
          ]
        },
        {
          "name": "stdout",
          "output_type": "stream",
          "text": [
            "['brush', 'trowel', 'chisel']\n"
          ]
        },
        {
          "name": "stderr",
          "output_type": "stream",
          "text": [
            "100%|██████████| 500/500 [00:07<00:00, 64.93it/s]\n"
          ]
        },
        {
          "name": "stdout",
          "output_type": "stream",
          "text": [
            "['bones', 'teeth', 'shells']\n",
            "The caretaker trimmed the hedge with the [MASK].\n",
            "index 55 this sent\n"
          ]
        },
        {
          "name": "stderr",
          "output_type": "stream",
          "text": [
            "100%|██████████| 500/500 [00:07<00:00, 71.20it/s]\n"
          ]
        },
        {
          "name": "stdout",
          "output_type": "stream",
          "text": [
            "['shears', 'loppers', 'pruners']\n"
          ]
        },
        {
          "name": "stderr",
          "output_type": "stream",
          "text": [
            "100%|██████████| 500/500 [00:06<00:00, 72.73it/s]\n"
          ]
        },
        {
          "name": "stdout",
          "output_type": "stream",
          "text": [
            "['blossoms', 'thorns', 'branches']\n",
            "The detective traced the suspect with the [MASK].\n",
            "index 56 this sent\n"
          ]
        },
        {
          "name": "stderr",
          "output_type": "stream",
          "text": [
            "100%|██████████| 500/500 [00:07<00:00, 67.10it/s]\n"
          ]
        },
        {
          "name": "stdout",
          "output_type": "stream",
          "text": [
            "['GPS', 'camera', 'phone']\n"
          ]
        },
        {
          "name": "stderr",
          "output_type": "stream",
          "text": [
            "100%|██████████| 500/500 [00:07<00:00, 65.35it/s]\n"
          ]
        },
        {
          "name": "stdout",
          "output_type": "stream",
          "text": [
            "['footprints', 'cigarette', 'scarf']\n",
            "The chef decorated the dish with the [MASK].\n",
            "index 57 this sent\n"
          ]
        },
        {
          "name": "stderr",
          "output_type": "stream",
          "text": [
            "100%|██████████| 500/500 [00:07<00:00, 64.72it/s]\n"
          ]
        },
        {
          "name": "stdout",
          "output_type": "stream",
          "text": [
            "['parsley', 'lemon', 'pepper']\n"
          ]
        },
        {
          "name": "stderr",
          "output_type": "stream",
          "text": [
            "100%|██████████| 500/500 [00:06<00:00, 73.52it/s]\n"
          ]
        },
        {
          "name": "stdout",
          "output_type": "stream",
          "text": [
            "['soup', 'steak', 'pasta']\n",
            "0.041807697407875155\n",
            "\n",
            "NEW RUN: layer 11 rank 64 theta 1\n",
            "\n",
            "I bought the laptop with the [MASK].\n",
            "index 0 this sent\n"
          ]
        },
        {
          "name": "stderr",
          "output_type": "stream",
          "text": [
            "100%|██████████| 500/500 [00:06<00:00, 72.66it/s]\n"
          ]
        },
        {
          "name": "stdout",
          "output_type": "stream",
          "text": [
            "['money', 'card', 'check', 'credit']\n"
          ]
        },
        {
          "name": "stderr",
          "output_type": "stream",
          "text": [
            "100%|██████████| 500/500 [00:07<00:00, 64.45it/s]\n"
          ]
        },
        {
          "name": "stdout",
          "output_type": "stream",
          "text": [
            "['GPU', 'CPU', 'RAM', 'storage']\n",
            "She fixed the vase with the [MASK].\n",
            "index 1 this sent\n"
          ]
        },
        {
          "name": "stderr",
          "output_type": "stream",
          "text": [
            "100%|██████████| 500/500 [00:07<00:00, 65.21it/s]\n"
          ]
        },
        {
          "name": "stdout",
          "output_type": "stream",
          "text": [
            "['glue', 'epoxy', 'adhesive', 'cement', 'paste']\n"
          ]
        },
        {
          "name": "stderr",
          "output_type": "stream",
          "text": [
            "100%|██████████| 500/500 [00:07<00:00, 69.98it/s]\n"
          ]
        },
        {
          "name": "stdout",
          "output_type": "stream",
          "text": [
            "['crack', 'split', 'break', 'fracture', 'fissure']\n",
            "John saw the man using the [MASK].\n",
            "index 2 this sent\n"
          ]
        },
        {
          "name": "stderr",
          "output_type": "stream",
          "text": [
            "100%|██████████| 500/500 [00:06<00:00, 72.94it/s]\n"
          ]
        },
        {
          "name": "stdout",
          "output_type": "stream",
          "text": [
            "['telescope', 'camera', 'binoculars']\n"
          ]
        },
        {
          "name": "stderr",
          "output_type": "stream",
          "text": [
            "100%|██████████| 500/500 [00:07<00:00, 68.40it/s]\n"
          ]
        },
        {
          "name": "stdout",
          "output_type": "stream",
          "text": [
            "['bike', 'stairs', 'sink']\n",
            "Sarah tasted the soup with the [MASK].\n",
            "index 3 this sent\n"
          ]
        },
        {
          "name": "stderr",
          "output_type": "stream",
          "text": [
            "100%|██████████| 500/500 [00:07<00:00, 64.94it/s]\n"
          ]
        },
        {
          "name": "stdout",
          "output_type": "stream",
          "text": [
            "['spoon', 'ladle', 'tablespoon']\n"
          ]
        },
        {
          "name": "stderr",
          "output_type": "stream",
          "text": [
            "100%|██████████| 500/500 [00:07<00:00, 64.90it/s]\n"
          ]
        },
        {
          "name": "stdout",
          "output_type": "stream",
          "text": [
            "['salt', 'pepper', 'spices']\n",
            "They cut the tree with the [MASK].\n",
            "index 4 this sent\n"
          ]
        },
        {
          "name": "stderr",
          "output_type": "stream",
          "text": [
            "100%|██████████| 500/500 [00:07<00:00, 68.58it/s]\n"
          ]
        },
        {
          "name": "stdout",
          "output_type": "stream",
          "text": [
            "['axe', 'chainsaw', 'pruning shears']\n"
          ]
        },
        {
          "name": "stderr",
          "output_type": "stream",
          "text": [
            "100%|██████████| 500/500 [00:06<00:00, 71.76it/s]\n"
          ]
        },
        {
          "name": "stdout",
          "output_type": "stream",
          "text": [
            "['disease', 'blight', 'hole']\n",
            "Mark wrote the note with the [MASK].\n",
            "index 5 this sent\n"
          ]
        },
        {
          "name": "stderr",
          "output_type": "stream",
          "text": [
            "100%|██████████| 500/500 [00:07<00:00, 69.37it/s]\n"
          ]
        },
        {
          "name": "stdout",
          "output_type": "stream",
          "text": [
            "['pen', 'pencil', 'marker', 'stylus']\n"
          ]
        },
        {
          "name": "stderr",
          "output_type": "stream",
          "text": [
            "100%|██████████| 500/500 [00:07<00:00, 65.48it/s]\n"
          ]
        },
        {
          "name": "stdout",
          "output_type": "stream",
          "text": [
            "['answer', 'ingredients', 'recipe', 'instructions']\n",
            "Linda caught the fish with the [MASK].\n",
            "index 6 this sent\n"
          ]
        },
        {
          "name": "stderr",
          "output_type": "stream",
          "text": [
            "100%|██████████| 500/500 [00:07<00:00, 64.13it/s]\n"
          ]
        },
        {
          "name": "stdout",
          "output_type": "stream",
          "text": [
            "['net', 'rod', 'trap', 'bait']\n"
          ]
        },
        {
          "name": "stderr",
          "output_type": "stream",
          "text": [
            "100%|██████████| 500/500 [00:06<00:00, 72.99it/s]\n"
          ]
        },
        {
          "name": "stdout",
          "output_type": "stream",
          "text": [
            "['stripes', 'eggs', 'smell', 'cut']\n",
            "Mary opened the box with the [MASK].\n",
            "index 7 this sent\n"
          ]
        },
        {
          "name": "stderr",
          "output_type": "stream",
          "text": [
            "100%|██████████| 500/500 [00:06<00:00, 73.19it/s]\n"
          ]
        },
        {
          "name": "stdout",
          "output_type": "stream",
          "text": [
            "['key', 'combination', 'code']\n"
          ]
        },
        {
          "name": "stderr",
          "output_type": "stream",
          "text": [
            "100%|██████████| 500/500 [00:07<00:00, 64.90it/s]\n"
          ]
        },
        {
          "name": "stdout",
          "output_type": "stream",
          "text": [
            "['lid', 'hinges', 'lock']\n",
            "The person next to the goats [MASK] to the field.\n",
            "index 8 this sent\n"
          ]
        },
        {
          "name": "stderr",
          "output_type": "stream",
          "text": [
            "100%|██████████| 500/500 [00:07<00:00, 64.53it/s]\n"
          ]
        },
        {
          "name": "stdout",
          "output_type": "stream",
          "text": [
            "['runs', 'walks', 'looks']\n"
          ]
        },
        {
          "name": "stderr",
          "output_type": "stream",
          "text": [
            "100%|██████████| 500/500 [00:07<00:00, 67.91it/s]\n"
          ]
        },
        {
          "name": "stdout",
          "output_type": "stream",
          "text": [
            "['run', 'ralk', 'look']\n",
            "The sailors surrounding the captain [MASK] to the boats.\n",
            "index 9 this sent\n"
          ]
        },
        {
          "name": "stderr",
          "output_type": "stream",
          "text": [
            "100%|██████████| 500/500 [00:06<00:00, 72.65it/s]\n"
          ]
        },
        {
          "name": "stdout",
          "output_type": "stream",
          "text": [
            "['run', 'ralk', 'look']\n"
          ]
        },
        {
          "name": "stderr",
          "output_type": "stream",
          "text": [
            "100%|██████████| 500/500 [00:07<00:00, 70.10it/s]\n"
          ]
        },
        {
          "name": "stdout",
          "output_type": "stream",
          "text": [
            "['runs', 'walks', 'looks']\n",
            "We cleaned the house with the [MASK].\n",
            "index 10 this sent\n"
          ]
        },
        {
          "name": "stderr",
          "output_type": "stream",
          "text": [
            "100%|██████████| 500/500 [00:07<00:00, 65.16it/s]\n"
          ]
        },
        {
          "name": "stdout",
          "output_type": "stream",
          "text": [
            "['mop', 'broom', 'vacuum']\n"
          ]
        },
        {
          "name": "stderr",
          "output_type": "stream",
          "text": [
            "100%|██████████| 500/500 [00:07<00:00, 64.03it/s]\n"
          ]
        },
        {
          "name": "stdout",
          "output_type": "stream",
          "text": [
            "['dust', 'cobwebs', 'clutter']\n",
            "He fixed the car with the [MASK].\n",
            "index 11 this sent\n"
          ]
        },
        {
          "name": "stderr",
          "output_type": "stream",
          "text": [
            "100%|██████████| 500/500 [00:07<00:00, 66.48it/s]\n"
          ]
        },
        {
          "name": "stdout",
          "output_type": "stream",
          "text": [
            "['wrench', 'screwdriver', 'spanner', 'pliers']\n"
          ]
        },
        {
          "name": "stderr",
          "output_type": "stream",
          "text": [
            "100%|██████████| 500/500 [00:06<00:00, 73.59it/s]\n"
          ]
        },
        {
          "name": "stdout",
          "output_type": "stream",
          "text": [
            "['engine', 'brakes', 'headlights', 'tires']\n",
            "She painted the wall with the [MASK].\n",
            "index 12 this sent\n"
          ]
        },
        {
          "name": "stderr",
          "output_type": "stream",
          "text": [
            "100%|██████████| 500/500 [00:07<00:00, 70.35it/s]\n"
          ]
        },
        {
          "name": "stdout",
          "output_type": "stream",
          "text": [
            "['brush', 'roller', 'spray can', 'palette knife']\n"
          ]
        },
        {
          "name": "stderr",
          "output_type": "stream",
          "text": [
            "100%|██████████| 500/500 [00:07<00:00, 65.22it/s]\n"
          ]
        },
        {
          "name": "stdout",
          "output_type": "stream",
          "text": [
            "['color', 'texture', 'design', 'mural']\n",
            "I fed the dog with the [MASK].\n",
            "index 13 this sent\n"
          ]
        },
        {
          "name": "stderr",
          "output_type": "stream",
          "text": [
            "100%|██████████| 500/500 [00:07<00:00, 64.91it/s]\n"
          ]
        },
        {
          "name": "stdout",
          "output_type": "stream",
          "text": [
            "['kibble', 'scoop', 'meat']\n"
          ]
        },
        {
          "name": "stderr",
          "output_type": "stream",
          "text": [
            "100%|██████████| 500/500 [00:06<00:00, 73.06it/s]\n"
          ]
        },
        {
          "name": "stdout",
          "output_type": "stream",
          "text": [
            "['limp', 'spots', 'scar']\n",
            "They planted the flowers with the [MASK].\n",
            "index 14 this sent\n"
          ]
        },
        {
          "name": "stderr",
          "output_type": "stream",
          "text": [
            "100%|██████████| 500/500 [00:06<00:00, 73.31it/s]\n"
          ]
        },
        {
          "name": "stdout",
          "output_type": "stream",
          "text": [
            "['shovel', 'gardening trowel', 'gloved hands']\n"
          ]
        },
        {
          "name": "stderr",
          "output_type": "stream",
          "text": [
            "100%|██████████| 500/500 [00:07<00:00, 65.81it/s]\n"
          ]
        },
        {
          "name": "stdout",
          "output_type": "stream",
          "text": [
            "['seeds', 'bulbs', 'saplings']\n",
            "Paul solved the equation with the [MASK].\n",
            "index 15 this sent\n"
          ]
        },
        {
          "name": "stderr",
          "output_type": "stream",
          "text": [
            "100%|██████████| 500/500 [00:07<00:00, 65.13it/s]\n"
          ]
        },
        {
          "name": "stdout",
          "output_type": "stream",
          "text": [
            "['calculator', 'pen', 'paper', 'chalk']\n"
          ]
        },
        {
          "name": "stderr",
          "output_type": "stream",
          "text": [
            "100%|██████████| 500/500 [00:07<00:00, 65.65it/s]\n"
          ]
        },
        {
          "name": "stdout",
          "output_type": "stream",
          "text": [
            "['variable', 'coefficient', 'constant', 'term']\n",
            "Liam baked the cake with the [MASK].\n",
            "index 16 this sent\n"
          ]
        },
        {
          "name": "stderr",
          "output_type": "stream",
          "text": [
            "100%|██████████| 500/500 [00:06<00:00, 72.93it/s]\n"
          ]
        },
        {
          "name": "stdout",
          "output_type": "stream",
          "text": [
            "['oven', 'microwave', 'mixer']\n"
          ]
        },
        {
          "name": "stderr",
          "output_type": "stream",
          "text": [
            "100%|██████████| 500/500 [00:06<00:00, 71.43it/s]\n"
          ]
        },
        {
          "name": "stdout",
          "output_type": "stream",
          "text": [
            "['nuts', 'raisins', 'chocolate']\n",
            "James examined the fossil with the [MASK].\n",
            "index 17 this sent\n"
          ]
        },
        {
          "name": "stderr",
          "output_type": "stream",
          "text": [
            "100%|██████████| 500/500 [00:07<00:00, 65.44it/s]\n"
          ]
        },
        {
          "name": "stdout",
          "output_type": "stream",
          "text": [
            "['microscope', 'brush']\n"
          ]
        },
        {
          "name": "stderr",
          "output_type": "stream",
          "text": [
            "100%|██████████| 500/500 [00:07<00:00, 64.89it/s]\n"
          ]
        },
        {
          "name": "stdout",
          "output_type": "stream",
          "text": [
            "['imprint', 'markings']\n",
            "The cats near the mother [MASK] to the bowl.\n",
            "index 18 this sent\n"
          ]
        },
        {
          "name": "stderr",
          "output_type": "stream",
          "text": [
            "100%|██████████| 500/500 [00:07<00:00, 64.52it/s]\n"
          ]
        },
        {
          "name": "stdout",
          "output_type": "stream",
          "text": [
            "['run', 'walk', 'jump']\n"
          ]
        },
        {
          "name": "stderr",
          "output_type": "stream",
          "text": [
            "100%|██████████| 500/500 [00:06<00:00, 72.32it/s]\n"
          ]
        },
        {
          "name": "stdout",
          "output_type": "stream",
          "text": [
            "['runs', 'walks', 'jumps']\n",
            "The tourists around the guide [MASK] to the museum.\n",
            "index 19 this sent\n"
          ]
        },
        {
          "name": "stderr",
          "output_type": "stream",
          "text": [
            "100%|██████████| 500/500 [00:06<00:00, 72.26it/s]\n"
          ]
        },
        {
          "name": "stdout",
          "output_type": "stream",
          "text": [
            "['walk', 'look', 'point']\n"
          ]
        },
        {
          "name": "stderr",
          "output_type": "stream",
          "text": [
            "100%|██████████| 500/500 [00:07<00:00, 63.98it/s]\n"
          ]
        },
        {
          "name": "stdout",
          "output_type": "stream",
          "text": [
            "['walks', 'looks', 'points']\n",
            "The students following the teacher [MASK] to the classroom.\n",
            "index 20 this sent\n"
          ]
        },
        {
          "name": "stderr",
          "output_type": "stream",
          "text": [
            "100%|██████████| 500/500 [00:07<00:00, 64.76it/s]\n"
          ]
        },
        {
          "name": "stdout",
          "output_type": "stream",
          "text": [
            "['walk', 'run', 'look']\n"
          ]
        },
        {
          "name": "stderr",
          "output_type": "stream",
          "text": [
            "100%|██████████| 500/500 [00:07<00:00, 71.10it/s]\n"
          ]
        },
        {
          "name": "stdout",
          "output_type": "stream",
          "text": [
            "['walks', 'runs', 'looks']\n",
            "David designed the poster with the [MASK].\n",
            "index 21 this sent\n"
          ]
        },
        {
          "name": "stderr",
          "output_type": "stream",
          "text": [
            "100%|██████████| 500/500 [00:06<00:00, 72.27it/s]\n"
          ]
        },
        {
          "name": "stdout",
          "output_type": "stream",
          "text": [
            "['software', 'brushes', 'markers']\n"
          ]
        },
        {
          "name": "stderr",
          "output_type": "stream",
          "text": [
            "100%|██████████| 500/500 [00:07<00:00, 65.67it/s]\n"
          ]
        },
        {
          "name": "stdout",
          "output_type": "stream",
          "text": [
            "['misprint', 'smudge', 'stain']\n",
            "She cleaned the window with the [MASK].\n",
            "index 22 this sent\n"
          ]
        },
        {
          "name": "stderr",
          "output_type": "stream",
          "text": [
            "100%|██████████| 500/500 [00:07<00:00, 64.59it/s]\n"
          ]
        },
        {
          "name": "stdout",
          "output_type": "stream",
          "text": [
            "['rag', 'sponge', 'squeegee']\n"
          ]
        },
        {
          "name": "stderr",
          "output_type": "stream",
          "text": [
            "100%|██████████| 500/500 [00:07<00:00, 64.86it/s]\n"
          ]
        },
        {
          "name": "stdout",
          "output_type": "stream",
          "text": [
            "['streaks', 'marks', 'stains']\n",
            "He took the picture with the [MASK].\n",
            "index 23 this sent\n"
          ]
        },
        {
          "name": "stderr",
          "output_type": "stream",
          "text": [
            "100%|██████████| 500/500 [00:07<00:00, 70.53it/s]\n"
          ]
        },
        {
          "name": "stdout",
          "output_type": "stream",
          "text": [
            "['camera', 'smartphone', 'tripod']\n"
          ]
        },
        {
          "name": "stderr",
          "output_type": "stream",
          "text": [
            "100%|██████████| 500/500 [00:06<00:00, 72.52it/s]\n"
          ]
        },
        {
          "name": "stdout",
          "output_type": "stream",
          "text": [
            "['smile', 'sunset', 'crowd']\n",
            "George scanned the document with the [MASK].\n",
            "index 24 this sent\n"
          ]
        },
        {
          "name": "stderr",
          "output_type": "stream",
          "text": [
            "100%|██████████| 500/500 [00:07<00:00, 67.48it/s]\n"
          ]
        },
        {
          "name": "stdout",
          "output_type": "stream",
          "text": [
            "['scanner', 'app', 'camera']\n"
          ]
        },
        {
          "name": "stderr",
          "output_type": "stream",
          "text": [
            "100%|██████████| 500/500 [00:07<00:00, 64.46it/s]\n"
          ]
        },
        {
          "name": "stdout",
          "output_type": "stream",
          "text": [
            "['signature', 'stamp', 'watermark']\n",
            "Julia trimmed the apple tree with the [MASK].\n",
            "index 25 this sent\n"
          ]
        },
        {
          "name": "stderr",
          "output_type": "stream",
          "text": [
            "100%|██████████| 500/500 [00:07<00:00, 64.38it/s]\n"
          ]
        },
        {
          "name": "stdout",
          "output_type": "stream",
          "text": [
            "['shears', 'scissors', 'pruning knife']\n"
          ]
        },
        {
          "name": "stderr",
          "output_type": "stream",
          "text": [
            "100%|██████████| 500/500 [00:06<00:00, 72.72it/s]\n"
          ]
        },
        {
          "name": "stdout",
          "output_type": "stream",
          "text": [
            "['blossoms', 'leaves', 'branches']\n",
            "The archaeologist uncovered the artifact with the [MASK].\n",
            "index 26 this sent\n"
          ]
        },
        {
          "name": "stderr",
          "output_type": "stream",
          "text": [
            "100%|██████████| 500/500 [00:06<00:00, 73.52it/s]\n"
          ]
        },
        {
          "name": "stdout",
          "output_type": "stream",
          "text": [
            "['trowel', 'brush', 'chisel']\n"
          ]
        },
        {
          "name": "stderr",
          "output_type": "stream",
          "text": [
            "100%|██████████| 500/500 [00:07<00:00, 64.45it/s]\n"
          ]
        },
        {
          "name": "stdout",
          "output_type": "stream",
          "text": [
            "['symbols', 'inscription', 'writing']\n",
            "The sailor drove the ship with the [MASK].\n",
            "index 27 this sent\n"
          ]
        },
        {
          "name": "stderr",
          "output_type": "stream",
          "text": [
            "100%|██████████| 500/500 [00:07<00:00, 64.37it/s]\n"
          ]
        },
        {
          "name": "stdout",
          "output_type": "stream",
          "text": [
            "['compass', 'GPS', 'map']\n"
          ]
        },
        {
          "name": "stderr",
          "output_type": "stream",
          "text": [
            "100%|██████████| 500/500 [00:07<00:00, 68.12it/s]\n"
          ]
        },
        {
          "name": "stdout",
          "output_type": "stream",
          "text": [
            "['passengers', 'cargo', 'money']\n",
            "The caretaker splashed the plants with the [MASK].\n",
            "index 28 this sent\n"
          ]
        },
        {
          "name": "stderr",
          "output_type": "stream",
          "text": [
            "100%|██████████| 500/500 [00:06<00:00, 72.55it/s]\n"
          ]
        },
        {
          "name": "stdout",
          "output_type": "stream",
          "text": [
            "['hose', 'can', 'sprinkler']\n"
          ]
        },
        {
          "name": "stderr",
          "output_type": "stream",
          "text": [
            "100%|██████████| 500/500 [00:07<00:00, 69.50it/s]\n"
          ]
        },
        {
          "name": "stdout",
          "output_type": "stream",
          "text": [
            "['bites', 'flowers', 'fruits']\n",
            "The astronaut repaired the shuttle with the [MASK].\n",
            "index 29 this sent\n"
          ]
        },
        {
          "name": "stderr",
          "output_type": "stream",
          "text": [
            "100%|██████████| 500/500 [00:07<00:00, 65.33it/s]\n"
          ]
        },
        {
          "name": "stdout",
          "output_type": "stream",
          "text": [
            "['tools', 'kit', 'manual']\n"
          ]
        },
        {
          "name": "stderr",
          "output_type": "stream",
          "text": [
            "100%|██████████| 500/500 [00:07<00:00, 64.49it/s]\n"
          ]
        },
        {
          "name": "stdout",
          "output_type": "stream",
          "text": [
            "['dents', 'breakage', 'holes']\n",
            "The detective analyzed the case with the [MASK].\n",
            "index 30 this sent\n"
          ]
        },
        {
          "name": "stderr",
          "output_type": "stream",
          "text": [
            "100%|██████████| 500/500 [00:07<00:00, 66.92it/s]\n"
          ]
        },
        {
          "name": "stdout",
          "output_type": "stream",
          "text": [
            "['laptop', 'forensics', 'tools']\n"
          ]
        },
        {
          "name": "stderr",
          "output_type": "stream",
          "text": [
            "100%|██████████| 500/500 [00:06<00:00, 73.50it/s]\n"
          ]
        },
        {
          "name": "stdout",
          "output_type": "stream",
          "text": [
            "['mystery', 'clues', 'suspects']\n",
            "The engineer tested the prototype with the [MASK].\n",
            "index 31 this sent\n"
          ]
        },
        {
          "name": "stderr",
          "output_type": "stream",
          "text": [
            "100%|██████████| 500/500 [00:07<00:00, 69.86it/s]\n"
          ]
        },
        {
          "name": "stdout",
          "output_type": "stream",
          "text": [
            "['multimeter', 'software', 'gauge']\n"
          ]
        },
        {
          "name": "stderr",
          "output_type": "stream",
          "text": [
            "100%|██████████| 500/500 [00:07<00:00, 64.95it/s]\n"
          ]
        },
        {
          "name": "stdout",
          "output_type": "stream",
          "text": [
            "['bugs', 'issues', 'customers']\n",
            "The cyclist reached the destination with the [MASK].\n",
            "index 32 this sent\n"
          ]
        },
        {
          "name": "stderr",
          "output_type": "stream",
          "text": [
            "100%|██████████| 500/500 [00:07<00:00, 65.06it/s]\n"
          ]
        },
        {
          "name": "stdout",
          "output_type": "stream",
          "text": [
            "['GPS', 'map', 'compass']\n"
          ]
        },
        {
          "name": "stderr",
          "output_type": "stream",
          "text": [
            "100%|██████████| 500/500 [00:06<00:00, 72.30it/s]\n"
          ]
        },
        {
          "name": "stdout",
          "output_type": "stream",
          "text": [
            "['view', 'lookout', 'bathroom']\n",
            "The veterinary treated the animal with the [MASK].\n",
            "index 33 this sent\n"
          ]
        },
        {
          "name": "stderr",
          "output_type": "stream",
          "text": [
            "100%|██████████| 500/500 [00:06<00:00, 72.80it/s]\n"
          ]
        },
        {
          "name": "stdout",
          "output_type": "stream",
          "text": [
            "['medicine', 'surgery', 'bandages']\n"
          ]
        },
        {
          "name": "stderr",
          "output_type": "stream",
          "text": [
            "100%|██████████| 500/500 [00:07<00:00, 65.10it/s]\n"
          ]
        },
        {
          "name": "stdout",
          "output_type": "stream",
          "text": [
            "['limp', 'fever', 'cancer']\n",
            "The artist shaped the clay with the [MASK].\n",
            "index 34 this sent\n"
          ]
        },
        {
          "name": "stderr",
          "output_type": "stream",
          "text": [
            "100%|██████████| 500/500 [00:07<00:00, 64.90it/s]\n"
          ]
        },
        {
          "name": "stdout",
          "output_type": "stream",
          "text": [
            "['hands', 'wheel', 'tools']\n"
          ]
        },
        {
          "name": "stderr",
          "output_type": "stream",
          "text": [
            "100%|██████████| 500/500 [00:07<00:00, 66.17it/s]\n"
          ]
        },
        {
          "name": "stdout",
          "output_type": "stream",
          "text": [
            "['imperfections', 'dents', 'patterns']\n",
            "The migrant ascended the mountain with the [MASK].\n",
            "index 35 this sent\n"
          ]
        },
        {
          "name": "stderr",
          "output_type": "stream",
          "text": [
            "100%|██████████| 500/500 [00:06<00:00, 72.34it/s]\n"
          ]
        },
        {
          "name": "stdout",
          "output_type": "stream",
          "text": [
            "['rope', 'axe', 'carabiners']\n"
          ]
        },
        {
          "name": "stderr",
          "output_type": "stream",
          "text": [
            "100%|██████████| 500/500 [00:07<00:00, 70.99it/s]\n"
          ]
        },
        {
          "name": "stdout",
          "output_type": "stream",
          "text": [
            "['rocks', 'cliffs', 'snow']\n",
            "The hunter crossed the trail with the [MASK].\n",
            "index 36 this sent\n"
          ]
        },
        {
          "name": "stderr",
          "output_type": "stream",
          "text": [
            "100%|██████████| 500/500 [00:07<00:00, 65.47it/s]\n"
          ]
        },
        {
          "name": "stdout",
          "output_type": "stream",
          "text": [
            "['backpack', 'stick', 'map']\n"
          ]
        },
        {
          "name": "stderr",
          "output_type": "stream",
          "text": [
            "100%|██████████| 500/500 [00:07<00:00, 64.53it/s]\n"
          ]
        },
        {
          "name": "stdout",
          "output_type": "stream",
          "text": [
            "['leaves', 'rocks', 'slopes']\n",
            "The chemist mixed the solution with the [MASK].\n",
            "index 37 this sent\n"
          ]
        },
        {
          "name": "stderr",
          "output_type": "stream",
          "text": [
            "100%|██████████| 500/500 [00:07<00:00, 64.19it/s]\n"
          ]
        },
        {
          "name": "stdout",
          "output_type": "stream",
          "text": [
            "['rod', 'shaker', 'stirrer']\n"
          ]
        },
        {
          "name": "stderr",
          "output_type": "stream",
          "text": [
            "100%|██████████| 500/500 [00:06<00:00, 73.24it/s]\n"
          ]
        },
        {
          "name": "stdout",
          "output_type": "stream",
          "text": [
            "['particles', 'reagents', 'sediment']\n",
            "The soldier secured the area with the [MASK].\n",
            "index 38 this sent\n"
          ]
        },
        {
          "name": "stderr",
          "output_type": "stream",
          "text": [
            "100%|██████████| 500/500 [00:06<00:00, 73.10it/s]\n"
          ]
        },
        {
          "name": "stdout",
          "output_type": "stream",
          "text": [
            "['gun', 'knife', 'radio']\n"
          ]
        },
        {
          "name": "stderr",
          "output_type": "stream",
          "text": [
            "100%|██████████| 500/500 [00:07<00:00, 64.76it/s]\n"
          ]
        },
        {
          "name": "stdout",
          "output_type": "stream",
          "text": [
            "['traps', 'foliage', 'shadows']\n",
            "The owner inspected the jewel with the [MASK].\n",
            "index 39 this sent\n"
          ]
        },
        {
          "name": "stderr",
          "output_type": "stream",
          "text": [
            "100%|██████████| 500/500 [00:07<00:00, 64.41it/s]\n"
          ]
        },
        {
          "name": "stdout",
          "output_type": "stream",
          "text": [
            "['loupe', 'microscope', 'tweezers']\n"
          ]
        },
        {
          "name": "stderr",
          "output_type": "stream",
          "text": [
            "100%|██████████| 500/500 [00:07<00:00, 70.75it/s]\n"
          ]
        },
        {
          "name": "stdout",
          "output_type": "stream",
          "text": [
            "['facets', 'imperfections', 'colors']\n",
            "The blacksmith tempered the sword with the [MASK].\n",
            "index 40 this sent\n"
          ]
        },
        {
          "name": "stderr",
          "output_type": "stream",
          "text": [
            "100%|██████████| 500/500 [00:06<00:00, 73.17it/s]\n"
          ]
        },
        {
          "name": "stdout",
          "output_type": "stream",
          "text": [
            "['forge', 'hammer', 'water']\n"
          ]
        },
        {
          "name": "stderr",
          "output_type": "stream",
          "text": [
            "100%|██████████| 500/500 [00:07<00:00, 67.32it/s]\n"
          ]
        },
        {
          "name": "stdout",
          "output_type": "stream",
          "text": [
            "['chip', 'curve', 'carvings']\n",
            "The surveyor charted the terrain with the [MASK].\n",
            "index 41 this sent\n"
          ]
        },
        {
          "name": "stderr",
          "output_type": "stream",
          "text": [
            "100%|██████████| 500/500 [00:07<00:00, 65.14it/s]\n"
          ]
        },
        {
          "name": "stdout",
          "output_type": "stream",
          "text": [
            "['pencil', 'compass', 'software']\n"
          ]
        },
        {
          "name": "stderr",
          "output_type": "stream",
          "text": [
            "100%|██████████| 500/500 [00:07<00:00, 63.45it/s]\n"
          ]
        },
        {
          "name": "stdout",
          "output_type": "stream",
          "text": [
            "['mountains', 'rivers', 'forests']\n",
            "The biologist identified the insect with the [MASK].\n",
            "index 42 this sent\n"
          ]
        },
        {
          "name": "stderr",
          "output_type": "stream",
          "text": [
            "100%|██████████| 500/500 [00:07<00:00, 68.44it/s]\n"
          ]
        },
        {
          "name": "stdout",
          "output_type": "stream",
          "text": [
            "['guide', 'glasses', 'microscope']\n"
          ]
        },
        {
          "name": "stderr",
          "output_type": "stream",
          "text": [
            "100%|██████████| 500/500 [00:06<00:00, 72.79it/s]\n"
          ]
        },
        {
          "name": "stdout",
          "output_type": "stream",
          "text": [
            "['colors', 'markings', 'wings']\n",
            "The designer altered the dress with the [MASK].\n",
            "index 43 this sent\n"
          ]
        },
        {
          "name": "stderr",
          "output_type": "stream",
          "text": [
            "100%|██████████| 500/500 [00:07<00:00, 67.53it/s]\n"
          ]
        },
        {
          "name": "stdout",
          "output_type": "stream",
          "text": [
            "['machine', 'needle', 'scissors']\n"
          ]
        },
        {
          "name": "stderr",
          "output_type": "stream",
          "text": [
            "100%|██████████| 500/500 [00:07<00:00, 64.72it/s]\n"
          ]
        },
        {
          "name": "stdout",
          "output_type": "stream",
          "text": [
            "['hem', 'fringe', 'straps']\n",
            "The botanist examined the plant with the [MASK].\n",
            "index 44 this sent\n"
          ]
        },
        {
          "name": "stderr",
          "output_type": "stream",
          "text": [
            "100%|██████████| 500/500 [00:07<00:00, 64.70it/s]\n"
          ]
        },
        {
          "name": "stdout",
          "output_type": "stream",
          "text": [
            "['light', 'microscope', 'tweezers']\n"
          ]
        },
        {
          "name": "stderr",
          "output_type": "stream",
          "text": [
            "100%|██████████| 500/500 [00:06<00:00, 72.53it/s]\n"
          ]
        },
        {
          "name": "stdout",
          "output_type": "stream",
          "text": [
            "['petals', 'thorns', 'roots']\n",
            "The farmer checked the nest with the [MASK].\n",
            "index 45 this sent\n"
          ]
        },
        {
          "name": "stderr",
          "output_type": "stream",
          "text": [
            "100%|██████████| 500/500 [00:06<00:00, 71.96it/s]\n"
          ]
        },
        {
          "name": "stdout",
          "output_type": "stream",
          "text": [
            "['smoker', 'tool', 'stick']\n"
          ]
        },
        {
          "name": "stderr",
          "output_type": "stream",
          "text": [
            "100%|██████████| 500/500 [00:07<00:00, 64.91it/s]\n"
          ]
        },
        {
          "name": "stdout",
          "output_type": "stream",
          "text": [
            "['bees', 'combs', 'queen']\n",
            "The scientist identified the fungus with the [MASK].\n",
            "index 46 this sent\n"
          ]
        },
        {
          "name": "stderr",
          "output_type": "stream",
          "text": [
            "100%|██████████| 500/500 [00:07<00:00, 63.59it/s]\n"
          ]
        },
        {
          "name": "stdout",
          "output_type": "stream",
          "text": [
            "['guide', 'print', 'microscope']\n"
          ]
        },
        {
          "name": "stderr",
          "output_type": "stream",
          "text": [
            "100%|██████████| 500/500 [00:07<00:00, 66.20it/s]\n"
          ]
        },
        {
          "name": "stdout",
          "output_type": "stream",
          "text": [
            "['cap', 'rings', 'poison']\n",
            "The sculptor carved the statue with the [MASK].\n",
            "index 47 this sent\n"
          ]
        },
        {
          "name": "stderr",
          "output_type": "stream",
          "text": [
            "100%|██████████| 500/500 [00:06<00:00, 73.37it/s]\n"
          ]
        },
        {
          "name": "stdout",
          "output_type": "stream",
          "text": [
            "['mallet', 'rasp', 'chisel']\n"
          ]
        },
        {
          "name": "stderr",
          "output_type": "stream",
          "text": [
            "100%|██████████| 500/500 [00:07<00:00, 71.00it/s]\n"
          ]
        },
        {
          "name": "stdout",
          "output_type": "stream",
          "text": [
            "['flaw', 'base', 'texture']\n",
            "The archaeologist mapped the cavern with the [MASK].\n",
            "index 48 this sent\n"
          ]
        },
        {
          "name": "stderr",
          "output_type": "stream",
          "text": [
            "100%|██████████| 500/500 [00:07<00:00, 64.67it/s]\n"
          ]
        },
        {
          "name": "stdout",
          "output_type": "stream",
          "text": [
            "['headlamp', 'laser', 'notebook']\n"
          ]
        },
        {
          "name": "stderr",
          "output_type": "stream",
          "text": [
            "100%|██████████| 500/500 [00:07<00:00, 64.37it/s]\n"
          ]
        },
        {
          "name": "stdout",
          "output_type": "stream",
          "text": [
            "['stalactites', 'passages', 'chambers']\n",
            "The police surveyed the park with the [MASK].\n",
            "index 49 this sent\n"
          ]
        },
        {
          "name": "stderr",
          "output_type": "stream",
          "text": [
            "100%|██████████| 500/500 [00:07<00:00, 64.10it/s]\n"
          ]
        },
        {
          "name": "stdout",
          "output_type": "stream",
          "text": [
            "['binoculars', 'map', 'compass']\n"
          ]
        },
        {
          "name": "stderr",
          "output_type": "stream",
          "text": [
            "100%|██████████| 500/500 [00:06<00:00, 72.60it/s]\n"
          ]
        },
        {
          "name": "stdout",
          "output_type": "stream",
          "text": [
            "['wildlife', 'footprints', 'foliage']\n",
            "The sailor traveled the sea with the [MASK].\n",
            "index 50 this sent\n"
          ]
        },
        {
          "name": "stderr",
          "output_type": "stream",
          "text": [
            "100%|██████████| 500/500 [00:06<00:00, 72.25it/s]\n"
          ]
        },
        {
          "name": "stdout",
          "output_type": "stream",
          "text": [
            "['compass', 'chart', 'sextant']\n"
          ]
        },
        {
          "name": "stderr",
          "output_type": "stream",
          "text": [
            "100%|██████████| 500/500 [00:07<00:00, 64.18it/s]\n"
          ]
        },
        {
          "name": "stdout",
          "output_type": "stream",
          "text": [
            "['waves', 'currents', 'wind']\n",
            "The programmer fixed the program with the [MASK].\n",
            "index 51 this sent\n"
          ]
        },
        {
          "name": "stderr",
          "output_type": "stream",
          "text": [
            "100%|██████████| 500/500 [00:07<00:00, 64.82it/s]\n"
          ]
        },
        {
          "name": "stdout",
          "output_type": "stream",
          "text": [
            "['compiler', 'logger', 'breakpoints']\n"
          ]
        },
        {
          "name": "stderr",
          "output_type": "stream",
          "text": [
            "100%|██████████| 500/500 [00:07<00:00, 70.70it/s]\n"
          ]
        },
        {
          "name": "stdout",
          "output_type": "stream",
          "text": [
            "['errors', 'loops', 'variables']\n",
            "The conductor coordinated the orchestra with the [MASK].\n",
            "index 52 this sent\n"
          ]
        },
        {
          "name": "stderr",
          "output_type": "stream",
          "text": [
            "100%|██████████| 500/500 [00:06<00:00, 73.14it/s]\n"
          ]
        },
        {
          "name": "stdout",
          "output_type": "stream",
          "text": [
            "['baton', 'gesture', 'tempo']\n"
          ]
        },
        {
          "name": "stderr",
          "output_type": "stream",
          "text": [
            "100%|██████████| 500/500 [00:07<00:00, 66.76it/s]\n"
          ]
        },
        {
          "name": "stdout",
          "output_type": "stream",
          "text": [
            "['violins', 'flutes', 'cellos']\n",
            "The architect drew the design with the [MASK].\n",
            "index 53 this sent\n"
          ]
        },
        {
          "name": "stderr",
          "output_type": "stream",
          "text": [
            "100%|██████████| 500/500 [00:07<00:00, 64.92it/s]\n"
          ]
        },
        {
          "name": "stdout",
          "output_type": "stream",
          "text": [
            "['pencil', 'ruler', 'protractor']\n"
          ]
        },
        {
          "name": "stderr",
          "output_type": "stream",
          "text": [
            "100%|██████████| 500/500 [00:07<00:00, 64.80it/s]\n"
          ]
        },
        {
          "name": "stdout",
          "output_type": "stream",
          "text": [
            "['windows', 'columns', 'staircases']\n",
            "The archaeologist excavated the fossil with the [MASK].\n",
            "index 54 this sent\n"
          ]
        },
        {
          "name": "stderr",
          "output_type": "stream",
          "text": [
            "100%|██████████| 500/500 [00:07<00:00, 69.24it/s]\n"
          ]
        },
        {
          "name": "stdout",
          "output_type": "stream",
          "text": [
            "['brush', 'trowel', 'chisel']\n"
          ]
        },
        {
          "name": "stderr",
          "output_type": "stream",
          "text": [
            "100%|██████████| 500/500 [00:06<00:00, 72.63it/s]\n"
          ]
        },
        {
          "name": "stdout",
          "output_type": "stream",
          "text": [
            "['bones', 'teeth', 'shells']\n",
            "The caretaker trimmed the hedge with the [MASK].\n",
            "index 55 this sent\n"
          ]
        },
        {
          "name": "stderr",
          "output_type": "stream",
          "text": [
            "100%|██████████| 500/500 [00:07<00:00, 67.27it/s]\n"
          ]
        },
        {
          "name": "stdout",
          "output_type": "stream",
          "text": [
            "['shears', 'loppers', 'pruners']\n"
          ]
        },
        {
          "name": "stderr",
          "output_type": "stream",
          "text": [
            "100%|██████████| 500/500 [00:07<00:00, 64.69it/s]\n"
          ]
        },
        {
          "name": "stdout",
          "output_type": "stream",
          "text": [
            "['blossoms', 'thorns', 'branches']\n",
            "The detective traced the suspect with the [MASK].\n",
            "index 56 this sent\n"
          ]
        },
        {
          "name": "stderr",
          "output_type": "stream",
          "text": [
            "100%|██████████| 500/500 [00:07<00:00, 64.47it/s]\n"
          ]
        },
        {
          "name": "stdout",
          "output_type": "stream",
          "text": [
            "['GPS', 'camera', 'phone']\n"
          ]
        },
        {
          "name": "stderr",
          "output_type": "stream",
          "text": [
            "100%|██████████| 500/500 [00:06<00:00, 72.69it/s]\n"
          ]
        },
        {
          "name": "stdout",
          "output_type": "stream",
          "text": [
            "['footprints', 'cigarette', 'scarf']\n",
            "The chef decorated the dish with the [MASK].\n",
            "index 57 this sent\n"
          ]
        },
        {
          "name": "stderr",
          "output_type": "stream",
          "text": [
            "100%|██████████| 500/500 [00:06<00:00, 73.13it/s]\n"
          ]
        },
        {
          "name": "stdout",
          "output_type": "stream",
          "text": [
            "['parsley', 'lemon', 'pepper']\n"
          ]
        },
        {
          "name": "stderr",
          "output_type": "stream",
          "text": [
            "100%|██████████| 500/500 [00:07<00:00, 64.26it/s]\n"
          ]
        },
        {
          "name": "stdout",
          "output_type": "stream",
          "text": [
            "['soup', 'steak', 'pasta']\n",
            "-2.220446049250313e-16\n"
          ]
        }
      ],
      "source": [
        "report = open(\"fixed_indexing_v4.txt\", \"w\")\n",
        "\n",
        "with open('/content/drive/MyDrive/bertstuff/john_sentences.txt', 'r') as file:\n",
        "    # Read lines from the file and store them in a list\n",
        "    input_sentences = file.read().splitlines()\n",
        "\n",
        "# obtaining distance matrix\n",
        "with open('/content/drive/MyDrive/bertstuff/distance_john', 'rb') as f:\n",
        "    distance_matrices = pickle.load(f)\n",
        "\n",
        "distance_dict = {}\n",
        "for i in range(len(input_sentences)):\n",
        "    if input_sentences[i] not in distance_dict:\n",
        "        distance_dict[input_sentences[i]] = []\n",
        "    distance_dict[input_sentences[i]].append(distance_matrices[i])\n",
        "\n",
        "def apply_transformation(matrix, vector):\n",
        "    transformed_vector = torch.mm(torch.transpose(matrix, 0, 1), vector)\n",
        "    return transformed_vector\n",
        "\n",
        "valid_words = []\n",
        "invalid_words = []\n",
        "\n",
        "sentences = list(input_sentences)  #58\n",
        "sentences = [sentences[i] for i in range(0, len(sentences), 2)]\n",
        "\n",
        "import json\n",
        "with open(\"/content/drive/MyDrive/bertstuff/dataset.json\") as f:\n",
        "    data = json.load(f)\n",
        "\n",
        "for sent in data:\n",
        "    attachment1_words = sent[\"attachment1_words\"]\n",
        "    attachment2_words = sent[\"attachment2_words\"]\n",
        "\n",
        "    min_length = min(len(attachment1_words), len(attachment2_words))\n",
        "    attachment1_words = attachment1_words[:min_length]\n",
        "    attachment2_words = attachment2_words[:min_length]\n",
        "\n",
        "    valid_words.append(attachment1_words)\n",
        "    invalid_words.append(attachment2_words)\n",
        "\n",
        "def b_loss(hidden_vectors, dist_context, theta, original_hidden_vectors, A_mask):\n",
        "    transformed_hidden = apply_transformation(b_matrix, hidden_vectors.permute(1, 0))  # Permute for GPU compatibility\n",
        "    transformed_hidden = transformed_hidden.permute(1, 0)  # Permute back\n",
        "    hidden_matrix = transformed_hidden.unsqueeze(1).expand(transformed_hidden.size(0),\n",
        "                                                            transformed_hidden.size(0),\n",
        "                                                            transformed_hidden.size(1))\n",
        "\n",
        "    hidden_square_scaled = (torch.linalg.norm(dist_context)/torch.linalg.norm(hidden_matrix))*hidden_matrix\n",
        "\n",
        "    diffs = torch.linalg.norm(hidden_square_scaled.permute(1, 0, 2) - hidden_square_scaled, dim=2)**2\n",
        "    diffs.requires_grad_(True)\n",
        "    loss2 = torch.mean(torch.tensor(A_mask, dtype=torch.float64).to(hidden_vectors.device) * (diffs - dist_context)**2)\n",
        "    loss1 = torch.norm((hidden_vectors - original_hidden_vectors)**2, 2)\n",
        "\n",
        "    loss = theta * loss1 + (1 - theta) * loss2\n",
        "    return loss\n",
        "\n",
        "device = torch.device(\"cuda\" if torch.cuda.is_available() else \"cpu\")\n",
        "print(\"DEVICE \" + str(device))\n",
        "\n",
        "\n",
        "for layer in range(11,12):\n",
        "  report.write(f'LAYER is {layer} \\n')\n",
        "\n",
        "  submodel = BertForMaskedLM.from_pretrained('bert-base-cased', output_hidden_states=True, return_dict = True, num_hidden_layers = 11)\n",
        "  submodel.to(device)\n",
        "\n",
        "  for rank in [64]:\n",
        "    for theta in [0.3, 0.6, 1]:\n",
        "      report.write(f'\\nNEW RUN: layer {layer} rank {rank} theta {theta}\\n')\n",
        "      print(f'\\nNEW RUN: layer {layer} rank {rank} theta {theta}\\n')\n",
        "      increase_score = 0\n",
        "      decrease_score = 0\n",
        "\n",
        "      for sent_index in range(len(sentences)):\n",
        "        sent = sentences[sent_index]\n",
        "        print(sent)\n",
        "        print(\"index \" + str(sent_index) + \" \" + \"this sent\")\n",
        "        input = tokenizer(sent, return_tensors=\"pt\").to(device)\n",
        "        orig_output = model(**input)\n",
        "        mask_index = torch.where(input[\"input_ids\"][0] == tokenizer.mask_token_id)\n",
        "        orig_logits = orig_output.logits\n",
        "        orig_softmax = F.softmax(orig_logits, dim = -1)\n",
        "        orig_mask_word = orig_softmax[0, mask_index, :]\n",
        "\n",
        "\n",
        "        #made a dictionary of all the original BERT model words and predictions\n",
        "        orig_predictions = {}\n",
        "\n",
        "        orig_values_second_dimension = orig_mask_word[0, :]\n",
        "        orig_num_predictions = orig_mask_word[0, :].shape[0]\n",
        "\n",
        "        orig_all_words = torch.topk(orig_mask_word, orig_num_predictions, dim = 1)[1][0]\n",
        "        orig_all_probabilites = torch.topk(orig_mask_word, orig_num_predictions, dim = 1)[0][0]\n",
        "        orig_counter = 0\n",
        "        for token in orig_all_words:\n",
        "            word = tokenizer.decode([token])\n",
        "            orig_predictions[word] = orig_all_probabilites[orig_counter].item()\n",
        "            orig_counter += 1\n",
        "\n",
        "        for i in range(2):\n",
        "            report.write(sent + \"\\n\")\n",
        "            input = tokenizer(sent, return_tensors=\"pt\").to(device)\n",
        "            output = submodel(**input)\n",
        "            mask_index = torch.where(input[\"input_ids\"][0] == tokenizer.mask_token_id)\n",
        "\n",
        "            A_mask = np.not_equal(distance_dict[sent][0], distance_dict[sent][1]).astype(int)\n",
        "            A_mask = torch.tensor(A_mask, device=device)\n",
        "\n",
        "            b_matrix_path = f\"/content/drive/MyDrive/bertstuff/probes/r{str(rank)}/predictor.params\"\n",
        "            import_b = torch.load(b_matrix_path, map_location=device)\n",
        "            b_matrix = import_b['proj'].to(device)\n",
        "\n",
        "            hidden_states = output.hidden_states[-1].to(device)\n",
        "            optimized_hidden_vectors = hidden_states[0][1:-1].clone()\n",
        "            og_hidden_vectors = optimized_hidden_vectors.clone()\n",
        "            optimized_hidden_vectors = optimized_hidden_vectors.requires_grad_(True)\n",
        "            optimized_hidden_vectors.retain_grad()\n",
        "\n",
        "            distance_first_context = torch.tensor(distance_dict[sent][i], dtype=torch.float32, device=device)\n",
        "            distance_first_context = distance_first_context**2\n",
        "            distance_first_context.requires_grad_(True)\n",
        "\n",
        "            initial_loss = b_loss(optimized_hidden_vectors, distance_first_context, theta, og_hidden_vectors, A_mask)\n",
        "\n",
        "            # report.write(f\"Initial loss: {initialloss}\\n\")\n",
        "\n",
        "            # training loop for first linguistic context, 10 epochs\n",
        "            loss = 100000000000\n",
        "            iters = 0\n",
        "\n",
        "            # setting learning rate & multipling hidden states by b_matrix\n",
        "            lr = 0.001\n",
        "            # report.write(f'learning rate is {lr} \\n')\n",
        "\n",
        "            for _ in tqdm(range(500)):\n",
        "              iters += 1\n",
        "              loss = b_loss(optimized_hidden_vectors, distance_first_context, theta, og_hidden_vectors, A_mask)\n",
        "              loss.backward(retain_graph=True)\n",
        "\n",
        "              optimized_hidden_vectors.retain_grad()\n",
        "              optimized_hidden_vectors -= lr*optimized_hidden_vectors.grad.data\n",
        "\n",
        "              optimized_hidden_vectors.grad.data.zero_()\n",
        "\n",
        "            new_hidden_first = torch.cat((hidden_states[0][0].unsqueeze(0), optimized_hidden_vectors, hidden_states[0][-1].unsqueeze(0)), 0).unsqueeze(0)\n",
        "            oldModuleList = model.bert.encoder.layer\n",
        "            newModuleList = nn.ModuleList()\n",
        "\n",
        "            # Now iterate over all layers, only keeping only the relevant layers.\n",
        "            for bert_layers in range(layer, 12):\n",
        "                newModuleList.append(oldModuleList[bert_layers])\n",
        "\n",
        "            copyOfModel = copy.deepcopy(model)\n",
        "            copyOfModel.bert.encoder.layer = newModuleList\n",
        "            copyOfModel.to(device)\n",
        "\n",
        "            output_first_context = copyOfModel(inputs_embeds = new_hidden_first, return_dict = True, output_hidden_states = True)\n",
        "\n",
        "            # print('Top 10 words')\n",
        "            logits_first_context = output_first_context.logits\n",
        "            softmax_first_context = F.softmax(logits_first_context, dim = -1)\n",
        "            mask_word_first_context = softmax_first_context[0, mask_index, :]\n",
        "\n",
        "            # print(\"BUZZZ THIS SENTENCE IS DONE\")\n",
        "\n",
        "            #here, the score metric u r creating will go here, using the all_predictions dictionary and the 5 words for each\n",
        "            #context i've written\n",
        "\n",
        "            #made a dictionary of all the context 1 words and their probabilitiess\n",
        "            all_predictions = {}\n",
        "            values_second_dimension = mask_word_first_context[0, :]\n",
        "            num_predictions = values_second_dimension.shape[0]\n",
        "\n",
        "            all_words = torch.topk(mask_word_first_context, num_predictions, dim = 1)[1][0]\n",
        "            all_probabilites = torch.topk(mask_word_first_context, num_predictions, dim = 1)[0][0]\n",
        "            counter = 0\n",
        "            for token in all_words:\n",
        "                word = tokenizer.decode([token])\n",
        "                all_predictions[word] = all_probabilites[counter].item()\n",
        "                counter += 1\n",
        "\n",
        "            allowed_words = []\n",
        "            disallowed_words = []\n",
        "            if i == 0:  #first context\n",
        "                allowed_words = valid_words[sent_index] #these words are for the first context\n",
        "                disallowed_words = invalid_words[sent_index]\n",
        "            else:\n",
        "                allowed_words = invalid_words[sent_index] #these words are for the second context\n",
        "                disallowed_words = valid_words[sent_index]\n",
        "\n",
        "            print(allowed_words)\n",
        "\n",
        "            minVal = min(all_predictions.values())\n",
        "            for word_index in range(len(allowed_words)):\n",
        "                model_allow = 0\n",
        "                model_disallow = 0\n",
        "                orig_allow = 0\n",
        "                orig_disallow = 0\n",
        "\n",
        "                if allowed_words[word_index] in all_predictions:\n",
        "                    model_allow = all_predictions[allowed_words[word_index]]\n",
        "                if allowed_words[word_index] in orig_predictions:\n",
        "                    orig_allow = orig_predictions[allowed_words[word_index]]\n",
        "\n",
        "                if disallowed_words[word_index] in all_predictions:\n",
        "                    model_disallow = all_predictions[disallowed_words[word_index]]\n",
        "                if disallowed_words[word_index] in orig_predictions:\n",
        "                    orig_disallow = orig_predictions[disallowed_words[word_index]]\n",
        "\n",
        "                if model_allow != 0 or orig_allow != 0:\n",
        "                    increase_score += (math.log(model_allow) - math.log(orig_allow))\n",
        "                    #write the original and model probabilities for the allowed words\n",
        "                    report.write(f'orig_allow is {orig_allow} and model_allow is {model_allow}.\\n')\n",
        "                if model_disallow != 0 or orig_disallow != 0:\n",
        "                    decrease_score += (math.log(orig_disallow) - math.log(model_disallow))\n",
        "                    report.write(f'orig_allow is {orig_disallow} and model_allow is {model_disallow}.\\n')\n",
        "\n",
        "      print(1.0*increase_score/len(sentences) + 1.0*decrease_score/len(sentences))\n",
        "      report.write(f'Average increase, decrease scores is {1.0*increase_score/len(sentences) + 1.0*decrease_score/len(sentences)}.\\n')\n",
        "\n",
        "report.close()"
      ]
    },
    {
      "cell_type": "code",
      "execution_count": null,
      "metadata": {
        "colab": {
          "base_uri": "https://localhost:8080/"
        },
        "id": "QwkbwvxXQPZh",
        "outputId": "7a36b613-3d29-42ab-e9aa-0a073c121376"
      },
      "outputs": [
        {
          "name": "stdout",
          "output_type": "stream",
          "text": [
            "Some weights of the model checkpoint at bert-base-cased were not used when initializing BertForMaskedLM: ['bert.pooler.dense.weight', 'bert.pooler.dense.bias', 'cls.seq_relationship.weight', 'cls.seq_relationship.bias']\n",
            "- This IS expected if you are initializing BertForMaskedLM from the checkpoint of a model trained on another task or with another architecture (e.g. initializing a BertForSequenceClassification model from a BertForPreTraining model).\n",
            "- This IS NOT expected if you are initializing BertForMaskedLM from the checkpoint of a model that you expect to be exactly identical (initializing a BertForSequenceClassification model from a BertForSequenceClassification model).\n",
            "Some weights of the model checkpoint at bert-base-cased were not used when initializing BertForMaskedLM: ['bert.encoder.layer.11.attention.self.value.bias', 'bert.encoder.layer.11.attention.output.LayerNorm.bias', 'bert.encoder.layer.11.attention.output.dense.weight', 'bert.encoder.layer.11.output.LayerNorm.bias', 'bert.encoder.layer.11.attention.output.LayerNorm.weight', 'bert.encoder.layer.11.attention.self.key.bias', 'cls.seq_relationship.bias', 'bert.encoder.layer.11.attention.self.key.weight', 'bert.encoder.layer.11.attention.self.value.weight', 'bert.pooler.dense.weight', 'bert.encoder.layer.11.attention.self.query.weight', 'bert.encoder.layer.11.attention.self.query.bias', 'bert.pooler.dense.bias', 'cls.seq_relationship.weight', 'bert.encoder.layer.11.output.LayerNorm.weight', 'bert.encoder.layer.11.output.dense.weight', 'bert.encoder.layer.11.intermediate.dense.weight', 'bert.encoder.layer.11.intermediate.dense.bias', 'bert.encoder.layer.11.attention.output.dense.bias', 'bert.encoder.layer.11.output.dense.bias']\n",
            "- This IS expected if you are initializing BertForMaskedLM from the checkpoint of a model trained on another task or with another architecture (e.g. initializing a BertForSequenceClassification model from a BertForPreTraining model).\n",
            "- This IS NOT expected if you are initializing BertForMaskedLM from the checkpoint of a model that you expect to be exactly identical (initializing a BertForSequenceClassification model from a BertForSequenceClassification model).\n",
            "\n",
            "NEW RUN: layer 11 rank 64 theta 0.3\n",
            "\n",
            "index 0 this sent\n",
            "100% 500/500 [02:09<00:00,  3.86it/s]\n",
            " 17% 85/500 [00:15<01:10,  5.90it/s]"
          ]
        }
      ],
      "source": [
        "!python /content/drive/MyDrive/bertstuff/direct_h_update_random_probe.py"
      ]
    },
    {
      "cell_type": "code",
      "execution_count": null,
      "metadata": {
        "id": "E3CM7ZBNQo7J"
      },
      "outputs": [],
      "source": [
        "!cp random_test_run_john_part_three.txt /content/drive/MyDrive/bertstuff"
      ]
    }
  ],
  "metadata": {
    "accelerator": "GPU",
    "colab": {
      "gpuType": "T4",
      "provenance": []
    },
    "kernelspec": {
      "display_name": "Python 3",
      "name": "python3"
    },
    "language_info": {
      "name": "python"
    },
    "widgets": {
      "application/vnd.jupyter.widget-state+json": {
        "06a071fc63094bf4a2dce4492f520f42": {
          "model_module": "@jupyter-widgets/controls",
          "model_module_version": "1.5.0",
          "model_name": "ProgressStyleModel",
          "state": {
            "_model_module": "@jupyter-widgets/controls",
            "_model_module_version": "1.5.0",
            "_model_name": "ProgressStyleModel",
            "_view_count": null,
            "_view_module": "@jupyter-widgets/base",
            "_view_module_version": "1.2.0",
            "_view_name": "StyleView",
            "bar_color": null,
            "description_width": ""
          }
        },
        "08d862f2641b43659c84e86973b490cb": {
          "model_module": "@jupyter-widgets/controls",
          "model_module_version": "1.5.0",
          "model_name": "HTMLModel",
          "state": {
            "_dom_classes": [],
            "_model_module": "@jupyter-widgets/controls",
            "_model_module_version": "1.5.0",
            "_model_name": "HTMLModel",
            "_view_count": null,
            "_view_module": "@jupyter-widgets/controls",
            "_view_module_version": "1.5.0",
            "_view_name": "HTMLView",
            "description": "",
            "description_tooltip": null,
            "layout": "IPY_MODEL_8216762f9dca401599a11ec2f226d31f",
            "placeholder": "​",
            "style": "IPY_MODEL_ca3e7d9ba28340d88881d04642fc4c2a",
            "value": " 436M/436M [00:03&lt;00:00, 133MB/s]"
          }
        },
        "0b092bc84d4a489592345c748fcea63f": {
          "model_module": "@jupyter-widgets/base",
          "model_module_version": "1.2.0",
          "model_name": "LayoutModel",
          "state": {
            "_model_module": "@jupyter-widgets/base",
            "_model_module_version": "1.2.0",
            "_model_name": "LayoutModel",
            "_view_count": null,
            "_view_module": "@jupyter-widgets/base",
            "_view_module_version": "1.2.0",
            "_view_name": "LayoutView",
            "align_content": null,
            "align_items": null,
            "align_self": null,
            "border": null,
            "bottom": null,
            "display": null,
            "flex": null,
            "flex_flow": null,
            "grid_area": null,
            "grid_auto_columns": null,
            "grid_auto_flow": null,
            "grid_auto_rows": null,
            "grid_column": null,
            "grid_gap": null,
            "grid_row": null,
            "grid_template_areas": null,
            "grid_template_columns": null,
            "grid_template_rows": null,
            "height": null,
            "justify_content": null,
            "justify_items": null,
            "left": null,
            "margin": null,
            "max_height": null,
            "max_width": null,
            "min_height": null,
            "min_width": null,
            "object_fit": null,
            "object_position": null,
            "order": null,
            "overflow": null,
            "overflow_x": null,
            "overflow_y": null,
            "padding": null,
            "right": null,
            "top": null,
            "visibility": null,
            "width": null
          }
        },
        "0f38b1916ccd41288eb3507a4bc1ef16": {
          "model_module": "@jupyter-widgets/base",
          "model_module_version": "1.2.0",
          "model_name": "LayoutModel",
          "state": {
            "_model_module": "@jupyter-widgets/base",
            "_model_module_version": "1.2.0",
            "_model_name": "LayoutModel",
            "_view_count": null,
            "_view_module": "@jupyter-widgets/base",
            "_view_module_version": "1.2.0",
            "_view_name": "LayoutView",
            "align_content": null,
            "align_items": null,
            "align_self": null,
            "border": null,
            "bottom": null,
            "display": null,
            "flex": null,
            "flex_flow": null,
            "grid_area": null,
            "grid_auto_columns": null,
            "grid_auto_flow": null,
            "grid_auto_rows": null,
            "grid_column": null,
            "grid_gap": null,
            "grid_row": null,
            "grid_template_areas": null,
            "grid_template_columns": null,
            "grid_template_rows": null,
            "height": null,
            "justify_content": null,
            "justify_items": null,
            "left": null,
            "margin": null,
            "max_height": null,
            "max_width": null,
            "min_height": null,
            "min_width": null,
            "object_fit": null,
            "object_position": null,
            "order": null,
            "overflow": null,
            "overflow_x": null,
            "overflow_y": null,
            "padding": null,
            "right": null,
            "top": null,
            "visibility": null,
            "width": null
          }
        },
        "10899818977f46da80ca8b57230c6301": {
          "model_module": "@jupyter-widgets/controls",
          "model_module_version": "1.5.0",
          "model_name": "HTMLModel",
          "state": {
            "_dom_classes": [],
            "_model_module": "@jupyter-widgets/controls",
            "_model_module_version": "1.5.0",
            "_model_name": "HTMLModel",
            "_view_count": null,
            "_view_module": "@jupyter-widgets/controls",
            "_view_module_version": "1.5.0",
            "_view_name": "HTMLView",
            "description": "",
            "description_tooltip": null,
            "layout": "IPY_MODEL_b9f3a9724dd245f99cfe310413bada83",
            "placeholder": "​",
            "style": "IPY_MODEL_ad9233abe4e84a53880cc7be82f65f84",
            "value": " 213k/213k [00:00&lt;00:00, 3.80MB/s]"
          }
        },
        "12ef92b38aa9443a988f7e619eb51e21": {
          "model_module": "@jupyter-widgets/controls",
          "model_module_version": "1.5.0",
          "model_name": "ProgressStyleModel",
          "state": {
            "_model_module": "@jupyter-widgets/controls",
            "_model_module_version": "1.5.0",
            "_model_name": "ProgressStyleModel",
            "_view_count": null,
            "_view_module": "@jupyter-widgets/base",
            "_view_module_version": "1.2.0",
            "_view_name": "StyleView",
            "bar_color": null,
            "description_width": ""
          }
        },
        "1524b71b0df143baab7c3e8bdf452768": {
          "model_module": "@jupyter-widgets/base",
          "model_module_version": "1.2.0",
          "model_name": "LayoutModel",
          "state": {
            "_model_module": "@jupyter-widgets/base",
            "_model_module_version": "1.2.0",
            "_model_name": "LayoutModel",
            "_view_count": null,
            "_view_module": "@jupyter-widgets/base",
            "_view_module_version": "1.2.0",
            "_view_name": "LayoutView",
            "align_content": null,
            "align_items": null,
            "align_self": null,
            "border": null,
            "bottom": null,
            "display": null,
            "flex": null,
            "flex_flow": null,
            "grid_area": null,
            "grid_auto_columns": null,
            "grid_auto_flow": null,
            "grid_auto_rows": null,
            "grid_column": null,
            "grid_gap": null,
            "grid_row": null,
            "grid_template_areas": null,
            "grid_template_columns": null,
            "grid_template_rows": null,
            "height": null,
            "justify_content": null,
            "justify_items": null,
            "left": null,
            "margin": null,
            "max_height": null,
            "max_width": null,
            "min_height": null,
            "min_width": null,
            "object_fit": null,
            "object_position": null,
            "order": null,
            "overflow": null,
            "overflow_x": null,
            "overflow_y": null,
            "padding": null,
            "right": null,
            "top": null,
            "visibility": null,
            "width": null
          }
        },
        "164cd8ed8af840e4a14696c03a2f09a0": {
          "model_module": "@jupyter-widgets/controls",
          "model_module_version": "1.5.0",
          "model_name": "DescriptionStyleModel",
          "state": {
            "_model_module": "@jupyter-widgets/controls",
            "_model_module_version": "1.5.0",
            "_model_name": "DescriptionStyleModel",
            "_view_count": null,
            "_view_module": "@jupyter-widgets/base",
            "_view_module_version": "1.2.0",
            "_view_name": "StyleView",
            "description_width": ""
          }
        },
        "1792a90b8393449285124ae9be864fa0": {
          "model_module": "@jupyter-widgets/controls",
          "model_module_version": "1.5.0",
          "model_name": "HTMLModel",
          "state": {
            "_dom_classes": [],
            "_model_module": "@jupyter-widgets/controls",
            "_model_module_version": "1.5.0",
            "_model_name": "HTMLModel",
            "_view_count": null,
            "_view_module": "@jupyter-widgets/controls",
            "_view_module_version": "1.5.0",
            "_view_name": "HTMLView",
            "description": "",
            "description_tooltip": null,
            "layout": "IPY_MODEL_b0c5a0d17c60452ea3b895ee2058bc58",
            "placeholder": "​",
            "style": "IPY_MODEL_66b81676e1d44278b2f0890508c46133",
            "value": "tokenizer_config.json: 100%"
          }
        },
        "18f8fde824634b15a9eb19025b43709f": {
          "model_module": "@jupyter-widgets/base",
          "model_module_version": "1.2.0",
          "model_name": "LayoutModel",
          "state": {
            "_model_module": "@jupyter-widgets/base",
            "_model_module_version": "1.2.0",
            "_model_name": "LayoutModel",
            "_view_count": null,
            "_view_module": "@jupyter-widgets/base",
            "_view_module_version": "1.2.0",
            "_view_name": "LayoutView",
            "align_content": null,
            "align_items": null,
            "align_self": null,
            "border": null,
            "bottom": null,
            "display": null,
            "flex": null,
            "flex_flow": null,
            "grid_area": null,
            "grid_auto_columns": null,
            "grid_auto_flow": null,
            "grid_auto_rows": null,
            "grid_column": null,
            "grid_gap": null,
            "grid_row": null,
            "grid_template_areas": null,
            "grid_template_columns": null,
            "grid_template_rows": null,
            "height": null,
            "justify_content": null,
            "justify_items": null,
            "left": null,
            "margin": null,
            "max_height": null,
            "max_width": null,
            "min_height": null,
            "min_width": null,
            "object_fit": null,
            "object_position": null,
            "order": null,
            "overflow": null,
            "overflow_x": null,
            "overflow_y": null,
            "padding": null,
            "right": null,
            "top": null,
            "visibility": null,
            "width": null
          }
        },
        "1af4051f86df4799b54ce75cfdb4f8a4": {
          "model_module": "@jupyter-widgets/base",
          "model_module_version": "1.2.0",
          "model_name": "LayoutModel",
          "state": {
            "_model_module": "@jupyter-widgets/base",
            "_model_module_version": "1.2.0",
            "_model_name": "LayoutModel",
            "_view_count": null,
            "_view_module": "@jupyter-widgets/base",
            "_view_module_version": "1.2.0",
            "_view_name": "LayoutView",
            "align_content": null,
            "align_items": null,
            "align_self": null,
            "border": null,
            "bottom": null,
            "display": null,
            "flex": null,
            "flex_flow": null,
            "grid_area": null,
            "grid_auto_columns": null,
            "grid_auto_flow": null,
            "grid_auto_rows": null,
            "grid_column": null,
            "grid_gap": null,
            "grid_row": null,
            "grid_template_areas": null,
            "grid_template_columns": null,
            "grid_template_rows": null,
            "height": null,
            "justify_content": null,
            "justify_items": null,
            "left": null,
            "margin": null,
            "max_height": null,
            "max_width": null,
            "min_height": null,
            "min_width": null,
            "object_fit": null,
            "object_position": null,
            "order": null,
            "overflow": null,
            "overflow_x": null,
            "overflow_y": null,
            "padding": null,
            "right": null,
            "top": null,
            "visibility": null,
            "width": null
          }
        },
        "1b1d374648934a36a7025f23575471e1": {
          "model_module": "@jupyter-widgets/controls",
          "model_module_version": "1.5.0",
          "model_name": "DescriptionStyleModel",
          "state": {
            "_model_module": "@jupyter-widgets/controls",
            "_model_module_version": "1.5.0",
            "_model_name": "DescriptionStyleModel",
            "_view_count": null,
            "_view_module": "@jupyter-widgets/base",
            "_view_module_version": "1.2.0",
            "_view_name": "StyleView",
            "description_width": ""
          }
        },
        "2029b1a650e743dc95ceb921153b5506": {
          "model_module": "@jupyter-widgets/base",
          "model_module_version": "1.2.0",
          "model_name": "LayoutModel",
          "state": {
            "_model_module": "@jupyter-widgets/base",
            "_model_module_version": "1.2.0",
            "_model_name": "LayoutModel",
            "_view_count": null,
            "_view_module": "@jupyter-widgets/base",
            "_view_module_version": "1.2.0",
            "_view_name": "LayoutView",
            "align_content": null,
            "align_items": null,
            "align_self": null,
            "border": null,
            "bottom": null,
            "display": null,
            "flex": null,
            "flex_flow": null,
            "grid_area": null,
            "grid_auto_columns": null,
            "grid_auto_flow": null,
            "grid_auto_rows": null,
            "grid_column": null,
            "grid_gap": null,
            "grid_row": null,
            "grid_template_areas": null,
            "grid_template_columns": null,
            "grid_template_rows": null,
            "height": null,
            "justify_content": null,
            "justify_items": null,
            "left": null,
            "margin": null,
            "max_height": null,
            "max_width": null,
            "min_height": null,
            "min_width": null,
            "object_fit": null,
            "object_position": null,
            "order": null,
            "overflow": null,
            "overflow_x": null,
            "overflow_y": null,
            "padding": null,
            "right": null,
            "top": null,
            "visibility": null,
            "width": null
          }
        },
        "22c345d1b9a14ba4bfe0973ebc8065a4": {
          "model_module": "@jupyter-widgets/controls",
          "model_module_version": "1.5.0",
          "model_name": "HTMLModel",
          "state": {
            "_dom_classes": [],
            "_model_module": "@jupyter-widgets/controls",
            "_model_module_version": "1.5.0",
            "_model_name": "HTMLModel",
            "_view_count": null,
            "_view_module": "@jupyter-widgets/controls",
            "_view_module_version": "1.5.0",
            "_view_name": "HTMLView",
            "description": "",
            "description_tooltip": null,
            "layout": "IPY_MODEL_97fe94924cc0433e9afa3ee03e9fda20",
            "placeholder": "​",
            "style": "IPY_MODEL_3b0cbba6861147158e334773c1dada70",
            "value": "vocab.txt: 100%"
          }
        },
        "259f01fca1e14ea7ba4e88380dc38a28": {
          "model_module": "@jupyter-widgets/controls",
          "model_module_version": "1.5.0",
          "model_name": "DescriptionStyleModel",
          "state": {
            "_model_module": "@jupyter-widgets/controls",
            "_model_module_version": "1.5.0",
            "_model_name": "DescriptionStyleModel",
            "_view_count": null,
            "_view_module": "@jupyter-widgets/base",
            "_view_module_version": "1.2.0",
            "_view_name": "StyleView",
            "description_width": ""
          }
        },
        "2924e789584a427690ce6f43d36cd6c4": {
          "model_module": "@jupyter-widgets/controls",
          "model_module_version": "1.5.0",
          "model_name": "FloatProgressModel",
          "state": {
            "_dom_classes": [],
            "_model_module": "@jupyter-widgets/controls",
            "_model_module_version": "1.5.0",
            "_model_name": "FloatProgressModel",
            "_view_count": null,
            "_view_module": "@jupyter-widgets/controls",
            "_view_module_version": "1.5.0",
            "_view_name": "ProgressView",
            "bar_style": "success",
            "description": "",
            "description_tooltip": null,
            "layout": "IPY_MODEL_750e08dad7b141d2932c0bc494ac3024",
            "max": 29,
            "min": 0,
            "orientation": "horizontal",
            "style": "IPY_MODEL_9b8d5d4d24f646f5ac2443de836b3983",
            "value": 29
          }
        },
        "2ab116434a554fed86640cc2b0c1bf57": {
          "model_module": "@jupyter-widgets/controls",
          "model_module_version": "1.5.0",
          "model_name": "DescriptionStyleModel",
          "state": {
            "_model_module": "@jupyter-widgets/controls",
            "_model_module_version": "1.5.0",
            "_model_name": "DescriptionStyleModel",
            "_view_count": null,
            "_view_module": "@jupyter-widgets/base",
            "_view_module_version": "1.2.0",
            "_view_name": "StyleView",
            "description_width": ""
          }
        },
        "30f84779a7d042eb986bd64c9dab048c": {
          "model_module": "@jupyter-widgets/base",
          "model_module_version": "1.2.0",
          "model_name": "LayoutModel",
          "state": {
            "_model_module": "@jupyter-widgets/base",
            "_model_module_version": "1.2.0",
            "_model_name": "LayoutModel",
            "_view_count": null,
            "_view_module": "@jupyter-widgets/base",
            "_view_module_version": "1.2.0",
            "_view_name": "LayoutView",
            "align_content": null,
            "align_items": null,
            "align_self": null,
            "border": null,
            "bottom": null,
            "display": null,
            "flex": null,
            "flex_flow": null,
            "grid_area": null,
            "grid_auto_columns": null,
            "grid_auto_flow": null,
            "grid_auto_rows": null,
            "grid_column": null,
            "grid_gap": null,
            "grid_row": null,
            "grid_template_areas": null,
            "grid_template_columns": null,
            "grid_template_rows": null,
            "height": null,
            "justify_content": null,
            "justify_items": null,
            "left": null,
            "margin": null,
            "max_height": null,
            "max_width": null,
            "min_height": null,
            "min_width": null,
            "object_fit": null,
            "object_position": null,
            "order": null,
            "overflow": null,
            "overflow_x": null,
            "overflow_y": null,
            "padding": null,
            "right": null,
            "top": null,
            "visibility": null,
            "width": null
          }
        },
        "332fb0cac69d45c8ac2d74ba0db06fce": {
          "model_module": "@jupyter-widgets/base",
          "model_module_version": "1.2.0",
          "model_name": "LayoutModel",
          "state": {
            "_model_module": "@jupyter-widgets/base",
            "_model_module_version": "1.2.0",
            "_model_name": "LayoutModel",
            "_view_count": null,
            "_view_module": "@jupyter-widgets/base",
            "_view_module_version": "1.2.0",
            "_view_name": "LayoutView",
            "align_content": null,
            "align_items": null,
            "align_self": null,
            "border": null,
            "bottom": null,
            "display": null,
            "flex": null,
            "flex_flow": null,
            "grid_area": null,
            "grid_auto_columns": null,
            "grid_auto_flow": null,
            "grid_auto_rows": null,
            "grid_column": null,
            "grid_gap": null,
            "grid_row": null,
            "grid_template_areas": null,
            "grid_template_columns": null,
            "grid_template_rows": null,
            "height": null,
            "justify_content": null,
            "justify_items": null,
            "left": null,
            "margin": null,
            "max_height": null,
            "max_width": null,
            "min_height": null,
            "min_width": null,
            "object_fit": null,
            "object_position": null,
            "order": null,
            "overflow": null,
            "overflow_x": null,
            "overflow_y": null,
            "padding": null,
            "right": null,
            "top": null,
            "visibility": null,
            "width": null
          }
        },
        "3372489f73cf46c4ac673c78ee6b6088": {
          "model_module": "@jupyter-widgets/base",
          "model_module_version": "1.2.0",
          "model_name": "LayoutModel",
          "state": {
            "_model_module": "@jupyter-widgets/base",
            "_model_module_version": "1.2.0",
            "_model_name": "LayoutModel",
            "_view_count": null,
            "_view_module": "@jupyter-widgets/base",
            "_view_module_version": "1.2.0",
            "_view_name": "LayoutView",
            "align_content": null,
            "align_items": null,
            "align_self": null,
            "border": null,
            "bottom": null,
            "display": null,
            "flex": null,
            "flex_flow": null,
            "grid_area": null,
            "grid_auto_columns": null,
            "grid_auto_flow": null,
            "grid_auto_rows": null,
            "grid_column": null,
            "grid_gap": null,
            "grid_row": null,
            "grid_template_areas": null,
            "grid_template_columns": null,
            "grid_template_rows": null,
            "height": null,
            "justify_content": null,
            "justify_items": null,
            "left": null,
            "margin": null,
            "max_height": null,
            "max_width": null,
            "min_height": null,
            "min_width": null,
            "object_fit": null,
            "object_position": null,
            "order": null,
            "overflow": null,
            "overflow_x": null,
            "overflow_y": null,
            "padding": null,
            "right": null,
            "top": null,
            "visibility": null,
            "width": null
          }
        },
        "38d059f0036246cca23c08572c26629b": {
          "model_module": "@jupyter-widgets/controls",
          "model_module_version": "1.5.0",
          "model_name": "FloatProgressModel",
          "state": {
            "_dom_classes": [],
            "_model_module": "@jupyter-widgets/controls",
            "_model_module_version": "1.5.0",
            "_model_name": "FloatProgressModel",
            "_view_count": null,
            "_view_module": "@jupyter-widgets/controls",
            "_view_module_version": "1.5.0",
            "_view_name": "ProgressView",
            "bar_style": "success",
            "description": "",
            "description_tooltip": null,
            "layout": "IPY_MODEL_61dd36e0f257402dbf6ad51730ed5872",
            "max": 435755784,
            "min": 0,
            "orientation": "horizontal",
            "style": "IPY_MODEL_661866c5f1ed40be8aa0e502038b2e93",
            "value": 435755784
          }
        },
        "3a45ff7d052b4c03a618cca572b5eb8a": {
          "model_module": "@jupyter-widgets/controls",
          "model_module_version": "1.5.0",
          "model_name": "HTMLModel",
          "state": {
            "_dom_classes": [],
            "_model_module": "@jupyter-widgets/controls",
            "_model_module_version": "1.5.0",
            "_model_name": "HTMLModel",
            "_view_count": null,
            "_view_module": "@jupyter-widgets/controls",
            "_view_module_version": "1.5.0",
            "_view_name": "HTMLView",
            "description": "",
            "description_tooltip": null,
            "layout": "IPY_MODEL_fd67f837fae84a739934e8e2bb56148f",
            "placeholder": "​",
            "style": "IPY_MODEL_ba263ffdb03f42a0b65eb657610a4bb7",
            "value": " 29.0/29.0 [00:00&lt;00:00, 1.16kB/s]"
          }
        },
        "3b0cbba6861147158e334773c1dada70": {
          "model_module": "@jupyter-widgets/controls",
          "model_module_version": "1.5.0",
          "model_name": "DescriptionStyleModel",
          "state": {
            "_model_module": "@jupyter-widgets/controls",
            "_model_module_version": "1.5.0",
            "_model_name": "DescriptionStyleModel",
            "_view_count": null,
            "_view_module": "@jupyter-widgets/base",
            "_view_module_version": "1.2.0",
            "_view_name": "StyleView",
            "description_width": ""
          }
        },
        "3b3d6ae3fb134b56b163a4c54a004d23": {
          "model_module": "@jupyter-widgets/base",
          "model_module_version": "1.2.0",
          "model_name": "LayoutModel",
          "state": {
            "_model_module": "@jupyter-widgets/base",
            "_model_module_version": "1.2.0",
            "_model_name": "LayoutModel",
            "_view_count": null,
            "_view_module": "@jupyter-widgets/base",
            "_view_module_version": "1.2.0",
            "_view_name": "LayoutView",
            "align_content": null,
            "align_items": null,
            "align_self": null,
            "border": null,
            "bottom": null,
            "display": null,
            "flex": null,
            "flex_flow": null,
            "grid_area": null,
            "grid_auto_columns": null,
            "grid_auto_flow": null,
            "grid_auto_rows": null,
            "grid_column": null,
            "grid_gap": null,
            "grid_row": null,
            "grid_template_areas": null,
            "grid_template_columns": null,
            "grid_template_rows": null,
            "height": null,
            "justify_content": null,
            "justify_items": null,
            "left": null,
            "margin": null,
            "max_height": null,
            "max_width": null,
            "min_height": null,
            "min_width": null,
            "object_fit": null,
            "object_position": null,
            "order": null,
            "overflow": null,
            "overflow_x": null,
            "overflow_y": null,
            "padding": null,
            "right": null,
            "top": null,
            "visibility": null,
            "width": null
          }
        },
        "3bd787903f5e4bddaecece9654b5554b": {
          "model_module": "@jupyter-widgets/controls",
          "model_module_version": "1.5.0",
          "model_name": "DescriptionStyleModel",
          "state": {
            "_model_module": "@jupyter-widgets/controls",
            "_model_module_version": "1.5.0",
            "_model_name": "DescriptionStyleModel",
            "_view_count": null,
            "_view_module": "@jupyter-widgets/base",
            "_view_module_version": "1.2.0",
            "_view_name": "StyleView",
            "description_width": ""
          }
        },
        "3c0c874186e344768b8e4942610c02b4": {
          "model_module": "@jupyter-widgets/controls",
          "model_module_version": "1.5.0",
          "model_name": "HTMLModel",
          "state": {
            "_dom_classes": [],
            "_model_module": "@jupyter-widgets/controls",
            "_model_module_version": "1.5.0",
            "_model_name": "HTMLModel",
            "_view_count": null,
            "_view_module": "@jupyter-widgets/controls",
            "_view_module_version": "1.5.0",
            "_view_name": "HTMLView",
            "description": "",
            "description_tooltip": null,
            "layout": "IPY_MODEL_aa26e39f3e7a44a7a5f4d38479226101",
            "placeholder": "​",
            "style": "IPY_MODEL_3d79e76e84fe4fe993c7fd7e69895f36",
            "value": "tokenizer.json: 100%"
          }
        },
        "3d79e76e84fe4fe993c7fd7e69895f36": {
          "model_module": "@jupyter-widgets/controls",
          "model_module_version": "1.5.0",
          "model_name": "DescriptionStyleModel",
          "state": {
            "_model_module": "@jupyter-widgets/controls",
            "_model_module_version": "1.5.0",
            "_model_name": "DescriptionStyleModel",
            "_view_count": null,
            "_view_module": "@jupyter-widgets/base",
            "_view_module_version": "1.2.0",
            "_view_name": "StyleView",
            "description_width": ""
          }
        },
        "4b927922c3c448fb99b03f5ce06202a0": {
          "model_module": "@jupyter-widgets/controls",
          "model_module_version": "1.5.0",
          "model_name": "HTMLModel",
          "state": {
            "_dom_classes": [],
            "_model_module": "@jupyter-widgets/controls",
            "_model_module_version": "1.5.0",
            "_model_name": "HTMLModel",
            "_view_count": null,
            "_view_module": "@jupyter-widgets/controls",
            "_view_module_version": "1.5.0",
            "_view_name": "HTMLView",
            "description": "",
            "description_tooltip": null,
            "layout": "IPY_MODEL_ca2dcd2e59ce43759d20fd8db4b2b9f3",
            "placeholder": "​",
            "style": "IPY_MODEL_259f01fca1e14ea7ba4e88380dc38a28",
            "value": "model.safetensors: 100%"
          }
        },
        "4d842d182752452dace75954ee7c4eca": {
          "model_module": "@jupyter-widgets/controls",
          "model_module_version": "1.5.0",
          "model_name": "HTMLModel",
          "state": {
            "_dom_classes": [],
            "_model_module": "@jupyter-widgets/controls",
            "_model_module_version": "1.5.0",
            "_model_name": "HTMLModel",
            "_view_count": null,
            "_view_module": "@jupyter-widgets/controls",
            "_view_module_version": "1.5.0",
            "_view_name": "HTMLView",
            "description": "",
            "description_tooltip": null,
            "layout": "IPY_MODEL_1524b71b0df143baab7c3e8bdf452768",
            "placeholder": "​",
            "style": "IPY_MODEL_164cd8ed8af840e4a14696c03a2f09a0",
            "value": "vocab.txt: 100%"
          }
        },
        "54f46e477348492db14e8b8710838919": {
          "model_module": "@jupyter-widgets/controls",
          "model_module_version": "1.5.0",
          "model_name": "FloatProgressModel",
          "state": {
            "_dom_classes": [],
            "_model_module": "@jupyter-widgets/controls",
            "_model_module_version": "1.5.0",
            "_model_name": "FloatProgressModel",
            "_view_count": null,
            "_view_module": "@jupyter-widgets/controls",
            "_view_module_version": "1.5.0",
            "_view_name": "ProgressView",
            "bar_style": "success",
            "description": "",
            "description_tooltip": null,
            "layout": "IPY_MODEL_f1a5c8d5d7184399a354c6a394919a8b",
            "max": 435755784,
            "min": 0,
            "orientation": "horizontal",
            "style": "IPY_MODEL_7435929b37024667b7f0203c781ad88c",
            "value": 435755784
          }
        },
        "566f9f28a7214c0c9bd6884f878e2274": {
          "model_module": "@jupyter-widgets/base",
          "model_module_version": "1.2.0",
          "model_name": "LayoutModel",
          "state": {
            "_model_module": "@jupyter-widgets/base",
            "_model_module_version": "1.2.0",
            "_model_name": "LayoutModel",
            "_view_count": null,
            "_view_module": "@jupyter-widgets/base",
            "_view_module_version": "1.2.0",
            "_view_name": "LayoutView",
            "align_content": null,
            "align_items": null,
            "align_self": null,
            "border": null,
            "bottom": null,
            "display": null,
            "flex": null,
            "flex_flow": null,
            "grid_area": null,
            "grid_auto_columns": null,
            "grid_auto_flow": null,
            "grid_auto_rows": null,
            "grid_column": null,
            "grid_gap": null,
            "grid_row": null,
            "grid_template_areas": null,
            "grid_template_columns": null,
            "grid_template_rows": null,
            "height": null,
            "justify_content": null,
            "justify_items": null,
            "left": null,
            "margin": null,
            "max_height": null,
            "max_width": null,
            "min_height": null,
            "min_width": null,
            "object_fit": null,
            "object_position": null,
            "order": null,
            "overflow": null,
            "overflow_x": null,
            "overflow_y": null,
            "padding": null,
            "right": null,
            "top": null,
            "visibility": null,
            "width": null
          }
        },
        "5c5fa158d857478b8b8b965bca2c3199": {
          "model_module": "@jupyter-widgets/controls",
          "model_module_version": "1.5.0",
          "model_name": "FloatProgressModel",
          "state": {
            "_dom_classes": [],
            "_model_module": "@jupyter-widgets/controls",
            "_model_module_version": "1.5.0",
            "_model_name": "FloatProgressModel",
            "_view_count": null,
            "_view_module": "@jupyter-widgets/controls",
            "_view_module_version": "1.5.0",
            "_view_name": "ProgressView",
            "bar_style": "success",
            "description": "",
            "description_tooltip": null,
            "layout": "IPY_MODEL_3b3d6ae3fb134b56b163a4c54a004d23",
            "max": 213450,
            "min": 0,
            "orientation": "horizontal",
            "style": "IPY_MODEL_d58e8115fcf34bb39018b0bc247a350c",
            "value": 213450
          }
        },
        "5cb4da7cd2704da38103e37c2f4acb80": {
          "model_module": "@jupyter-widgets/base",
          "model_module_version": "1.2.0",
          "model_name": "LayoutModel",
          "state": {
            "_model_module": "@jupyter-widgets/base",
            "_model_module_version": "1.2.0",
            "_model_name": "LayoutModel",
            "_view_count": null,
            "_view_module": "@jupyter-widgets/base",
            "_view_module_version": "1.2.0",
            "_view_name": "LayoutView",
            "align_content": null,
            "align_items": null,
            "align_self": null,
            "border": null,
            "bottom": null,
            "display": null,
            "flex": null,
            "flex_flow": null,
            "grid_area": null,
            "grid_auto_columns": null,
            "grid_auto_flow": null,
            "grid_auto_rows": null,
            "grid_column": null,
            "grid_gap": null,
            "grid_row": null,
            "grid_template_areas": null,
            "grid_template_columns": null,
            "grid_template_rows": null,
            "height": null,
            "justify_content": null,
            "justify_items": null,
            "left": null,
            "margin": null,
            "max_height": null,
            "max_width": null,
            "min_height": null,
            "min_width": null,
            "object_fit": null,
            "object_position": null,
            "order": null,
            "overflow": null,
            "overflow_x": null,
            "overflow_y": null,
            "padding": null,
            "right": null,
            "top": null,
            "visibility": null,
            "width": null
          }
        },
        "5d8034f77706461eaaa63ac4c0eea802": {
          "model_module": "@jupyter-widgets/controls",
          "model_module_version": "1.5.0",
          "model_name": "HBoxModel",
          "state": {
            "_dom_classes": [],
            "_model_module": "@jupyter-widgets/controls",
            "_model_module_version": "1.5.0",
            "_model_name": "HBoxModel",
            "_view_count": null,
            "_view_module": "@jupyter-widgets/controls",
            "_view_module_version": "1.5.0",
            "_view_name": "HBoxView",
            "box_style": "",
            "children": [
              "IPY_MODEL_94ca04088a5145d9a3ed450674a335d4",
              "IPY_MODEL_d9f7d7e88d0243438e976b2062df6887",
              "IPY_MODEL_9db8679f13734726a68eb14ce76eecce"
            ],
            "layout": "IPY_MODEL_d7fbc72a68f1481babf5b9612ed428c6"
          }
        },
        "5f7198c57da84046a1e89bccffd66847": {
          "model_module": "@jupyter-widgets/controls",
          "model_module_version": "1.5.0",
          "model_name": "DescriptionStyleModel",
          "state": {
            "_model_module": "@jupyter-widgets/controls",
            "_model_module_version": "1.5.0",
            "_model_name": "DescriptionStyleModel",
            "_view_count": null,
            "_view_module": "@jupyter-widgets/base",
            "_view_module_version": "1.2.0",
            "_view_name": "StyleView",
            "description_width": ""
          }
        },
        "61dd36e0f257402dbf6ad51730ed5872": {
          "model_module": "@jupyter-widgets/base",
          "model_module_version": "1.2.0",
          "model_name": "LayoutModel",
          "state": {
            "_model_module": "@jupyter-widgets/base",
            "_model_module_version": "1.2.0",
            "_model_name": "LayoutModel",
            "_view_count": null,
            "_view_module": "@jupyter-widgets/base",
            "_view_module_version": "1.2.0",
            "_view_name": "LayoutView",
            "align_content": null,
            "align_items": null,
            "align_self": null,
            "border": null,
            "bottom": null,
            "display": null,
            "flex": null,
            "flex_flow": null,
            "grid_area": null,
            "grid_auto_columns": null,
            "grid_auto_flow": null,
            "grid_auto_rows": null,
            "grid_column": null,
            "grid_gap": null,
            "grid_row": null,
            "grid_template_areas": null,
            "grid_template_columns": null,
            "grid_template_rows": null,
            "height": null,
            "justify_content": null,
            "justify_items": null,
            "left": null,
            "margin": null,
            "max_height": null,
            "max_width": null,
            "min_height": null,
            "min_width": null,
            "object_fit": null,
            "object_position": null,
            "order": null,
            "overflow": null,
            "overflow_x": null,
            "overflow_y": null,
            "padding": null,
            "right": null,
            "top": null,
            "visibility": null,
            "width": null
          }
        },
        "65ada603041d40678dc6e91a928c8d72": {
          "model_module": "@jupyter-widgets/controls",
          "model_module_version": "1.5.0",
          "model_name": "DescriptionStyleModel",
          "state": {
            "_model_module": "@jupyter-widgets/controls",
            "_model_module_version": "1.5.0",
            "_model_name": "DescriptionStyleModel",
            "_view_count": null,
            "_view_module": "@jupyter-widgets/base",
            "_view_module_version": "1.2.0",
            "_view_name": "StyleView",
            "description_width": ""
          }
        },
        "661866c5f1ed40be8aa0e502038b2e93": {
          "model_module": "@jupyter-widgets/controls",
          "model_module_version": "1.5.0",
          "model_name": "ProgressStyleModel",
          "state": {
            "_model_module": "@jupyter-widgets/controls",
            "_model_module_version": "1.5.0",
            "_model_name": "ProgressStyleModel",
            "_view_count": null,
            "_view_module": "@jupyter-widgets/base",
            "_view_module_version": "1.2.0",
            "_view_name": "StyleView",
            "bar_color": null,
            "description_width": ""
          }
        },
        "66b81676e1d44278b2f0890508c46133": {
          "model_module": "@jupyter-widgets/controls",
          "model_module_version": "1.5.0",
          "model_name": "DescriptionStyleModel",
          "state": {
            "_model_module": "@jupyter-widgets/controls",
            "_model_module_version": "1.5.0",
            "_model_name": "DescriptionStyleModel",
            "_view_count": null,
            "_view_module": "@jupyter-widgets/base",
            "_view_module_version": "1.2.0",
            "_view_name": "StyleView",
            "description_width": ""
          }
        },
        "68193e0f61914e708d9fb6f3fb1ab843": {
          "model_module": "@jupyter-widgets/base",
          "model_module_version": "1.2.0",
          "model_name": "LayoutModel",
          "state": {
            "_model_module": "@jupyter-widgets/base",
            "_model_module_version": "1.2.0",
            "_model_name": "LayoutModel",
            "_view_count": null,
            "_view_module": "@jupyter-widgets/base",
            "_view_module_version": "1.2.0",
            "_view_name": "LayoutView",
            "align_content": null,
            "align_items": null,
            "align_self": null,
            "border": null,
            "bottom": null,
            "display": null,
            "flex": null,
            "flex_flow": null,
            "grid_area": null,
            "grid_auto_columns": null,
            "grid_auto_flow": null,
            "grid_auto_rows": null,
            "grid_column": null,
            "grid_gap": null,
            "grid_row": null,
            "grid_template_areas": null,
            "grid_template_columns": null,
            "grid_template_rows": null,
            "height": null,
            "justify_content": null,
            "justify_items": null,
            "left": null,
            "margin": null,
            "max_height": null,
            "max_width": null,
            "min_height": null,
            "min_width": null,
            "object_fit": null,
            "object_position": null,
            "order": null,
            "overflow": null,
            "overflow_x": null,
            "overflow_y": null,
            "padding": null,
            "right": null,
            "top": null,
            "visibility": null,
            "width": null
          }
        },
        "6f204f00ad3b45fc9ce26c952b6b1c5f": {
          "model_module": "@jupyter-widgets/controls",
          "model_module_version": "1.5.0",
          "model_name": "HBoxModel",
          "state": {
            "_dom_classes": [],
            "_model_module": "@jupyter-widgets/controls",
            "_model_module_version": "1.5.0",
            "_model_name": "HBoxModel",
            "_view_count": null,
            "_view_module": "@jupyter-widgets/controls",
            "_view_module_version": "1.5.0",
            "_view_name": "HBoxView",
            "box_style": "",
            "children": [
              "IPY_MODEL_3c0c874186e344768b8e4942610c02b4",
              "IPY_MODEL_836706ebe02544f4bea755b3035b2f00",
              "IPY_MODEL_fd8cf685c88e455aaf825772ff592619"
            ],
            "layout": "IPY_MODEL_18f8fde824634b15a9eb19025b43709f"
          }
        },
        "70c4dc4dc0954042b800d71682fbe2b1": {
          "model_module": "@jupyter-widgets/controls",
          "model_module_version": "1.5.0",
          "model_name": "HBoxModel",
          "state": {
            "_dom_classes": [],
            "_model_module": "@jupyter-widgets/controls",
            "_model_module_version": "1.5.0",
            "_model_name": "HBoxModel",
            "_view_count": null,
            "_view_module": "@jupyter-widgets/controls",
            "_view_module_version": "1.5.0",
            "_view_name": "HBoxView",
            "box_style": "",
            "children": [
              "IPY_MODEL_4d842d182752452dace75954ee7c4eca",
              "IPY_MODEL_5c5fa158d857478b8b8b965bca2c3199",
              "IPY_MODEL_10899818977f46da80ca8b57230c6301"
            ],
            "layout": "IPY_MODEL_7dd5440edd4f4dfabf47f2ec6b48af48"
          }
        },
        "71989c0442d84c8dbc0489bc88a795db": {
          "model_module": "@jupyter-widgets/controls",
          "model_module_version": "1.5.0",
          "model_name": "ProgressStyleModel",
          "state": {
            "_model_module": "@jupyter-widgets/controls",
            "_model_module_version": "1.5.0",
            "_model_name": "ProgressStyleModel",
            "_view_count": null,
            "_view_module": "@jupyter-widgets/base",
            "_view_module_version": "1.2.0",
            "_view_name": "StyleView",
            "bar_color": null,
            "description_width": ""
          }
        },
        "7435929b37024667b7f0203c781ad88c": {
          "model_module": "@jupyter-widgets/controls",
          "model_module_version": "1.5.0",
          "model_name": "ProgressStyleModel",
          "state": {
            "_model_module": "@jupyter-widgets/controls",
            "_model_module_version": "1.5.0",
            "_model_name": "ProgressStyleModel",
            "_view_count": null,
            "_view_module": "@jupyter-widgets/base",
            "_view_module_version": "1.2.0",
            "_view_name": "StyleView",
            "bar_color": null,
            "description_width": ""
          }
        },
        "750e08dad7b141d2932c0bc494ac3024": {
          "model_module": "@jupyter-widgets/base",
          "model_module_version": "1.2.0",
          "model_name": "LayoutModel",
          "state": {
            "_model_module": "@jupyter-widgets/base",
            "_model_module_version": "1.2.0",
            "_model_name": "LayoutModel",
            "_view_count": null,
            "_view_module": "@jupyter-widgets/base",
            "_view_module_version": "1.2.0",
            "_view_name": "LayoutView",
            "align_content": null,
            "align_items": null,
            "align_self": null,
            "border": null,
            "bottom": null,
            "display": null,
            "flex": null,
            "flex_flow": null,
            "grid_area": null,
            "grid_auto_columns": null,
            "grid_auto_flow": null,
            "grid_auto_rows": null,
            "grid_column": null,
            "grid_gap": null,
            "grid_row": null,
            "grid_template_areas": null,
            "grid_template_columns": null,
            "grid_template_rows": null,
            "height": null,
            "justify_content": null,
            "justify_items": null,
            "left": null,
            "margin": null,
            "max_height": null,
            "max_width": null,
            "min_height": null,
            "min_width": null,
            "object_fit": null,
            "object_position": null,
            "order": null,
            "overflow": null,
            "overflow_x": null,
            "overflow_y": null,
            "padding": null,
            "right": null,
            "top": null,
            "visibility": null,
            "width": null
          }
        },
        "7559a0e1771d4b39a90d4aae9b45dba2": {
          "model_module": "@jupyter-widgets/controls",
          "model_module_version": "1.5.0",
          "model_name": "DescriptionStyleModel",
          "state": {
            "_model_module": "@jupyter-widgets/controls",
            "_model_module_version": "1.5.0",
            "_model_name": "DescriptionStyleModel",
            "_view_count": null,
            "_view_module": "@jupyter-widgets/base",
            "_view_module_version": "1.2.0",
            "_view_name": "StyleView",
            "description_width": ""
          }
        },
        "7648059898894a49a8da5f29fc29c2da": {
          "model_module": "@jupyter-widgets/controls",
          "model_module_version": "1.5.0",
          "model_name": "HBoxModel",
          "state": {
            "_dom_classes": [],
            "_model_module": "@jupyter-widgets/controls",
            "_model_module_version": "1.5.0",
            "_model_name": "HBoxModel",
            "_view_count": null,
            "_view_module": "@jupyter-widgets/controls",
            "_view_module_version": "1.5.0",
            "_view_name": "HBoxView",
            "box_style": "",
            "children": [
              "IPY_MODEL_8aac8b004b134b1e8797577d13e191e7",
              "IPY_MODEL_38d059f0036246cca23c08572c26629b",
              "IPY_MODEL_bee0437c3b1a4a299a2f535cd2536dff"
            ],
            "layout": "IPY_MODEL_ab4931a601554ee496ae619428f678f0"
          }
        },
        "77d7797bcf7f4cf7b688db91b8e20cd0": {
          "model_module": "@jupyter-widgets/base",
          "model_module_version": "1.2.0",
          "model_name": "LayoutModel",
          "state": {
            "_model_module": "@jupyter-widgets/base",
            "_model_module_version": "1.2.0",
            "_model_name": "LayoutModel",
            "_view_count": null,
            "_view_module": "@jupyter-widgets/base",
            "_view_module_version": "1.2.0",
            "_view_name": "LayoutView",
            "align_content": null,
            "align_items": null,
            "align_self": null,
            "border": null,
            "bottom": null,
            "display": null,
            "flex": null,
            "flex_flow": null,
            "grid_area": null,
            "grid_auto_columns": null,
            "grid_auto_flow": null,
            "grid_auto_rows": null,
            "grid_column": null,
            "grid_gap": null,
            "grid_row": null,
            "grid_template_areas": null,
            "grid_template_columns": null,
            "grid_template_rows": null,
            "height": null,
            "justify_content": null,
            "justify_items": null,
            "left": null,
            "margin": null,
            "max_height": null,
            "max_width": null,
            "min_height": null,
            "min_width": null,
            "object_fit": null,
            "object_position": null,
            "order": null,
            "overflow": null,
            "overflow_x": null,
            "overflow_y": null,
            "padding": null,
            "right": null,
            "top": null,
            "visibility": null,
            "width": null
          }
        },
        "7dd5440edd4f4dfabf47f2ec6b48af48": {
          "model_module": "@jupyter-widgets/base",
          "model_module_version": "1.2.0",
          "model_name": "LayoutModel",
          "state": {
            "_model_module": "@jupyter-widgets/base",
            "_model_module_version": "1.2.0",
            "_model_name": "LayoutModel",
            "_view_count": null,
            "_view_module": "@jupyter-widgets/base",
            "_view_module_version": "1.2.0",
            "_view_name": "LayoutView",
            "align_content": null,
            "align_items": null,
            "align_self": null,
            "border": null,
            "bottom": null,
            "display": null,
            "flex": null,
            "flex_flow": null,
            "grid_area": null,
            "grid_auto_columns": null,
            "grid_auto_flow": null,
            "grid_auto_rows": null,
            "grid_column": null,
            "grid_gap": null,
            "grid_row": null,
            "grid_template_areas": null,
            "grid_template_columns": null,
            "grid_template_rows": null,
            "height": null,
            "justify_content": null,
            "justify_items": null,
            "left": null,
            "margin": null,
            "max_height": null,
            "max_width": null,
            "min_height": null,
            "min_width": null,
            "object_fit": null,
            "object_position": null,
            "order": null,
            "overflow": null,
            "overflow_x": null,
            "overflow_y": null,
            "padding": null,
            "right": null,
            "top": null,
            "visibility": null,
            "width": null
          }
        },
        "7f91c60d3dfa43baae6e3365973ce017": {
          "model_module": "@jupyter-widgets/base",
          "model_module_version": "1.2.0",
          "model_name": "LayoutModel",
          "state": {
            "_model_module": "@jupyter-widgets/base",
            "_model_module_version": "1.2.0",
            "_model_name": "LayoutModel",
            "_view_count": null,
            "_view_module": "@jupyter-widgets/base",
            "_view_module_version": "1.2.0",
            "_view_name": "LayoutView",
            "align_content": null,
            "align_items": null,
            "align_self": null,
            "border": null,
            "bottom": null,
            "display": null,
            "flex": null,
            "flex_flow": null,
            "grid_area": null,
            "grid_auto_columns": null,
            "grid_auto_flow": null,
            "grid_auto_rows": null,
            "grid_column": null,
            "grid_gap": null,
            "grid_row": null,
            "grid_template_areas": null,
            "grid_template_columns": null,
            "grid_template_rows": null,
            "height": null,
            "justify_content": null,
            "justify_items": null,
            "left": null,
            "margin": null,
            "max_height": null,
            "max_width": null,
            "min_height": null,
            "min_width": null,
            "object_fit": null,
            "object_position": null,
            "order": null,
            "overflow": null,
            "overflow_x": null,
            "overflow_y": null,
            "padding": null,
            "right": null,
            "top": null,
            "visibility": null,
            "width": null
          }
        },
        "8155584754b34176b9e7f8cd1a203c54": {
          "model_module": "@jupyter-widgets/base",
          "model_module_version": "1.2.0",
          "model_name": "LayoutModel",
          "state": {
            "_model_module": "@jupyter-widgets/base",
            "_model_module_version": "1.2.0",
            "_model_name": "LayoutModel",
            "_view_count": null,
            "_view_module": "@jupyter-widgets/base",
            "_view_module_version": "1.2.0",
            "_view_name": "LayoutView",
            "align_content": null,
            "align_items": null,
            "align_self": null,
            "border": null,
            "bottom": null,
            "display": null,
            "flex": null,
            "flex_flow": null,
            "grid_area": null,
            "grid_auto_columns": null,
            "grid_auto_flow": null,
            "grid_auto_rows": null,
            "grid_column": null,
            "grid_gap": null,
            "grid_row": null,
            "grid_template_areas": null,
            "grid_template_columns": null,
            "grid_template_rows": null,
            "height": null,
            "justify_content": null,
            "justify_items": null,
            "left": null,
            "margin": null,
            "max_height": null,
            "max_width": null,
            "min_height": null,
            "min_width": null,
            "object_fit": null,
            "object_position": null,
            "order": null,
            "overflow": null,
            "overflow_x": null,
            "overflow_y": null,
            "padding": null,
            "right": null,
            "top": null,
            "visibility": null,
            "width": null
          }
        },
        "8216762f9dca401599a11ec2f226d31f": {
          "model_module": "@jupyter-widgets/base",
          "model_module_version": "1.2.0",
          "model_name": "LayoutModel",
          "state": {
            "_model_module": "@jupyter-widgets/base",
            "_model_module_version": "1.2.0",
            "_model_name": "LayoutModel",
            "_view_count": null,
            "_view_module": "@jupyter-widgets/base",
            "_view_module_version": "1.2.0",
            "_view_name": "LayoutView",
            "align_content": null,
            "align_items": null,
            "align_self": null,
            "border": null,
            "bottom": null,
            "display": null,
            "flex": null,
            "flex_flow": null,
            "grid_area": null,
            "grid_auto_columns": null,
            "grid_auto_flow": null,
            "grid_auto_rows": null,
            "grid_column": null,
            "grid_gap": null,
            "grid_row": null,
            "grid_template_areas": null,
            "grid_template_columns": null,
            "grid_template_rows": null,
            "height": null,
            "justify_content": null,
            "justify_items": null,
            "left": null,
            "margin": null,
            "max_height": null,
            "max_width": null,
            "min_height": null,
            "min_width": null,
            "object_fit": null,
            "object_position": null,
            "order": null,
            "overflow": null,
            "overflow_x": null,
            "overflow_y": null,
            "padding": null,
            "right": null,
            "top": null,
            "visibility": null,
            "width": null
          }
        },
        "836706ebe02544f4bea755b3035b2f00": {
          "model_module": "@jupyter-widgets/controls",
          "model_module_version": "1.5.0",
          "model_name": "FloatProgressModel",
          "state": {
            "_dom_classes": [],
            "_model_module": "@jupyter-widgets/controls",
            "_model_module_version": "1.5.0",
            "_model_name": "FloatProgressModel",
            "_view_count": null,
            "_view_module": "@jupyter-widgets/controls",
            "_view_module_version": "1.5.0",
            "_view_name": "ProgressView",
            "bar_style": "success",
            "description": "",
            "description_tooltip": null,
            "layout": "IPY_MODEL_ebb9b9d61556458083111f7cba084e8b",
            "max": 435797,
            "min": 0,
            "orientation": "horizontal",
            "style": "IPY_MODEL_71989c0442d84c8dbc0489bc88a795db",
            "value": 435797
          }
        },
        "83fdc8feb8fb47c5abcb129161d05531": {
          "model_module": "@jupyter-widgets/controls",
          "model_module_version": "1.5.0",
          "model_name": "HTMLModel",
          "state": {
            "_dom_classes": [],
            "_model_module": "@jupyter-widgets/controls",
            "_model_module_version": "1.5.0",
            "_model_name": "HTMLModel",
            "_view_count": null,
            "_view_module": "@jupyter-widgets/controls",
            "_view_module_version": "1.5.0",
            "_view_name": "HTMLView",
            "description": "",
            "description_tooltip": null,
            "layout": "IPY_MODEL_77d7797bcf7f4cf7b688db91b8e20cd0",
            "placeholder": "​",
            "style": "IPY_MODEL_973e2adfc3094e59a724e2d3bb4d1526",
            "value": "tokenizer_config.json: 100%"
          }
        },
        "84eaaac4f1f5460da6d7427823211a4c": {
          "model_module": "@jupyter-widgets/controls",
          "model_module_version": "1.5.0",
          "model_name": "HTMLModel",
          "state": {
            "_dom_classes": [],
            "_model_module": "@jupyter-widgets/controls",
            "_model_module_version": "1.5.0",
            "_model_name": "HTMLModel",
            "_view_count": null,
            "_view_module": "@jupyter-widgets/controls",
            "_view_module_version": "1.5.0",
            "_view_name": "HTMLView",
            "description": "",
            "description_tooltip": null,
            "layout": "IPY_MODEL_df47010214774573bd7b073b88c5de7c",
            "placeholder": "​",
            "style": "IPY_MODEL_e85dd089c3594809996a587361a5df9b",
            "value": "tokenizer.json: 100%"
          }
        },
        "8531b3ea6c4047c98acef56209a9005a": {
          "model_module": "@jupyter-widgets/controls",
          "model_module_version": "1.5.0",
          "model_name": "HBoxModel",
          "state": {
            "_dom_classes": [],
            "_model_module": "@jupyter-widgets/controls",
            "_model_module_version": "1.5.0",
            "_model_name": "HBoxModel",
            "_view_count": null,
            "_view_module": "@jupyter-widgets/controls",
            "_view_module_version": "1.5.0",
            "_view_name": "HBoxView",
            "box_style": "",
            "children": [
              "IPY_MODEL_22c345d1b9a14ba4bfe0973ebc8065a4",
              "IPY_MODEL_a84d87ce103f4387bb3e00ce5fdb884b",
              "IPY_MODEL_937baac4d5c948f8b8a913cd0c6e90f4"
            ],
            "layout": "IPY_MODEL_332fb0cac69d45c8ac2d74ba0db06fce"
          }
        },
        "858ee4b3c5e64a0fbf0e9165442e7a10": {
          "model_module": "@jupyter-widgets/controls",
          "model_module_version": "1.5.0",
          "model_name": "HTMLModel",
          "state": {
            "_dom_classes": [],
            "_model_module": "@jupyter-widgets/controls",
            "_model_module_version": "1.5.0",
            "_model_name": "HTMLModel",
            "_view_count": null,
            "_view_module": "@jupyter-widgets/controls",
            "_view_module_version": "1.5.0",
            "_view_name": "HTMLView",
            "description": "",
            "description_tooltip": null,
            "layout": "IPY_MODEL_566f9f28a7214c0c9bd6884f878e2274",
            "placeholder": "​",
            "style": "IPY_MODEL_ff96b7e3da374bbb9d53b4a668d5c6f8",
            "value": " 29.0/29.0 [00:00&lt;00:00, 1.92kB/s]"
          }
        },
        "88ba9b043c58468d80fbecb53fcfc390": {
          "model_module": "@jupyter-widgets/controls",
          "model_module_version": "1.5.0",
          "model_name": "FloatProgressModel",
          "state": {
            "_dom_classes": [],
            "_model_module": "@jupyter-widgets/controls",
            "_model_module_version": "1.5.0",
            "_model_name": "FloatProgressModel",
            "_view_count": null,
            "_view_module": "@jupyter-widgets/controls",
            "_view_module_version": "1.5.0",
            "_view_name": "ProgressView",
            "bar_style": "success",
            "description": "",
            "description_tooltip": null,
            "layout": "IPY_MODEL_aabc4c35de064d4ba1d57bbc21894937",
            "max": 570,
            "min": 0,
            "orientation": "horizontal",
            "style": "IPY_MODEL_12ef92b38aa9443a988f7e619eb51e21",
            "value": 570
          }
        },
        "8a078605f0a343e091aa6775ecd2133d": {
          "model_module": "@jupyter-widgets/controls",
          "model_module_version": "1.5.0",
          "model_name": "HTMLModel",
          "state": {
            "_dom_classes": [],
            "_model_module": "@jupyter-widgets/controls",
            "_model_module_version": "1.5.0",
            "_model_name": "HTMLModel",
            "_view_count": null,
            "_view_module": "@jupyter-widgets/controls",
            "_view_module_version": "1.5.0",
            "_view_name": "HTMLView",
            "description": "",
            "description_tooltip": null,
            "layout": "IPY_MODEL_ab04516190bd4ea5bd9f43f7f2f62d0d",
            "placeholder": "​",
            "style": "IPY_MODEL_1b1d374648934a36a7025f23575471e1",
            "value": "config.json: 100%"
          }
        },
        "8aac8b004b134b1e8797577d13e191e7": {
          "model_module": "@jupyter-widgets/controls",
          "model_module_version": "1.5.0",
          "model_name": "HTMLModel",
          "state": {
            "_dom_classes": [],
            "_model_module": "@jupyter-widgets/controls",
            "_model_module_version": "1.5.0",
            "_model_name": "HTMLModel",
            "_view_count": null,
            "_view_module": "@jupyter-widgets/controls",
            "_view_module_version": "1.5.0",
            "_view_name": "HTMLView",
            "description": "",
            "description_tooltip": null,
            "layout": "IPY_MODEL_9963370e1e474a72b553587cc51bdf10",
            "placeholder": "​",
            "style": "IPY_MODEL_2ab116434a554fed86640cc2b0c1bf57",
            "value": "model.safetensors: 100%"
          }
        },
        "8c8b3288d2f6461e9a0b99dbdfe3064c": {
          "model_module": "@jupyter-widgets/controls",
          "model_module_version": "1.5.0",
          "model_name": "DescriptionStyleModel",
          "state": {
            "_model_module": "@jupyter-widgets/controls",
            "_model_module_version": "1.5.0",
            "_model_name": "DescriptionStyleModel",
            "_view_count": null,
            "_view_module": "@jupyter-widgets/base",
            "_view_module_version": "1.2.0",
            "_view_name": "StyleView",
            "description_width": ""
          }
        },
        "92c81d0885984069bfa67511b0f0d578": {
          "model_module": "@jupyter-widgets/controls",
          "model_module_version": "1.5.0",
          "model_name": "HBoxModel",
          "state": {
            "_dom_classes": [],
            "_model_module": "@jupyter-widgets/controls",
            "_model_module_version": "1.5.0",
            "_model_name": "HBoxModel",
            "_view_count": null,
            "_view_module": "@jupyter-widgets/controls",
            "_view_module_version": "1.5.0",
            "_view_name": "HBoxView",
            "box_style": "",
            "children": [
              "IPY_MODEL_4b927922c3c448fb99b03f5ce06202a0",
              "IPY_MODEL_54f46e477348492db14e8b8710838919",
              "IPY_MODEL_08d862f2641b43659c84e86973b490cb"
            ],
            "layout": "IPY_MODEL_aebedc922b7148359a99f49c31d36be4"
          }
        },
        "937baac4d5c948f8b8a913cd0c6e90f4": {
          "model_module": "@jupyter-widgets/controls",
          "model_module_version": "1.5.0",
          "model_name": "HTMLModel",
          "state": {
            "_dom_classes": [],
            "_model_module": "@jupyter-widgets/controls",
            "_model_module_version": "1.5.0",
            "_model_name": "HTMLModel",
            "_view_count": null,
            "_view_module": "@jupyter-widgets/controls",
            "_view_module_version": "1.5.0",
            "_view_name": "HTMLView",
            "description": "",
            "description_tooltip": null,
            "layout": "IPY_MODEL_8155584754b34176b9e7f8cd1a203c54",
            "placeholder": "​",
            "style": "IPY_MODEL_3bd787903f5e4bddaecece9654b5554b",
            "value": " 213k/213k [00:00&lt;00:00, 433kB/s]"
          }
        },
        "94ca04088a5145d9a3ed450674a335d4": {
          "model_module": "@jupyter-widgets/controls",
          "model_module_version": "1.5.0",
          "model_name": "HTMLModel",
          "state": {
            "_dom_classes": [],
            "_model_module": "@jupyter-widgets/controls",
            "_model_module_version": "1.5.0",
            "_model_name": "HTMLModel",
            "_view_count": null,
            "_view_module": "@jupyter-widgets/controls",
            "_view_module_version": "1.5.0",
            "_view_name": "HTMLView",
            "description": "",
            "description_tooltip": null,
            "layout": "IPY_MODEL_3372489f73cf46c4ac673c78ee6b6088",
            "placeholder": "​",
            "style": "IPY_MODEL_5f7198c57da84046a1e89bccffd66847",
            "value": "config.json: 100%"
          }
        },
        "973e2adfc3094e59a724e2d3bb4d1526": {
          "model_module": "@jupyter-widgets/controls",
          "model_module_version": "1.5.0",
          "model_name": "DescriptionStyleModel",
          "state": {
            "_model_module": "@jupyter-widgets/controls",
            "_model_module_version": "1.5.0",
            "_model_name": "DescriptionStyleModel",
            "_view_count": null,
            "_view_module": "@jupyter-widgets/base",
            "_view_module_version": "1.2.0",
            "_view_name": "StyleView",
            "description_width": ""
          }
        },
        "975da98a1089472abc2d6b97d5b9b99b": {
          "model_module": "@jupyter-widgets/controls",
          "model_module_version": "1.5.0",
          "model_name": "DescriptionStyleModel",
          "state": {
            "_model_module": "@jupyter-widgets/controls",
            "_model_module_version": "1.5.0",
            "_model_name": "DescriptionStyleModel",
            "_view_count": null,
            "_view_module": "@jupyter-widgets/base",
            "_view_module_version": "1.2.0",
            "_view_name": "StyleView",
            "description_width": ""
          }
        },
        "97fe94924cc0433e9afa3ee03e9fda20": {
          "model_module": "@jupyter-widgets/base",
          "model_module_version": "1.2.0",
          "model_name": "LayoutModel",
          "state": {
            "_model_module": "@jupyter-widgets/base",
            "_model_module_version": "1.2.0",
            "_model_name": "LayoutModel",
            "_view_count": null,
            "_view_module": "@jupyter-widgets/base",
            "_view_module_version": "1.2.0",
            "_view_name": "LayoutView",
            "align_content": null,
            "align_items": null,
            "align_self": null,
            "border": null,
            "bottom": null,
            "display": null,
            "flex": null,
            "flex_flow": null,
            "grid_area": null,
            "grid_auto_columns": null,
            "grid_auto_flow": null,
            "grid_auto_rows": null,
            "grid_column": null,
            "grid_gap": null,
            "grid_row": null,
            "grid_template_areas": null,
            "grid_template_columns": null,
            "grid_template_rows": null,
            "height": null,
            "justify_content": null,
            "justify_items": null,
            "left": null,
            "margin": null,
            "max_height": null,
            "max_width": null,
            "min_height": null,
            "min_width": null,
            "object_fit": null,
            "object_position": null,
            "order": null,
            "overflow": null,
            "overflow_x": null,
            "overflow_y": null,
            "padding": null,
            "right": null,
            "top": null,
            "visibility": null,
            "width": null
          }
        },
        "9963370e1e474a72b553587cc51bdf10": {
          "model_module": "@jupyter-widgets/base",
          "model_module_version": "1.2.0",
          "model_name": "LayoutModel",
          "state": {
            "_model_module": "@jupyter-widgets/base",
            "_model_module_version": "1.2.0",
            "_model_name": "LayoutModel",
            "_view_count": null,
            "_view_module": "@jupyter-widgets/base",
            "_view_module_version": "1.2.0",
            "_view_name": "LayoutView",
            "align_content": null,
            "align_items": null,
            "align_self": null,
            "border": null,
            "bottom": null,
            "display": null,
            "flex": null,
            "flex_flow": null,
            "grid_area": null,
            "grid_auto_columns": null,
            "grid_auto_flow": null,
            "grid_auto_rows": null,
            "grid_column": null,
            "grid_gap": null,
            "grid_row": null,
            "grid_template_areas": null,
            "grid_template_columns": null,
            "grid_template_rows": null,
            "height": null,
            "justify_content": null,
            "justify_items": null,
            "left": null,
            "margin": null,
            "max_height": null,
            "max_width": null,
            "min_height": null,
            "min_width": null,
            "object_fit": null,
            "object_position": null,
            "order": null,
            "overflow": null,
            "overflow_x": null,
            "overflow_y": null,
            "padding": null,
            "right": null,
            "top": null,
            "visibility": null,
            "width": null
          }
        },
        "99c0fddcc38d4c1094ce73630b96cd09": {
          "model_module": "@jupyter-widgets/base",
          "model_module_version": "1.2.0",
          "model_name": "LayoutModel",
          "state": {
            "_model_module": "@jupyter-widgets/base",
            "_model_module_version": "1.2.0",
            "_model_name": "LayoutModel",
            "_view_count": null,
            "_view_module": "@jupyter-widgets/base",
            "_view_module_version": "1.2.0",
            "_view_name": "LayoutView",
            "align_content": null,
            "align_items": null,
            "align_self": null,
            "border": null,
            "bottom": null,
            "display": null,
            "flex": null,
            "flex_flow": null,
            "grid_area": null,
            "grid_auto_columns": null,
            "grid_auto_flow": null,
            "grid_auto_rows": null,
            "grid_column": null,
            "grid_gap": null,
            "grid_row": null,
            "grid_template_areas": null,
            "grid_template_columns": null,
            "grid_template_rows": null,
            "height": null,
            "justify_content": null,
            "justify_items": null,
            "left": null,
            "margin": null,
            "max_height": null,
            "max_width": null,
            "min_height": null,
            "min_width": null,
            "object_fit": null,
            "object_position": null,
            "order": null,
            "overflow": null,
            "overflow_x": null,
            "overflow_y": null,
            "padding": null,
            "right": null,
            "top": null,
            "visibility": null,
            "width": null
          }
        },
        "99f4dc1464ca4f918ec9146c0ae5f73e": {
          "model_module": "@jupyter-widgets/base",
          "model_module_version": "1.2.0",
          "model_name": "LayoutModel",
          "state": {
            "_model_module": "@jupyter-widgets/base",
            "_model_module_version": "1.2.0",
            "_model_name": "LayoutModel",
            "_view_count": null,
            "_view_module": "@jupyter-widgets/base",
            "_view_module_version": "1.2.0",
            "_view_name": "LayoutView",
            "align_content": null,
            "align_items": null,
            "align_self": null,
            "border": null,
            "bottom": null,
            "display": null,
            "flex": null,
            "flex_flow": null,
            "grid_area": null,
            "grid_auto_columns": null,
            "grid_auto_flow": null,
            "grid_auto_rows": null,
            "grid_column": null,
            "grid_gap": null,
            "grid_row": null,
            "grid_template_areas": null,
            "grid_template_columns": null,
            "grid_template_rows": null,
            "height": null,
            "justify_content": null,
            "justify_items": null,
            "left": null,
            "margin": null,
            "max_height": null,
            "max_width": null,
            "min_height": null,
            "min_width": null,
            "object_fit": null,
            "object_position": null,
            "order": null,
            "overflow": null,
            "overflow_x": null,
            "overflow_y": null,
            "padding": null,
            "right": null,
            "top": null,
            "visibility": null,
            "width": null
          }
        },
        "9b8d5d4d24f646f5ac2443de836b3983": {
          "model_module": "@jupyter-widgets/controls",
          "model_module_version": "1.5.0",
          "model_name": "ProgressStyleModel",
          "state": {
            "_model_module": "@jupyter-widgets/controls",
            "_model_module_version": "1.5.0",
            "_model_name": "ProgressStyleModel",
            "_view_count": null,
            "_view_module": "@jupyter-widgets/base",
            "_view_module_version": "1.2.0",
            "_view_name": "StyleView",
            "bar_color": null,
            "description_width": ""
          }
        },
        "9db8679f13734726a68eb14ce76eecce": {
          "model_module": "@jupyter-widgets/controls",
          "model_module_version": "1.5.0",
          "model_name": "HTMLModel",
          "state": {
            "_dom_classes": [],
            "_model_module": "@jupyter-widgets/controls",
            "_model_module_version": "1.5.0",
            "_model_name": "HTMLModel",
            "_view_count": null,
            "_view_module": "@jupyter-widgets/controls",
            "_view_module_version": "1.5.0",
            "_view_name": "HTMLView",
            "description": "",
            "description_tooltip": null,
            "layout": "IPY_MODEL_c464f478751d495c88218ba3835667f4",
            "placeholder": "​",
            "style": "IPY_MODEL_fd408d2df03740e4bf8791484cf12209",
            "value": " 570/570 [00:00&lt;00:00, 44.6kB/s]"
          }
        },
        "a3c0c2e85c9a41e682562b64fdb57ece": {
          "model_module": "@jupyter-widgets/controls",
          "model_module_version": "1.5.0",
          "model_name": "ProgressStyleModel",
          "state": {
            "_model_module": "@jupyter-widgets/controls",
            "_model_module_version": "1.5.0",
            "_model_name": "ProgressStyleModel",
            "_view_count": null,
            "_view_module": "@jupyter-widgets/base",
            "_view_module_version": "1.2.0",
            "_view_name": "StyleView",
            "bar_color": null,
            "description_width": ""
          }
        },
        "a4e07aa551814e95a7dc455a6a2bda69": {
          "model_module": "@jupyter-widgets/base",
          "model_module_version": "1.2.0",
          "model_name": "LayoutModel",
          "state": {
            "_model_module": "@jupyter-widgets/base",
            "_model_module_version": "1.2.0",
            "_model_name": "LayoutModel",
            "_view_count": null,
            "_view_module": "@jupyter-widgets/base",
            "_view_module_version": "1.2.0",
            "_view_name": "LayoutView",
            "align_content": null,
            "align_items": null,
            "align_self": null,
            "border": null,
            "bottom": null,
            "display": null,
            "flex": null,
            "flex_flow": null,
            "grid_area": null,
            "grid_auto_columns": null,
            "grid_auto_flow": null,
            "grid_auto_rows": null,
            "grid_column": null,
            "grid_gap": null,
            "grid_row": null,
            "grid_template_areas": null,
            "grid_template_columns": null,
            "grid_template_rows": null,
            "height": null,
            "justify_content": null,
            "justify_items": null,
            "left": null,
            "margin": null,
            "max_height": null,
            "max_width": null,
            "min_height": null,
            "min_width": null,
            "object_fit": null,
            "object_position": null,
            "order": null,
            "overflow": null,
            "overflow_x": null,
            "overflow_y": null,
            "padding": null,
            "right": null,
            "top": null,
            "visibility": null,
            "width": null
          }
        },
        "a84d87ce103f4387bb3e00ce5fdb884b": {
          "model_module": "@jupyter-widgets/controls",
          "model_module_version": "1.5.0",
          "model_name": "FloatProgressModel",
          "state": {
            "_dom_classes": [],
            "_model_module": "@jupyter-widgets/controls",
            "_model_module_version": "1.5.0",
            "_model_name": "FloatProgressModel",
            "_view_count": null,
            "_view_module": "@jupyter-widgets/controls",
            "_view_module_version": "1.5.0",
            "_view_name": "ProgressView",
            "bar_style": "success",
            "description": "",
            "description_tooltip": null,
            "layout": "IPY_MODEL_1af4051f86df4799b54ce75cfdb4f8a4",
            "max": 213450,
            "min": 0,
            "orientation": "horizontal",
            "style": "IPY_MODEL_06a071fc63094bf4a2dce4492f520f42",
            "value": 213450
          }
        },
        "aa26e39f3e7a44a7a5f4d38479226101": {
          "model_module": "@jupyter-widgets/base",
          "model_module_version": "1.2.0",
          "model_name": "LayoutModel",
          "state": {
            "_model_module": "@jupyter-widgets/base",
            "_model_module_version": "1.2.0",
            "_model_name": "LayoutModel",
            "_view_count": null,
            "_view_module": "@jupyter-widgets/base",
            "_view_module_version": "1.2.0",
            "_view_name": "LayoutView",
            "align_content": null,
            "align_items": null,
            "align_self": null,
            "border": null,
            "bottom": null,
            "display": null,
            "flex": null,
            "flex_flow": null,
            "grid_area": null,
            "grid_auto_columns": null,
            "grid_auto_flow": null,
            "grid_auto_rows": null,
            "grid_column": null,
            "grid_gap": null,
            "grid_row": null,
            "grid_template_areas": null,
            "grid_template_columns": null,
            "grid_template_rows": null,
            "height": null,
            "justify_content": null,
            "justify_items": null,
            "left": null,
            "margin": null,
            "max_height": null,
            "max_width": null,
            "min_height": null,
            "min_width": null,
            "object_fit": null,
            "object_position": null,
            "order": null,
            "overflow": null,
            "overflow_x": null,
            "overflow_y": null,
            "padding": null,
            "right": null,
            "top": null,
            "visibility": null,
            "width": null
          }
        },
        "aabc4c35de064d4ba1d57bbc21894937": {
          "model_module": "@jupyter-widgets/base",
          "model_module_version": "1.2.0",
          "model_name": "LayoutModel",
          "state": {
            "_model_module": "@jupyter-widgets/base",
            "_model_module_version": "1.2.0",
            "_model_name": "LayoutModel",
            "_view_count": null,
            "_view_module": "@jupyter-widgets/base",
            "_view_module_version": "1.2.0",
            "_view_name": "LayoutView",
            "align_content": null,
            "align_items": null,
            "align_self": null,
            "border": null,
            "bottom": null,
            "display": null,
            "flex": null,
            "flex_flow": null,
            "grid_area": null,
            "grid_auto_columns": null,
            "grid_auto_flow": null,
            "grid_auto_rows": null,
            "grid_column": null,
            "grid_gap": null,
            "grid_row": null,
            "grid_template_areas": null,
            "grid_template_columns": null,
            "grid_template_rows": null,
            "height": null,
            "justify_content": null,
            "justify_items": null,
            "left": null,
            "margin": null,
            "max_height": null,
            "max_width": null,
            "min_height": null,
            "min_width": null,
            "object_fit": null,
            "object_position": null,
            "order": null,
            "overflow": null,
            "overflow_x": null,
            "overflow_y": null,
            "padding": null,
            "right": null,
            "top": null,
            "visibility": null,
            "width": null
          }
        },
        "ab04516190bd4ea5bd9f43f7f2f62d0d": {
          "model_module": "@jupyter-widgets/base",
          "model_module_version": "1.2.0",
          "model_name": "LayoutModel",
          "state": {
            "_model_module": "@jupyter-widgets/base",
            "_model_module_version": "1.2.0",
            "_model_name": "LayoutModel",
            "_view_count": null,
            "_view_module": "@jupyter-widgets/base",
            "_view_module_version": "1.2.0",
            "_view_name": "LayoutView",
            "align_content": null,
            "align_items": null,
            "align_self": null,
            "border": null,
            "bottom": null,
            "display": null,
            "flex": null,
            "flex_flow": null,
            "grid_area": null,
            "grid_auto_columns": null,
            "grid_auto_flow": null,
            "grid_auto_rows": null,
            "grid_column": null,
            "grid_gap": null,
            "grid_row": null,
            "grid_template_areas": null,
            "grid_template_columns": null,
            "grid_template_rows": null,
            "height": null,
            "justify_content": null,
            "justify_items": null,
            "left": null,
            "margin": null,
            "max_height": null,
            "max_width": null,
            "min_height": null,
            "min_width": null,
            "object_fit": null,
            "object_position": null,
            "order": null,
            "overflow": null,
            "overflow_x": null,
            "overflow_y": null,
            "padding": null,
            "right": null,
            "top": null,
            "visibility": null,
            "width": null
          }
        },
        "ab4931a601554ee496ae619428f678f0": {
          "model_module": "@jupyter-widgets/base",
          "model_module_version": "1.2.0",
          "model_name": "LayoutModel",
          "state": {
            "_model_module": "@jupyter-widgets/base",
            "_model_module_version": "1.2.0",
            "_model_name": "LayoutModel",
            "_view_count": null,
            "_view_module": "@jupyter-widgets/base",
            "_view_module_version": "1.2.0",
            "_view_name": "LayoutView",
            "align_content": null,
            "align_items": null,
            "align_self": null,
            "border": null,
            "bottom": null,
            "display": null,
            "flex": null,
            "flex_flow": null,
            "grid_area": null,
            "grid_auto_columns": null,
            "grid_auto_flow": null,
            "grid_auto_rows": null,
            "grid_column": null,
            "grid_gap": null,
            "grid_row": null,
            "grid_template_areas": null,
            "grid_template_columns": null,
            "grid_template_rows": null,
            "height": null,
            "justify_content": null,
            "justify_items": null,
            "left": null,
            "margin": null,
            "max_height": null,
            "max_width": null,
            "min_height": null,
            "min_width": null,
            "object_fit": null,
            "object_position": null,
            "order": null,
            "overflow": null,
            "overflow_x": null,
            "overflow_y": null,
            "padding": null,
            "right": null,
            "top": null,
            "visibility": null,
            "width": null
          }
        },
        "ad9233abe4e84a53880cc7be82f65f84": {
          "model_module": "@jupyter-widgets/controls",
          "model_module_version": "1.5.0",
          "model_name": "DescriptionStyleModel",
          "state": {
            "_model_module": "@jupyter-widgets/controls",
            "_model_module_version": "1.5.0",
            "_model_name": "DescriptionStyleModel",
            "_view_count": null,
            "_view_module": "@jupyter-widgets/base",
            "_view_module_version": "1.2.0",
            "_view_name": "StyleView",
            "description_width": ""
          }
        },
        "aebedc922b7148359a99f49c31d36be4": {
          "model_module": "@jupyter-widgets/base",
          "model_module_version": "1.2.0",
          "model_name": "LayoutModel",
          "state": {
            "_model_module": "@jupyter-widgets/base",
            "_model_module_version": "1.2.0",
            "_model_name": "LayoutModel",
            "_view_count": null,
            "_view_module": "@jupyter-widgets/base",
            "_view_module_version": "1.2.0",
            "_view_name": "LayoutView",
            "align_content": null,
            "align_items": null,
            "align_self": null,
            "border": null,
            "bottom": null,
            "display": null,
            "flex": null,
            "flex_flow": null,
            "grid_area": null,
            "grid_auto_columns": null,
            "grid_auto_flow": null,
            "grid_auto_rows": null,
            "grid_column": null,
            "grid_gap": null,
            "grid_row": null,
            "grid_template_areas": null,
            "grid_template_columns": null,
            "grid_template_rows": null,
            "height": null,
            "justify_content": null,
            "justify_items": null,
            "left": null,
            "margin": null,
            "max_height": null,
            "max_width": null,
            "min_height": null,
            "min_width": null,
            "object_fit": null,
            "object_position": null,
            "order": null,
            "overflow": null,
            "overflow_x": null,
            "overflow_y": null,
            "padding": null,
            "right": null,
            "top": null,
            "visibility": null,
            "width": null
          }
        },
        "b0c5a0d17c60452ea3b895ee2058bc58": {
          "model_module": "@jupyter-widgets/base",
          "model_module_version": "1.2.0",
          "model_name": "LayoutModel",
          "state": {
            "_model_module": "@jupyter-widgets/base",
            "_model_module_version": "1.2.0",
            "_model_name": "LayoutModel",
            "_view_count": null,
            "_view_module": "@jupyter-widgets/base",
            "_view_module_version": "1.2.0",
            "_view_name": "LayoutView",
            "align_content": null,
            "align_items": null,
            "align_self": null,
            "border": null,
            "bottom": null,
            "display": null,
            "flex": null,
            "flex_flow": null,
            "grid_area": null,
            "grid_auto_columns": null,
            "grid_auto_flow": null,
            "grid_auto_rows": null,
            "grid_column": null,
            "grid_gap": null,
            "grid_row": null,
            "grid_template_areas": null,
            "grid_template_columns": null,
            "grid_template_rows": null,
            "height": null,
            "justify_content": null,
            "justify_items": null,
            "left": null,
            "margin": null,
            "max_height": null,
            "max_width": null,
            "min_height": null,
            "min_width": null,
            "object_fit": null,
            "object_position": null,
            "order": null,
            "overflow": null,
            "overflow_x": null,
            "overflow_y": null,
            "padding": null,
            "right": null,
            "top": null,
            "visibility": null,
            "width": null
          }
        },
        "b586303c71a347eb9364b6a4578ac8da": {
          "model_module": "@jupyter-widgets/controls",
          "model_module_version": "1.5.0",
          "model_name": "HBoxModel",
          "state": {
            "_dom_classes": [],
            "_model_module": "@jupyter-widgets/controls",
            "_model_module_version": "1.5.0",
            "_model_name": "HBoxModel",
            "_view_count": null,
            "_view_module": "@jupyter-widgets/controls",
            "_view_module_version": "1.5.0",
            "_view_name": "HBoxView",
            "box_style": "",
            "children": [
              "IPY_MODEL_83fdc8feb8fb47c5abcb129161d05531",
              "IPY_MODEL_2924e789584a427690ce6f43d36cd6c4",
              "IPY_MODEL_3a45ff7d052b4c03a618cca572b5eb8a"
            ],
            "layout": "IPY_MODEL_99f4dc1464ca4f918ec9146c0ae5f73e"
          }
        },
        "b820cac9bfa04a4f94cdc6b1d46b53c1": {
          "model_module": "@jupyter-widgets/controls",
          "model_module_version": "1.5.0",
          "model_name": "HTMLModel",
          "state": {
            "_dom_classes": [],
            "_model_module": "@jupyter-widgets/controls",
            "_model_module_version": "1.5.0",
            "_model_name": "HTMLModel",
            "_view_count": null,
            "_view_module": "@jupyter-widgets/controls",
            "_view_module_version": "1.5.0",
            "_view_name": "HTMLView",
            "description": "",
            "description_tooltip": null,
            "layout": "IPY_MODEL_0f38b1916ccd41288eb3507a4bc1ef16",
            "placeholder": "​",
            "style": "IPY_MODEL_7559a0e1771d4b39a90d4aae9b45dba2",
            "value": " 570/570 [00:00&lt;00:00, 33.4kB/s]"
          }
        },
        "b9f3a9724dd245f99cfe310413bada83": {
          "model_module": "@jupyter-widgets/base",
          "model_module_version": "1.2.0",
          "model_name": "LayoutModel",
          "state": {
            "_model_module": "@jupyter-widgets/base",
            "_model_module_version": "1.2.0",
            "_model_name": "LayoutModel",
            "_view_count": null,
            "_view_module": "@jupyter-widgets/base",
            "_view_module_version": "1.2.0",
            "_view_name": "LayoutView",
            "align_content": null,
            "align_items": null,
            "align_self": null,
            "border": null,
            "bottom": null,
            "display": null,
            "flex": null,
            "flex_flow": null,
            "grid_area": null,
            "grid_auto_columns": null,
            "grid_auto_flow": null,
            "grid_auto_rows": null,
            "grid_column": null,
            "grid_gap": null,
            "grid_row": null,
            "grid_template_areas": null,
            "grid_template_columns": null,
            "grid_template_rows": null,
            "height": null,
            "justify_content": null,
            "justify_items": null,
            "left": null,
            "margin": null,
            "max_height": null,
            "max_width": null,
            "min_height": null,
            "min_width": null,
            "object_fit": null,
            "object_position": null,
            "order": null,
            "overflow": null,
            "overflow_x": null,
            "overflow_y": null,
            "padding": null,
            "right": null,
            "top": null,
            "visibility": null,
            "width": null
          }
        },
        "ba263ffdb03f42a0b65eb657610a4bb7": {
          "model_module": "@jupyter-widgets/controls",
          "model_module_version": "1.5.0",
          "model_name": "DescriptionStyleModel",
          "state": {
            "_model_module": "@jupyter-widgets/controls",
            "_model_module_version": "1.5.0",
            "_model_name": "DescriptionStyleModel",
            "_view_count": null,
            "_view_module": "@jupyter-widgets/base",
            "_view_module_version": "1.2.0",
            "_view_name": "StyleView",
            "description_width": ""
          }
        },
        "bee0437c3b1a4a299a2f535cd2536dff": {
          "model_module": "@jupyter-widgets/controls",
          "model_module_version": "1.5.0",
          "model_name": "HTMLModel",
          "state": {
            "_dom_classes": [],
            "_model_module": "@jupyter-widgets/controls",
            "_model_module_version": "1.5.0",
            "_model_name": "HTMLModel",
            "_view_count": null,
            "_view_module": "@jupyter-widgets/controls",
            "_view_module_version": "1.5.0",
            "_view_name": "HTMLView",
            "description": "",
            "description_tooltip": null,
            "layout": "IPY_MODEL_5cb4da7cd2704da38103e37c2f4acb80",
            "placeholder": "​",
            "style": "IPY_MODEL_8c8b3288d2f6461e9a0b99dbdfe3064c",
            "value": " 436M/436M [00:01&lt;00:00, 217MB/s]"
          }
        },
        "c464f478751d495c88218ba3835667f4": {
          "model_module": "@jupyter-widgets/base",
          "model_module_version": "1.2.0",
          "model_name": "LayoutModel",
          "state": {
            "_model_module": "@jupyter-widgets/base",
            "_model_module_version": "1.2.0",
            "_model_name": "LayoutModel",
            "_view_count": null,
            "_view_module": "@jupyter-widgets/base",
            "_view_module_version": "1.2.0",
            "_view_name": "LayoutView",
            "align_content": null,
            "align_items": null,
            "align_self": null,
            "border": null,
            "bottom": null,
            "display": null,
            "flex": null,
            "flex_flow": null,
            "grid_area": null,
            "grid_auto_columns": null,
            "grid_auto_flow": null,
            "grid_auto_rows": null,
            "grid_column": null,
            "grid_gap": null,
            "grid_row": null,
            "grid_template_areas": null,
            "grid_template_columns": null,
            "grid_template_rows": null,
            "height": null,
            "justify_content": null,
            "justify_items": null,
            "left": null,
            "margin": null,
            "max_height": null,
            "max_width": null,
            "min_height": null,
            "min_width": null,
            "object_fit": null,
            "object_position": null,
            "order": null,
            "overflow": null,
            "overflow_x": null,
            "overflow_y": null,
            "padding": null,
            "right": null,
            "top": null,
            "visibility": null,
            "width": null
          }
        },
        "c513bfae98484fd4b72a851864b43140": {
          "model_module": "@jupyter-widgets/base",
          "model_module_version": "1.2.0",
          "model_name": "LayoutModel",
          "state": {
            "_model_module": "@jupyter-widgets/base",
            "_model_module_version": "1.2.0",
            "_model_name": "LayoutModel",
            "_view_count": null,
            "_view_module": "@jupyter-widgets/base",
            "_view_module_version": "1.2.0",
            "_view_name": "LayoutView",
            "align_content": null,
            "align_items": null,
            "align_self": null,
            "border": null,
            "bottom": null,
            "display": null,
            "flex": null,
            "flex_flow": null,
            "grid_area": null,
            "grid_auto_columns": null,
            "grid_auto_flow": null,
            "grid_auto_rows": null,
            "grid_column": null,
            "grid_gap": null,
            "grid_row": null,
            "grid_template_areas": null,
            "grid_template_columns": null,
            "grid_template_rows": null,
            "height": null,
            "justify_content": null,
            "justify_items": null,
            "left": null,
            "margin": null,
            "max_height": null,
            "max_width": null,
            "min_height": null,
            "min_width": null,
            "object_fit": null,
            "object_position": null,
            "order": null,
            "overflow": null,
            "overflow_x": null,
            "overflow_y": null,
            "padding": null,
            "right": null,
            "top": null,
            "visibility": null,
            "width": null
          }
        },
        "c768865b5b3e4ab4a01c8cf150173aa3": {
          "model_module": "@jupyter-widgets/controls",
          "model_module_version": "1.5.0",
          "model_name": "HTMLModel",
          "state": {
            "_dom_classes": [],
            "_model_module": "@jupyter-widgets/controls",
            "_model_module_version": "1.5.0",
            "_model_name": "HTMLModel",
            "_view_count": null,
            "_view_module": "@jupyter-widgets/controls",
            "_view_module_version": "1.5.0",
            "_view_name": "HTMLView",
            "description": "",
            "description_tooltip": null,
            "layout": "IPY_MODEL_c513bfae98484fd4b72a851864b43140",
            "placeholder": "​",
            "style": "IPY_MODEL_65ada603041d40678dc6e91a928c8d72",
            "value": " 436k/436k [00:00&lt;00:00, 1.75MB/s]"
          }
        },
        "ca2dcd2e59ce43759d20fd8db4b2b9f3": {
          "model_module": "@jupyter-widgets/base",
          "model_module_version": "1.2.0",
          "model_name": "LayoutModel",
          "state": {
            "_model_module": "@jupyter-widgets/base",
            "_model_module_version": "1.2.0",
            "_model_name": "LayoutModel",
            "_view_count": null,
            "_view_module": "@jupyter-widgets/base",
            "_view_module_version": "1.2.0",
            "_view_name": "LayoutView",
            "align_content": null,
            "align_items": null,
            "align_self": null,
            "border": null,
            "bottom": null,
            "display": null,
            "flex": null,
            "flex_flow": null,
            "grid_area": null,
            "grid_auto_columns": null,
            "grid_auto_flow": null,
            "grid_auto_rows": null,
            "grid_column": null,
            "grid_gap": null,
            "grid_row": null,
            "grid_template_areas": null,
            "grid_template_columns": null,
            "grid_template_rows": null,
            "height": null,
            "justify_content": null,
            "justify_items": null,
            "left": null,
            "margin": null,
            "max_height": null,
            "max_width": null,
            "min_height": null,
            "min_width": null,
            "object_fit": null,
            "object_position": null,
            "order": null,
            "overflow": null,
            "overflow_x": null,
            "overflow_y": null,
            "padding": null,
            "right": null,
            "top": null,
            "visibility": null,
            "width": null
          }
        },
        "ca3e7d9ba28340d88881d04642fc4c2a": {
          "model_module": "@jupyter-widgets/controls",
          "model_module_version": "1.5.0",
          "model_name": "DescriptionStyleModel",
          "state": {
            "_model_module": "@jupyter-widgets/controls",
            "_model_module_version": "1.5.0",
            "_model_name": "DescriptionStyleModel",
            "_view_count": null,
            "_view_module": "@jupyter-widgets/base",
            "_view_module_version": "1.2.0",
            "_view_name": "StyleView",
            "description_width": ""
          }
        },
        "cbd72bf392324353be7243a23f92d0cc": {
          "model_module": "@jupyter-widgets/controls",
          "model_module_version": "1.5.0",
          "model_name": "HBoxModel",
          "state": {
            "_dom_classes": [],
            "_model_module": "@jupyter-widgets/controls",
            "_model_module_version": "1.5.0",
            "_model_name": "HBoxModel",
            "_view_count": null,
            "_view_module": "@jupyter-widgets/controls",
            "_view_module_version": "1.5.0",
            "_view_name": "HBoxView",
            "box_style": "",
            "children": [
              "IPY_MODEL_1792a90b8393449285124ae9be864fa0",
              "IPY_MODEL_f35004747619401a9f642b3eb15ffbe9",
              "IPY_MODEL_858ee4b3c5e64a0fbf0e9165442e7a10"
            ],
            "layout": "IPY_MODEL_a4e07aa551814e95a7dc455a6a2bda69"
          }
        },
        "d05b049c203d4bf3bfef2dce7c379d54": {
          "model_module": "@jupyter-widgets/controls",
          "model_module_version": "1.5.0",
          "model_name": "HBoxModel",
          "state": {
            "_dom_classes": [],
            "_model_module": "@jupyter-widgets/controls",
            "_model_module_version": "1.5.0",
            "_model_name": "HBoxModel",
            "_view_count": null,
            "_view_module": "@jupyter-widgets/controls",
            "_view_module_version": "1.5.0",
            "_view_name": "HBoxView",
            "box_style": "",
            "children": [
              "IPY_MODEL_8a078605f0a343e091aa6775ecd2133d",
              "IPY_MODEL_88ba9b043c58468d80fbecb53fcfc390",
              "IPY_MODEL_b820cac9bfa04a4f94cdc6b1d46b53c1"
            ],
            "layout": "IPY_MODEL_7f91c60d3dfa43baae6e3365973ce017"
          }
        },
        "d58e8115fcf34bb39018b0bc247a350c": {
          "model_module": "@jupyter-widgets/controls",
          "model_module_version": "1.5.0",
          "model_name": "ProgressStyleModel",
          "state": {
            "_model_module": "@jupyter-widgets/controls",
            "_model_module_version": "1.5.0",
            "_model_name": "ProgressStyleModel",
            "_view_count": null,
            "_view_module": "@jupyter-widgets/base",
            "_view_module_version": "1.2.0",
            "_view_name": "StyleView",
            "bar_color": null,
            "description_width": ""
          }
        },
        "d7fbc72a68f1481babf5b9612ed428c6": {
          "model_module": "@jupyter-widgets/base",
          "model_module_version": "1.2.0",
          "model_name": "LayoutModel",
          "state": {
            "_model_module": "@jupyter-widgets/base",
            "_model_module_version": "1.2.0",
            "_model_name": "LayoutModel",
            "_view_count": null,
            "_view_module": "@jupyter-widgets/base",
            "_view_module_version": "1.2.0",
            "_view_name": "LayoutView",
            "align_content": null,
            "align_items": null,
            "align_self": null,
            "border": null,
            "bottom": null,
            "display": null,
            "flex": null,
            "flex_flow": null,
            "grid_area": null,
            "grid_auto_columns": null,
            "grid_auto_flow": null,
            "grid_auto_rows": null,
            "grid_column": null,
            "grid_gap": null,
            "grid_row": null,
            "grid_template_areas": null,
            "grid_template_columns": null,
            "grid_template_rows": null,
            "height": null,
            "justify_content": null,
            "justify_items": null,
            "left": null,
            "margin": null,
            "max_height": null,
            "max_width": null,
            "min_height": null,
            "min_width": null,
            "object_fit": null,
            "object_position": null,
            "order": null,
            "overflow": null,
            "overflow_x": null,
            "overflow_y": null,
            "padding": null,
            "right": null,
            "top": null,
            "visibility": null,
            "width": null
          }
        },
        "d9f7d7e88d0243438e976b2062df6887": {
          "model_module": "@jupyter-widgets/controls",
          "model_module_version": "1.5.0",
          "model_name": "FloatProgressModel",
          "state": {
            "_dom_classes": [],
            "_model_module": "@jupyter-widgets/controls",
            "_model_module_version": "1.5.0",
            "_model_name": "FloatProgressModel",
            "_view_count": null,
            "_view_module": "@jupyter-widgets/controls",
            "_view_module_version": "1.5.0",
            "_view_name": "ProgressView",
            "bar_style": "success",
            "description": "",
            "description_tooltip": null,
            "layout": "IPY_MODEL_68193e0f61914e708d9fb6f3fb1ab843",
            "max": 570,
            "min": 0,
            "orientation": "horizontal",
            "style": "IPY_MODEL_ec64d57062cb420c8f6f2ca81c83340a",
            "value": 570
          }
        },
        "df47010214774573bd7b073b88c5de7c": {
          "model_module": "@jupyter-widgets/base",
          "model_module_version": "1.2.0",
          "model_name": "LayoutModel",
          "state": {
            "_model_module": "@jupyter-widgets/base",
            "_model_module_version": "1.2.0",
            "_model_name": "LayoutModel",
            "_view_count": null,
            "_view_module": "@jupyter-widgets/base",
            "_view_module_version": "1.2.0",
            "_view_name": "LayoutView",
            "align_content": null,
            "align_items": null,
            "align_self": null,
            "border": null,
            "bottom": null,
            "display": null,
            "flex": null,
            "flex_flow": null,
            "grid_area": null,
            "grid_auto_columns": null,
            "grid_auto_flow": null,
            "grid_auto_rows": null,
            "grid_column": null,
            "grid_gap": null,
            "grid_row": null,
            "grid_template_areas": null,
            "grid_template_columns": null,
            "grid_template_rows": null,
            "height": null,
            "justify_content": null,
            "justify_items": null,
            "left": null,
            "margin": null,
            "max_height": null,
            "max_width": null,
            "min_height": null,
            "min_width": null,
            "object_fit": null,
            "object_position": null,
            "order": null,
            "overflow": null,
            "overflow_x": null,
            "overflow_y": null,
            "padding": null,
            "right": null,
            "top": null,
            "visibility": null,
            "width": null
          }
        },
        "e85dd089c3594809996a587361a5df9b": {
          "model_module": "@jupyter-widgets/controls",
          "model_module_version": "1.5.0",
          "model_name": "DescriptionStyleModel",
          "state": {
            "_model_module": "@jupyter-widgets/controls",
            "_model_module_version": "1.5.0",
            "_model_name": "DescriptionStyleModel",
            "_view_count": null,
            "_view_module": "@jupyter-widgets/base",
            "_view_module_version": "1.2.0",
            "_view_name": "StyleView",
            "description_width": ""
          }
        },
        "ebb9b9d61556458083111f7cba084e8b": {
          "model_module": "@jupyter-widgets/base",
          "model_module_version": "1.2.0",
          "model_name": "LayoutModel",
          "state": {
            "_model_module": "@jupyter-widgets/base",
            "_model_module_version": "1.2.0",
            "_model_name": "LayoutModel",
            "_view_count": null,
            "_view_module": "@jupyter-widgets/base",
            "_view_module_version": "1.2.0",
            "_view_name": "LayoutView",
            "align_content": null,
            "align_items": null,
            "align_self": null,
            "border": null,
            "bottom": null,
            "display": null,
            "flex": null,
            "flex_flow": null,
            "grid_area": null,
            "grid_auto_columns": null,
            "grid_auto_flow": null,
            "grid_auto_rows": null,
            "grid_column": null,
            "grid_gap": null,
            "grid_row": null,
            "grid_template_areas": null,
            "grid_template_columns": null,
            "grid_template_rows": null,
            "height": null,
            "justify_content": null,
            "justify_items": null,
            "left": null,
            "margin": null,
            "max_height": null,
            "max_width": null,
            "min_height": null,
            "min_width": null,
            "object_fit": null,
            "object_position": null,
            "order": null,
            "overflow": null,
            "overflow_x": null,
            "overflow_y": null,
            "padding": null,
            "right": null,
            "top": null,
            "visibility": null,
            "width": null
          }
        },
        "ec64d57062cb420c8f6f2ca81c83340a": {
          "model_module": "@jupyter-widgets/controls",
          "model_module_version": "1.5.0",
          "model_name": "ProgressStyleModel",
          "state": {
            "_model_module": "@jupyter-widgets/controls",
            "_model_module_version": "1.5.0",
            "_model_name": "ProgressStyleModel",
            "_view_count": null,
            "_view_module": "@jupyter-widgets/base",
            "_view_module_version": "1.2.0",
            "_view_name": "StyleView",
            "bar_color": null,
            "description_width": ""
          }
        },
        "ed3e45bc0a4d44f49ef9e908a9750c05": {
          "model_module": "@jupyter-widgets/controls",
          "model_module_version": "1.5.0",
          "model_name": "ProgressStyleModel",
          "state": {
            "_model_module": "@jupyter-widgets/controls",
            "_model_module_version": "1.5.0",
            "_model_name": "ProgressStyleModel",
            "_view_count": null,
            "_view_module": "@jupyter-widgets/base",
            "_view_module_version": "1.2.0",
            "_view_name": "StyleView",
            "bar_color": null,
            "description_width": ""
          }
        },
        "f1a5c8d5d7184399a354c6a394919a8b": {
          "model_module": "@jupyter-widgets/base",
          "model_module_version": "1.2.0",
          "model_name": "LayoutModel",
          "state": {
            "_model_module": "@jupyter-widgets/base",
            "_model_module_version": "1.2.0",
            "_model_name": "LayoutModel",
            "_view_count": null,
            "_view_module": "@jupyter-widgets/base",
            "_view_module_version": "1.2.0",
            "_view_name": "LayoutView",
            "align_content": null,
            "align_items": null,
            "align_self": null,
            "border": null,
            "bottom": null,
            "display": null,
            "flex": null,
            "flex_flow": null,
            "grid_area": null,
            "grid_auto_columns": null,
            "grid_auto_flow": null,
            "grid_auto_rows": null,
            "grid_column": null,
            "grid_gap": null,
            "grid_row": null,
            "grid_template_areas": null,
            "grid_template_columns": null,
            "grid_template_rows": null,
            "height": null,
            "justify_content": null,
            "justify_items": null,
            "left": null,
            "margin": null,
            "max_height": null,
            "max_width": null,
            "min_height": null,
            "min_width": null,
            "object_fit": null,
            "object_position": null,
            "order": null,
            "overflow": null,
            "overflow_x": null,
            "overflow_y": null,
            "padding": null,
            "right": null,
            "top": null,
            "visibility": null,
            "width": null
          }
        },
        "f35004747619401a9f642b3eb15ffbe9": {
          "model_module": "@jupyter-widgets/controls",
          "model_module_version": "1.5.0",
          "model_name": "FloatProgressModel",
          "state": {
            "_dom_classes": [],
            "_model_module": "@jupyter-widgets/controls",
            "_model_module_version": "1.5.0",
            "_model_name": "FloatProgressModel",
            "_view_count": null,
            "_view_module": "@jupyter-widgets/controls",
            "_view_module_version": "1.5.0",
            "_view_name": "ProgressView",
            "bar_style": "success",
            "description": "",
            "description_tooltip": null,
            "layout": "IPY_MODEL_2029b1a650e743dc95ceb921153b5506",
            "max": 29,
            "min": 0,
            "orientation": "horizontal",
            "style": "IPY_MODEL_a3c0c2e85c9a41e682562b64fdb57ece",
            "value": 29
          }
        },
        "f92c32ca01f04577aeab431800c76c08": {
          "model_module": "@jupyter-widgets/controls",
          "model_module_version": "1.5.0",
          "model_name": "HBoxModel",
          "state": {
            "_dom_classes": [],
            "_model_module": "@jupyter-widgets/controls",
            "_model_module_version": "1.5.0",
            "_model_name": "HBoxModel",
            "_view_count": null,
            "_view_module": "@jupyter-widgets/controls",
            "_view_module_version": "1.5.0",
            "_view_name": "HBoxView",
            "box_style": "",
            "children": [
              "IPY_MODEL_84eaaac4f1f5460da6d7427823211a4c",
              "IPY_MODEL_fd02c8bea119413ebf95a84400e00f91",
              "IPY_MODEL_c768865b5b3e4ab4a01c8cf150173aa3"
            ],
            "layout": "IPY_MODEL_30f84779a7d042eb986bd64c9dab048c"
          }
        },
        "fd02c8bea119413ebf95a84400e00f91": {
          "model_module": "@jupyter-widgets/controls",
          "model_module_version": "1.5.0",
          "model_name": "FloatProgressModel",
          "state": {
            "_dom_classes": [],
            "_model_module": "@jupyter-widgets/controls",
            "_model_module_version": "1.5.0",
            "_model_name": "FloatProgressModel",
            "_view_count": null,
            "_view_module": "@jupyter-widgets/controls",
            "_view_module_version": "1.5.0",
            "_view_name": "ProgressView",
            "bar_style": "success",
            "description": "",
            "description_tooltip": null,
            "layout": "IPY_MODEL_0b092bc84d4a489592345c748fcea63f",
            "max": 435797,
            "min": 0,
            "orientation": "horizontal",
            "style": "IPY_MODEL_ed3e45bc0a4d44f49ef9e908a9750c05",
            "value": 435797
          }
        },
        "fd408d2df03740e4bf8791484cf12209": {
          "model_module": "@jupyter-widgets/controls",
          "model_module_version": "1.5.0",
          "model_name": "DescriptionStyleModel",
          "state": {
            "_model_module": "@jupyter-widgets/controls",
            "_model_module_version": "1.5.0",
            "_model_name": "DescriptionStyleModel",
            "_view_count": null,
            "_view_module": "@jupyter-widgets/base",
            "_view_module_version": "1.2.0",
            "_view_name": "StyleView",
            "description_width": ""
          }
        },
        "fd67f837fae84a739934e8e2bb56148f": {
          "model_module": "@jupyter-widgets/base",
          "model_module_version": "1.2.0",
          "model_name": "LayoutModel",
          "state": {
            "_model_module": "@jupyter-widgets/base",
            "_model_module_version": "1.2.0",
            "_model_name": "LayoutModel",
            "_view_count": null,
            "_view_module": "@jupyter-widgets/base",
            "_view_module_version": "1.2.0",
            "_view_name": "LayoutView",
            "align_content": null,
            "align_items": null,
            "align_self": null,
            "border": null,
            "bottom": null,
            "display": null,
            "flex": null,
            "flex_flow": null,
            "grid_area": null,
            "grid_auto_columns": null,
            "grid_auto_flow": null,
            "grid_auto_rows": null,
            "grid_column": null,
            "grid_gap": null,
            "grid_row": null,
            "grid_template_areas": null,
            "grid_template_columns": null,
            "grid_template_rows": null,
            "height": null,
            "justify_content": null,
            "justify_items": null,
            "left": null,
            "margin": null,
            "max_height": null,
            "max_width": null,
            "min_height": null,
            "min_width": null,
            "object_fit": null,
            "object_position": null,
            "order": null,
            "overflow": null,
            "overflow_x": null,
            "overflow_y": null,
            "padding": null,
            "right": null,
            "top": null,
            "visibility": null,
            "width": null
          }
        },
        "fd8cf685c88e455aaf825772ff592619": {
          "model_module": "@jupyter-widgets/controls",
          "model_module_version": "1.5.0",
          "model_name": "HTMLModel",
          "state": {
            "_dom_classes": [],
            "_model_module": "@jupyter-widgets/controls",
            "_model_module_version": "1.5.0",
            "_model_name": "HTMLModel",
            "_view_count": null,
            "_view_module": "@jupyter-widgets/controls",
            "_view_module_version": "1.5.0",
            "_view_name": "HTMLView",
            "description": "",
            "description_tooltip": null,
            "layout": "IPY_MODEL_99c0fddcc38d4c1094ce73630b96cd09",
            "placeholder": "​",
            "style": "IPY_MODEL_975da98a1089472abc2d6b97d5b9b99b",
            "value": " 436k/436k [00:00&lt;00:00, 10.5MB/s]"
          }
        },
        "ff96b7e3da374bbb9d53b4a668d5c6f8": {
          "model_module": "@jupyter-widgets/controls",
          "model_module_version": "1.5.0",
          "model_name": "DescriptionStyleModel",
          "state": {
            "_model_module": "@jupyter-widgets/controls",
            "_model_module_version": "1.5.0",
            "_model_name": "DescriptionStyleModel",
            "_view_count": null,
            "_view_module": "@jupyter-widgets/base",
            "_view_module_version": "1.2.0",
            "_view_name": "StyleView",
            "description_width": ""
          }
        }
      }
    }
  },
  "nbformat": 4,
  "nbformat_minor": 0
}
